{
 "cells": [
  {
   "cell_type": "markdown",
   "metadata": {},
   "source": [
    "# Deep Learning for Computer Vision: Final Project"
   ]
  },
  {
   "cell_type": "markdown",
   "metadata": {},
   "source": [
    "## Computer Science: COMS W 4995 011"
   ]
  },
  {
   "cell_type": "markdown",
   "metadata": {},
   "source": [
    "### Proposal: Due November 7, 2023\n",
    "### Presentations: Due December 5 and 7, 2023\n",
    "### Final Report: Due December 8, 2023"
   ]
  },
  {
   "cell_type": "markdown",
   "metadata": {},
   "source": [
    "### Project Overview"
   ]
  },
  {
   "cell_type": "markdown",
   "metadata": {},
   "source": [
    "The final project is one of the most important and, hopefully, exciting components of the course. You will have the opportunity to develop a deep learning system of your own choosing. \n",
    "You are free to select whatever framework (Pytorch, Tensorflow, etc.) you like, but you need create a report on your project in a Jupyter notebook. You are also free build on publically available models and code, but your report must clearly give attribution for the work of others and must clearly delineate your contributions. Also, half of the class will present their project during the last 2 days. All of the class will prepare videos of their presentation and submit these when the final report is due. "
   ]
  },
  {
   "cell_type": "markdown",
   "metadata": {
    "collapsed": true
   },
   "source": [
    "### Project Proposal"
   ]
  },
  {
   "cell_type": "markdown",
   "metadata": {},
   "source": [
    "The project description should include the title of the project, participants, a description of the objectives of the project, and a plan for how the project will be completed. The description of the objectives should include modest predictions of the success of the project. The plan for completion should include a description of the training data and how it will be obtained, a discussion of what deep learning framework will be used and why, and a rough description of the planned network architecture.\n",
    "\n",
    "You are permitted to work together on a project in groups of two or three, but group size must not exceed three participants.  For group projects there must be a clearly delineated division of labor: you should state in the project description and project report who was responsible for which portion of the project. Each student must hand in a separate report. (Students will not necessarily get the same grade for the same project.)\n",
    "\n",
    "You should mention whether you are simply re-implementing what others have done before but applying to new data or whether you are attempting to do something new to the best of your knowledge. Creative and original projects will be judged more kindly than those that are rehashing something in the existing literature. And projects that include a component in which data is acquired/curated into training and validation sets will be veiwed more favorably than those that simply download an existing data set such as CIFAR-100.\n",
    "\n",
    "As this is a computer vision course it is expected that your data will be visual, but exceptions might be made if the student is enthusiastic and persuasive enough. The most straightforward project would be to build a system that classifies images into categories. A more difficult project might be to build a system that detects and localizes a type of object within an image. A still more complicated project might involve joining a ConvNet/Vision Transformer with an LSTM/Transformer for a problem (like image captioning) that requires vision and language. But again, creative and original projects will be judged more kindly.  \n",
    "\n",
    "It is important to scope your project so that you get some working results. Project reports that say \"I tried this and this but nothing seemed to work...\" are discouraged. Above all, you should demonstrate end-to-end fluency in the basics of deep learning. \n",
    "\n",
    "I cannot wait to see the results. Good luck!"
   ]
  },
  {
   "cell_type": "markdown",
   "metadata": {},
   "source": [
    "##### participants\n",
    "Jordyn Kim (jk4671), Sun Kim (syk2145)\n",
    "\n",
    "##### Project Objectives\n",
    "\n",
    "The objective of this project is to develop a deep learning model to separate single-channel cinematic audio into three distinct components: voice, background music, and sound effects. This task, often referred to as the cocktail fork separation problem, is highly applicable in the entertainment industry and a prominent focus within the field of audio signal processing.\n",
    "\n",
    "Based on our preliminary research, we expect voice separation to yield promising results, with clear and high-quality separation. Achieving precise separation of music and effects may, however, face some constraints due to (1) the computational overhead of our chosen architecture (RNN-based models), (2) limited available computational resources, and (3) additional time required for preprocessing audio signals into spectrograms.\n",
    "\n",
    "##### Project Plan\n",
    "\n",
    "The project will be completed in three main phases:\n",
    "1.\tInitial Setup and Data Preparation (Phase 1)\n",
    "\t- This phase includes setting up the necessary infrastructure, including establishing a Git repository, importing the Divide and Remaster (DnR) dataset, and converting audio data into spectrograms or mel-spectrograms using short-time Fourier transform (STFT).\n",
    "2.\tVoice vs. Non-Voice Separation (Phase 2)\n",
    "\t-\tThe focus of this phase is to isolate voice from background music and sound effects. We plan to test two different approaches:\n",
    "\t-\tImplementing Band-Split RNN (BSRNN): This model, based on this paper https://arxiv.org/abs/2209.15174, employs the loss function combines frequency-domain and time-domain L1 losses and Adam optimizer for training.\n",
    "\t-\tFine-Tuning Pre-trained Models: We also aim to experiment with fine-tuning models pre-trained on musical source separation, Open-Unmix, and Demucs. As noted in this paper https://arxiv.org/pdf/2308.06981, models trained on music-only data tend to perform better in separating voice from non-voice. We can leverage pre-trained models available through the MUSDB18 music database.\n",
    "3.\tMusic vs. Sound Effects Differentiation (Phase 3)\n",
    "\t-\tIn this final phase, we will build on the voice separation results by extending the band-split RNN model to further differentiate background music from sound effects. Similar network structures will be applied, and additional features or model variations may be introduced based on the results from Phase 2.\n",
    "\n",
    "##### Training Data\n",
    "\n",
    "We will use the Divide and Remaster (DnR) dataset https://zenodo.org/records/6949108, approximately 200GB in size, which is specifically structured for the cocktail fork separation problem. This dataset includes labeled annotations for music, sound effects, and speech to support structured training.\n",
    "\n",
    "##### Deep Learning Framework\n",
    "\n",
    "We plan to use PyTorch for model implementation due to its compatibility with pre-trained models like Demucs and Open-Unmix, as well as its flexibility for custom network structures.\n",
    "\n",
    "##### Network Architecture\n",
    "\n",
    "Our network architecture will primarily focus on the Band-Split RNN (BSRNN) model. The initial step in the pipeline involves splitting spectrogram data into sub-bands by frequency, where each band is then normalized and processed through a fully connected dense layer. The second step introduces two RNNs: one handling the frequency domain and the other the time domain using bidirectional LSTMs. The outputs from all bands are then merged to form the final representation.\n",
    "\n",
    "In case the BSRNN implementation proves too complex, we will experiment with alternative pre-trained models, such as Open-Unmix and Demucs, to address the separation task.\n",
    "\n",
    "##### Team Responsibilities\n",
    "\n",
    "-\tData Collection and Preprocessing\t\n",
    "-\tModel Implementation\n",
    "-\tFine-Tuning and Integration of Pre-Trained Models\t\n",
    "-\tEvaluation and Optimization\n",
    "\n",
    "##### Evaluation\n",
    "\n",
    "We will evaluate model performance using the Signal-to-Noise-and-Distortion Ratio (SDR) metric, a standard measure for assessing audio source separation quality."
   ]
  },
  {
   "cell_type": "markdown",
   "metadata": {},
   "source": [
    "### Project Presentations"
   ]
  },
  {
   "cell_type": "markdown",
   "metadata": {},
   "source": [
    "\n",
    "To allow students to present their work in two class periods, each student will have only 3 minutes, not a second more. We will be strict about the timing, so you should practice your presentation. The key here is to get across three things: what you did, how you did it, and how well it worked. Students working in groups of two will get 6 minutes and groups of three will get 9 minutes. Note only half of the class will present during the last two days of class, but all of the groups will submit videos of their project. The time limit rules for the videos is the same as for the presentations. And the video can simply be a narration over a slideshow, but again each student in a group needs to present/narrate the work they did.  \n"
   ]
  },
  {
   "cell_type": "markdown",
   "metadata": {},
   "source": [
    "### Project Reports"
   ]
  },
  {
   "cell_type": "markdown",
   "metadata": {},
   "source": [
    "The report should be done as a Jupyter Notebook. The report should be a complete description of the objectives of the work, the methods used to solve the problem, experimental evidence of a working system, the code, and clear delineation of what you have done vs. what you are leveraging that others have done. If you have used the work of others YOU MUST INCLUDE ATTRIBUTION by citing this work inline and as part of a \"bibliography\" at the end. You should describe what worked, what did not, and why. If you are working in a group you need to submit your own report and this report should be clear about what your individual contribution was. It is ok to include your collaborators work in your report, but you must be clear about your section and write this yourself. This project report constitutes a large fraction of your final grade--take it seriously and include enough material and details for us to give you a good grade. If you are having trouble imagining the structure of the report, refer to published research papers in CV as a possible model."
   ]
  },
  {
   "cell_type": "markdown",
   "metadata": {},
   "source": [
    "## Training model"
   ]
  },
  {
   "cell_type": "code",
   "execution_count": 7,
   "metadata": {},
   "outputs": [],
   "source": [
    "import sys\n",
    "import os\n",
    "\n",
    "from torch.utils.data import DataLoader\n",
    "import torch.nn as nn\n",
    "import torch\n",
    "\n",
    "import random\n",
    "import numpy as np\n",
    "import soundfile as sf\n",
    "import librosa\n",
    "\n",
    "from demucs import pretrained\n",
    "# from demucs.pretrained import get_model\n",
    "from demucs.apply import apply_model\n",
    "\n",
    "# Add the source directory to the Python path\n",
    "source_path = os.path.abspath(\"./source\")\n",
    "if source_path not in sys.path:\n",
    "    sys.path.append(source_path)\n",
    "import importlib\n"
   ]
  },
  {
   "cell_type": "code",
   "execution_count": 8,
   "metadata": {},
   "outputs": [
    {
     "data": {
      "text/plain": [
       "HTDemucs(\n",
       "  (encoder): ModuleList(\n",
       "    (0): HEncLayer(\n",
       "      (conv): Conv2d(4, 48, kernel_size=(8, 1), stride=(4, 1), padding=(2, 0))\n",
       "      (norm1): Identity()\n",
       "      (rewrite): Conv2d(48, 96, kernel_size=(1, 1), stride=(1, 1))\n",
       "      (norm2): Identity()\n",
       "      (dconv): DConv(\n",
       "        (layers): ModuleList(\n",
       "          (0): Sequential(\n",
       "            (0): Conv1d(48, 6, kernel_size=(3,), stride=(1,), padding=(1,))\n",
       "            (1): GroupNorm(1, 6, eps=1e-05, affine=True)\n",
       "            (2): GELU(approximate='none')\n",
       "            (3): Conv1d(6, 96, kernel_size=(1,), stride=(1,))\n",
       "            (4): GroupNorm(1, 96, eps=1e-05, affine=True)\n",
       "            (5): GLU(dim=1)\n",
       "            (6): LayerScale()\n",
       "          )\n",
       "          (1): Sequential(\n",
       "            (0): Conv1d(48, 6, kernel_size=(3,), stride=(1,), padding=(2,), dilation=(2,))\n",
       "            (1): GroupNorm(1, 6, eps=1e-05, affine=True)\n",
       "            (2): GELU(approximate='none')\n",
       "            (3): Conv1d(6, 96, kernel_size=(1,), stride=(1,))\n",
       "            (4): GroupNorm(1, 96, eps=1e-05, affine=True)\n",
       "            (5): GLU(dim=1)\n",
       "            (6): LayerScale()\n",
       "          )\n",
       "        )\n",
       "      )\n",
       "    )\n",
       "    (1): HEncLayer(\n",
       "      (conv): Conv2d(48, 96, kernel_size=(8, 1), stride=(4, 1), padding=(2, 0))\n",
       "      (norm1): Identity()\n",
       "      (rewrite): Conv2d(96, 192, kernel_size=(1, 1), stride=(1, 1))\n",
       "      (norm2): Identity()\n",
       "      (dconv): DConv(\n",
       "        (layers): ModuleList(\n",
       "          (0): Sequential(\n",
       "            (0): Conv1d(96, 12, kernel_size=(3,), stride=(1,), padding=(1,))\n",
       "            (1): GroupNorm(1, 12, eps=1e-05, affine=True)\n",
       "            (2): GELU(approximate='none')\n",
       "            (3): Conv1d(12, 192, kernel_size=(1,), stride=(1,))\n",
       "            (4): GroupNorm(1, 192, eps=1e-05, affine=True)\n",
       "            (5): GLU(dim=1)\n",
       "            (6): LayerScale()\n",
       "          )\n",
       "          (1): Sequential(\n",
       "            (0): Conv1d(96, 12, kernel_size=(3,), stride=(1,), padding=(2,), dilation=(2,))\n",
       "            (1): GroupNorm(1, 12, eps=1e-05, affine=True)\n",
       "            (2): GELU(approximate='none')\n",
       "            (3): Conv1d(12, 192, kernel_size=(1,), stride=(1,))\n",
       "            (4): GroupNorm(1, 192, eps=1e-05, affine=True)\n",
       "            (5): GLU(dim=1)\n",
       "            (6): LayerScale()\n",
       "          )\n",
       "        )\n",
       "      )\n",
       "    )\n",
       "    (2): HEncLayer(\n",
       "      (conv): Conv2d(96, 192, kernel_size=(8, 1), stride=(4, 1), padding=(2, 0))\n",
       "      (norm1): Identity()\n",
       "      (rewrite): Conv2d(192, 384, kernel_size=(1, 1), stride=(1, 1))\n",
       "      (norm2): Identity()\n",
       "      (dconv): DConv(\n",
       "        (layers): ModuleList(\n",
       "          (0): Sequential(\n",
       "            (0): Conv1d(192, 24, kernel_size=(3,), stride=(1,), padding=(1,))\n",
       "            (1): GroupNorm(1, 24, eps=1e-05, affine=True)\n",
       "            (2): GELU(approximate='none')\n",
       "            (3): Conv1d(24, 384, kernel_size=(1,), stride=(1,))\n",
       "            (4): GroupNorm(1, 384, eps=1e-05, affine=True)\n",
       "            (5): GLU(dim=1)\n",
       "            (6): LayerScale()\n",
       "          )\n",
       "          (1): Sequential(\n",
       "            (0): Conv1d(192, 24, kernel_size=(3,), stride=(1,), padding=(2,), dilation=(2,))\n",
       "            (1): GroupNorm(1, 24, eps=1e-05, affine=True)\n",
       "            (2): GELU(approximate='none')\n",
       "            (3): Conv1d(24, 384, kernel_size=(1,), stride=(1,))\n",
       "            (4): GroupNorm(1, 384, eps=1e-05, affine=True)\n",
       "            (5): GLU(dim=1)\n",
       "            (6): LayerScale()\n",
       "          )\n",
       "        )\n",
       "      )\n",
       "    )\n",
       "    (3): HEncLayer(\n",
       "      (conv): Conv2d(192, 384, kernel_size=(8, 1), stride=(4, 1), padding=(2, 0))\n",
       "      (norm1): Identity()\n",
       "      (rewrite): Conv2d(384, 768, kernel_size=(1, 1), stride=(1, 1))\n",
       "      (norm2): Identity()\n",
       "      (dconv): DConv(\n",
       "        (layers): ModuleList(\n",
       "          (0): Sequential(\n",
       "            (0): Conv1d(384, 48, kernel_size=(3,), stride=(1,), padding=(1,))\n",
       "            (1): GroupNorm(1, 48, eps=1e-05, affine=True)\n",
       "            (2): GELU(approximate='none')\n",
       "            (3): Conv1d(48, 768, kernel_size=(1,), stride=(1,))\n",
       "            (4): GroupNorm(1, 768, eps=1e-05, affine=True)\n",
       "            (5): GLU(dim=1)\n",
       "            (6): LayerScale()\n",
       "          )\n",
       "          (1): Sequential(\n",
       "            (0): Conv1d(384, 48, kernel_size=(3,), stride=(1,), padding=(2,), dilation=(2,))\n",
       "            (1): GroupNorm(1, 48, eps=1e-05, affine=True)\n",
       "            (2): GELU(approximate='none')\n",
       "            (3): Conv1d(48, 768, kernel_size=(1,), stride=(1,))\n",
       "            (4): GroupNorm(1, 768, eps=1e-05, affine=True)\n",
       "            (5): GLU(dim=1)\n",
       "            (6): LayerScale()\n",
       "          )\n",
       "        )\n",
       "      )\n",
       "    )\n",
       "  )\n",
       "  (decoder): ModuleList(\n",
       "    (0): HDecLayer(\n",
       "      (conv_tr): ConvTranspose2d(384, 192, kernel_size=(8, 1), stride=(4, 1))\n",
       "      (norm2): Identity()\n",
       "      (rewrite): Conv2d(384, 768, kernel_size=(3, 3), stride=(1, 1), padding=(1, 1))\n",
       "      (norm1): Identity()\n",
       "      (dconv): DConv(\n",
       "        (layers): ModuleList(\n",
       "          (0): Sequential(\n",
       "            (0): Conv1d(384, 48, kernel_size=(3,), stride=(1,), padding=(1,))\n",
       "            (1): GroupNorm(1, 48, eps=1e-05, affine=True)\n",
       "            (2): GELU(approximate='none')\n",
       "            (3): Conv1d(48, 768, kernel_size=(1,), stride=(1,))\n",
       "            (4): GroupNorm(1, 768, eps=1e-05, affine=True)\n",
       "            (5): GLU(dim=1)\n",
       "            (6): LayerScale()\n",
       "          )\n",
       "          (1): Sequential(\n",
       "            (0): Conv1d(384, 48, kernel_size=(3,), stride=(1,), padding=(2,), dilation=(2,))\n",
       "            (1): GroupNorm(1, 48, eps=1e-05, affine=True)\n",
       "            (2): GELU(approximate='none')\n",
       "            (3): Conv1d(48, 768, kernel_size=(1,), stride=(1,))\n",
       "            (4): GroupNorm(1, 768, eps=1e-05, affine=True)\n",
       "            (5): GLU(dim=1)\n",
       "            (6): LayerScale()\n",
       "          )\n",
       "        )\n",
       "      )\n",
       "    )\n",
       "    (1): HDecLayer(\n",
       "      (conv_tr): ConvTranspose2d(192, 96, kernel_size=(8, 1), stride=(4, 1))\n",
       "      (norm2): Identity()\n",
       "      (rewrite): Conv2d(192, 384, kernel_size=(3, 3), stride=(1, 1), padding=(1, 1))\n",
       "      (norm1): Identity()\n",
       "      (dconv): DConv(\n",
       "        (layers): ModuleList(\n",
       "          (0): Sequential(\n",
       "            (0): Conv1d(192, 24, kernel_size=(3,), stride=(1,), padding=(1,))\n",
       "            (1): GroupNorm(1, 24, eps=1e-05, affine=True)\n",
       "            (2): GELU(approximate='none')\n",
       "            (3): Conv1d(24, 384, kernel_size=(1,), stride=(1,))\n",
       "            (4): GroupNorm(1, 384, eps=1e-05, affine=True)\n",
       "            (5): GLU(dim=1)\n",
       "            (6): LayerScale()\n",
       "          )\n",
       "          (1): Sequential(\n",
       "            (0): Conv1d(192, 24, kernel_size=(3,), stride=(1,), padding=(2,), dilation=(2,))\n",
       "            (1): GroupNorm(1, 24, eps=1e-05, affine=True)\n",
       "            (2): GELU(approximate='none')\n",
       "            (3): Conv1d(24, 384, kernel_size=(1,), stride=(1,))\n",
       "            (4): GroupNorm(1, 384, eps=1e-05, affine=True)\n",
       "            (5): GLU(dim=1)\n",
       "            (6): LayerScale()\n",
       "          )\n",
       "        )\n",
       "      )\n",
       "    )\n",
       "    (2): HDecLayer(\n",
       "      (conv_tr): ConvTranspose2d(96, 48, kernel_size=(8, 1), stride=(4, 1))\n",
       "      (norm2): Identity()\n",
       "      (rewrite): Conv2d(96, 192, kernel_size=(3, 3), stride=(1, 1), padding=(1, 1))\n",
       "      (norm1): Identity()\n",
       "      (dconv): DConv(\n",
       "        (layers): ModuleList(\n",
       "          (0): Sequential(\n",
       "            (0): Conv1d(96, 12, kernel_size=(3,), stride=(1,), padding=(1,))\n",
       "            (1): GroupNorm(1, 12, eps=1e-05, affine=True)\n",
       "            (2): GELU(approximate='none')\n",
       "            (3): Conv1d(12, 192, kernel_size=(1,), stride=(1,))\n",
       "            (4): GroupNorm(1, 192, eps=1e-05, affine=True)\n",
       "            (5): GLU(dim=1)\n",
       "            (6): LayerScale()\n",
       "          )\n",
       "          (1): Sequential(\n",
       "            (0): Conv1d(96, 12, kernel_size=(3,), stride=(1,), padding=(2,), dilation=(2,))\n",
       "            (1): GroupNorm(1, 12, eps=1e-05, affine=True)\n",
       "            (2): GELU(approximate='none')\n",
       "            (3): Conv1d(12, 192, kernel_size=(1,), stride=(1,))\n",
       "            (4): GroupNorm(1, 192, eps=1e-05, affine=True)\n",
       "            (5): GLU(dim=1)\n",
       "            (6): LayerScale()\n",
       "          )\n",
       "        )\n",
       "      )\n",
       "    )\n",
       "    (3): HDecLayer(\n",
       "      (conv_tr): ConvTranspose2d(48, 12, kernel_size=(8, 1), stride=(4, 1))\n",
       "      (norm2): Identity()\n",
       "      (rewrite): Conv2d(48, 96, kernel_size=(3, 3), stride=(1, 1), padding=(1, 1))\n",
       "      (norm1): Identity()\n",
       "      (dconv): DConv(\n",
       "        (layers): ModuleList(\n",
       "          (0): Sequential(\n",
       "            (0): Conv1d(48, 6, kernel_size=(3,), stride=(1,), padding=(1,))\n",
       "            (1): GroupNorm(1, 6, eps=1e-05, affine=True)\n",
       "            (2): GELU(approximate='none')\n",
       "            (3): Conv1d(6, 96, kernel_size=(1,), stride=(1,))\n",
       "            (4): GroupNorm(1, 96, eps=1e-05, affine=True)\n",
       "            (5): GLU(dim=1)\n",
       "            (6): LayerScale()\n",
       "          )\n",
       "          (1): Sequential(\n",
       "            (0): Conv1d(48, 6, kernel_size=(3,), stride=(1,), padding=(2,), dilation=(2,))\n",
       "            (1): GroupNorm(1, 6, eps=1e-05, affine=True)\n",
       "            (2): GELU(approximate='none')\n",
       "            (3): Conv1d(6, 96, kernel_size=(1,), stride=(1,))\n",
       "            (4): GroupNorm(1, 96, eps=1e-05, affine=True)\n",
       "            (5): GLU(dim=1)\n",
       "            (6): LayerScale()\n",
       "          )\n",
       "        )\n",
       "      )\n",
       "    )\n",
       "  )\n",
       "  (tencoder): ModuleList(\n",
       "    (0): HEncLayer(\n",
       "      (conv): Conv1d(2, 48, kernel_size=(8,), stride=(4,), padding=(2,))\n",
       "      (norm1): Identity()\n",
       "      (rewrite): Conv1d(48, 96, kernel_size=(1,), stride=(1,))\n",
       "      (norm2): Identity()\n",
       "      (dconv): DConv(\n",
       "        (layers): ModuleList(\n",
       "          (0): Sequential(\n",
       "            (0): Conv1d(48, 6, kernel_size=(3,), stride=(1,), padding=(1,))\n",
       "            (1): GroupNorm(1, 6, eps=1e-05, affine=True)\n",
       "            (2): GELU(approximate='none')\n",
       "            (3): Conv1d(6, 96, kernel_size=(1,), stride=(1,))\n",
       "            (4): GroupNorm(1, 96, eps=1e-05, affine=True)\n",
       "            (5): GLU(dim=1)\n",
       "            (6): LayerScale()\n",
       "          )\n",
       "          (1): Sequential(\n",
       "            (0): Conv1d(48, 6, kernel_size=(3,), stride=(1,), padding=(2,), dilation=(2,))\n",
       "            (1): GroupNorm(1, 6, eps=1e-05, affine=True)\n",
       "            (2): GELU(approximate='none')\n",
       "            (3): Conv1d(6, 96, kernel_size=(1,), stride=(1,))\n",
       "            (4): GroupNorm(1, 96, eps=1e-05, affine=True)\n",
       "            (5): GLU(dim=1)\n",
       "            (6): LayerScale()\n",
       "          )\n",
       "        )\n",
       "      )\n",
       "    )\n",
       "    (1): HEncLayer(\n",
       "      (conv): Conv1d(48, 96, kernel_size=(8,), stride=(4,), padding=(2,))\n",
       "      (norm1): Identity()\n",
       "      (rewrite): Conv1d(96, 192, kernel_size=(1,), stride=(1,))\n",
       "      (norm2): Identity()\n",
       "      (dconv): DConv(\n",
       "        (layers): ModuleList(\n",
       "          (0): Sequential(\n",
       "            (0): Conv1d(96, 12, kernel_size=(3,), stride=(1,), padding=(1,))\n",
       "            (1): GroupNorm(1, 12, eps=1e-05, affine=True)\n",
       "            (2): GELU(approximate='none')\n",
       "            (3): Conv1d(12, 192, kernel_size=(1,), stride=(1,))\n",
       "            (4): GroupNorm(1, 192, eps=1e-05, affine=True)\n",
       "            (5): GLU(dim=1)\n",
       "            (6): LayerScale()\n",
       "          )\n",
       "          (1): Sequential(\n",
       "            (0): Conv1d(96, 12, kernel_size=(3,), stride=(1,), padding=(2,), dilation=(2,))\n",
       "            (1): GroupNorm(1, 12, eps=1e-05, affine=True)\n",
       "            (2): GELU(approximate='none')\n",
       "            (3): Conv1d(12, 192, kernel_size=(1,), stride=(1,))\n",
       "            (4): GroupNorm(1, 192, eps=1e-05, affine=True)\n",
       "            (5): GLU(dim=1)\n",
       "            (6): LayerScale()\n",
       "          )\n",
       "        )\n",
       "      )\n",
       "    )\n",
       "    (2): HEncLayer(\n",
       "      (conv): Conv1d(96, 192, kernel_size=(8,), stride=(4,), padding=(2,))\n",
       "      (norm1): Identity()\n",
       "      (rewrite): Conv1d(192, 384, kernel_size=(1,), stride=(1,))\n",
       "      (norm2): Identity()\n",
       "      (dconv): DConv(\n",
       "        (layers): ModuleList(\n",
       "          (0): Sequential(\n",
       "            (0): Conv1d(192, 24, kernel_size=(3,), stride=(1,), padding=(1,))\n",
       "            (1): GroupNorm(1, 24, eps=1e-05, affine=True)\n",
       "            (2): GELU(approximate='none')\n",
       "            (3): Conv1d(24, 384, kernel_size=(1,), stride=(1,))\n",
       "            (4): GroupNorm(1, 384, eps=1e-05, affine=True)\n",
       "            (5): GLU(dim=1)\n",
       "            (6): LayerScale()\n",
       "          )\n",
       "          (1): Sequential(\n",
       "            (0): Conv1d(192, 24, kernel_size=(3,), stride=(1,), padding=(2,), dilation=(2,))\n",
       "            (1): GroupNorm(1, 24, eps=1e-05, affine=True)\n",
       "            (2): GELU(approximate='none')\n",
       "            (3): Conv1d(24, 384, kernel_size=(1,), stride=(1,))\n",
       "            (4): GroupNorm(1, 384, eps=1e-05, affine=True)\n",
       "            (5): GLU(dim=1)\n",
       "            (6): LayerScale()\n",
       "          )\n",
       "        )\n",
       "      )\n",
       "    )\n",
       "    (3): HEncLayer(\n",
       "      (conv): Conv1d(192, 384, kernel_size=(8,), stride=(4,), padding=(2,))\n",
       "      (norm1): Identity()\n",
       "      (rewrite): Conv1d(384, 768, kernel_size=(1,), stride=(1,))\n",
       "      (norm2): Identity()\n",
       "      (dconv): DConv(\n",
       "        (layers): ModuleList(\n",
       "          (0): Sequential(\n",
       "            (0): Conv1d(384, 48, kernel_size=(3,), stride=(1,), padding=(1,))\n",
       "            (1): GroupNorm(1, 48, eps=1e-05, affine=True)\n",
       "            (2): GELU(approximate='none')\n",
       "            (3): Conv1d(48, 768, kernel_size=(1,), stride=(1,))\n",
       "            (4): GroupNorm(1, 768, eps=1e-05, affine=True)\n",
       "            (5): GLU(dim=1)\n",
       "            (6): LayerScale()\n",
       "          )\n",
       "          (1): Sequential(\n",
       "            (0): Conv1d(384, 48, kernel_size=(3,), stride=(1,), padding=(2,), dilation=(2,))\n",
       "            (1): GroupNorm(1, 48, eps=1e-05, affine=True)\n",
       "            (2): GELU(approximate='none')\n",
       "            (3): Conv1d(48, 768, kernel_size=(1,), stride=(1,))\n",
       "            (4): GroupNorm(1, 768, eps=1e-05, affine=True)\n",
       "            (5): GLU(dim=1)\n",
       "            (6): LayerScale()\n",
       "          )\n",
       "        )\n",
       "      )\n",
       "    )\n",
       "  )\n",
       "  (tdecoder): ModuleList(\n",
       "    (0): HDecLayer(\n",
       "      (conv_tr): ConvTranspose1d(384, 192, kernel_size=(8,), stride=(4,))\n",
       "      (norm2): Identity()\n",
       "      (rewrite): Conv1d(384, 768, kernel_size=(3,), stride=(1,), padding=(1,))\n",
       "      (norm1): Identity()\n",
       "      (dconv): DConv(\n",
       "        (layers): ModuleList(\n",
       "          (0): Sequential(\n",
       "            (0): Conv1d(384, 48, kernel_size=(3,), stride=(1,), padding=(1,))\n",
       "            (1): GroupNorm(1, 48, eps=1e-05, affine=True)\n",
       "            (2): GELU(approximate='none')\n",
       "            (3): Conv1d(48, 768, kernel_size=(1,), stride=(1,))\n",
       "            (4): GroupNorm(1, 768, eps=1e-05, affine=True)\n",
       "            (5): GLU(dim=1)\n",
       "            (6): LayerScale()\n",
       "          )\n",
       "          (1): Sequential(\n",
       "            (0): Conv1d(384, 48, kernel_size=(3,), stride=(1,), padding=(2,), dilation=(2,))\n",
       "            (1): GroupNorm(1, 48, eps=1e-05, affine=True)\n",
       "            (2): GELU(approximate='none')\n",
       "            (3): Conv1d(48, 768, kernel_size=(1,), stride=(1,))\n",
       "            (4): GroupNorm(1, 768, eps=1e-05, affine=True)\n",
       "            (5): GLU(dim=1)\n",
       "            (6): LayerScale()\n",
       "          )\n",
       "        )\n",
       "      )\n",
       "    )\n",
       "    (1): HDecLayer(\n",
       "      (conv_tr): ConvTranspose1d(192, 96, kernel_size=(8,), stride=(4,))\n",
       "      (norm2): Identity()\n",
       "      (rewrite): Conv1d(192, 384, kernel_size=(3,), stride=(1,), padding=(1,))\n",
       "      (norm1): Identity()\n",
       "      (dconv): DConv(\n",
       "        (layers): ModuleList(\n",
       "          (0): Sequential(\n",
       "            (0): Conv1d(192, 24, kernel_size=(3,), stride=(1,), padding=(1,))\n",
       "            (1): GroupNorm(1, 24, eps=1e-05, affine=True)\n",
       "            (2): GELU(approximate='none')\n",
       "            (3): Conv1d(24, 384, kernel_size=(1,), stride=(1,))\n",
       "            (4): GroupNorm(1, 384, eps=1e-05, affine=True)\n",
       "            (5): GLU(dim=1)\n",
       "            (6): LayerScale()\n",
       "          )\n",
       "          (1): Sequential(\n",
       "            (0): Conv1d(192, 24, kernel_size=(3,), stride=(1,), padding=(2,), dilation=(2,))\n",
       "            (1): GroupNorm(1, 24, eps=1e-05, affine=True)\n",
       "            (2): GELU(approximate='none')\n",
       "            (3): Conv1d(24, 384, kernel_size=(1,), stride=(1,))\n",
       "            (4): GroupNorm(1, 384, eps=1e-05, affine=True)\n",
       "            (5): GLU(dim=1)\n",
       "            (6): LayerScale()\n",
       "          )\n",
       "        )\n",
       "      )\n",
       "    )\n",
       "    (2): HDecLayer(\n",
       "      (conv_tr): ConvTranspose1d(96, 48, kernel_size=(8,), stride=(4,))\n",
       "      (norm2): Identity()\n",
       "      (rewrite): Conv1d(96, 192, kernel_size=(3,), stride=(1,), padding=(1,))\n",
       "      (norm1): Identity()\n",
       "      (dconv): DConv(\n",
       "        (layers): ModuleList(\n",
       "          (0): Sequential(\n",
       "            (0): Conv1d(96, 12, kernel_size=(3,), stride=(1,), padding=(1,))\n",
       "            (1): GroupNorm(1, 12, eps=1e-05, affine=True)\n",
       "            (2): GELU(approximate='none')\n",
       "            (3): Conv1d(12, 192, kernel_size=(1,), stride=(1,))\n",
       "            (4): GroupNorm(1, 192, eps=1e-05, affine=True)\n",
       "            (5): GLU(dim=1)\n",
       "            (6): LayerScale()\n",
       "          )\n",
       "          (1): Sequential(\n",
       "            (0): Conv1d(96, 12, kernel_size=(3,), stride=(1,), padding=(2,), dilation=(2,))\n",
       "            (1): GroupNorm(1, 12, eps=1e-05, affine=True)\n",
       "            (2): GELU(approximate='none')\n",
       "            (3): Conv1d(12, 192, kernel_size=(1,), stride=(1,))\n",
       "            (4): GroupNorm(1, 192, eps=1e-05, affine=True)\n",
       "            (5): GLU(dim=1)\n",
       "            (6): LayerScale()\n",
       "          )\n",
       "        )\n",
       "      )\n",
       "    )\n",
       "    (3): HDecLayer(\n",
       "      (conv_tr): ConvTranspose1d(48, 6, kernel_size=(8,), stride=(4,))\n",
       "      (norm2): Identity()\n",
       "      (rewrite): Conv1d(48, 96, kernel_size=(3,), stride=(1,), padding=(1,))\n",
       "      (norm1): Identity()\n",
       "      (dconv): DConv(\n",
       "        (layers): ModuleList(\n",
       "          (0): Sequential(\n",
       "            (0): Conv1d(48, 6, kernel_size=(3,), stride=(1,), padding=(1,))\n",
       "            (1): GroupNorm(1, 6, eps=1e-05, affine=True)\n",
       "            (2): GELU(approximate='none')\n",
       "            (3): Conv1d(6, 96, kernel_size=(1,), stride=(1,))\n",
       "            (4): GroupNorm(1, 96, eps=1e-05, affine=True)\n",
       "            (5): GLU(dim=1)\n",
       "            (6): LayerScale()\n",
       "          )\n",
       "          (1): Sequential(\n",
       "            (0): Conv1d(48, 6, kernel_size=(3,), stride=(1,), padding=(2,), dilation=(2,))\n",
       "            (1): GroupNorm(1, 6, eps=1e-05, affine=True)\n",
       "            (2): GELU(approximate='none')\n",
       "            (3): Conv1d(6, 96, kernel_size=(1,), stride=(1,))\n",
       "            (4): GroupNorm(1, 96, eps=1e-05, affine=True)\n",
       "            (5): GLU(dim=1)\n",
       "            (6): LayerScale()\n",
       "          )\n",
       "        )\n",
       "      )\n",
       "    )\n",
       "  )\n",
       "  (freq_emb): ScaledEmbedding(\n",
       "    (embedding): Embedding(512, 48)\n",
       "  )\n",
       "  (channel_upsampler): Conv1d(384, 512, kernel_size=(1,), stride=(1,))\n",
       "  (channel_downsampler): Conv1d(512, 384, kernel_size=(1,), stride=(1,))\n",
       "  (channel_upsampler_t): Conv1d(384, 512, kernel_size=(1,), stride=(1,))\n",
       "  (channel_downsampler_t): Conv1d(512, 384, kernel_size=(1,), stride=(1,))\n",
       "  (crosstransformer): CrossTransformerEncoder(\n",
       "    (norm_in): LayerNorm((512,), eps=1e-05, elementwise_affine=True)\n",
       "    (norm_in_t): LayerNorm((512,), eps=1e-05, elementwise_affine=True)\n",
       "    (layers): ModuleList(\n",
       "      (0): MyTransformerEncoderLayer(\n",
       "        (self_attn): MultiheadAttention(\n",
       "          (out_proj): NonDynamicallyQuantizableLinear(in_features=512, out_features=512, bias=True)\n",
       "        )\n",
       "        (linear1): Linear(in_features=512, out_features=2048, bias=True)\n",
       "        (dropout): Dropout(p=0.02, inplace=False)\n",
       "        (linear2): Linear(in_features=2048, out_features=512, bias=True)\n",
       "        (norm1): LayerNorm((512,), eps=1e-05, elementwise_affine=True)\n",
       "        (norm2): LayerNorm((512,), eps=1e-05, elementwise_affine=True)\n",
       "        (dropout1): Dropout(p=0.02, inplace=False)\n",
       "        (dropout2): Dropout(p=0.02, inplace=False)\n",
       "        (norm_out): MyGroupNorm(1, 512, eps=1e-05, affine=True)\n",
       "        (gamma_1): LayerScale()\n",
       "        (gamma_2): LayerScale()\n",
       "      )\n",
       "      (1): CrossTransformerEncoderLayer(\n",
       "        (cross_attn): MultiheadAttention(\n",
       "          (out_proj): NonDynamicallyQuantizableLinear(in_features=512, out_features=512, bias=True)\n",
       "        )\n",
       "        (linear1): Linear(in_features=512, out_features=2048, bias=True)\n",
       "        (dropout): Dropout(p=0.02, inplace=False)\n",
       "        (linear2): Linear(in_features=2048, out_features=512, bias=True)\n",
       "        (norm1): LayerNorm((512,), eps=1e-05, elementwise_affine=True)\n",
       "        (norm2): LayerNorm((512,), eps=1e-05, elementwise_affine=True)\n",
       "        (norm3): LayerNorm((512,), eps=1e-05, elementwise_affine=True)\n",
       "        (norm_out): MyGroupNorm(1, 512, eps=1e-05, affine=True)\n",
       "        (gamma_1): LayerScale()\n",
       "        (gamma_2): LayerScale()\n",
       "        (dropout1): Dropout(p=0.02, inplace=False)\n",
       "        (dropout2): Dropout(p=0.02, inplace=False)\n",
       "      )\n",
       "      (2): MyTransformerEncoderLayer(\n",
       "        (self_attn): MultiheadAttention(\n",
       "          (out_proj): NonDynamicallyQuantizableLinear(in_features=512, out_features=512, bias=True)\n",
       "        )\n",
       "        (linear1): Linear(in_features=512, out_features=2048, bias=True)\n",
       "        (dropout): Dropout(p=0.02, inplace=False)\n",
       "        (linear2): Linear(in_features=2048, out_features=512, bias=True)\n",
       "        (norm1): LayerNorm((512,), eps=1e-05, elementwise_affine=True)\n",
       "        (norm2): LayerNorm((512,), eps=1e-05, elementwise_affine=True)\n",
       "        (dropout1): Dropout(p=0.02, inplace=False)\n",
       "        (dropout2): Dropout(p=0.02, inplace=False)\n",
       "        (norm_out): MyGroupNorm(1, 512, eps=1e-05, affine=True)\n",
       "        (gamma_1): LayerScale()\n",
       "        (gamma_2): LayerScale()\n",
       "      )\n",
       "      (3): CrossTransformerEncoderLayer(\n",
       "        (cross_attn): MultiheadAttention(\n",
       "          (out_proj): NonDynamicallyQuantizableLinear(in_features=512, out_features=512, bias=True)\n",
       "        )\n",
       "        (linear1): Linear(in_features=512, out_features=2048, bias=True)\n",
       "        (dropout): Dropout(p=0.02, inplace=False)\n",
       "        (linear2): Linear(in_features=2048, out_features=512, bias=True)\n",
       "        (norm1): LayerNorm((512,), eps=1e-05, elementwise_affine=True)\n",
       "        (norm2): LayerNorm((512,), eps=1e-05, elementwise_affine=True)\n",
       "        (norm3): LayerNorm((512,), eps=1e-05, elementwise_affine=True)\n",
       "        (norm_out): MyGroupNorm(1, 512, eps=1e-05, affine=True)\n",
       "        (gamma_1): LayerScale()\n",
       "        (gamma_2): LayerScale()\n",
       "        (dropout1): Dropout(p=0.02, inplace=False)\n",
       "        (dropout2): Dropout(p=0.02, inplace=False)\n",
       "      )\n",
       "      (4): MyTransformerEncoderLayer(\n",
       "        (self_attn): MultiheadAttention(\n",
       "          (out_proj): NonDynamicallyQuantizableLinear(in_features=512, out_features=512, bias=True)\n",
       "        )\n",
       "        (linear1): Linear(in_features=512, out_features=2048, bias=True)\n",
       "        (dropout): Dropout(p=0.02, inplace=False)\n",
       "        (linear2): Linear(in_features=2048, out_features=512, bias=True)\n",
       "        (norm1): LayerNorm((512,), eps=1e-05, elementwise_affine=True)\n",
       "        (norm2): LayerNorm((512,), eps=1e-05, elementwise_affine=True)\n",
       "        (dropout1): Dropout(p=0.02, inplace=False)\n",
       "        (dropout2): Dropout(p=0.02, inplace=False)\n",
       "        (norm_out): MyGroupNorm(1, 512, eps=1e-05, affine=True)\n",
       "        (gamma_1): LayerScale()\n",
       "        (gamma_2): LayerScale()\n",
       "      )\n",
       "    )\n",
       "    (layers_t): ModuleList(\n",
       "      (0): MyTransformerEncoderLayer(\n",
       "        (self_attn): MultiheadAttention(\n",
       "          (out_proj): NonDynamicallyQuantizableLinear(in_features=512, out_features=512, bias=True)\n",
       "        )\n",
       "        (linear1): Linear(in_features=512, out_features=2048, bias=True)\n",
       "        (dropout): Dropout(p=0.02, inplace=False)\n",
       "        (linear2): Linear(in_features=2048, out_features=512, bias=True)\n",
       "        (norm1): LayerNorm((512,), eps=1e-05, elementwise_affine=True)\n",
       "        (norm2): LayerNorm((512,), eps=1e-05, elementwise_affine=True)\n",
       "        (dropout1): Dropout(p=0.02, inplace=False)\n",
       "        (dropout2): Dropout(p=0.02, inplace=False)\n",
       "        (norm_out): MyGroupNorm(1, 512, eps=1e-05, affine=True)\n",
       "        (gamma_1): LayerScale()\n",
       "        (gamma_2): LayerScale()\n",
       "      )\n",
       "      (1): CrossTransformerEncoderLayer(\n",
       "        (cross_attn): MultiheadAttention(\n",
       "          (out_proj): NonDynamicallyQuantizableLinear(in_features=512, out_features=512, bias=True)\n",
       "        )\n",
       "        (linear1): Linear(in_features=512, out_features=2048, bias=True)\n",
       "        (dropout): Dropout(p=0.02, inplace=False)\n",
       "        (linear2): Linear(in_features=2048, out_features=512, bias=True)\n",
       "        (norm1): LayerNorm((512,), eps=1e-05, elementwise_affine=True)\n",
       "        (norm2): LayerNorm((512,), eps=1e-05, elementwise_affine=True)\n",
       "        (norm3): LayerNorm((512,), eps=1e-05, elementwise_affine=True)\n",
       "        (norm_out): MyGroupNorm(1, 512, eps=1e-05, affine=True)\n",
       "        (gamma_1): LayerScale()\n",
       "        (gamma_2): LayerScale()\n",
       "        (dropout1): Dropout(p=0.02, inplace=False)\n",
       "        (dropout2): Dropout(p=0.02, inplace=False)\n",
       "      )\n",
       "      (2): MyTransformerEncoderLayer(\n",
       "        (self_attn): MultiheadAttention(\n",
       "          (out_proj): NonDynamicallyQuantizableLinear(in_features=512, out_features=512, bias=True)\n",
       "        )\n",
       "        (linear1): Linear(in_features=512, out_features=2048, bias=True)\n",
       "        (dropout): Dropout(p=0.02, inplace=False)\n",
       "        (linear2): Linear(in_features=2048, out_features=512, bias=True)\n",
       "        (norm1): LayerNorm((512,), eps=1e-05, elementwise_affine=True)\n",
       "        (norm2): LayerNorm((512,), eps=1e-05, elementwise_affine=True)\n",
       "        (dropout1): Dropout(p=0.02, inplace=False)\n",
       "        (dropout2): Dropout(p=0.02, inplace=False)\n",
       "        (norm_out): MyGroupNorm(1, 512, eps=1e-05, affine=True)\n",
       "        (gamma_1): LayerScale()\n",
       "        (gamma_2): LayerScale()\n",
       "      )\n",
       "      (3): CrossTransformerEncoderLayer(\n",
       "        (cross_attn): MultiheadAttention(\n",
       "          (out_proj): NonDynamicallyQuantizableLinear(in_features=512, out_features=512, bias=True)\n",
       "        )\n",
       "        (linear1): Linear(in_features=512, out_features=2048, bias=True)\n",
       "        (dropout): Dropout(p=0.02, inplace=False)\n",
       "        (linear2): Linear(in_features=2048, out_features=512, bias=True)\n",
       "        (norm1): LayerNorm((512,), eps=1e-05, elementwise_affine=True)\n",
       "        (norm2): LayerNorm((512,), eps=1e-05, elementwise_affine=True)\n",
       "        (norm3): LayerNorm((512,), eps=1e-05, elementwise_affine=True)\n",
       "        (norm_out): MyGroupNorm(1, 512, eps=1e-05, affine=True)\n",
       "        (gamma_1): LayerScale()\n",
       "        (gamma_2): LayerScale()\n",
       "        (dropout1): Dropout(p=0.02, inplace=False)\n",
       "        (dropout2): Dropout(p=0.02, inplace=False)\n",
       "      )\n",
       "      (4): MyTransformerEncoderLayer(\n",
       "        (self_attn): MultiheadAttention(\n",
       "          (out_proj): NonDynamicallyQuantizableLinear(in_features=512, out_features=512, bias=True)\n",
       "        )\n",
       "        (linear1): Linear(in_features=512, out_features=2048, bias=True)\n",
       "        (dropout): Dropout(p=0.02, inplace=False)\n",
       "        (linear2): Linear(in_features=2048, out_features=512, bias=True)\n",
       "        (norm1): LayerNorm((512,), eps=1e-05, elementwise_affine=True)\n",
       "        (norm2): LayerNorm((512,), eps=1e-05, elementwise_affine=True)\n",
       "        (dropout1): Dropout(p=0.02, inplace=False)\n",
       "        (dropout2): Dropout(p=0.02, inplace=False)\n",
       "        (norm_out): MyGroupNorm(1, 512, eps=1e-05, affine=True)\n",
       "        (gamma_1): LayerScale()\n",
       "        (gamma_2): LayerScale()\n",
       "      )\n",
       "    )\n",
       "  )\n",
       ")"
      ]
     },
     "execution_count": 8,
     "metadata": {},
     "output_type": "execute_result"
    }
   ],
   "source": [
    "htdemucs = pretrained.get_model('htdemucs') # load pretrained htdemucs\n",
    "\n",
    "# modify network to have 3 stems output\n",
    "model = htdemucs.models[0]\n",
    "model.sources = ['speech', 'music', 'sfx']\n",
    "\n",
    "# model.channel = 1\n",
    "# # Modify the first layer of the encoder to accept mono input\n",
    "# first_encoder_layer = model.encoder[0]\n",
    "# if isinstance(first_encoder_layer.conv, torch.nn.Conv2d):\n",
    "#     original_in_channels = first_encoder_layer.conv.in_channels\n",
    "#     first_encoder_layer.conv = torch.nn.Conv2d(\n",
    "#         in_channels=2,  # Change to 1 for mono input\n",
    "#         out_channels=first_encoder_layer.conv.out_channels,\n",
    "#         kernel_size=first_encoder_layer.conv.kernel_size,\n",
    "#         stride=first_encoder_layer.conv.stride,\n",
    "#         padding=first_encoder_layer.conv.padding,\n",
    "#         bias=first_encoder_layer.conv.bias is not None,\n",
    "#     )\n",
    "#     print(f\"Encoder: Changed first layer in_channels from {original_in_channels} to 2\")\n",
    "\n",
    "# # Modify the first layer of the temporal encoder (if applicable)\n",
    "# first_tencoder_layer = model.tencoder[0]\n",
    "# if isinstance(first_tencoder_layer.conv, torch.nn.Conv1d):\n",
    "#     original_in_channels = first_tencoder_layer.conv.in_channels\n",
    "#     first_tencoder_layer.conv = torch.nn.Conv1d(\n",
    "#         in_channels=1,  # Change to 1 for mono input\n",
    "#         out_channels=first_tencoder_layer.conv.out_channels,\n",
    "#         kernel_size=first_tencoder_layer.conv.kernel_size,\n",
    "#         stride=first_tencoder_layer.conv.stride,\n",
    "#         padding=first_tencoder_layer.conv.padding,\n",
    "#         bias=first_tencoder_layer.conv.bias is not None,\n",
    "#     )\n",
    "#     print(f\"TEncoder: Changed first layer in_channels from {original_in_channels} to 1\")\n",
    "\n",
    "\n",
    "model.decoder[-1].conv_tr = torch.nn.ConvTranspose2d(\n",
    "    in_channels=48,  \n",
    "    out_channels=12,  # 3 stems * input channels (2 for stereo)\n",
    "    kernel_size=(8, 1),\n",
    "    stride=(4, 1)\n",
    ")\n",
    "model.tdecoder[-1].conv_tr = torch.nn.ConvTranspose1d(\n",
    "    in_channels=48,  \n",
    "    out_channels=6,\n",
    "    kernel_size=8,\n",
    "    stride=4\n",
    ")\n",
    "model"
   ]
  },
  {
   "cell_type": "code",
   "execution_count": null,
   "metadata": {},
   "outputs": [
    {
     "name": "stdout",
     "output_type": "stream",
     "text": [
      "Instruments: ['speech', 'music', 'sfx']\n",
      "Metrics for training: SDR. Metric for scheduler: SDR\n"
     ]
    },
    {
     "name": "stderr",
     "output_type": "stream",
     "text": [
      "100%|██████████| 12/12 [00:02<00:00,  5.73it/s]\n"
     ]
    },
    {
     "name": "stdout",
     "output_type": "stream",
     "text": [
      "Found tracks in dataset: 12\n",
      "CUDA is not available. Running training on CPU.\n",
      "Patience: 2 Reduce factor: 0.95 Batch size: 6\n",
      "Epoch: 1/10\n"
     ]
    },
    {
     "name": "stderr",
     "output_type": "stream",
     "text": [
      "Training Epoch 1: 100%|██████████| 1/1 [01:15<00:00, 75.91s/it, loss=28, avg_loss=28]\n"
     ]
    },
    {
     "name": "stdout",
     "output_type": "stream",
     "text": [
      "Training Loss: 0.280396\n",
      "Found 2 mixtures for validation.\n"
     ]
    },
    {
     "name": "stderr",
     "output_type": "stream",
     "text": [
      "                                                                                     \r"
     ]
    },
    {
     "name": "stdout",
     "output_type": "stream",
     "text": [
      "Average SDR for speech: -3.0198 dB (Std: 0.0022 dB)\n",
      "Average SDR for music: -3.3848 dB (Std: 0.0338 dB)\n",
      "Average SDR for sfx: -3.1544 dB (Std: 0.0646 dB)\n",
      "Average SDR over all tracks: -3.1864 dB\n",
      "Elapsed time: 204.94 sec\n",
      "Validation SDR: -3.1864\n",
      "New best model saved: ./output/result/notebook/best_model_epoch_1_-3.1864.ckpt\n",
      "Epoch: 2/10\n"
     ]
    },
    {
     "name": "stderr",
     "output_type": "stream",
     "text": [
      "Training Epoch 2:   0%|          | 0/1 [00:00<?, ?it/s]"
     ]
    }
   ],
   "source": [
    "import train \n",
    "importlib.reload(train)\n",
    "\n",
    "# Create output directory to save model\n",
    "result_dir = \"./output/result/notebook\"\n",
    "os.makedirs(result_dir, exist_ok=True)\n",
    "\n",
    "# Train with Masked loss\n",
    "train.train_model(\n",
    "    model=model,\n",
    "    results_path=result_dir,\n",
    "    data_path=['/Users/yt/coding/DL4CV/Final/Cinematic_sound_demixer/DnR/dnr_small/tr'],\n",
    "    valid_path=['/Users/yt/coding/DL4CV/Final/Cinematic_sound_demixer/DnR/dnr_small/cv'],\n",
    "    num_epochs=10\n",
    ")\n",
    "\n",
    "\n",
    "# trained = train.train_model(\n",
    "#     model, train_loader, val_loader,\n",
    "#     epochs=1000, learning_rate=1e-4, output_dir=\"./models/test\",\n",
    "#     device=\"cpu\", early_stopping=None, loss_type=\"masked\"\n",
    "# )"
   ]
  },
  {
   "cell_type": "markdown",
   "metadata": {},
   "source": [
    "## ZZ"
   ]
  },
  {
   "cell_type": "code",
   "execution_count": 22,
   "metadata": {},
   "outputs": [],
   "source": [
    "import dataset\n",
    "importlib.reload(dataset)\n",
    "\n",
    "def get_subset(dataset, subset_fraction=0.5):\n",
    "    total_samples = len(dataset)\n",
    "    subset_size = int(total_samples * subset_fraction)\n",
    "    indices = random.sample(range(total_samples), subset_size)\n",
    "    return torch.utils.data.Subset(dataset, indices)\n",
    "\n",
    "# Initialize dataset\n",
    "dataset_path = \"DnR/dnr_small\"  # Use small dataset for local testing. Replace with the full dataset \n",
    "train_path = os.path.join(dataset_path, \"tr\")  # Folder containing training data\n",
    "val_path = os.path.join(dataset_path, \"cv\")  # Folder containing validation data\n",
    "test_path = os.path.join(dataset_path, \"tt\")  # Folder containing test data\n",
    "\n",
    "# Initialize datasets\n",
    "chunk_size = 132300\n",
    "train_dataset = dataset.DnR_Dataset(root_dir=train_path, sample_rate=44100, chunk_size=chunk_size)\n",
    "val_dataset = dataset.DnR_Dataset(root_dir=val_path, sample_rate=44100, chunk_size=chunk_size)\n",
    "test_dataset = dataset.DnR_Dataset(root_dir=test_path, sample_rate=44100, chunk_size=chunk_size)\n",
    "\n",
    "# Use only a fraction of the data for faster training\n",
    "# train_dataset = get_subset(train_dataset, 0.001) \n",
    "# val_dataset = get_subset(val_dataset, 0.1)  \n",
    "# test_dataset = get_subset(test_dataset)  \n",
    "\n",
    "# Initialize DataLoaders\n",
    "batch_size = 2 # update batch size when using GPU\n",
    "train_loader = DataLoader(train_dataset, batch_size=batch_size, shuffle=True)\n",
    "val_loader = DataLoader(val_dataset, batch_size=batch_size, shuffle=False)\n",
    "test_loader = DataLoader(test_dataset, batch_size=batch_size, shuffle=False)"
   ]
  },
  {
   "cell_type": "code",
   "execution_count": 26,
   "metadata": {},
   "outputs": [
    {
     "name": "stdout",
     "output_type": "stream",
     "text": [
      "--------------------\n",
      "Epoch 1/1000\n"
     ]
    },
    {
     "name": "stderr",
     "output_type": "stream",
     "text": [
      "                                                                                  \r"
     ]
    },
    {
     "name": "stdout",
     "output_type": "stream",
     "text": [
      "Training Loss: 0.09759910\n",
      "Validation Loss: 0.12009210\n",
      "Average SDR for Stem 0: -3.72681355 dB\n",
      "Average SDR for Stem 1: -0.10373989 dB\n",
      "Average SDR for Stem 2: -11.20057297 dB\n",
      "Overall Average SDR: -5.01037550 dB\n",
      "--------------------\n",
      "Epoch 2/1000\n"
     ]
    },
    {
     "name": "stderr",
     "output_type": "stream",
     "text": [
      "                                                                                 \r"
     ]
    },
    {
     "name": "stdout",
     "output_type": "stream",
     "text": [
      "Training Loss: 0.13706639\n",
      "Validation Loss: 0.04634798\n",
      "Average SDR for Stem 0: -21.30552292 dB\n",
      "Average SDR for Stem 1: -2.34668994 dB\n",
      "Average SDR for Stem 2: -0.91916823 dB\n",
      "Overall Average SDR: -8.19046021 dB\n",
      "--------------------\n",
      "Epoch 3/1000\n"
     ]
    },
    {
     "name": "stderr",
     "output_type": "stream",
     "text": [
      "                                                                                 \r"
     ]
    },
    {
     "name": "stdout",
     "output_type": "stream",
     "text": [
      "Training Loss: 0.10451783\n",
      "Validation Loss: 0.07554083\n",
      "Average SDR for Stem 0: -4.30159807 dB\n",
      "Average SDR for Stem 1: -4.25910091 dB\n",
      "Average SDR for Stem 2: -8.33948231 dB\n",
      "Overall Average SDR: -5.63339376 dB\n",
      "--------------------\n",
      "Epoch 4/1000\n"
     ]
    },
    {
     "name": "stderr",
     "output_type": "stream",
     "text": [
      "                                                                                 \r"
     ]
    },
    {
     "name": "stdout",
     "output_type": "stream",
     "text": [
      "Training Loss: 0.12946711\n",
      "Validation Loss: 0.16043242\n",
      "Average SDR for Stem 0: -0.02839401 dB\n",
      "Average SDR for Stem 1: -0.09067234 dB\n",
      "Average SDR for Stem 2: -4.07820988 dB\n",
      "Overall Average SDR: -1.39909208 dB\n",
      "--------------------\n",
      "Epoch 5/1000\n"
     ]
    },
    {
     "name": "stderr",
     "output_type": "stream",
     "text": [
      "                                                                                 \r"
     ]
    },
    {
     "name": "stdout",
     "output_type": "stream",
     "text": [
      "Training Loss: 0.10090550\n",
      "Validation Loss: 0.01977253\n",
      "Average SDR for Stem 0: -5.72779083 dB\n",
      "Average SDR for Stem 1: -3.50067401 dB\n",
      "Average SDR for Stem 2: -5.23098135 dB\n",
      "Overall Average SDR: -4.81981516 dB\n",
      "--------------------\n",
      "Epoch 6/1000\n"
     ]
    },
    {
     "name": "stderr",
     "output_type": "stream",
     "text": [
      "                                                                                 \r"
     ]
    },
    {
     "name": "stdout",
     "output_type": "stream",
     "text": [
      "Training Loss: 0.05529390\n",
      "Validation Loss: 0.08130463\n",
      "Average SDR for Stem 0: 1.16387928 dB\n",
      "Average SDR for Stem 1: -1.65719664 dB\n",
      "Average SDR for Stem 2: -1.58470452 dB\n",
      "Overall Average SDR: -0.69267398 dB\n",
      "--------------------\n",
      "Epoch 7/1000\n"
     ]
    },
    {
     "name": "stderr",
     "output_type": "stream",
     "text": [
      "                                                                                 \r"
     ]
    },
    {
     "name": "stdout",
     "output_type": "stream",
     "text": [
      "Training Loss: 0.08162398\n",
      "Validation Loss: 0.17891143\n",
      "Average SDR for Stem 0: -5.50442696 dB\n",
      "Average SDR for Stem 1: -4.99389029 dB\n",
      "Average SDR for Stem 2: -1.19226372 dB\n",
      "Overall Average SDR: -3.89686036 dB\n",
      "--------------------\n",
      "Epoch 8/1000\n"
     ]
    },
    {
     "name": "stderr",
     "output_type": "stream",
     "text": [
      "                                                                                 \r"
     ]
    },
    {
     "name": "stdout",
     "output_type": "stream",
     "text": [
      "Training Loss: 0.10224610\n",
      "Validation Loss: 0.09246694\n",
      "Average SDR for Stem 0: -3.10831928 dB\n",
      "Average SDR for Stem 1: -0.73626304 dB\n",
      "Average SDR for Stem 2: -4.74927855 dB\n",
      "Overall Average SDR: -2.86462021 dB\n",
      "--------------------\n",
      "Epoch 9/1000\n"
     ]
    },
    {
     "name": "stderr",
     "output_type": "stream",
     "text": [
      "                                                                                 \r"
     ]
    },
    {
     "name": "stdout",
     "output_type": "stream",
     "text": [
      "Training Loss: 0.16281449\n",
      "Validation Loss: 0.08585849\n",
      "Average SDR for Stem 0: -0.03584866 dB\n",
      "Average SDR for Stem 1: -0.20291077 dB\n",
      "Average SDR for Stem 2: -0.22335453 dB\n",
      "Overall Average SDR: -0.15403800 dB\n",
      "--------------------\n",
      "Epoch 10/1000\n"
     ]
    },
    {
     "name": "stderr",
     "output_type": "stream",
     "text": [
      "                                                                                 \r"
     ]
    },
    {
     "name": "stdout",
     "output_type": "stream",
     "text": [
      "Training Loss: 0.12015897\n",
      "Validation Loss: 0.06568055\n",
      "Average SDR for Stem 0: -0.03330525 dB\n",
      "Average SDR for Stem 1: -3.22445130 dB\n",
      "Average SDR for Stem 2: -11.92281055 dB\n",
      "Overall Average SDR: -5.06018877 dB\n",
      "--------------------\n",
      "Epoch 11/1000\n"
     ]
    },
    {
     "name": "stderr",
     "output_type": "stream",
     "text": [
      "                                                                                  \r"
     ]
    },
    {
     "name": "stdout",
     "output_type": "stream",
     "text": [
      "Training Loss: 0.11214164\n",
      "Validation Loss: 0.01812744\n",
      "Average SDR for Stem 0: -17.46105957 dB\n",
      "Average SDR for Stem 1: -0.21747129 dB\n",
      "Average SDR for Stem 2: -0.28855827 dB\n",
      "Overall Average SDR: -5.98903036 dB\n",
      "--------------------\n",
      "Epoch 12/1000\n"
     ]
    },
    {
     "name": "stderr",
     "output_type": "stream",
     "text": [
      "                                                                                 \r"
     ]
    },
    {
     "name": "stdout",
     "output_type": "stream",
     "text": [
      "Training Loss: 0.37447185\n",
      "Validation Loss: 0.12683104\n",
      "Average SDR for Stem 0: -0.01500136 dB\n",
      "Average SDR for Stem 1: -2.70174050 dB\n",
      "Average SDR for Stem 2: -2.83102417 dB\n",
      "Overall Average SDR: -1.84925520 dB\n",
      "--------------------\n",
      "Epoch 13/1000\n"
     ]
    },
    {
     "name": "stderr",
     "output_type": "stream",
     "text": [
      "                                                                                 \r"
     ]
    },
    {
     "name": "stdout",
     "output_type": "stream",
     "text": [
      "Training Loss: 0.19033161\n",
      "Validation Loss: 0.08287733\n",
      "Average SDR for Stem 0: -4.79142714 dB\n",
      "Average SDR for Stem 1: -3.28764653 dB\n",
      "Average SDR for Stem 2: -0.09171938 dB\n",
      "Overall Average SDR: -2.72359776 dB\n",
      "--------------------\n",
      "Epoch 14/1000\n"
     ]
    },
    {
     "name": "stderr",
     "output_type": "stream",
     "text": [
      "                                                                                 \r"
     ]
    },
    {
     "name": "stdout",
     "output_type": "stream",
     "text": [
      "Training Loss: 0.11142294\n",
      "Validation Loss: 0.14666776\n",
      "Average SDR for Stem 0: -2.86517525 dB\n",
      "Average SDR for Stem 1: -0.04142987 dB\n",
      "Average SDR for Stem 2: -6.42635775 dB\n",
      "Overall Average SDR: -3.11098766 dB\n",
      "--------------------\n",
      "Epoch 15/1000\n"
     ]
    },
    {
     "name": "stderr",
     "output_type": "stream",
     "text": [
      "                                                                                 \r"
     ]
    },
    {
     "name": "stdout",
     "output_type": "stream",
     "text": [
      "Training Loss: 0.11557282\n",
      "Validation Loss: 0.03353396\n",
      "Average SDR for Stem 0: -3.54558825 dB\n",
      "Average SDR for Stem 1: -1.14674354 dB\n",
      "Average SDR for Stem 2: -0.31906566 dB\n",
      "Overall Average SDR: -1.67046583 dB\n",
      "--------------------\n",
      "Epoch 16/1000\n"
     ]
    },
    {
     "name": "stderr",
     "output_type": "stream",
     "text": [
      "                                                                                 \r"
     ]
    },
    {
     "name": "stdout",
     "output_type": "stream",
     "text": [
      "Training Loss: 0.09882676\n",
      "Validation Loss: 0.06179045\n",
      "Average SDR for Stem 0: -1.70769036 dB\n",
      "Average SDR for Stem 1: -3.73232770 dB\n",
      "Average SDR for Stem 2: -0.15432881 dB\n",
      "Overall Average SDR: -1.86478233 dB\n",
      "--------------------\n",
      "Epoch 17/1000\n"
     ]
    },
    {
     "name": "stderr",
     "output_type": "stream",
     "text": [
      "                                                                                 \r"
     ]
    },
    {
     "name": "stdout",
     "output_type": "stream",
     "text": [
      "Training Loss: 0.10752043\n",
      "Validation Loss: 0.10821808\n",
      "Average SDR for Stem 0: -0.02390652 dB\n",
      "Average SDR for Stem 1: -0.02842804 dB\n",
      "Average SDR for Stem 2: -0.14953417 dB\n",
      "Overall Average SDR: -0.06728958 dB\n",
      "--------------------\n",
      "Epoch 18/1000\n"
     ]
    },
    {
     "name": "stderr",
     "output_type": "stream",
     "text": [
      "                                                                                 \r"
     ]
    },
    {
     "name": "stdout",
     "output_type": "stream",
     "text": [
      "Training Loss: 0.08269913\n",
      "Validation Loss: 0.10292040\n",
      "Average SDR for Stem 0: -0.01633517 dB\n",
      "Average SDR for Stem 1: -0.01997444 dB\n",
      "Average SDR for Stem 2: -12.85470676 dB\n",
      "Overall Average SDR: -4.29700518 dB\n",
      "--------------------\n",
      "Epoch 19/1000\n"
     ]
    },
    {
     "name": "stderr",
     "output_type": "stream",
     "text": [
      "                                                                                 \r"
     ]
    },
    {
     "name": "stdout",
     "output_type": "stream",
     "text": [
      "Training Loss: 0.13910558\n",
      "Validation Loss: 0.16725146\n",
      "Average SDR for Stem 0: -3.08532310 dB\n",
      "Average SDR for Stem 1: -0.02611397 dB\n",
      "Average SDR for Stem 2: -0.04218484 dB\n",
      "Overall Average SDR: -1.05120730 dB\n",
      "--------------------\n",
      "Epoch 20/1000\n"
     ]
    },
    {
     "name": "stderr",
     "output_type": "stream",
     "text": [
      "                                                                                   \r"
     ]
    },
    {
     "name": "stdout",
     "output_type": "stream",
     "text": [
      "Training Loss: 0.21651236\n",
      "Validation Loss: 0.08465125\n",
      "Average SDR for Stem 0: -0.02336175 dB\n",
      "Average SDR for Stem 1: -3.70574737 dB\n",
      "Average SDR for Stem 2: -0.21517891 dB\n",
      "Overall Average SDR: -1.31476271 dB\n",
      "--------------------\n",
      "Epoch 21/1000\n"
     ]
    },
    {
     "name": "stderr",
     "output_type": "stream",
     "text": [
      "                                                                                 \r"
     ]
    },
    {
     "name": "stdout",
     "output_type": "stream",
     "text": [
      "Training Loss: 0.15380754\n",
      "Validation Loss: 0.08932425\n",
      "Average SDR for Stem 0: -0.02203414 dB\n",
      "Average SDR for Stem 1: -6.30265617 dB\n",
      "Average SDR for Stem 2: -0.06611589 dB\n",
      "Overall Average SDR: -2.13026881 dB\n",
      "--------------------\n",
      "Epoch 22/1000\n"
     ]
    },
    {
     "name": "stderr",
     "output_type": "stream",
     "text": [
      "                                                                                 \r"
     ]
    },
    {
     "name": "stdout",
     "output_type": "stream",
     "text": [
      "Training Loss: 0.09152129\n",
      "Validation Loss: 0.08136092\n",
      "Average SDR for Stem 0: -1.70448112 dB\n",
      "Average SDR for Stem 1: -2.69968152 dB\n",
      "Average SDR for Stem 2: -3.00402474 dB\n",
      "Overall Average SDR: -2.46939564 dB\n",
      "--------------------\n",
      "Epoch 23/1000\n"
     ]
    },
    {
     "name": "stderr",
     "output_type": "stream",
     "text": [
      "                                                                                 \r"
     ]
    },
    {
     "name": "stdout",
     "output_type": "stream",
     "text": [
      "Training Loss: 0.16615112\n",
      "Validation Loss: 0.09498053\n",
      "Average SDR for Stem 0: -2.82318401 dB\n",
      "Average SDR for Stem 1: -16.61283302 dB\n",
      "Average SDR for Stem 2: -9.23237991 dB\n",
      "Overall Average SDR: -9.55613232 dB\n",
      "--------------------\n",
      "Epoch 24/1000\n"
     ]
    },
    {
     "name": "stderr",
     "output_type": "stream",
     "text": [
      "                                                                                 \r"
     ]
    },
    {
     "name": "stdout",
     "output_type": "stream",
     "text": [
      "Training Loss: 0.12060780\n",
      "Validation Loss: 0.04145003\n",
      "Average SDR for Stem 0: -1.99882853 dB\n",
      "Average SDR for Stem 1: -0.21616949 dB\n",
      "Average SDR for Stem 2: -0.15335302 dB\n",
      "Overall Average SDR: -0.78945035 dB\n",
      "--------------------\n",
      "Epoch 25/1000\n"
     ]
    },
    {
     "name": "stderr",
     "output_type": "stream",
     "text": [
      "                                                                                 \r"
     ]
    },
    {
     "name": "stdout",
     "output_type": "stream",
     "text": [
      "Training Loss: 0.12222077\n",
      "Validation Loss: 0.08448178\n",
      "Average SDR for Stem 0: -5.36672401 dB\n",
      "Average SDR for Stem 1: -5.01345778 dB\n",
      "Average SDR for Stem 2: -0.26159993 dB\n",
      "Overall Average SDR: -3.54726052 dB\n",
      "--------------------\n",
      "Epoch 26/1000\n"
     ]
    },
    {
     "name": "stderr",
     "output_type": "stream",
     "text": [
      "                                                                                 \r"
     ]
    },
    {
     "name": "stdout",
     "output_type": "stream",
     "text": [
      "Training Loss: 0.13460366\n",
      "Validation Loss: 0.09863169\n",
      "Average SDR for Stem 0: -0.69940615 dB\n",
      "Average SDR for Stem 1: -9.58215427 dB\n",
      "Average SDR for Stem 2: -5.24910116 dB\n",
      "Overall Average SDR: -5.17688751 dB\n",
      "--------------------\n",
      "Epoch 27/1000\n"
     ]
    },
    {
     "name": "stderr",
     "output_type": "stream",
     "text": [
      "                                                                                   \r"
     ]
    },
    {
     "name": "stdout",
     "output_type": "stream",
     "text": [
      "Training Loss: 0.07583199\n",
      "Validation Loss: 0.07248561\n",
      "Average SDR for Stem 0: -2.90858173 dB\n",
      "Average SDR for Stem 1: -2.41275620 dB\n",
      "Average SDR for Stem 2: -2.99891567 dB\n",
      "Overall Average SDR: -2.77341771 dB\n",
      "--------------------\n",
      "Epoch 28/1000\n"
     ]
    },
    {
     "name": "stderr",
     "output_type": "stream",
     "text": [
      "                                                                                 \r"
     ]
    },
    {
     "name": "stdout",
     "output_type": "stream",
     "text": [
      "Training Loss: 0.12226894\n",
      "Validation Loss: 0.13519744\n",
      "Average SDR for Stem 0: -3.55358195 dB\n",
      "Average SDR for Stem 1: -4.37951088 dB\n",
      "Average SDR for Stem 2: -0.92583269 dB\n",
      "Overall Average SDR: -2.95297527 dB\n",
      "--------------------\n",
      "Epoch 29/1000\n"
     ]
    },
    {
     "name": "stderr",
     "output_type": "stream",
     "text": [
      "                                                                                 \r"
     ]
    },
    {
     "name": "stdout",
     "output_type": "stream",
     "text": [
      "Training Loss: 0.17106000\n",
      "Validation Loss: 0.03272593\n",
      "Average SDR for Stem 0: -1.72238195 dB\n",
      "Average SDR for Stem 1: -3.67837739 dB\n",
      "Average SDR for Stem 2: -0.82216400 dB\n",
      "Overall Average SDR: -2.07430768 dB\n",
      "--------------------\n",
      "Epoch 30/1000\n"
     ]
    },
    {
     "name": "stderr",
     "output_type": "stream",
     "text": [
      "                                                                                 \r"
     ]
    },
    {
     "name": "stdout",
     "output_type": "stream",
     "text": [
      "Training Loss: 0.12998804\n",
      "Validation Loss: 0.09220920\n",
      "Average SDR for Stem 0: -0.03711754 dB\n",
      "Average SDR for Stem 1: -4.03437090 dB\n",
      "Average SDR for Stem 2: -0.69873422 dB\n",
      "Overall Average SDR: -1.59007418 dB\n",
      "--------------------\n",
      "Epoch 31/1000\n"
     ]
    },
    {
     "name": "stderr",
     "output_type": "stream",
     "text": [
      "                                                                                 \r"
     ]
    },
    {
     "name": "stdout",
     "output_type": "stream",
     "text": [
      "Training Loss: 0.08420709\n",
      "Validation Loss: 0.08239792\n",
      "Average SDR for Stem 0: -0.33201990 dB\n",
      "Average SDR for Stem 1: -0.02137957 dB\n",
      "Average SDR for Stem 2: -0.18136080 dB\n",
      "Overall Average SDR: -0.17825341 dB\n",
      "--------------------\n",
      "Epoch 32/1000\n"
     ]
    },
    {
     "name": "stderr",
     "output_type": "stream",
     "text": [
      "                                                                                  \r"
     ]
    },
    {
     "name": "stdout",
     "output_type": "stream",
     "text": [
      "Training Loss: 0.08485775\n",
      "Validation Loss: 0.15995907\n",
      "Average SDR for Stem 0: -0.00847159 dB\n",
      "Average SDR for Stem 1: -0.05374460 dB\n",
      "Average SDR for Stem 2: -0.05606073 dB\n",
      "Overall Average SDR: -0.03942564 dB\n",
      "--------------------\n",
      "Epoch 33/1000\n"
     ]
    },
    {
     "name": "stderr",
     "output_type": "stream",
     "text": [
      "                                                                                 \r"
     ]
    },
    {
     "name": "stdout",
     "output_type": "stream",
     "text": [
      "Training Loss: 0.09459677\n",
      "Validation Loss: 0.06923163\n",
      "Average SDR for Stem 0: -0.07958782 dB\n",
      "Average SDR for Stem 1: -7.62893248 dB\n",
      "Average SDR for Stem 2: -0.32941210 dB\n",
      "Overall Average SDR: -2.67931080 dB\n",
      "--------------------\n",
      "Epoch 34/1000\n"
     ]
    },
    {
     "name": "stderr",
     "output_type": "stream",
     "text": [
      "                                                                                  \r"
     ]
    },
    {
     "name": "stdout",
     "output_type": "stream",
     "text": [
      "Training Loss: 0.10667128\n",
      "Validation Loss: 0.05879670\n",
      "Average SDR for Stem 0: -0.13577798 dB\n",
      "Average SDR for Stem 1: -0.06030624 dB\n",
      "Average SDR for Stem 2: -3.16455078 dB\n",
      "Overall Average SDR: -1.12021172 dB\n",
      "--------------------\n",
      "Epoch 35/1000\n"
     ]
    },
    {
     "name": "stderr",
     "output_type": "stream",
     "text": [
      "                                                                                 \r"
     ]
    },
    {
     "name": "stdout",
     "output_type": "stream",
     "text": [
      "Training Loss: 0.17731408\n",
      "Validation Loss: 0.12593297\n",
      "Average SDR for Stem 0: -0.02921805 dB\n",
      "Average SDR for Stem 1: -3.88893628 dB\n",
      "Average SDR for Stem 2: -0.10801089 dB\n",
      "Overall Average SDR: -1.34205496 dB\n",
      "--------------------\n",
      "Epoch 36/1000\n"
     ]
    },
    {
     "name": "stderr",
     "output_type": "stream",
     "text": [
      "                                                                                 \r"
     ]
    },
    {
     "name": "stdout",
     "output_type": "stream",
     "text": [
      "Training Loss: 0.11376465\n",
      "Validation Loss: 0.11243433\n",
      "Average SDR for Stem 0: -0.27223998 dB\n",
      "Average SDR for Stem 1: -3.59427738 dB\n",
      "Average SDR for Stem 2: -0.12765931 dB\n",
      "Overall Average SDR: -1.33139217 dB\n",
      "--------------------\n",
      "Epoch 37/1000\n"
     ]
    },
    {
     "name": "stderr",
     "output_type": "stream",
     "text": [
      "                                                                                 \r"
     ]
    },
    {
     "name": "stdout",
     "output_type": "stream",
     "text": [
      "Training Loss: 0.10529917\n",
      "Validation Loss: 0.15211968\n",
      "Average SDR for Stem 0: -11.94922352 dB\n",
      "Average SDR for Stem 1: -3.45912099 dB\n",
      "Average SDR for Stem 2: -1.23568654 dB\n",
      "Overall Average SDR: -5.54801035 dB\n",
      "--------------------\n",
      "Epoch 38/1000\n"
     ]
    },
    {
     "name": "stderr",
     "output_type": "stream",
     "text": [
      "                                                                                 \r"
     ]
    },
    {
     "name": "stdout",
     "output_type": "stream",
     "text": [
      "Training Loss: 0.11862974\n",
      "Validation Loss: 0.56214073\n",
      "Average SDR for Stem 0: -0.00638015 dB\n",
      "Average SDR for Stem 1: -4.81841326 dB\n",
      "Average SDR for Stem 2: -0.03544217 dB\n",
      "Overall Average SDR: -1.62007856 dB\n",
      "--------------------\n",
      "Epoch 39/1000\n"
     ]
    },
    {
     "name": "stderr",
     "output_type": "stream",
     "text": [
      "                                                                                 \r"
     ]
    },
    {
     "name": "stdout",
     "output_type": "stream",
     "text": [
      "Training Loss: 0.12822988\n",
      "Validation Loss: 0.07680740\n",
      "Average SDR for Stem 0: -0.03494137 dB\n",
      "Average SDR for Stem 1: -0.02420633 dB\n",
      "Average SDR for Stem 2: -2.87856865 dB\n",
      "Overall Average SDR: -0.97923875 dB\n",
      "--------------------\n",
      "Epoch 40/1000\n"
     ]
    },
    {
     "name": "stderr",
     "output_type": "stream",
     "text": [
      "                                                                                 \r"
     ]
    },
    {
     "name": "stdout",
     "output_type": "stream",
     "text": [
      "Training Loss: 0.11200223\n",
      "Validation Loss: 0.07921442\n",
      "Average SDR for Stem 0: -0.02400571 dB\n",
      "Average SDR for Stem 1: -0.07467539 dB\n",
      "Average SDR for Stem 2: -0.05734977 dB\n",
      "Overall Average SDR: -0.05201029 dB\n",
      "--------------------\n",
      "Epoch 41/1000\n"
     ]
    },
    {
     "name": "stderr",
     "output_type": "stream",
     "text": [
      "                                                                                 \r"
     ]
    },
    {
     "name": "stdout",
     "output_type": "stream",
     "text": [
      "Training Loss: 0.12149092\n",
      "Validation Loss: 0.34311978\n",
      "Average SDR for Stem 0: -0.01047569 dB\n",
      "Average SDR for Stem 1: -0.08646867 dB\n",
      "Average SDR for Stem 2: -3.62551141 dB\n",
      "Overall Average SDR: -1.24081862 dB\n",
      "--------------------\n",
      "Epoch 42/1000\n"
     ]
    },
    {
     "name": "stderr",
     "output_type": "stream",
     "text": [
      "                                                                                 \r"
     ]
    },
    {
     "name": "stdout",
     "output_type": "stream",
     "text": [
      "Training Loss: 0.11116289\n",
      "Validation Loss: 0.26791288\n",
      "Average SDR for Stem 0: -0.02990489 dB\n",
      "Average SDR for Stem 1: -0.31120524 dB\n",
      "Average SDR for Stem 2: -7.79487658 dB\n",
      "Overall Average SDR: -2.71199536 dB\n",
      "--------------------\n",
      "Epoch 43/1000\n"
     ]
    },
    {
     "name": "stderr",
     "output_type": "stream",
     "text": [
      "                                                                                 \r"
     ]
    },
    {
     "name": "stdout",
     "output_type": "stream",
     "text": [
      "Training Loss: 0.08507354\n",
      "Validation Loss: 0.02572434\n",
      "Average SDR for Stem 0: -4.01800013 dB\n",
      "Average SDR for Stem 1: -0.10218685 dB\n",
      "Average SDR for Stem 2: -0.03750602 dB\n",
      "Overall Average SDR: -1.38589764 dB\n",
      "--------------------\n",
      "Epoch 44/1000\n"
     ]
    },
    {
     "name": "stderr",
     "output_type": "stream",
     "text": [
      "                                                                                 \r"
     ]
    },
    {
     "name": "stdout",
     "output_type": "stream",
     "text": [
      "Training Loss: 0.11430491\n",
      "Validation Loss: 0.07766750\n",
      "Average SDR for Stem 0: -2.25674629 dB\n",
      "Average SDR for Stem 1: -5.76393652 dB\n",
      "Average SDR for Stem 2: -14.12815571 dB\n",
      "Overall Average SDR: -7.38294601 dB\n",
      "--------------------\n",
      "Epoch 45/1000\n"
     ]
    },
    {
     "name": "stderr",
     "output_type": "stream",
     "text": [
      "                                                                                 \r"
     ]
    },
    {
     "name": "stdout",
     "output_type": "stream",
     "text": [
      "Training Loss: 0.09092104\n",
      "Validation Loss: 0.11990554\n",
      "Average SDR for Stem 0: -0.01489665 dB\n",
      "Average SDR for Stem 1: -0.09896602 dB\n",
      "Average SDR for Stem 2: -0.05120075 dB\n",
      "Overall Average SDR: -0.05502114 dB\n",
      "--------------------\n",
      "Epoch 46/1000\n"
     ]
    },
    {
     "name": "stderr",
     "output_type": "stream",
     "text": [
      "                                                                                 \r"
     ]
    },
    {
     "name": "stdout",
     "output_type": "stream",
     "text": [
      "Training Loss: 0.11067946\n",
      "Validation Loss: 0.07197724\n",
      "Average SDR for Stem 0: -0.28331277 dB\n",
      "Average SDR for Stem 1: -0.04854294 dB\n",
      "Average SDR for Stem 2: -0.08847626 dB\n",
      "Overall Average SDR: -0.14011066 dB\n",
      "--------------------\n",
      "Epoch 47/1000\n"
     ]
    },
    {
     "name": "stderr",
     "output_type": "stream",
     "text": [
      "                                                                                  \r"
     ]
    },
    {
     "name": "stdout",
     "output_type": "stream",
     "text": [
      "Training Loss: 0.07411192\n",
      "Validation Loss: 0.11856129\n",
      "Average SDR for Stem 0: -0.64472210 dB\n",
      "Average SDR for Stem 1: -0.07146854 dB\n",
      "Average SDR for Stem 2: -0.05587226 dB\n",
      "Overall Average SDR: -0.25735429 dB\n",
      "--------------------\n",
      "Epoch 48/1000\n"
     ]
    },
    {
     "name": "stderr",
     "output_type": "stream",
     "text": [
      "                                                                                 \r"
     ]
    },
    {
     "name": "stdout",
     "output_type": "stream",
     "text": [
      "Training Loss: 0.12709522\n",
      "Validation Loss: 0.09267321\n",
      "Average SDR for Stem 0: -0.02024484 dB\n",
      "Average SDR for Stem 1: -0.26707971 dB\n",
      "Average SDR for Stem 2: -4.75932026 dB\n",
      "Overall Average SDR: -1.68221486 dB\n",
      "--------------------\n",
      "Epoch 49/1000\n"
     ]
    },
    {
     "name": "stderr",
     "output_type": "stream",
     "text": [
      "                                                                                 \r"
     ]
    },
    {
     "name": "stdout",
     "output_type": "stream",
     "text": [
      "Training Loss: 0.09338953\n",
      "Validation Loss: 0.14634024\n",
      "Average SDR for Stem 0: -0.02194460 dB\n",
      "Average SDR for Stem 1: -3.90073228 dB\n",
      "Average SDR for Stem 2: -3.61624241 dB\n",
      "Overall Average SDR: -2.51297307 dB\n",
      "--------------------\n",
      "Epoch 50/1000\n"
     ]
    },
    {
     "name": "stderr",
     "output_type": "stream",
     "text": [
      "                                                                                 \r"
     ]
    },
    {
     "name": "stdout",
     "output_type": "stream",
     "text": [
      "Training Loss: 0.10135508\n",
      "Validation Loss: 0.02512622\n",
      "Average SDR for Stem 0: -9.68207455 dB\n",
      "Average SDR for Stem 1: -0.36996162 dB\n",
      "Average SDR for Stem 2: -0.00226869 dB\n",
      "Overall Average SDR: -3.35143495 dB\n",
      "--------------------\n",
      "Epoch 51/1000\n"
     ]
    },
    {
     "name": "stderr",
     "output_type": "stream",
     "text": [
      "                                                                                 \r"
     ]
    },
    {
     "name": "stdout",
     "output_type": "stream",
     "text": [
      "Training Loss: 0.16051993\n",
      "Validation Loss: 0.06098974\n",
      "Average SDR for Stem 0: -6.98545790 dB\n",
      "Average SDR for Stem 1: -6.44207191 dB\n",
      "Average SDR for Stem 2: -0.03532641 dB\n",
      "Overall Average SDR: -4.48761892 dB\n",
      "--------------------\n",
      "Epoch 52/1000\n"
     ]
    },
    {
     "name": "stderr",
     "output_type": "stream",
     "text": [
      "                                                                                 \r"
     ]
    },
    {
     "name": "stdout",
     "output_type": "stream",
     "text": [
      "Training Loss: 0.07722770\n",
      "Validation Loss: 0.13280193\n",
      "Average SDR for Stem 0: -0.01318161 dB\n",
      "Average SDR for Stem 1: -8.08190918 dB\n",
      "Average SDR for Stem 2: -1.99708223 dB\n",
      "Overall Average SDR: -3.36405754 dB\n",
      "--------------------\n",
      "Epoch 53/1000\n"
     ]
    },
    {
     "name": "stderr",
     "output_type": "stream",
     "text": [
      "                                                                                 \r"
     ]
    },
    {
     "name": "stdout",
     "output_type": "stream",
     "text": [
      "Training Loss: 0.09928590\n",
      "Validation Loss: 0.06930706\n",
      "Average SDR for Stem 0: -0.06401823 dB\n",
      "Average SDR for Stem 1: -0.02491245 dB\n",
      "Average SDR for Stem 2: -2.86078739 dB\n",
      "Overall Average SDR: -0.98323935 dB\n",
      "--------------------\n",
      "Epoch 54/1000\n"
     ]
    },
    {
     "name": "stderr",
     "output_type": "stream",
     "text": [
      "                                                                                 \r"
     ]
    },
    {
     "name": "stdout",
     "output_type": "stream",
     "text": [
      "Training Loss: 0.17981396\n",
      "Validation Loss: 0.08109291\n",
      "Average SDR for Stem 0: -0.02267653 dB\n",
      "Average SDR for Stem 1: -4.14948463 dB\n",
      "Average SDR for Stem 2: -0.15288936 dB\n",
      "Overall Average SDR: -1.44168341 dB\n",
      "--------------------\n",
      "Epoch 55/1000\n"
     ]
    },
    {
     "name": "stderr",
     "output_type": "stream",
     "text": [
      "                                                                                 \r"
     ]
    },
    {
     "name": "stdout",
     "output_type": "stream",
     "text": [
      "Training Loss: 0.07775431\n",
      "Validation Loss: 0.06694503\n",
      "Average SDR for Stem 0: -7.10624361 dB\n",
      "Average SDR for Stem 1: -1.51740110 dB\n",
      "Average SDR for Stem 2: -0.02395872 dB\n",
      "Overall Average SDR: -2.88253474 dB\n",
      "--------------------\n",
      "Epoch 56/1000\n"
     ]
    },
    {
     "name": "stderr",
     "output_type": "stream",
     "text": [
      "                                                                                 \r"
     ]
    },
    {
     "name": "stdout",
     "output_type": "stream",
     "text": [
      "Training Loss: 0.11238822\n",
      "Validation Loss: 0.10852479\n",
      "Average SDR for Stem 0: -6.64540434 dB\n",
      "Average SDR for Stem 1: -2.51264644 dB\n",
      "Average SDR for Stem 2: -4.49089384 dB\n",
      "Overall Average SDR: -4.54964828 dB\n",
      "--------------------\n",
      "Epoch 57/1000\n"
     ]
    },
    {
     "name": "stderr",
     "output_type": "stream",
     "text": [
      "                                                                                 \r"
     ]
    },
    {
     "name": "stdout",
     "output_type": "stream",
     "text": [
      "Training Loss: 0.14225043\n",
      "Validation Loss: 0.03083082\n",
      "Average SDR for Stem 0: -2.33544683 dB\n",
      "Average SDR for Stem 1: -0.13709708 dB\n",
      "Average SDR for Stem 2: -0.89503127 dB\n",
      "Overall Average SDR: -1.12252510 dB\n",
      "--------------------\n",
      "Epoch 58/1000\n"
     ]
    },
    {
     "name": "stderr",
     "output_type": "stream",
     "text": [
      "                                                                                 \r"
     ]
    },
    {
     "name": "stdout",
     "output_type": "stream",
     "text": [
      "Training Loss: 0.12350670\n",
      "Validation Loss: 0.12906007\n",
      "Average SDR for Stem 0: -1.11138964 dB\n",
      "Average SDR for Stem 1: -4.24939203 dB\n",
      "Average SDR for Stem 2: -1.21075857 dB\n",
      "Overall Average SDR: -2.19051337 dB\n",
      "--------------------\n",
      "Epoch 59/1000\n"
     ]
    },
    {
     "name": "stderr",
     "output_type": "stream",
     "text": [
      "                                                                                 \r"
     ]
    },
    {
     "name": "stdout",
     "output_type": "stream",
     "text": [
      "Training Loss: 0.07482425\n",
      "Validation Loss: 0.13289714\n",
      "Average SDR for Stem 0: -0.03512133 dB\n",
      "Average SDR for Stem 1: -0.03856894 dB\n",
      "Average SDR for Stem 2: -3.94942188 dB\n",
      "Overall Average SDR: -1.34103739 dB\n",
      "--------------------\n",
      "Epoch 60/1000\n"
     ]
    },
    {
     "name": "stderr",
     "output_type": "stream",
     "text": [
      "                                                                                 \r"
     ]
    },
    {
     "name": "stdout",
     "output_type": "stream",
     "text": [
      "Training Loss: 0.13289293\n",
      "Validation Loss: 0.11841333\n",
      "Average SDR for Stem 0: -0.03659709 dB\n",
      "Average SDR for Stem 1: -0.87369847 dB\n",
      "Average SDR for Stem 2: -0.03153126 dB\n",
      "Overall Average SDR: -0.31394228 dB\n",
      "--------------------\n",
      "Epoch 61/1000\n"
     ]
    },
    {
     "name": "stderr",
     "output_type": "stream",
     "text": [
      "                                                                                   \r"
     ]
    },
    {
     "name": "stdout",
     "output_type": "stream",
     "text": [
      "Training Loss: 0.09788377\n",
      "Validation Loss: 0.17172228\n",
      "Average SDR for Stem 0: -2.97119045 dB\n",
      "Average SDR for Stem 1: -0.71984106 dB\n",
      "Average SDR for Stem 2: -0.08293489 dB\n",
      "Overall Average SDR: -1.25798881 dB\n",
      "--------------------\n",
      "Epoch 62/1000\n"
     ]
    },
    {
     "name": "stderr",
     "output_type": "stream",
     "text": [
      "                                                                                 \r"
     ]
    },
    {
     "name": "stdout",
     "output_type": "stream",
     "text": [
      "Training Loss: 0.09945618\n",
      "Validation Loss: 0.06273187\n",
      "Average SDR for Stem 0: -0.01942906 dB\n",
      "Average SDR for Stem 1: -0.05755007 dB\n",
      "Average SDR for Stem 2: -0.13084359 dB\n",
      "Overall Average SDR: -0.06927424 dB\n",
      "--------------------\n",
      "Epoch 63/1000\n"
     ]
    },
    {
     "name": "stderr",
     "output_type": "stream",
     "text": [
      "                                                                                 \r"
     ]
    },
    {
     "name": "stdout",
     "output_type": "stream",
     "text": [
      "Training Loss: 0.09731714\n",
      "Validation Loss: 0.06352047\n",
      "Average SDR for Stem 0: -0.04924806 dB\n",
      "Average SDR for Stem 1: -8.31119156 dB\n",
      "Average SDR for Stem 2: -0.19238792 dB\n",
      "Overall Average SDR: -2.85094237 dB\n",
      "--------------------\n",
      "Epoch 64/1000\n"
     ]
    },
    {
     "name": "stderr",
     "output_type": "stream",
     "text": [
      "                                                                                 \r"
     ]
    },
    {
     "name": "stdout",
     "output_type": "stream",
     "text": [
      "Training Loss: 0.04513252\n",
      "Validation Loss: 0.11823561\n",
      "Average SDR for Stem 0: -0.02615735 dB\n",
      "Average SDR for Stem 1: -2.25890970 dB\n",
      "Average SDR for Stem 2: -9.56215572 dB\n",
      "Overall Average SDR: -3.94907451 dB\n",
      "--------------------\n",
      "Epoch 65/1000\n"
     ]
    },
    {
     "name": "stderr",
     "output_type": "stream",
     "text": [
      "                                                                                  \r"
     ]
    },
    {
     "name": "stdout",
     "output_type": "stream",
     "text": [
      "Training Loss: 0.08104566\n",
      "Validation Loss: 0.04151391\n",
      "Average SDR for Stem 0: -5.94084024 dB\n",
      "Average SDR for Stem 1: -0.02492397 dB\n",
      "Average SDR for Stem 2: -3.03635883 dB\n",
      "Overall Average SDR: -3.00070763 dB\n",
      "--------------------\n",
      "Epoch 66/1000\n"
     ]
    },
    {
     "name": "stderr",
     "output_type": "stream",
     "text": [
      "                                                                                 \r"
     ]
    },
    {
     "name": "stdout",
     "output_type": "stream",
     "text": [
      "Training Loss: 0.12129760\n",
      "Validation Loss: 0.11636793\n",
      "Average SDR for Stem 0: -0.01949120 dB\n",
      "Average SDR for Stem 1: -0.01504042 dB\n",
      "Average SDR for Stem 2: -0.14772302 dB\n",
      "Overall Average SDR: -0.06075155 dB\n",
      "--------------------\n",
      "Epoch 67/1000\n"
     ]
    },
    {
     "name": "stderr",
     "output_type": "stream",
     "text": [
      "                                                                                  \r"
     ]
    },
    {
     "name": "stdout",
     "output_type": "stream",
     "text": [
      "Training Loss: 0.08738582\n",
      "Validation Loss: 0.11168684\n",
      "Average SDR for Stem 0: -3.15445256 dB\n",
      "Average SDR for Stem 1: -2.99893451 dB\n",
      "Average SDR for Stem 2: -3.28808904 dB\n",
      "Overall Average SDR: -3.14715862 dB\n",
      "--------------------\n",
      "Epoch 68/1000\n"
     ]
    },
    {
     "name": "stderr",
     "output_type": "stream",
     "text": [
      "                                                                                  \r"
     ]
    },
    {
     "name": "stdout",
     "output_type": "stream",
     "text": [
      "Training Loss: 0.08510950\n",
      "Validation Loss: 0.03745204\n",
      "Average SDR for Stem 0: -0.18258466 dB\n",
      "Average SDR for Stem 1: -1.00561202 dB\n",
      "Average SDR for Stem 2: -1.29972541 dB\n",
      "Overall Average SDR: -0.82930738 dB\n",
      "--------------------\n",
      "Epoch 69/1000\n"
     ]
    },
    {
     "name": "stderr",
     "output_type": "stream",
     "text": [
      "                                                                                 \r"
     ]
    },
    {
     "name": "stdout",
     "output_type": "stream",
     "text": [
      "Training Loss: 0.09038796\n",
      "Validation Loss: 0.10495811\n",
      "Average SDR for Stem 0: -7.65096855 dB\n",
      "Average SDR for Stem 1: -0.07532790 dB\n",
      "Average SDR for Stem 2: -0.02386043 dB\n",
      "Overall Average SDR: -2.58338571 dB\n",
      "--------------------\n",
      "Epoch 70/1000\n"
     ]
    },
    {
     "name": "stderr",
     "output_type": "stream",
     "text": [
      "                                                                                  \r"
     ]
    },
    {
     "name": "stdout",
     "output_type": "stream",
     "text": [
      "Training Loss: 0.13692177\n",
      "Validation Loss: 0.12807403\n",
      "Average SDR for Stem 0: -0.15880187 dB\n",
      "Average SDR for Stem 1: -5.38156128 dB\n",
      "Average SDR for Stem 2: -0.33656749 dB\n",
      "Overall Average SDR: -1.95897686 dB\n",
      "--------------------\n",
      "Epoch 71/1000\n"
     ]
    },
    {
     "name": "stderr",
     "output_type": "stream",
     "text": [
      "                                                                                 \r"
     ]
    },
    {
     "name": "stdout",
     "output_type": "stream",
     "text": [
      "Training Loss: 0.16054546\n",
      "Validation Loss: 0.03743816\n",
      "Average SDR for Stem 0: -1.32671463 dB\n",
      "Average SDR for Stem 1: -0.06810378 dB\n",
      "Average SDR for Stem 2: -0.13319542 dB\n",
      "Overall Average SDR: -0.50933796 dB\n",
      "--------------------\n",
      "Epoch 72/1000\n"
     ]
    },
    {
     "name": "stderr",
     "output_type": "stream",
     "text": [
      "                                                                                 \r"
     ]
    },
    {
     "name": "stdout",
     "output_type": "stream",
     "text": [
      "Training Loss: 0.13619360\n",
      "Validation Loss: 0.16371361\n",
      "Average SDR for Stem 0: -0.01232864 dB\n",
      "Average SDR for Stem 1: -0.74444848 dB\n",
      "Average SDR for Stem 2: -0.08927929 dB\n",
      "Overall Average SDR: -0.28201881 dB\n",
      "--------------------\n",
      "Epoch 73/1000\n"
     ]
    },
    {
     "name": "stderr",
     "output_type": "stream",
     "text": [
      "                                                                                 \r"
     ]
    },
    {
     "name": "stdout",
     "output_type": "stream",
     "text": [
      "Training Loss: 0.11289516\n",
      "Validation Loss: 0.06695053\n",
      "Average SDR for Stem 0: -0.04703749 dB\n",
      "Average SDR for Stem 1: -5.73759508 dB\n",
      "Average SDR for Stem 2: -0.07508428 dB\n",
      "Overall Average SDR: -1.95323896 dB\n",
      "--------------------\n",
      "Epoch 74/1000\n"
     ]
    },
    {
     "name": "stderr",
     "output_type": "stream",
     "text": [
      "                                                                                 \r"
     ]
    },
    {
     "name": "stdout",
     "output_type": "stream",
     "text": [
      "Training Loss: 0.21546145\n",
      "Validation Loss: 0.08551603\n",
      "Average SDR for Stem 0: -6.22705841 dB\n",
      "Average SDR for Stem 1: -3.12641454 dB\n",
      "Average SDR for Stem 2: -6.64251709 dB\n",
      "Overall Average SDR: -5.33199644 dB\n",
      "--------------------\n",
      "Epoch 75/1000\n"
     ]
    },
    {
     "name": "stderr",
     "output_type": "stream",
     "text": [
      "                                                                                 \r"
     ]
    },
    {
     "name": "stdout",
     "output_type": "stream",
     "text": [
      "Training Loss: 0.07577712\n",
      "Validation Loss: 0.09324289\n",
      "Average SDR for Stem 0: -2.64236641 dB\n",
      "Average SDR for Stem 1: -1.04711235 dB\n",
      "Average SDR for Stem 2: -0.18937367 dB\n",
      "Overall Average SDR: -1.29295087 dB\n",
      "--------------------\n",
      "Epoch 76/1000\n"
     ]
    },
    {
     "name": "stderr",
     "output_type": "stream",
     "text": [
      "                                                                                 \r"
     ]
    },
    {
     "name": "stdout",
     "output_type": "stream",
     "text": [
      "Training Loss: 0.09471692\n",
      "Validation Loss: 0.05097444\n",
      "Average SDR for Stem 0: -3.69471931 dB\n",
      "Average SDR for Stem 1: -7.40608978 dB\n",
      "Average SDR for Stem 2: -0.12413114 dB\n",
      "Overall Average SDR: -3.74164677 dB\n",
      "--------------------\n",
      "Epoch 77/1000\n"
     ]
    },
    {
     "name": "stderr",
     "output_type": "stream",
     "text": [
      "                                                                                 \r"
     ]
    },
    {
     "name": "stdout",
     "output_type": "stream",
     "text": [
      "Training Loss: 0.10135451\n",
      "Validation Loss: 0.09311690\n",
      "Average SDR for Stem 0: -7.71860743 dB\n",
      "Average SDR for Stem 1: -0.02091483 dB\n",
      "Average SDR for Stem 2: -8.63423347 dB\n",
      "Overall Average SDR: -5.45791864 dB\n",
      "--------------------\n",
      "Epoch 78/1000\n"
     ]
    },
    {
     "name": "stderr",
     "output_type": "stream",
     "text": [
      "                                                                                 \r"
     ]
    },
    {
     "name": "stdout",
     "output_type": "stream",
     "text": [
      "Training Loss: 0.06428388\n",
      "Validation Loss: 0.09634269\n",
      "Average SDR for Stem 0: -4.59399652 dB\n",
      "Average SDR for Stem 1: -0.03098787 dB\n",
      "Average SDR for Stem 2: -3.20741272 dB\n",
      "Overall Average SDR: -2.61079907 dB\n",
      "--------------------\n",
      "Epoch 79/1000\n"
     ]
    },
    {
     "name": "stderr",
     "output_type": "stream",
     "text": [
      "                                                                                 \r"
     ]
    },
    {
     "name": "stdout",
     "output_type": "stream",
     "text": [
      "Training Loss: 0.09619799\n",
      "Validation Loss: 0.10842078\n",
      "Average SDR for Stem 0: -4.57254076 dB\n",
      "Average SDR for Stem 1: -7.41934538 dB\n",
      "Average SDR for Stem 2: -0.07571654 dB\n",
      "Overall Average SDR: -4.02253437 dB\n",
      "--------------------\n",
      "Epoch 80/1000\n"
     ]
    },
    {
     "name": "stderr",
     "output_type": "stream",
     "text": [
      "                                                                                 \r"
     ]
    },
    {
     "name": "stdout",
     "output_type": "stream",
     "text": [
      "Training Loss: 0.12059472\n",
      "Validation Loss: 0.15354137\n",
      "Average SDR for Stem 0: -0.38037527 dB\n",
      "Average SDR for Stem 1: -1.57129014 dB\n",
      "Average SDR for Stem 2: -0.58808035 dB\n",
      "Overall Average SDR: -0.84658194 dB\n",
      "--------------------\n",
      "Epoch 81/1000\n"
     ]
    },
    {
     "name": "stderr",
     "output_type": "stream",
     "text": [
      "                                                                                 \r"
     ]
    },
    {
     "name": "stdout",
     "output_type": "stream",
     "text": [
      "Training Loss: 0.08466060\n",
      "Validation Loss: 0.10531315\n",
      "Average SDR for Stem 0: -0.00496332 dB\n",
      "Average SDR for Stem 1: -0.09831661 dB\n",
      "Average SDR for Stem 2: -0.04260918 dB\n",
      "Overall Average SDR: -0.04862970 dB\n",
      "--------------------\n",
      "Epoch 82/1000\n"
     ]
    },
    {
     "name": "stderr",
     "output_type": "stream",
     "text": [
      "                                                                                 \r"
     ]
    },
    {
     "name": "stdout",
     "output_type": "stream",
     "text": [
      "Training Loss: 0.08600527\n",
      "Validation Loss: 0.06020286\n",
      "Average SDR for Stem 0: -0.02097094 dB\n",
      "Average SDR for Stem 1: -2.88753891 dB\n",
      "Average SDR for Stem 2: -4.44693995 dB\n",
      "Overall Average SDR: -2.45181656 dB\n",
      "--------------------\n",
      "Epoch 83/1000\n"
     ]
    },
    {
     "name": "stderr",
     "output_type": "stream",
     "text": [
      "                                                                                 \r"
     ]
    },
    {
     "name": "stdout",
     "output_type": "stream",
     "text": [
      "Training Loss: 0.09487030\n",
      "Validation Loss: 0.07769849\n",
      "Average SDR for Stem 0: -0.02468333 dB\n",
      "Average SDR for Stem 1: -0.01998474 dB\n",
      "Average SDR for Stem 2: -0.07413474 dB\n",
      "Overall Average SDR: -0.03960093 dB\n",
      "--------------------\n",
      "Epoch 84/1000\n"
     ]
    },
    {
     "name": "stderr",
     "output_type": "stream",
     "text": [
      "                                                                                   \r"
     ]
    },
    {
     "name": "stdout",
     "output_type": "stream",
     "text": [
      "Training Loss: 0.05070216\n",
      "Validation Loss: 0.16613914\n",
      "Average SDR for Stem 0: -0.00900457 dB\n",
      "Average SDR for Stem 1: -0.66491205 dB\n",
      "Average SDR for Stem 2: -2.43152642 dB\n",
      "Overall Average SDR: -1.03514767 dB\n",
      "--------------------\n",
      "Epoch 85/1000\n"
     ]
    },
    {
     "name": "stderr",
     "output_type": "stream",
     "text": [
      "                                                                                 \r"
     ]
    },
    {
     "name": "stdout",
     "output_type": "stream",
     "text": [
      "Training Loss: 0.13832641\n",
      "Validation Loss: 0.14786960\n",
      "Average SDR for Stem 0: -0.00806522 dB\n",
      "Average SDR for Stem 1: -0.12133007 dB\n",
      "Average SDR for Stem 2: -0.06115562 dB\n",
      "Overall Average SDR: -0.06351697 dB\n",
      "--------------------\n",
      "Epoch 86/1000\n"
     ]
    },
    {
     "name": "stderr",
     "output_type": "stream",
     "text": [
      "                                                                                 \r"
     ]
    },
    {
     "name": "stdout",
     "output_type": "stream",
     "text": [
      "Training Loss: 0.11903593\n",
      "Validation Loss: 0.04929763\n",
      "Average SDR for Stem 0: -2.34249663 dB\n",
      "Average SDR for Stem 1: -0.04669349 dB\n",
      "Average SDR for Stem 2: -0.13057992 dB\n",
      "Overall Average SDR: -0.83992338 dB\n",
      "--------------------\n",
      "Epoch 87/1000\n"
     ]
    },
    {
     "name": "stderr",
     "output_type": "stream",
     "text": [
      "                                                                                 \r"
     ]
    },
    {
     "name": "stdout",
     "output_type": "stream",
     "text": [
      "Training Loss: 0.07177894\n",
      "Validation Loss: 0.08443794\n",
      "Average SDR for Stem 0: -1.49043036 dB\n",
      "Average SDR for Stem 1: -9.87473583 dB\n",
      "Average SDR for Stem 2: -1.13998914 dB\n",
      "Overall Average SDR: -4.16838503 dB\n",
      "--------------------\n",
      "Epoch 88/1000\n"
     ]
    },
    {
     "name": "stderr",
     "output_type": "stream",
     "text": [
      "                                                                                 \r"
     ]
    },
    {
     "name": "stdout",
     "output_type": "stream",
     "text": [
      "Training Loss: 0.08378496\n",
      "Validation Loss: 0.07860560\n",
      "Average SDR for Stem 0: -0.06069523 dB\n",
      "Average SDR for Stem 1: -0.10134298 dB\n",
      "Average SDR for Stem 2: -2.28864074 dB\n",
      "Overall Average SDR: -0.81689292 dB\n",
      "--------------------\n",
      "Epoch 89/1000\n"
     ]
    },
    {
     "name": "stderr",
     "output_type": "stream",
     "text": [
      "                                                                                 \r"
     ]
    },
    {
     "name": "stdout",
     "output_type": "stream",
     "text": [
      "Training Loss: 0.09713152\n",
      "Validation Loss: 0.07294988\n",
      "Average SDR for Stem 0: -1.72618246 dB\n",
      "Average SDR for Stem 1: -0.03010131 dB\n",
      "Average SDR for Stem 2: -1.06539738 dB\n",
      "Overall Average SDR: -0.94056034 dB\n",
      "--------------------\n",
      "Epoch 90/1000\n"
     ]
    },
    {
     "name": "stderr",
     "output_type": "stream",
     "text": [
      "                                                                                 \r"
     ]
    },
    {
     "name": "stdout",
     "output_type": "stream",
     "text": [
      "Training Loss: 0.09073644\n",
      "Validation Loss: 0.18376622\n",
      "Average SDR for Stem 0: -0.00854880 dB\n",
      "Average SDR for Stem 1: -0.04930643 dB\n",
      "Average SDR for Stem 2: -0.05607647 dB\n",
      "Overall Average SDR: -0.03797723 dB\n",
      "--------------------\n",
      "Epoch 91/1000\n"
     ]
    },
    {
     "name": "stderr",
     "output_type": "stream",
     "text": [
      "                                                                                 \r"
     ]
    },
    {
     "name": "stdout",
     "output_type": "stream",
     "text": [
      "Training Loss: 0.10396606\n",
      "Validation Loss: 0.10070297\n",
      "Average SDR for Stem 0: -3.19526696 dB\n",
      "Average SDR for Stem 1: -0.02874539 dB\n",
      "Average SDR for Stem 2: -3.57093620 dB\n",
      "Overall Average SDR: -2.26498294 dB\n",
      "--------------------\n",
      "Epoch 92/1000\n"
     ]
    },
    {
     "name": "stderr",
     "output_type": "stream",
     "text": [
      "                                                                                 \r"
     ]
    },
    {
     "name": "stdout",
     "output_type": "stream",
     "text": [
      "Training Loss: 0.13284591\n",
      "Validation Loss: 0.09035199\n",
      "Average SDR for Stem 0: -0.01602546 dB\n",
      "Average SDR for Stem 1: -4.99258375 dB\n",
      "Average SDR for Stem 2: -0.11530430 dB\n",
      "Overall Average SDR: -1.70797122 dB\n",
      "--------------------\n",
      "Epoch 93/1000\n"
     ]
    },
    {
     "name": "stderr",
     "output_type": "stream",
     "text": [
      "                                                                                 \r"
     ]
    },
    {
     "name": "stdout",
     "output_type": "stream",
     "text": [
      "Training Loss: 0.13290512\n",
      "Validation Loss: 0.09433339\n",
      "Average SDR for Stem 0: -3.18169999 dB\n",
      "Average SDR for Stem 1: -0.05743626 dB\n",
      "Average SDR for Stem 2: -6.11055994 dB\n",
      "Overall Average SDR: -3.11656547 dB\n",
      "--------------------\n",
      "Epoch 94/1000\n"
     ]
    },
    {
     "name": "stderr",
     "output_type": "stream",
     "text": [
      "                                                                                 \r"
     ]
    },
    {
     "name": "stdout",
     "output_type": "stream",
     "text": [
      "Training Loss: 0.06790561\n",
      "Validation Loss: 0.10399850\n",
      "Average SDR for Stem 0: -3.45222449 dB\n",
      "Average SDR for Stem 1: -0.01829733 dB\n",
      "Average SDR for Stem 2: -3.76929641 dB\n",
      "Overall Average SDR: -2.41327286 dB\n",
      "--------------------\n",
      "Epoch 95/1000\n"
     ]
    },
    {
     "name": "stderr",
     "output_type": "stream",
     "text": [
      "                                                                                 \r"
     ]
    },
    {
     "name": "stdout",
     "output_type": "stream",
     "text": [
      "Training Loss: 0.19288279\n",
      "Validation Loss: 0.05842631\n",
      "Average SDR for Stem 0: -0.55469137 dB\n",
      "Average SDR for Stem 1: -1.33146679 dB\n",
      "Average SDR for Stem 2: 1.80842650 dB\n",
      "Overall Average SDR: -0.02591058 dB\n",
      "--------------------\n",
      "Epoch 96/1000\n"
     ]
    },
    {
     "name": "stderr",
     "output_type": "stream",
     "text": [
      "                                                                                 \r"
     ]
    },
    {
     "name": "stdout",
     "output_type": "stream",
     "text": [
      "Training Loss: 0.10632320\n",
      "Validation Loss: 0.05499427\n",
      "Average SDR for Stem 0: -4.70038462 dB\n",
      "Average SDR for Stem 1: -9.90388203 dB\n",
      "Average SDR for Stem 2: -0.60784358 dB\n",
      "Overall Average SDR: -5.07070351 dB\n",
      "--------------------\n",
      "Epoch 97/1000\n"
     ]
    },
    {
     "name": "stderr",
     "output_type": "stream",
     "text": [
      "                                                                                 \r"
     ]
    },
    {
     "name": "stdout",
     "output_type": "stream",
     "text": [
      "Training Loss: 0.07239377\n",
      "Validation Loss: 0.15058232\n",
      "Average SDR for Stem 0: -0.01232373 dB\n",
      "Average SDR for Stem 1: -0.07060608 dB\n",
      "Average SDR for Stem 2: 0.00658116 dB\n",
      "Overall Average SDR: -0.02544955 dB\n",
      "--------------------\n",
      "Epoch 98/1000\n"
     ]
    },
    {
     "name": "stderr",
     "output_type": "stream",
     "text": [
      "                                                                                  \r"
     ]
    },
    {
     "name": "stdout",
     "output_type": "stream",
     "text": [
      "Training Loss: 0.08638972\n",
      "Validation Loss: 0.06985861\n",
      "Average SDR for Stem 0: -0.09022648 dB\n",
      "Average SDR for Stem 1: -4.17612600 dB\n",
      "Average SDR for Stem 2: -0.22677265 dB\n",
      "Overall Average SDR: -1.49770844 dB\n",
      "--------------------\n",
      "Epoch 99/1000\n"
     ]
    },
    {
     "name": "stderr",
     "output_type": "stream",
     "text": [
      "                                                                                 \r"
     ]
    },
    {
     "name": "stdout",
     "output_type": "stream",
     "text": [
      "Training Loss: 0.11551069\n",
      "Validation Loss: 0.16308386\n",
      "Average SDR for Stem 0: -0.01474166 dB\n",
      "Average SDR for Stem 1: -6.06607580 dB\n",
      "Average SDR for Stem 2: -6.35038519 dB\n",
      "Overall Average SDR: -4.14373446 dB\n",
      "--------------------\n",
      "Epoch 100/1000\n"
     ]
    },
    {
     "name": "stderr",
     "output_type": "stream",
     "text": [
      "                                                                                 \r"
     ]
    },
    {
     "name": "stdout",
     "output_type": "stream",
     "text": [
      "Training Loss: 0.08870465\n",
      "Validation Loss: 0.11224879\n",
      "Average SDR for Stem 0: -0.00614679 dB\n",
      "Average SDR for Stem 1: -0.07718915 dB\n",
      "Average SDR for Stem 2: -0.11857212 dB\n",
      "Overall Average SDR: -0.06730269 dB\n",
      "--------------------\n",
      "Epoch 101/1000\n"
     ]
    },
    {
     "name": "stderr",
     "output_type": "stream",
     "text": [
      "                                                                                 \r"
     ]
    },
    {
     "name": "stdout",
     "output_type": "stream",
     "text": [
      "Training Loss: 0.15722594\n",
      "Validation Loss: 0.20108167\n",
      "Average SDR for Stem 0: -0.00881800 dB\n",
      "Average SDR for Stem 1: -3.09069085 dB\n",
      "Average SDR for Stem 2: -4.36045313 dB\n",
      "Overall Average SDR: -2.48665404 dB\n",
      "--------------------\n",
      "Epoch 102/1000\n"
     ]
    },
    {
     "name": "stderr",
     "output_type": "stream",
     "text": [
      "                                                                                 \r"
     ]
    },
    {
     "name": "stdout",
     "output_type": "stream",
     "text": [
      "Training Loss: 0.07771925\n",
      "Validation Loss: 0.05951235\n",
      "Average SDR for Stem 0: -0.04181572 dB\n",
      "Average SDR for Stem 1: -2.68416905 dB\n",
      "Average SDR for Stem 2: -2.92912555 dB\n",
      "Overall Average SDR: -1.88503683 dB\n",
      "--------------------\n",
      "Epoch 103/1000\n"
     ]
    },
    {
     "name": "stderr",
     "output_type": "stream",
     "text": [
      "                                                                                  \r"
     ]
    },
    {
     "name": "stdout",
     "output_type": "stream",
     "text": [
      "Training Loss: 0.07531072\n",
      "Validation Loss: 0.13304616\n",
      "Average SDR for Stem 0: -0.01799516 dB\n",
      "Average SDR for Stem 1: -0.01706096 dB\n",
      "Average SDR for Stem 2: -0.07075697 dB\n",
      "Overall Average SDR: -0.03527103 dB\n",
      "--------------------\n",
      "Epoch 104/1000\n"
     ]
    },
    {
     "name": "stderr",
     "output_type": "stream",
     "text": [
      "                                                                                  \r"
     ]
    },
    {
     "name": "stdout",
     "output_type": "stream",
     "text": [
      "Training Loss: 0.06352181\n",
      "Validation Loss: 0.13013221\n",
      "Average SDR for Stem 0: -0.20272046 dB\n",
      "Average SDR for Stem 1: -0.04857634 dB\n",
      "Average SDR for Stem 2: -0.04743898 dB\n",
      "Overall Average SDR: -0.09957860 dB\n",
      "--------------------\n",
      "Epoch 105/1000\n"
     ]
    },
    {
     "name": "stderr",
     "output_type": "stream",
     "text": [
      "                                                                                   \r"
     ]
    },
    {
     "name": "stdout",
     "output_type": "stream",
     "text": [
      "Training Loss: 0.06672891\n",
      "Validation Loss: 0.04995448\n",
      "Average SDR for Stem 0: -2.67434096 dB\n",
      "Average SDR for Stem 1: -0.18181889 dB\n",
      "Average SDR for Stem 2: -3.81456065 dB\n",
      "Overall Average SDR: -2.22357345 dB\n",
      "--------------------\n",
      "Epoch 106/1000\n"
     ]
    },
    {
     "name": "stderr",
     "output_type": "stream",
     "text": [
      "                                                                                   \r"
     ]
    },
    {
     "name": "stdout",
     "output_type": "stream",
     "text": [
      "Training Loss: 0.10863666\n",
      "Validation Loss: 0.10441062\n",
      "Average SDR for Stem 0: -0.01226440 dB\n",
      "Average SDR for Stem 1: -6.04040956 dB\n",
      "Average SDR for Stem 2: -0.06808510 dB\n",
      "Overall Average SDR: -2.04025292 dB\n",
      "--------------------\n",
      "Epoch 107/1000\n"
     ]
    },
    {
     "name": "stderr",
     "output_type": "stream",
     "text": [
      "                                                                                 \r"
     ]
    },
    {
     "name": "stdout",
     "output_type": "stream",
     "text": [
      "Training Loss: 0.10704070\n",
      "Validation Loss: 0.08570296\n",
      "Average SDR for Stem 0: -0.81407994 dB\n",
      "Average SDR for Stem 1: -1.81509197 dB\n",
      "Average SDR for Stem 2: -1.00198531 dB\n",
      "Overall Average SDR: -1.21038568 dB\n",
      "--------------------\n",
      "Epoch 108/1000\n"
     ]
    },
    {
     "name": "stderr",
     "output_type": "stream",
     "text": [
      "                                                                                 \r"
     ]
    },
    {
     "name": "stdout",
     "output_type": "stream",
     "text": [
      "Training Loss: 0.07809052\n",
      "Validation Loss: 0.03382839\n",
      "Average SDR for Stem 0: -5.77739859 dB\n",
      "Average SDR for Stem 1: -3.89118481 dB\n",
      "Average SDR for Stem 2: -0.41484883 dB\n",
      "Overall Average SDR: -3.36114407 dB\n",
      "--------------------\n",
      "Epoch 109/1000\n"
     ]
    },
    {
     "name": "stderr",
     "output_type": "stream",
     "text": [
      "                                                                                 \r"
     ]
    },
    {
     "name": "stdout",
     "output_type": "stream",
     "text": [
      "Training Loss: 0.07765835\n",
      "Validation Loss: 0.03584682\n",
      "Average SDR for Stem 0: -7.47432089 dB\n",
      "Average SDR for Stem 1: -0.13630553 dB\n",
      "Average SDR for Stem 2: -0.47086608 dB\n",
      "Overall Average SDR: -2.69383073 dB\n",
      "--------------------\n",
      "Epoch 110/1000\n"
     ]
    },
    {
     "name": "stderr",
     "output_type": "stream",
     "text": [
      "                                                                                 \r"
     ]
    },
    {
     "name": "stdout",
     "output_type": "stream",
     "text": [
      "Training Loss: 0.13804986\n",
      "Validation Loss: 0.07180961\n",
      "Average SDR for Stem 0: -6.20429373 dB\n",
      "Average SDR for Stem 1: -0.09063184 dB\n",
      "Average SDR for Stem 2: -4.64838886 dB\n",
      "Overall Average SDR: -3.64777160 dB\n",
      "--------------------\n",
      "Epoch 111/1000\n"
     ]
    },
    {
     "name": "stderr",
     "output_type": "stream",
     "text": [
      "                                                                                  \r"
     ]
    },
    {
     "name": "stdout",
     "output_type": "stream",
     "text": [
      "Training Loss: 0.09315149\n",
      "Validation Loss: 0.08423226\n",
      "Average SDR for Stem 0: -0.02073240 dB\n",
      "Average SDR for Stem 1: -3.20476270 dB\n",
      "Average SDR for Stem 2: -6.09329367 dB\n",
      "Overall Average SDR: -3.10626292 dB\n",
      "--------------------\n",
      "Epoch 112/1000\n"
     ]
    },
    {
     "name": "stderr",
     "output_type": "stream",
     "text": [
      "                                                                                 \r"
     ]
    },
    {
     "name": "stdout",
     "output_type": "stream",
     "text": [
      "Training Loss: 0.16637166\n",
      "Validation Loss: 0.04175942\n",
      "Average SDR for Stem 0: -0.80094153 dB\n",
      "Average SDR for Stem 1: -0.10712352 dB\n",
      "Average SDR for Stem 2: -0.03837859 dB\n",
      "Overall Average SDR: -0.31548122 dB\n",
      "--------------------\n",
      "Epoch 113/1000\n"
     ]
    },
    {
     "name": "stderr",
     "output_type": "stream",
     "text": [
      "                                                                                 \r"
     ]
    },
    {
     "name": "stdout",
     "output_type": "stream",
     "text": [
      "Training Loss: 0.07254661\n",
      "Validation Loss: 0.10011350\n",
      "Average SDR for Stem 0: -0.01292489 dB\n",
      "Average SDR for Stem 1: -3.67339492 dB\n",
      "Average SDR for Stem 2: -3.78711605 dB\n",
      "Overall Average SDR: -2.49114537 dB\n",
      "--------------------\n",
      "Epoch 114/1000\n"
     ]
    },
    {
     "name": "stderr",
     "output_type": "stream",
     "text": [
      "                                                                                 \r"
     ]
    },
    {
     "name": "stdout",
     "output_type": "stream",
     "text": [
      "Training Loss: 0.11153442\n",
      "Validation Loss: 0.05593156\n",
      "Average SDR for Stem 0: -6.42539835 dB\n",
      "Average SDR for Stem 1: -0.09330851 dB\n",
      "Average SDR for Stem 2: -1.46831834 dB\n",
      "Overall Average SDR: -2.66234183 dB\n",
      "--------------------\n",
      "Epoch 115/1000\n"
     ]
    },
    {
     "name": "stderr",
     "output_type": "stream",
     "text": [
      "                                                                                 \r"
     ]
    },
    {
     "name": "stdout",
     "output_type": "stream",
     "text": [
      "Training Loss: 0.22019770\n",
      "Validation Loss: 0.21805651\n",
      "Average SDR for Stem 0: -0.00756291 dB\n",
      "Average SDR for Stem 1: -5.02233171 dB\n",
      "Average SDR for Stem 2: -0.13132598 dB\n",
      "Overall Average SDR: -1.72040701 dB\n",
      "--------------------\n",
      "Epoch 116/1000\n"
     ]
    },
    {
     "name": "stderr",
     "output_type": "stream",
     "text": [
      "                                                                                 \r"
     ]
    },
    {
     "name": "stdout",
     "output_type": "stream",
     "text": [
      "Training Loss: 0.13943739\n",
      "Validation Loss: 0.13664690\n",
      "Average SDR for Stem 0: -5.49049997 dB\n",
      "Average SDR for Stem 1: -0.37301528 dB\n",
      "Average SDR for Stem 2: -4.57891226 dB\n",
      "Overall Average SDR: -3.48080921 dB\n",
      "--------------------\n",
      "Epoch 117/1000\n"
     ]
    },
    {
     "name": "stderr",
     "output_type": "stream",
     "text": [
      "                                                                                  \r"
     ]
    },
    {
     "name": "stdout",
     "output_type": "stream",
     "text": [
      "Training Loss: 0.12827734\n",
      "Validation Loss: 0.09120393\n",
      "Average SDR for Stem 0: -0.02685251 dB\n",
      "Average SDR for Stem 1: -5.17951250 dB\n",
      "Average SDR for Stem 2: -10.16713428 dB\n",
      "Overall Average SDR: -5.12449980 dB\n",
      "--------------------\n",
      "Epoch 118/1000\n"
     ]
    },
    {
     "name": "stderr",
     "output_type": "stream",
     "text": [
      "                                                                                 \r"
     ]
    },
    {
     "name": "stdout",
     "output_type": "stream",
     "text": [
      "Training Loss: 0.09225821\n",
      "Validation Loss: 0.11054157\n",
      "Average SDR for Stem 0: -0.04397089 dB\n",
      "Average SDR for Stem 1: -3.74111056 dB\n",
      "Average SDR for Stem 2: -3.73993850 dB\n",
      "Overall Average SDR: -2.50833988 dB\n",
      "--------------------\n",
      "Epoch 119/1000\n"
     ]
    },
    {
     "name": "stderr",
     "output_type": "stream",
     "text": [
      "                                                                                 \r"
     ]
    },
    {
     "name": "stdout",
     "output_type": "stream",
     "text": [
      "Training Loss: 0.12738859\n",
      "Validation Loss: 0.11687285\n",
      "Average SDR for Stem 0: -0.01584745 dB\n",
      "Average SDR for Stem 1: -0.01993521 dB\n",
      "Average SDR for Stem 2: -0.11849193 dB\n",
      "Overall Average SDR: -0.05142486 dB\n",
      "--------------------\n",
      "Epoch 120/1000\n"
     ]
    },
    {
     "name": "stderr",
     "output_type": "stream",
     "text": [
      "                                                                                  \r"
     ]
    },
    {
     "name": "stdout",
     "output_type": "stream",
     "text": [
      "Training Loss: 0.05957719\n",
      "Validation Loss: 0.33959314\n",
      "Average SDR for Stem 0: -0.00470086 dB\n",
      "Average SDR for Stem 1: -4.66770649 dB\n",
      "Average SDR for Stem 2: -0.85033065 dB\n",
      "Overall Average SDR: -1.84091270 dB\n",
      "--------------------\n",
      "Epoch 121/1000\n"
     ]
    },
    {
     "name": "stderr",
     "output_type": "stream",
     "text": [
      "                                                                                 \r"
     ]
    },
    {
     "name": "stdout",
     "output_type": "stream",
     "text": [
      "Training Loss: 0.10440328\n",
      "Validation Loss: 0.09447303\n",
      "Average SDR for Stem 0: -0.02031860 dB\n",
      "Average SDR for Stem 1: -0.06353838 dB\n",
      "Average SDR for Stem 2: -0.10432056 dB\n",
      "Overall Average SDR: -0.06272585 dB\n",
      "--------------------\n",
      "Epoch 122/1000\n"
     ]
    },
    {
     "name": "stderr",
     "output_type": "stream",
     "text": [
      "                                                                                 \r"
     ]
    },
    {
     "name": "stdout",
     "output_type": "stream",
     "text": [
      "Training Loss: 0.07434155\n",
      "Validation Loss: 0.09257981\n",
      "Average SDR for Stem 0: -2.33320069 dB\n",
      "Average SDR for Stem 1: -0.09796139 dB\n",
      "Average SDR for Stem 2: -2.23092914 dB\n",
      "Overall Average SDR: -1.55403042 dB\n",
      "--------------------\n",
      "Epoch 123/1000\n"
     ]
    },
    {
     "name": "stderr",
     "output_type": "stream",
     "text": [
      "                                                                                 \r"
     ]
    },
    {
     "name": "stdout",
     "output_type": "stream",
     "text": [
      "Training Loss: 0.16385723\n",
      "Validation Loss: 0.11715384\n",
      "Average SDR for Stem 0: -1.84063923 dB\n",
      "Average SDR for Stem 1: -2.20880294 dB\n",
      "Average SDR for Stem 2: -2.42389846 dB\n",
      "Overall Average SDR: -2.15778041 dB\n",
      "--------------------\n",
      "Epoch 124/1000\n"
     ]
    },
    {
     "name": "stderr",
     "output_type": "stream",
     "text": [
      "                                                                                 \r"
     ]
    },
    {
     "name": "stdout",
     "output_type": "stream",
     "text": [
      "Training Loss: 0.09647835\n",
      "Validation Loss: 0.17149336\n",
      "Average SDR for Stem 0: -0.01878217 dB\n",
      "Average SDR for Stem 1: -6.61800623 dB\n",
      "Average SDR for Stem 2: -0.12609966 dB\n",
      "Overall Average SDR: -2.25429606 dB\n",
      "--------------------\n",
      "Epoch 125/1000\n"
     ]
    },
    {
     "name": "stderr",
     "output_type": "stream",
     "text": [
      "                                                                                   \r"
     ]
    },
    {
     "name": "stdout",
     "output_type": "stream",
     "text": [
      "Training Loss: 0.10488675\n",
      "Validation Loss: 0.07072214\n",
      "Average SDR for Stem 0: -0.02396331 dB\n",
      "Average SDR for Stem 1: -8.59977818 dB\n",
      "Average SDR for Stem 2: -0.40700662 dB\n",
      "Overall Average SDR: -3.01024914 dB\n",
      "--------------------\n",
      "Epoch 126/1000\n"
     ]
    },
    {
     "name": "stderr",
     "output_type": "stream",
     "text": [
      "                                                                                 \r"
     ]
    },
    {
     "name": "stdout",
     "output_type": "stream",
     "text": [
      "Training Loss: 0.13671020\n",
      "Validation Loss: 0.04155161\n",
      "Average SDR for Stem 0: -0.88905096 dB\n",
      "Average SDR for Stem 1: -11.24996567 dB\n",
      "Average SDR for Stem 2: -0.19770420 dB\n",
      "Overall Average SDR: -4.11224031 dB\n",
      "--------------------\n",
      "Epoch 127/1000\n"
     ]
    },
    {
     "name": "stderr",
     "output_type": "stream",
     "text": [
      "                                                                                   \r"
     ]
    },
    {
     "name": "stdout",
     "output_type": "stream",
     "text": [
      "Training Loss: 0.09591623\n",
      "Validation Loss: 0.08661905\n",
      "Average SDR for Stem 0: -1.98414755 dB\n",
      "Average SDR for Stem 1: -0.28802326 dB\n",
      "Average SDR for Stem 2: -5.51182890 dB\n",
      "Overall Average SDR: -2.59466648 dB\n",
      "--------------------\n",
      "Epoch 128/1000\n"
     ]
    },
    {
     "name": "stderr",
     "output_type": "stream",
     "text": [
      "                                                                                  \r"
     ]
    },
    {
     "name": "stdout",
     "output_type": "stream",
     "text": [
      "Training Loss: 0.13512895\n",
      "Validation Loss: 0.09950818\n",
      "Average SDR for Stem 0: -2.93139839 dB\n",
      "Average SDR for Stem 1: -2.15579152 dB\n",
      "Average SDR for Stem 2: -0.44155982 dB\n",
      "Overall Average SDR: -1.84291649 dB\n",
      "--------------------\n",
      "Epoch 129/1000\n"
     ]
    },
    {
     "name": "stderr",
     "output_type": "stream",
     "text": [
      "                                                                                 \r"
     ]
    },
    {
     "name": "stdout",
     "output_type": "stream",
     "text": [
      "Training Loss: 0.10172432\n",
      "Validation Loss: 0.06011084\n",
      "Average SDR for Stem 0: -0.08339397 dB\n",
      "Average SDR for Stem 1: -5.94122553 dB\n",
      "Average SDR for Stem 2: -0.04613885 dB\n",
      "Overall Average SDR: -2.02358603 dB\n",
      "--------------------\n",
      "Epoch 130/1000\n"
     ]
    },
    {
     "name": "stderr",
     "output_type": "stream",
     "text": [
      "                                                                                 \r"
     ]
    },
    {
     "name": "stdout",
     "output_type": "stream",
     "text": [
      "Training Loss: 0.14675442\n",
      "Validation Loss: 0.12619255\n",
      "Average SDR for Stem 0: -0.10226642 dB\n",
      "Average SDR for Stem 1: -0.24709785 dB\n",
      "Average SDR for Stem 2: -0.03832094 dB\n",
      "Overall Average SDR: -0.12922840 dB\n",
      "--------------------\n",
      "Epoch 131/1000\n"
     ]
    },
    {
     "name": "stderr",
     "output_type": "stream",
     "text": [
      "                                                                                 \r"
     ]
    },
    {
     "name": "stdout",
     "output_type": "stream",
     "text": [
      "Training Loss: 0.10698471\n",
      "Validation Loss: 0.09452544\n",
      "Average SDR for Stem 0: -4.73367977 dB\n",
      "Average SDR for Stem 1: -0.03190489 dB\n",
      "Average SDR for Stem 2: -5.73840570 dB\n",
      "Overall Average SDR: -3.50133014 dB\n",
      "--------------------\n",
      "Epoch 132/1000\n"
     ]
    },
    {
     "name": "stderr",
     "output_type": "stream",
     "text": [
      "                                                                                 \r"
     ]
    },
    {
     "name": "stdout",
     "output_type": "stream",
     "text": [
      "Training Loss: 0.10623825\n",
      "Validation Loss: 0.06035325\n",
      "Average SDR for Stem 0: -0.98316783 dB\n",
      "Average SDR for Stem 1: -3.12305450 dB\n",
      "Average SDR for Stem 2: -2.53985620 dB\n",
      "Overall Average SDR: -2.21535945 dB\n",
      "--------------------\n",
      "Epoch 133/1000\n"
     ]
    },
    {
     "name": "stderr",
     "output_type": "stream",
     "text": [
      "                                                                                 \r"
     ]
    },
    {
     "name": "stdout",
     "output_type": "stream",
     "text": [
      "Training Loss: 0.09755623\n",
      "Validation Loss: 0.06240125\n",
      "Average SDR for Stem 0: -3.32914615 dB\n",
      "Average SDR for Stem 1: -0.39780927 dB\n",
      "Average SDR for Stem 2: -0.10228262 dB\n",
      "Overall Average SDR: -1.27641261 dB\n",
      "--------------------\n",
      "Epoch 134/1000\n"
     ]
    },
    {
     "name": "stderr",
     "output_type": "stream",
     "text": [
      "                                                                                 \r"
     ]
    },
    {
     "name": "stdout",
     "output_type": "stream",
     "text": [
      "Training Loss: 0.14596830\n",
      "Validation Loss: 0.20502906\n",
      "Average SDR for Stem 0: -0.00810165 dB\n",
      "Average SDR for Stem 1: -9.74182510 dB\n",
      "Average SDR for Stem 2: -2.02080703 dB\n",
      "Overall Average SDR: -3.92357802 dB\n",
      "--------------------\n",
      "Epoch 135/1000\n"
     ]
    },
    {
     "name": "stderr",
     "output_type": "stream",
     "text": [
      "                                                                                 \r"
     ]
    },
    {
     "name": "stdout",
     "output_type": "stream",
     "text": [
      "Training Loss: 0.09832282\n",
      "Validation Loss: 0.03688466\n",
      "Average SDR for Stem 0: -0.03778658 dB\n",
      "Average SDR for Stem 1: -0.09571958 dB\n",
      "Average SDR for Stem 2: -3.64022708 dB\n",
      "Overall Average SDR: -1.25791109 dB\n",
      "--------------------\n",
      "Epoch 136/1000\n"
     ]
    },
    {
     "name": "stderr",
     "output_type": "stream",
     "text": [
      "                                                                                 \r"
     ]
    },
    {
     "name": "stdout",
     "output_type": "stream",
     "text": [
      "Training Loss: 0.08172789\n",
      "Validation Loss: 0.13193536\n",
      "Average SDR for Stem 0: -0.34803858 dB\n",
      "Average SDR for Stem 1: -2.64331079 dB\n",
      "Average SDR for Stem 2: -0.74022800 dB\n",
      "Overall Average SDR: -1.24385917 dB\n",
      "--------------------\n",
      "Epoch 137/1000\n"
     ]
    },
    {
     "name": "stderr",
     "output_type": "stream",
     "text": [
      "                                                                                 \r"
     ]
    },
    {
     "name": "stdout",
     "output_type": "stream",
     "text": [
      "Training Loss: 0.12379488\n",
      "Validation Loss: 0.09237262\n",
      "Average SDR for Stem 0: -7.90803337 dB\n",
      "Average SDR for Stem 1: -0.09543157 dB\n",
      "Average SDR for Stem 2: -3.77013993 dB\n",
      "Overall Average SDR: -3.92453480 dB\n",
      "--------------------\n",
      "Epoch 138/1000\n"
     ]
    },
    {
     "name": "stderr",
     "output_type": "stream",
     "text": [
      "                                                                                 \r"
     ]
    },
    {
     "name": "stdout",
     "output_type": "stream",
     "text": [
      "Training Loss: 0.15646157\n",
      "Validation Loss: 0.15690152\n",
      "Average SDR for Stem 0: -0.01159707 dB\n",
      "Average SDR for Stem 1: -0.02226528 dB\n",
      "Average SDR for Stem 2: -0.22926795 dB\n",
      "Overall Average SDR: -0.08771010 dB\n",
      "--------------------\n",
      "Epoch 139/1000\n"
     ]
    },
    {
     "name": "stderr",
     "output_type": "stream",
     "text": [
      "                                                                                 \r"
     ]
    },
    {
     "name": "stdout",
     "output_type": "stream",
     "text": [
      "Training Loss: 0.10035707\n",
      "Validation Loss: 0.06038993\n",
      "Average SDR for Stem 0: -0.05330417 dB\n",
      "Average SDR for Stem 1: -0.28187397 dB\n",
      "Average SDR for Stem 2: -0.53561693 dB\n",
      "Overall Average SDR: -0.29026502 dB\n",
      "--------------------\n",
      "Epoch 140/1000\n"
     ]
    },
    {
     "name": "stderr",
     "output_type": "stream",
     "text": [
      "                                                                                 \r"
     ]
    },
    {
     "name": "stdout",
     "output_type": "stream",
     "text": [
      "Training Loss: 0.10569189\n",
      "Validation Loss: 0.19149859\n",
      "Average SDR for Stem 0: -0.01273840 dB\n",
      "Average SDR for Stem 1: -0.03230854 dB\n",
      "Average SDR for Stem 2: -0.34840822 dB\n",
      "Overall Average SDR: -0.13115172 dB\n",
      "--------------------\n",
      "Epoch 141/1000\n"
     ]
    },
    {
     "name": "stderr",
     "output_type": "stream",
     "text": [
      "                                                                                 \r"
     ]
    },
    {
     "name": "stdout",
     "output_type": "stream",
     "text": [
      "Training Loss: 0.07217665\n",
      "Validation Loss: 0.03119345\n",
      "Average SDR for Stem 0: -12.63521957 dB\n",
      "Average SDR for Stem 1: -3.93101764 dB\n",
      "Average SDR for Stem 2: -1.31302881 dB\n",
      "Overall Average SDR: -5.95975494 dB\n",
      "--------------------\n",
      "Epoch 142/1000\n"
     ]
    },
    {
     "name": "stderr",
     "output_type": "stream",
     "text": [
      "                                                                                 \r"
     ]
    },
    {
     "name": "stdout",
     "output_type": "stream",
     "text": [
      "Training Loss: 0.10683097\n",
      "Validation Loss: 0.15131947\n",
      "Average SDR for Stem 0: 0.02879087 dB\n",
      "Average SDR for Stem 1: -0.06101504 dB\n",
      "Average SDR for Stem 2: -1.09431207 dB\n",
      "Overall Average SDR: -0.37551209 dB\n",
      "--------------------\n",
      "Epoch 143/1000\n"
     ]
    },
    {
     "name": "stderr",
     "output_type": "stream",
     "text": [
      "                                                                                 \r"
     ]
    },
    {
     "name": "stdout",
     "output_type": "stream",
     "text": [
      "Training Loss: 0.10842494\n",
      "Validation Loss: 0.10140683\n",
      "Average SDR for Stem 0: -0.02712788 dB\n",
      "Average SDR for Stem 1: -0.14461999 dB\n",
      "Average SDR for Stem 2: -0.06855809 dB\n",
      "Overall Average SDR: -0.08010199 dB\n",
      "--------------------\n",
      "Epoch 144/1000\n"
     ]
    },
    {
     "name": "stderr",
     "output_type": "stream",
     "text": [
      "                                                                                 \r"
     ]
    },
    {
     "name": "stdout",
     "output_type": "stream",
     "text": [
      "Training Loss: 0.14670367\n",
      "Validation Loss: 0.07685103\n",
      "Average SDR for Stem 0: -11.54749298 dB\n",
      "Average SDR for Stem 1: -4.81250477 dB\n",
      "Average SDR for Stem 2: -0.08864188 dB\n",
      "Overall Average SDR: -5.48287964 dB\n",
      "--------------------\n",
      "Epoch 145/1000\n"
     ]
    },
    {
     "name": "stderr",
     "output_type": "stream",
     "text": [
      "                                                                                 \r"
     ]
    },
    {
     "name": "stdout",
     "output_type": "stream",
     "text": [
      "Training Loss: 0.12092168\n",
      "Validation Loss: 0.05294711\n",
      "Average SDR for Stem 0: -0.03767143 dB\n",
      "Average SDR for Stem 1: -5.10937309 dB\n",
      "Average SDR for Stem 2: -0.43299815 dB\n",
      "Overall Average SDR: -1.86001432 dB\n",
      "--------------------\n",
      "Epoch 146/1000\n"
     ]
    },
    {
     "name": "stderr",
     "output_type": "stream",
     "text": [
      "                                                                                 \r"
     ]
    },
    {
     "name": "stdout",
     "output_type": "stream",
     "text": [
      "Training Loss: 0.13129652\n",
      "Validation Loss: 0.06339941\n",
      "Average SDR for Stem 0: -0.05235890 dB\n",
      "Average SDR for Stem 1: -4.32247686 dB\n",
      "Average SDR for Stem 2: -2.18617702 dB\n",
      "Overall Average SDR: -2.18700433 dB\n",
      "--------------------\n",
      "Epoch 147/1000\n"
     ]
    },
    {
     "name": "stderr",
     "output_type": "stream",
     "text": [
      "                                                                                   \r"
     ]
    },
    {
     "name": "stdout",
     "output_type": "stream",
     "text": [
      "Training Loss: 0.11708665\n",
      "Validation Loss: 0.04948924\n",
      "Average SDR for Stem 0: -2.69353938 dB\n",
      "Average SDR for Stem 1: -3.93159938 dB\n",
      "Average SDR for Stem 2: -2.48169589 dB\n",
      "Overall Average SDR: -3.03561139 dB\n",
      "--------------------\n",
      "Epoch 148/1000\n"
     ]
    },
    {
     "name": "stderr",
     "output_type": "stream",
     "text": [
      "                                                                                 \r"
     ]
    },
    {
     "name": "stdout",
     "output_type": "stream",
     "text": [
      "Training Loss: 0.06280700\n",
      "Validation Loss: 0.12323471\n",
      "Average SDR for Stem 0: -5.90242243 dB\n",
      "Average SDR for Stem 1: -3.08920836 dB\n",
      "Average SDR for Stem 2: -1.95863020 dB\n",
      "Overall Average SDR: -3.65008712 dB\n",
      "--------------------\n",
      "Epoch 149/1000\n"
     ]
    },
    {
     "name": "stderr",
     "output_type": "stream",
     "text": [
      "                                                                                   \r"
     ]
    },
    {
     "name": "stdout",
     "output_type": "stream",
     "text": [
      "Training Loss: 0.09086696\n",
      "Validation Loss: 0.21452253\n",
      "Average SDR for Stem 0: -2.97963262 dB\n",
      "Average SDR for Stem 1: -2.75845075 dB\n",
      "Average SDR for Stem 2: -0.08375717 dB\n",
      "Overall Average SDR: -1.94061363 dB\n",
      "--------------------\n",
      "Epoch 150/1000\n"
     ]
    },
    {
     "name": "stderr",
     "output_type": "stream",
     "text": [
      "                                                                                   \r"
     ]
    },
    {
     "name": "stdout",
     "output_type": "stream",
     "text": [
      "Training Loss: 0.09256279\n",
      "Validation Loss: 0.07104707\n",
      "Average SDR for Stem 0: -0.61404395 dB\n",
      "Average SDR for Stem 1: -5.90742064 dB\n",
      "Average SDR for Stem 2: -1.57850075 dB\n",
      "Overall Average SDR: -2.69998837 dB\n",
      "--------------------\n",
      "Epoch 151/1000\n"
     ]
    },
    {
     "name": "stderr",
     "output_type": "stream",
     "text": [
      "                                                                                 \r"
     ]
    },
    {
     "name": "stdout",
     "output_type": "stream",
     "text": [
      "Training Loss: 0.10588196\n",
      "Validation Loss: 0.11323761\n",
      "Average SDR for Stem 0: -0.01417896 dB\n",
      "Average SDR for Stem 1: -0.02441219 dB\n",
      "Average SDR for Stem 2: -2.69156337 dB\n",
      "Overall Average SDR: -0.91005152 dB\n",
      "--------------------\n",
      "Epoch 152/1000\n"
     ]
    },
    {
     "name": "stderr",
     "output_type": "stream",
     "text": [
      "                                                                                  \r"
     ]
    },
    {
     "name": "stdout",
     "output_type": "stream",
     "text": [
      "Training Loss: 0.07243414\n",
      "Validation Loss: 0.21935857\n",
      "Average SDR for Stem 0: -0.01027884 dB\n",
      "Average SDR for Stem 1: -0.05174829 dB\n",
      "Average SDR for Stem 2: -1.59169137 dB\n",
      "Overall Average SDR: -0.55123949 dB\n",
      "--------------------\n",
      "Epoch 153/1000\n"
     ]
    },
    {
     "name": "stderr",
     "output_type": "stream",
     "text": [
      "                                                                                 \r"
     ]
    },
    {
     "name": "stdout",
     "output_type": "stream",
     "text": [
      "Training Loss: 0.09309490\n",
      "Validation Loss: 0.04977931\n",
      "Average SDR for Stem 0: -3.17341423 dB\n",
      "Average SDR for Stem 1: -7.19405317 dB\n",
      "Average SDR for Stem 2: -0.03876748 dB\n",
      "Overall Average SDR: -3.46874523 dB\n",
      "--------------------\n",
      "Epoch 154/1000\n"
     ]
    },
    {
     "name": "stderr",
     "output_type": "stream",
     "text": [
      "                                                                                 \r"
     ]
    },
    {
     "name": "stdout",
     "output_type": "stream",
     "text": [
      "Training Loss: 0.12335584\n",
      "Validation Loss: 0.07578567\n",
      "Average SDR for Stem 0: -0.78842545 dB\n",
      "Average SDR for Stem 1: -8.64383602 dB\n",
      "Average SDR for Stem 2: -12.28132629 dB\n",
      "Overall Average SDR: -7.23786306 dB\n",
      "--------------------\n",
      "Epoch 155/1000\n"
     ]
    },
    {
     "name": "stderr",
     "output_type": "stream",
     "text": [
      "                                                                                 \r"
     ]
    },
    {
     "name": "stdout",
     "output_type": "stream",
     "text": [
      "Training Loss: 0.11923720\n",
      "Validation Loss: 0.14747374\n",
      "Average SDR for Stem 0: -1.02162969 dB\n",
      "Average SDR for Stem 1: -8.17277145 dB\n",
      "Average SDR for Stem 2: 0.43079641 dB\n",
      "Overall Average SDR: -2.92120147 dB\n",
      "--------------------\n",
      "Epoch 156/1000\n"
     ]
    },
    {
     "name": "stderr",
     "output_type": "stream",
     "text": [
      "                                                                                 \r"
     ]
    },
    {
     "name": "stdout",
     "output_type": "stream",
     "text": [
      "Training Loss: 0.08264773\n",
      "Validation Loss: 0.04758050\n",
      "Average SDR for Stem 0: -4.09511280 dB\n",
      "Average SDR for Stem 1: -0.10265943 dB\n",
      "Average SDR for Stem 2: -13.60151291 dB\n",
      "Overall Average SDR: -5.93309546 dB\n",
      "--------------------\n",
      "Epoch 157/1000\n"
     ]
    },
    {
     "name": "stderr",
     "output_type": "stream",
     "text": [
      "                                                                                 \r"
     ]
    },
    {
     "name": "stdout",
     "output_type": "stream",
     "text": [
      "Training Loss: 0.12157392\n",
      "Validation Loss: 0.09233332\n",
      "Average SDR for Stem 0: -0.01729057 dB\n",
      "Average SDR for Stem 1: -1.47831380 dB\n",
      "Average SDR for Stem 2: -0.14770976 dB\n",
      "Overall Average SDR: -0.54777139 dB\n",
      "--------------------\n",
      "Epoch 158/1000\n"
     ]
    },
    {
     "name": "stderr",
     "output_type": "stream",
     "text": [
      "                                                                                 \r"
     ]
    },
    {
     "name": "stdout",
     "output_type": "stream",
     "text": [
      "Training Loss: 0.19162168\n",
      "Validation Loss: 0.21242248\n",
      "Average SDR for Stem 0: -0.01236074 dB\n",
      "Average SDR for Stem 1: -0.02206101 dB\n",
      "Average SDR for Stem 2: -8.94698429 dB\n",
      "Overall Average SDR: -2.99380207 dB\n",
      "--------------------\n",
      "Epoch 159/1000\n"
     ]
    },
    {
     "name": "stderr",
     "output_type": "stream",
     "text": [
      "                                                                                   \r"
     ]
    },
    {
     "name": "stdout",
     "output_type": "stream",
     "text": [
      "Training Loss: 0.08480540\n",
      "Validation Loss: 0.09524567\n",
      "Average SDR for Stem 0: -2.39644766 dB\n",
      "Average SDR for Stem 1: -7.26680756 dB\n",
      "Average SDR for Stem 2: -0.07041089 dB\n",
      "Overall Average SDR: -3.24455547 dB\n",
      "--------------------\n",
      "Epoch 160/1000\n"
     ]
    },
    {
     "name": "stderr",
     "output_type": "stream",
     "text": [
      "                                                                                 \r"
     ]
    },
    {
     "name": "stdout",
     "output_type": "stream",
     "text": [
      "Training Loss: 0.09859925\n",
      "Validation Loss: 0.04236569\n",
      "Average SDR for Stem 0: -2.08290410 dB\n",
      "Average SDR for Stem 1: -0.02991188 dB\n",
      "Average SDR for Stem 2: -0.48528755 dB\n",
      "Overall Average SDR: -0.86603451 dB\n",
      "--------------------\n",
      "Epoch 161/1000\n"
     ]
    },
    {
     "name": "stderr",
     "output_type": "stream",
     "text": [
      "                                                                                 \r"
     ]
    },
    {
     "name": "stdout",
     "output_type": "stream",
     "text": [
      "Training Loss: 0.12459986\n",
      "Validation Loss: 0.06816455\n",
      "Average SDR for Stem 0: -8.82520008 dB\n",
      "Average SDR for Stem 1: -10.91221333 dB\n",
      "Average SDR for Stem 2: -3.55834222 dB\n",
      "Overall Average SDR: -7.76525164 dB\n",
      "--------------------\n",
      "Epoch 162/1000\n"
     ]
    },
    {
     "name": "stderr",
     "output_type": "stream",
     "text": [
      "                                                                                 \r"
     ]
    },
    {
     "name": "stdout",
     "output_type": "stream",
     "text": [
      "Training Loss: 0.06625894\n",
      "Validation Loss: 0.08400783\n",
      "Average SDR for Stem 0: -0.01560809 dB\n",
      "Average SDR for Stem 1: -0.04770179 dB\n",
      "Average SDR for Stem 2: -4.66951990 dB\n",
      "Overall Average SDR: -1.57760990 dB\n",
      "--------------------\n",
      "Epoch 163/1000\n"
     ]
    },
    {
     "name": "stderr",
     "output_type": "stream",
     "text": [
      "                                                                                 \r"
     ]
    },
    {
     "name": "stdout",
     "output_type": "stream",
     "text": [
      "Training Loss: 0.09234434\n",
      "Validation Loss: 0.10247085\n",
      "Average SDR for Stem 0: -9.00220013 dB\n",
      "Average SDR for Stem 1: -4.91875505 dB\n",
      "Average SDR for Stem 2: -0.03103871 dB\n",
      "Overall Average SDR: -4.65066481 dB\n",
      "--------------------\n",
      "Epoch 164/1000\n"
     ]
    },
    {
     "name": "stderr",
     "output_type": "stream",
     "text": [
      "                                                                                 \r"
     ]
    },
    {
     "name": "stdout",
     "output_type": "stream",
     "text": [
      "Training Loss: 0.16287657\n",
      "Validation Loss: 0.23109156\n",
      "Average SDR for Stem 0: -0.20581456 dB\n",
      "Average SDR for Stem 1: -11.37983418 dB\n",
      "Average SDR for Stem 2: -1.13788688 dB\n",
      "Overall Average SDR: -4.24117851 dB\n",
      "--------------------\n",
      "Epoch 165/1000\n"
     ]
    },
    {
     "name": "stderr",
     "output_type": "stream",
     "text": [
      "                                                                                 \r"
     ]
    },
    {
     "name": "stdout",
     "output_type": "stream",
     "text": [
      "Training Loss: 0.08694230\n",
      "Validation Loss: 0.05305882\n",
      "Average SDR for Stem 0: -10.16589451 dB\n",
      "Average SDR for Stem 1: -2.84392333 dB\n",
      "Average SDR for Stem 2: -3.40556931 dB\n",
      "Overall Average SDR: -5.47179604 dB\n",
      "--------------------\n",
      "Epoch 166/1000\n"
     ]
    },
    {
     "name": "stderr",
     "output_type": "stream",
     "text": [
      "                                                                                 \r"
     ]
    },
    {
     "name": "stdout",
     "output_type": "stream",
     "text": [
      "Training Loss: 0.16238790\n",
      "Validation Loss: 0.14072264\n",
      "Average SDR for Stem 0: -0.01157219 dB\n",
      "Average SDR for Stem 1: -3.06390667 dB\n",
      "Average SDR for Stem 2: -0.45959219 dB\n",
      "Overall Average SDR: -1.17835701 dB\n",
      "--------------------\n",
      "Epoch 167/1000\n"
     ]
    },
    {
     "name": "stderr",
     "output_type": "stream",
     "text": [
      "                                                                                 \r"
     ]
    },
    {
     "name": "stdout",
     "output_type": "stream",
     "text": [
      "Training Loss: 0.15605684\n",
      "Validation Loss: 0.08158076\n",
      "Average SDR for Stem 0: -0.06615157 dB\n",
      "Average SDR for Stem 1: -1.36090517 dB\n",
      "Average SDR for Stem 2: 1.32922328 dB\n",
      "Overall Average SDR: -0.03261117 dB\n",
      "--------------------\n",
      "Epoch 168/1000\n"
     ]
    },
    {
     "name": "stderr",
     "output_type": "stream",
     "text": [
      "                                                                                 \r"
     ]
    },
    {
     "name": "stdout",
     "output_type": "stream",
     "text": [
      "Training Loss: 0.09519380\n",
      "Validation Loss: 0.23207360\n",
      "Average SDR for Stem 0: -0.01172726 dB\n",
      "Average SDR for Stem 1: -9.78560066 dB\n",
      "Average SDR for Stem 2: -0.03137293 dB\n",
      "Overall Average SDR: -3.27623367 dB\n",
      "--------------------\n",
      "Epoch 169/1000\n"
     ]
    },
    {
     "name": "stderr",
     "output_type": "stream",
     "text": [
      "                                                                                 \r"
     ]
    },
    {
     "name": "stdout",
     "output_type": "stream",
     "text": [
      "Training Loss: 0.11361700\n",
      "Validation Loss: 0.07150722\n",
      "Average SDR for Stem 0: -6.66987371 dB\n",
      "Average SDR for Stem 1: -5.47811747 dB\n",
      "Average SDR for Stem 2: -0.03483206 dB\n",
      "Overall Average SDR: -4.06094122 dB\n",
      "--------------------\n",
      "Epoch 170/1000\n"
     ]
    },
    {
     "name": "stderr",
     "output_type": "stream",
     "text": [
      "                                                                                 \r"
     ]
    },
    {
     "name": "stdout",
     "output_type": "stream",
     "text": [
      "Training Loss: 0.09516519\n",
      "Validation Loss: 0.04400588\n",
      "Average SDR for Stem 0: -7.97150803 dB\n",
      "Average SDR for Stem 1: -3.11714435 dB\n",
      "Average SDR for Stem 2: -0.03764467 dB\n",
      "Overall Average SDR: -3.70876575 dB\n",
      "--------------------\n",
      "Epoch 171/1000\n"
     ]
    },
    {
     "name": "stderr",
     "output_type": "stream",
     "text": [
      "                                                                                 \r"
     ]
    },
    {
     "name": "stdout",
     "output_type": "stream",
     "text": [
      "Training Loss: 0.15602701\n",
      "Validation Loss: 0.39342002\n",
      "Average SDR for Stem 0: -0.00490964 dB\n",
      "Average SDR for Stem 1: -0.04347866 dB\n",
      "Average SDR for Stem 2: -3.99747014 dB\n",
      "Overall Average SDR: -1.34861946 dB\n",
      "--------------------\n",
      "Epoch 172/1000\n"
     ]
    },
    {
     "name": "stderr",
     "output_type": "stream",
     "text": [
      "                                                                                 \r"
     ]
    },
    {
     "name": "stdout",
     "output_type": "stream",
     "text": [
      "Training Loss: 0.08379401\n",
      "Validation Loss: 0.08754262\n",
      "Average SDR for Stem 0: -0.02588730 dB\n",
      "Average SDR for Stem 1: -0.03416140 dB\n",
      "Average SDR for Stem 2: -2.99619293 dB\n",
      "Overall Average SDR: -1.01874721 dB\n",
      "--------------------\n",
      "Epoch 173/1000\n"
     ]
    },
    {
     "name": "stderr",
     "output_type": "stream",
     "text": [
      "                                                                                 \r"
     ]
    },
    {
     "name": "stdout",
     "output_type": "stream",
     "text": [
      "Training Loss: 0.10582523\n",
      "Validation Loss: 0.20844614\n",
      "Average SDR for Stem 0: -0.83352751 dB\n",
      "Average SDR for Stem 1: -0.92994833 dB\n",
      "Average SDR for Stem 2: -3.68566108 dB\n",
      "Overall Average SDR: -1.81637895 dB\n",
      "--------------------\n",
      "Epoch 174/1000\n"
     ]
    },
    {
     "name": "stderr",
     "output_type": "stream",
     "text": [
      "                                                                                 \r"
     ]
    },
    {
     "name": "stdout",
     "output_type": "stream",
     "text": [
      "Training Loss: 0.08702761\n",
      "Validation Loss: 0.09996633\n",
      "Average SDR for Stem 0: -0.04183073 dB\n",
      "Average SDR for Stem 1: -6.07767630 dB\n",
      "Average SDR for Stem 2: -6.35643005 dB\n",
      "Overall Average SDR: -4.15864563 dB\n",
      "--------------------\n",
      "Epoch 175/1000\n"
     ]
    },
    {
     "name": "stderr",
     "output_type": "stream",
     "text": [
      "                                                                                 \r"
     ]
    },
    {
     "name": "stdout",
     "output_type": "stream",
     "text": [
      "Training Loss: 0.10966607\n",
      "Validation Loss: 0.06246517\n",
      "Average SDR for Stem 0: -7.32881165 dB\n",
      "Average SDR for Stem 1: -0.19236143 dB\n",
      "Average SDR for Stem 2: -0.12563495 dB\n",
      "Overall Average SDR: -2.54893613 dB\n",
      "--------------------\n",
      "Epoch 176/1000\n"
     ]
    },
    {
     "name": "stderr",
     "output_type": "stream",
     "text": [
      "                                                                                 \r"
     ]
    },
    {
     "name": "stdout",
     "output_type": "stream",
     "text": [
      "Training Loss: 0.11128803\n",
      "Validation Loss: 0.10876060\n",
      "Average SDR for Stem 0: -2.10394597 dB\n",
      "Average SDR for Stem 1: -0.15023495 dB\n",
      "Average SDR for Stem 2: -1.29891086 dB\n",
      "Overall Average SDR: -1.18436396 dB\n",
      "--------------------\n",
      "Epoch 177/1000\n"
     ]
    },
    {
     "name": "stderr",
     "output_type": "stream",
     "text": [
      "                                                                                 \r"
     ]
    },
    {
     "name": "stdout",
     "output_type": "stream",
     "text": [
      "Training Loss: 0.12841348\n",
      "Validation Loss: 0.09469355\n",
      "Average SDR for Stem 0: -1.62398374 dB\n",
      "Average SDR for Stem 1: -0.02974379 dB\n",
      "Average SDR for Stem 2: -0.07506857 dB\n",
      "Overall Average SDR: -0.57626539 dB\n",
      "--------------------\n",
      "Epoch 178/1000\n"
     ]
    },
    {
     "name": "stderr",
     "output_type": "stream",
     "text": [
      "                                                                                 \r"
     ]
    },
    {
     "name": "stdout",
     "output_type": "stream",
     "text": [
      "Training Loss: 0.20410568\n",
      "Validation Loss: 0.22273269\n",
      "Average SDR for Stem 0: -0.01485945 dB\n",
      "Average SDR for Stem 1: -4.79354525 dB\n",
      "Average SDR for Stem 2: -0.05283424 dB\n",
      "Overall Average SDR: -1.62041295 dB\n",
      "--------------------\n",
      "Epoch 179/1000\n"
     ]
    },
    {
     "name": "stderr",
     "output_type": "stream",
     "text": [
      "                                                                                 \r"
     ]
    },
    {
     "name": "stdout",
     "output_type": "stream",
     "text": [
      "Training Loss: 0.08267965\n",
      "Validation Loss: 0.09406823\n",
      "Average SDR for Stem 0: -0.02046652 dB\n",
      "Average SDR for Stem 1: -0.03994772 dB\n",
      "Average SDR for Stem 2: -13.43225861 dB\n",
      "Overall Average SDR: -4.49755764 dB\n",
      "--------------------\n",
      "Epoch 180/1000\n"
     ]
    },
    {
     "name": "stderr",
     "output_type": "stream",
     "text": [
      "                                                                                 \r"
     ]
    },
    {
     "name": "stdout",
     "output_type": "stream",
     "text": [
      "Training Loss: 0.07195312\n",
      "Validation Loss: 0.13063590\n",
      "Average SDR for Stem 0: -0.01370445 dB\n",
      "Average SDR for Stem 1: -0.21773660 dB\n",
      "Average SDR for Stem 2: -2.86300564 dB\n",
      "Overall Average SDR: -1.03148222 dB\n",
      "--------------------\n",
      "Epoch 181/1000\n"
     ]
    },
    {
     "name": "stderr",
     "output_type": "stream",
     "text": [
      "                                                                                 \r"
     ]
    },
    {
     "name": "stdout",
     "output_type": "stream",
     "text": [
      "Training Loss: 0.18688327\n",
      "Validation Loss: 0.10537375\n",
      "Average SDR for Stem 0: -0.02619587 dB\n",
      "Average SDR for Stem 1: -0.02191716 dB\n",
      "Average SDR for Stem 2: -0.70896977 dB\n",
      "Overall Average SDR: -0.25236094 dB\n",
      "--------------------\n",
      "Epoch 182/1000\n"
     ]
    },
    {
     "name": "stderr",
     "output_type": "stream",
     "text": [
      "                                                                                 \r"
     ]
    },
    {
     "name": "stdout",
     "output_type": "stream",
     "text": [
      "Training Loss: 0.06768238\n",
      "Validation Loss: 0.15195444\n",
      "Average SDR for Stem 0: -0.77698761 dB\n",
      "Average SDR for Stem 1: -14.29116154 dB\n",
      "Average SDR for Stem 2: -3.97105527 dB\n",
      "Overall Average SDR: -6.34640169 dB\n",
      "--------------------\n",
      "Epoch 183/1000\n"
     ]
    },
    {
     "name": "stderr",
     "output_type": "stream",
     "text": [
      "                                                                                  \r"
     ]
    },
    {
     "name": "stdout",
     "output_type": "stream",
     "text": [
      "Training Loss: 0.09609647\n",
      "Validation Loss: 0.17994510\n",
      "Average SDR for Stem 0: -3.49629426 dB\n",
      "Average SDR for Stem 1: -0.03290190 dB\n",
      "Average SDR for Stem 2: -5.25328732 dB\n",
      "Overall Average SDR: -2.92749476 dB\n",
      "--------------------\n",
      "Epoch 184/1000\n"
     ]
    },
    {
     "name": "stderr",
     "output_type": "stream",
     "text": [
      "                                                                                 \r"
     ]
    },
    {
     "name": "stdout",
     "output_type": "stream",
     "text": [
      "Training Loss: 0.07316115\n",
      "Validation Loss: 0.13221019\n",
      "Average SDR for Stem 0: -0.01940226 dB\n",
      "Average SDR for Stem 1: -0.07945547 dB\n",
      "Average SDR for Stem 2: -0.05708155 dB\n",
      "Overall Average SDR: -0.05197976 dB\n",
      "--------------------\n",
      "Epoch 185/1000\n"
     ]
    },
    {
     "name": "stderr",
     "output_type": "stream",
     "text": [
      "                                                                                 \r"
     ]
    },
    {
     "name": "stdout",
     "output_type": "stream",
     "text": [
      "Training Loss: 0.06860617\n",
      "Validation Loss: 0.07103784\n",
      "Average SDR for Stem 0: -0.03271481 dB\n",
      "Average SDR for Stem 1: -0.19386931 dB\n",
      "Average SDR for Stem 2: -4.65769005 dB\n",
      "Overall Average SDR: -1.62809134 dB\n",
      "--------------------\n",
      "Epoch 186/1000\n"
     ]
    },
    {
     "name": "stderr",
     "output_type": "stream",
     "text": [
      "                                                                                  \r"
     ]
    },
    {
     "name": "stdout",
     "output_type": "stream",
     "text": [
      "Training Loss: 0.05501669\n",
      "Validation Loss: 0.05707736\n",
      "Average SDR for Stem 0: -9.51023388 dB\n",
      "Average SDR for Stem 1: -0.35093474 dB\n",
      "Average SDR for Stem 2: -0.08676827 dB\n",
      "Overall Average SDR: -3.31597900 dB\n",
      "--------------------\n",
      "Epoch 187/1000\n"
     ]
    },
    {
     "name": "stderr",
     "output_type": "stream",
     "text": [
      "                                                                                 \r"
     ]
    },
    {
     "name": "stdout",
     "output_type": "stream",
     "text": [
      "Training Loss: 0.10760784\n",
      "Validation Loss: 0.23175771\n",
      "Average SDR for Stem 0: -0.01227261 dB\n",
      "Average SDR for Stem 1: -0.01784472 dB\n",
      "Average SDR for Stem 2: -3.20958996 dB\n",
      "Overall Average SDR: -1.07990241 dB\n",
      "--------------------\n",
      "Epoch 188/1000\n"
     ]
    },
    {
     "name": "stderr",
     "output_type": "stream",
     "text": [
      "                                                                                 \r"
     ]
    },
    {
     "name": "stdout",
     "output_type": "stream",
     "text": [
      "Training Loss: 0.10489982\n",
      "Validation Loss: 0.03233594\n",
      "Average SDR for Stem 0: -2.74522233 dB\n",
      "Average SDR for Stem 1: -0.18759330 dB\n",
      "Average SDR for Stem 2: -2.74930882 dB\n",
      "Overall Average SDR: -1.89404142 dB\n",
      "--------------------\n",
      "Epoch 189/1000\n"
     ]
    },
    {
     "name": "stderr",
     "output_type": "stream",
     "text": [
      "                                                                                  \r"
     ]
    },
    {
     "name": "stdout",
     "output_type": "stream",
     "text": [
      "Training Loss: 0.10498298\n",
      "Validation Loss: 0.18181949\n",
      "Average SDR for Stem 0: -2.14577579 dB\n",
      "Average SDR for Stem 1: -7.32182837 dB\n",
      "Average SDR for Stem 2: -0.13210557 dB\n",
      "Overall Average SDR: -3.19990325 dB\n",
      "--------------------\n",
      "Epoch 190/1000\n"
     ]
    },
    {
     "name": "stderr",
     "output_type": "stream",
     "text": [
      "                                                                                 \r"
     ]
    },
    {
     "name": "stdout",
     "output_type": "stream",
     "text": [
      "Training Loss: 0.16567402\n",
      "Validation Loss: 0.16285379\n",
      "Average SDR for Stem 0: -6.84153986 dB\n",
      "Average SDR for Stem 1: -0.02803937 dB\n",
      "Average SDR for Stem 2: -0.03595455 dB\n",
      "Overall Average SDR: -2.30184460 dB\n",
      "--------------------\n",
      "Epoch 191/1000\n"
     ]
    },
    {
     "name": "stderr",
     "output_type": "stream",
     "text": [
      "                                                                                 \r"
     ]
    },
    {
     "name": "stdout",
     "output_type": "stream",
     "text": [
      "Training Loss: 0.10474746\n",
      "Validation Loss: 0.09490390\n",
      "Average SDR for Stem 0: -3.66923451 dB\n",
      "Average SDR for Stem 1: -0.03962396 dB\n",
      "Average SDR for Stem 2: -2.89364815 dB\n",
      "Overall Average SDR: -2.20083547 dB\n",
      "--------------------\n",
      "Epoch 192/1000\n"
     ]
    },
    {
     "name": "stderr",
     "output_type": "stream",
     "text": [
      "                                                                                 \r"
     ]
    },
    {
     "name": "stdout",
     "output_type": "stream",
     "text": [
      "Training Loss: 0.14641069\n",
      "Validation Loss: 0.17296785\n",
      "Average SDR for Stem 0: -0.01912532 dB\n",
      "Average SDR for Stem 1: -5.66202354 dB\n",
      "Average SDR for Stem 2: -4.02378607 dB\n",
      "Overall Average SDR: -3.23497844 dB\n",
      "--------------------\n",
      "Epoch 193/1000\n"
     ]
    },
    {
     "name": "stderr",
     "output_type": "stream",
     "text": [
      "                                                                                 \r"
     ]
    },
    {
     "name": "stdout",
     "output_type": "stream",
     "text": [
      "Training Loss: 0.07872786\n",
      "Validation Loss: 0.12695833\n",
      "Average SDR for Stem 0: -0.00843567 dB\n",
      "Average SDR for Stem 1: -0.36180556 dB\n",
      "Average SDR for Stem 2: -1.24457705 dB\n",
      "Overall Average SDR: -0.53827280 dB\n",
      "--------------------\n",
      "Epoch 194/1000\n"
     ]
    },
    {
     "name": "stderr",
     "output_type": "stream",
     "text": [
      "                                                                                 \r"
     ]
    },
    {
     "name": "stdout",
     "output_type": "stream",
     "text": [
      "Training Loss: 0.14679326\n",
      "Validation Loss: 0.12126395\n",
      "Average SDR for Stem 0: -0.01010083 dB\n",
      "Average SDR for Stem 1: -0.10314113 dB\n",
      "Average SDR for Stem 2: -0.09376043 dB\n",
      "Overall Average SDR: -0.06900080 dB\n",
      "--------------------\n",
      "Epoch 195/1000\n"
     ]
    },
    {
     "name": "stderr",
     "output_type": "stream",
     "text": [
      "                                                                                 \r"
     ]
    },
    {
     "name": "stdout",
     "output_type": "stream",
     "text": [
      "Training Loss: 0.12786775\n",
      "Validation Loss: 0.04448996\n",
      "Average SDR for Stem 0: -8.72140503 dB\n",
      "Average SDR for Stem 1: -0.02394451 dB\n",
      "Average SDR for Stem 2: -3.28311062 dB\n",
      "Overall Average SDR: -4.00948668 dB\n",
      "--------------------\n",
      "Epoch 196/1000\n"
     ]
    },
    {
     "name": "stderr",
     "output_type": "stream",
     "text": [
      "                                                                                 \r"
     ]
    },
    {
     "name": "stdout",
     "output_type": "stream",
     "text": [
      "Training Loss: 0.11262236\n",
      "Validation Loss: 0.09422947\n",
      "Average SDR for Stem 0: -0.72490460 dB\n",
      "Average SDR for Stem 1: -2.41472650 dB\n",
      "Average SDR for Stem 2: -0.00379519 dB\n",
      "Overall Average SDR: -1.04780877 dB\n",
      "--------------------\n",
      "Epoch 197/1000\n"
     ]
    },
    {
     "name": "stderr",
     "output_type": "stream",
     "text": [
      "                                                                                 \r"
     ]
    },
    {
     "name": "stdout",
     "output_type": "stream",
     "text": [
      "Training Loss: 0.13781780\n",
      "Validation Loss: 0.22406715\n",
      "Average SDR for Stem 0: -0.00611155 dB\n",
      "Average SDR for Stem 1: -0.01530332 dB\n",
      "Average SDR for Stem 2: -3.10021973 dB\n",
      "Overall Average SDR: -1.04054487 dB\n",
      "--------------------\n",
      "Epoch 198/1000\n"
     ]
    },
    {
     "name": "stderr",
     "output_type": "stream",
     "text": [
      "                                                                                 \r"
     ]
    },
    {
     "name": "stdout",
     "output_type": "stream",
     "text": [
      "Training Loss: 0.08766700\n",
      "Validation Loss: 0.05110742\n",
      "Average SDR for Stem 0: -2.96571636 dB\n",
      "Average SDR for Stem 1: -0.03380365 dB\n",
      "Average SDR for Stem 2: -3.10988402 dB\n",
      "Overall Average SDR: -2.03646803 dB\n",
      "--------------------\n",
      "Epoch 199/1000\n"
     ]
    },
    {
     "name": "stderr",
     "output_type": "stream",
     "text": [
      "                                                                                 \r"
     ]
    },
    {
     "name": "stdout",
     "output_type": "stream",
     "text": [
      "Training Loss: 0.07708139\n",
      "Validation Loss: 0.07130732\n",
      "Average SDR for Stem 0: -0.04652907 dB\n",
      "Average SDR for Stem 1: -0.11553849 dB\n",
      "Average SDR for Stem 2: -0.10665834 dB\n",
      "Overall Average SDR: -0.08957530 dB\n",
      "--------------------\n",
      "Epoch 200/1000\n"
     ]
    },
    {
     "name": "stderr",
     "output_type": "stream",
     "text": [
      "                                                                                 \r"
     ]
    },
    {
     "name": "stdout",
     "output_type": "stream",
     "text": [
      "Training Loss: 0.09119509\n",
      "Validation Loss: 0.06383995\n",
      "Average SDR for Stem 0: -1.85123718 dB\n",
      "Average SDR for Stem 1: -5.81738424 dB\n",
      "Average SDR for Stem 2: -2.36057830 dB\n",
      "Overall Average SDR: -3.34306645 dB\n",
      "--------------------\n",
      "Epoch 201/1000\n"
     ]
    },
    {
     "name": "stderr",
     "output_type": "stream",
     "text": [
      "                                                                                 \r"
     ]
    },
    {
     "name": "stdout",
     "output_type": "stream",
     "text": [
      "Training Loss: 0.11190128\n",
      "Validation Loss: 0.10532109\n",
      "Average SDR for Stem 0: -11.38477325 dB\n",
      "Average SDR for Stem 1: -0.50739080 dB\n",
      "Average SDR for Stem 2: 0.16762382 dB\n",
      "Overall Average SDR: -3.90818024 dB\n",
      "--------------------\n",
      "Epoch 202/1000\n"
     ]
    },
    {
     "name": "stderr",
     "output_type": "stream",
     "text": [
      "                                                                                 \r"
     ]
    },
    {
     "name": "stdout",
     "output_type": "stream",
     "text": [
      "Training Loss: 0.13097323\n",
      "Validation Loss: 0.10199871\n",
      "Average SDR for Stem 0: -0.01324645 dB\n",
      "Average SDR for Stem 1: -1.53806913 dB\n",
      "Average SDR for Stem 2: -0.21062432 dB\n",
      "Overall Average SDR: -0.58731329 dB\n",
      "--------------------\n",
      "Epoch 203/1000\n"
     ]
    },
    {
     "name": "stderr",
     "output_type": "stream",
     "text": [
      "                                                                                 \r"
     ]
    },
    {
     "name": "stdout",
     "output_type": "stream",
     "text": [
      "Training Loss: 0.15723446\n",
      "Validation Loss: 0.03608671\n",
      "Average SDR for Stem 0: -5.81011152 dB\n",
      "Average SDR for Stem 1: -0.17402697 dB\n",
      "Average SDR for Stem 2: -0.91952270 dB\n",
      "Overall Average SDR: -2.30122042 dB\n",
      "--------------------\n",
      "Epoch 204/1000\n"
     ]
    },
    {
     "name": "stderr",
     "output_type": "stream",
     "text": [
      "                                                                                 \r"
     ]
    },
    {
     "name": "stdout",
     "output_type": "stream",
     "text": [
      "Training Loss: 0.13661528\n",
      "Validation Loss: 0.06630168\n",
      "Average SDR for Stem 0: -0.02245429 dB\n",
      "Average SDR for Stem 1: -0.14536566 dB\n",
      "Average SDR for Stem 2: -0.56026751 dB\n",
      "Overall Average SDR: -0.24269581 dB\n",
      "--------------------\n",
      "Epoch 205/1000\n"
     ]
    },
    {
     "name": "stderr",
     "output_type": "stream",
     "text": [
      "                                                                                 \r"
     ]
    },
    {
     "name": "stdout",
     "output_type": "stream",
     "text": [
      "Training Loss: 0.05653728\n",
      "Validation Loss: 0.06225943\n",
      "Average SDR for Stem 0: -2.53684545 dB\n",
      "Average SDR for Stem 1: -0.02456636 dB\n",
      "Average SDR for Stem 2: -0.10468755 dB\n",
      "Overall Average SDR: -0.88869977 dB\n",
      "--------------------\n",
      "Epoch 206/1000\n"
     ]
    },
    {
     "name": "stderr",
     "output_type": "stream",
     "text": [
      "                                                                                  \r"
     ]
    },
    {
     "name": "stdout",
     "output_type": "stream",
     "text": [
      "Training Loss: 0.10989893\n",
      "Validation Loss: 0.08163344\n",
      "Average SDR for Stem 0: -2.59820104 dB\n",
      "Average SDR for Stem 1: -1.46822309 dB\n",
      "Average SDR for Stem 2: -2.21251583 dB\n",
      "Overall Average SDR: -2.09298015 dB\n",
      "--------------------\n",
      "Epoch 207/1000\n"
     ]
    },
    {
     "name": "stderr",
     "output_type": "stream",
     "text": [
      "                                                                                 \r"
     ]
    },
    {
     "name": "stdout",
     "output_type": "stream",
     "text": [
      "Training Loss: 0.09629939\n",
      "Validation Loss: 0.09469791\n",
      "Average SDR for Stem 0: -4.90676403 dB\n",
      "Average SDR for Stem 1: -7.93329096 dB\n",
      "Average SDR for Stem 2: -9.84512234 dB\n",
      "Overall Average SDR: -7.56172562 dB\n",
      "--------------------\n",
      "Epoch 208/1000\n"
     ]
    },
    {
     "name": "stderr",
     "output_type": "stream",
     "text": [
      "                                                                                 \r"
     ]
    },
    {
     "name": "stdout",
     "output_type": "stream",
     "text": [
      "Training Loss: 0.12475542\n",
      "Validation Loss: 0.05978800\n",
      "Average SDR for Stem 0: -2.52722716 dB\n",
      "Average SDR for Stem 1: -0.05930209 dB\n",
      "Average SDR for Stem 2: -6.04336309 dB\n",
      "Overall Average SDR: -2.87663078 dB\n",
      "--------------------\n",
      "Epoch 209/1000\n"
     ]
    },
    {
     "name": "stderr",
     "output_type": "stream",
     "text": [
      "                                                                                 \r"
     ]
    },
    {
     "name": "stdout",
     "output_type": "stream",
     "text": [
      "Training Loss: 0.08815760\n",
      "Validation Loss: 0.11684426\n",
      "Average SDR for Stem 0: -0.04421632 dB\n",
      "Average SDR for Stem 1: -7.78240585 dB\n",
      "Average SDR for Stem 2: -0.06635030 dB\n",
      "Overall Average SDR: -2.63099074 dB\n",
      "--------------------\n",
      "Epoch 210/1000\n"
     ]
    },
    {
     "name": "stderr",
     "output_type": "stream",
     "text": [
      "                                                                                 \r"
     ]
    },
    {
     "name": "stdout",
     "output_type": "stream",
     "text": [
      "Training Loss: 0.17380145\n",
      "Validation Loss: 0.07661326\n",
      "Average SDR for Stem 0: -1.62807894 dB\n",
      "Average SDR for Stem 1: -5.81086302 dB\n",
      "Average SDR for Stem 2: -6.69646835 dB\n",
      "Overall Average SDR: -4.71180344 dB\n",
      "--------------------\n",
      "Epoch 211/1000\n"
     ]
    },
    {
     "name": "stderr",
     "output_type": "stream",
     "text": [
      "                                                                                 \r"
     ]
    },
    {
     "name": "stdout",
     "output_type": "stream",
     "text": [
      "Training Loss: 0.07554137\n",
      "Validation Loss: 0.05272067\n",
      "Average SDR for Stem 0: -8.08034515 dB\n",
      "Average SDR for Stem 1: -3.01089573 dB\n",
      "Average SDR for Stem 2: -4.90821218 dB\n",
      "Overall Average SDR: -5.33315086 dB\n",
      "--------------------\n",
      "Epoch 212/1000\n"
     ]
    },
    {
     "name": "stderr",
     "output_type": "stream",
     "text": [
      "                                                                                 \r"
     ]
    },
    {
     "name": "stdout",
     "output_type": "stream",
     "text": [
      "Training Loss: 0.12555506\n",
      "Validation Loss: 0.10407833\n",
      "Average SDR for Stem 0: -1.85961592 dB\n",
      "Average SDR for Stem 1: -4.62885380 dB\n",
      "Average SDR for Stem 2: -0.03819067 dB\n",
      "Overall Average SDR: -2.17555356 dB\n",
      "--------------------\n",
      "Epoch 213/1000\n"
     ]
    },
    {
     "name": "stderr",
     "output_type": "stream",
     "text": [
      "                                                                                 \r"
     ]
    },
    {
     "name": "stdout",
     "output_type": "stream",
     "text": [
      "Training Loss: 0.06832633\n",
      "Validation Loss: 0.15613892\n",
      "Average SDR for Stem 0: -0.01147882 dB\n",
      "Average SDR for Stem 1: -2.26829815 dB\n",
      "Average SDR for Stem 2: -4.10442162 dB\n",
      "Overall Average SDR: -2.12806630 dB\n",
      "--------------------\n",
      "Epoch 214/1000\n"
     ]
    },
    {
     "name": "stderr",
     "output_type": "stream",
     "text": [
      "                                                                                 \r"
     ]
    },
    {
     "name": "stdout",
     "output_type": "stream",
     "text": [
      "Training Loss: 0.16148562\n",
      "Validation Loss: 0.17485382\n",
      "Average SDR for Stem 0: -0.02326960 dB\n",
      "Average SDR for Stem 1: -0.04732619 dB\n",
      "Average SDR for Stem 2: -0.14334279 dB\n",
      "Overall Average SDR: -0.07131286 dB\n",
      "--------------------\n",
      "Epoch 215/1000\n"
     ]
    },
    {
     "name": "stderr",
     "output_type": "stream",
     "text": [
      "                                                                                  \r"
     ]
    },
    {
     "name": "stdout",
     "output_type": "stream",
     "text": [
      "Training Loss: 0.10770096\n",
      "Validation Loss: 0.04284507\n",
      "Average SDR for Stem 0: -3.93971944 dB\n",
      "Average SDR for Stem 1: -6.56459284 dB\n",
      "Average SDR for Stem 2: -0.08837638 dB\n",
      "Overall Average SDR: -3.53089619 dB\n",
      "--------------------\n",
      "Epoch 216/1000\n"
     ]
    },
    {
     "name": "stderr",
     "output_type": "stream",
     "text": [
      "                                                                                 \r"
     ]
    },
    {
     "name": "stdout",
     "output_type": "stream",
     "text": [
      "Training Loss: 0.06687550\n",
      "Validation Loss: 0.09685846\n",
      "Average SDR for Stem 0: -2.38967943 dB\n",
      "Average SDR for Stem 1: -2.31520152 dB\n",
      "Average SDR for Stem 2: -0.80564767 dB\n",
      "Overall Average SDR: -1.83684289 dB\n",
      "--------------------\n",
      "Epoch 217/1000\n"
     ]
    },
    {
     "name": "stderr",
     "output_type": "stream",
     "text": [
      "                                                                                   \r"
     ]
    },
    {
     "name": "stdout",
     "output_type": "stream",
     "text": [
      "Training Loss: 0.10859683\n",
      "Validation Loss: 0.04946799\n",
      "Average SDR for Stem 0: -2.33313918 dB\n",
      "Average SDR for Stem 1: -6.78093910 dB\n",
      "Average SDR for Stem 2: -1.18265259 dB\n",
      "Overall Average SDR: -3.43224359 dB\n",
      "--------------------\n",
      "Epoch 218/1000\n"
     ]
    },
    {
     "name": "stderr",
     "output_type": "stream",
     "text": [
      "                                                                                 \r"
     ]
    },
    {
     "name": "stdout",
     "output_type": "stream",
     "text": [
      "Training Loss: 0.13353291\n",
      "Validation Loss: 0.18288417\n",
      "Average SDR for Stem 0: -0.00939770 dB\n",
      "Average SDR for Stem 1: -3.85075569 dB\n",
      "Average SDR for Stem 2: 2.36292243 dB\n",
      "Overall Average SDR: -0.49907699 dB\n",
      "--------------------\n",
      "Epoch 219/1000\n"
     ]
    },
    {
     "name": "stderr",
     "output_type": "stream",
     "text": [
      "                                                                                 \r"
     ]
    },
    {
     "name": "stdout",
     "output_type": "stream",
     "text": [
      "Training Loss: 0.08533064\n",
      "Validation Loss: 0.05102829\n",
      "Average SDR for Stem 0: -6.37611818 dB\n",
      "Average SDR for Stem 1: -0.86059839 dB\n",
      "Average SDR for Stem 2: -0.71932429 dB\n",
      "Overall Average SDR: -2.65201354 dB\n",
      "--------------------\n",
      "Epoch 220/1000\n"
     ]
    },
    {
     "name": "stderr",
     "output_type": "stream",
     "text": [
      "                                                                                 \r"
     ]
    },
    {
     "name": "stdout",
     "output_type": "stream",
     "text": [
      "Training Loss: 0.11516269\n",
      "Validation Loss: 0.06568640\n",
      "Average SDR for Stem 0: -0.96063900 dB\n",
      "Average SDR for Stem 1: -0.08180975 dB\n",
      "Average SDR for Stem 2: -6.80993891 dB\n",
      "Overall Average SDR: -2.61746240 dB\n",
      "--------------------\n",
      "Epoch 221/1000\n"
     ]
    },
    {
     "name": "stderr",
     "output_type": "stream",
     "text": [
      "                                                                                 \r"
     ]
    },
    {
     "name": "stdout",
     "output_type": "stream",
     "text": [
      "Training Loss: 0.09764050\n",
      "Validation Loss: 0.12849361\n",
      "Average SDR for Stem 0: -14.51828671 dB\n",
      "Average SDR for Stem 1: -0.12134401 dB\n",
      "Average SDR for Stem 2: -1.02439070 dB\n",
      "Overall Average SDR: -5.22134018 dB\n",
      "--------------------\n",
      "Epoch 222/1000\n"
     ]
    },
    {
     "name": "stderr",
     "output_type": "stream",
     "text": [
      "                                                                                   \r"
     ]
    },
    {
     "name": "stdout",
     "output_type": "stream",
     "text": [
      "Training Loss: 0.09284343\n",
      "Validation Loss: 0.14070468\n",
      "Average SDR for Stem 0: -1.46463156 dB\n",
      "Average SDR for Stem 1: -0.02828152 dB\n",
      "Average SDR for Stem 2: -3.38116193 dB\n",
      "Overall Average SDR: -1.62469161 dB\n",
      "--------------------\n",
      "Epoch 223/1000\n"
     ]
    },
    {
     "name": "stderr",
     "output_type": "stream",
     "text": [
      "                                                                                 \r"
     ]
    },
    {
     "name": "stdout",
     "output_type": "stream",
     "text": [
      "Training Loss: 0.11901383\n",
      "Validation Loss: 0.04434388\n",
      "Average SDR for Stem 0: -15.11145115 dB\n",
      "Average SDR for Stem 1: -0.48288691 dB\n",
      "Average SDR for Stem 2: -0.43985927 dB\n",
      "Overall Average SDR: -5.34473228 dB\n",
      "--------------------\n",
      "Epoch 224/1000\n"
     ]
    },
    {
     "name": "stderr",
     "output_type": "stream",
     "text": [
      "                                                                                  \r"
     ]
    },
    {
     "name": "stdout",
     "output_type": "stream",
     "text": [
      "Training Loss: 0.06731150\n",
      "Validation Loss: 0.04948462\n",
      "Average SDR for Stem 0: -3.82480168 dB\n",
      "Average SDR for Stem 1: -0.07011460 dB\n",
      "Average SDR for Stem 2: -2.28914666 dB\n",
      "Overall Average SDR: -2.06135440 dB\n",
      "--------------------\n",
      "Epoch 225/1000\n"
     ]
    },
    {
     "name": "stderr",
     "output_type": "stream",
     "text": [
      "                                                                                 \r"
     ]
    },
    {
     "name": "stdout",
     "output_type": "stream",
     "text": [
      "Training Loss: 0.13198476\n",
      "Validation Loss: 0.11967303\n",
      "Average SDR for Stem 0: -7.04877138 dB\n",
      "Average SDR for Stem 1: -1.19380379 dB\n",
      "Average SDR for Stem 2: -1.20277464 dB\n",
      "Overall Average SDR: -3.14844990 dB\n",
      "--------------------\n",
      "Epoch 226/1000\n"
     ]
    },
    {
     "name": "stderr",
     "output_type": "stream",
     "text": [
      "                                                                                 \r"
     ]
    },
    {
     "name": "stdout",
     "output_type": "stream",
     "text": [
      "Training Loss: 0.12640569\n",
      "Validation Loss: 0.23414277\n",
      "Average SDR for Stem 0: -0.01136423 dB\n",
      "Average SDR for Stem 1: -0.01105916 dB\n",
      "Average SDR for Stem 2: 2.29311109 dB\n",
      "Overall Average SDR: 0.75689584 dB\n",
      "--------------------\n",
      "Epoch 227/1000\n"
     ]
    },
    {
     "name": "stderr",
     "output_type": "stream",
     "text": [
      "                                                                                 \r"
     ]
    },
    {
     "name": "stdout",
     "output_type": "stream",
     "text": [
      "Training Loss: 0.22058479\n",
      "Validation Loss: 0.09852950\n",
      "Average SDR for Stem 0: -0.01595937 dB\n",
      "Average SDR for Stem 1: -7.13653994 dB\n",
      "Average SDR for Stem 2: -3.66843772 dB\n",
      "Overall Average SDR: -3.60697913 dB\n",
      "--------------------\n",
      "Epoch 228/1000\n"
     ]
    },
    {
     "name": "stderr",
     "output_type": "stream",
     "text": [
      "                                                                                 \r"
     ]
    },
    {
     "name": "stdout",
     "output_type": "stream",
     "text": [
      "Training Loss: 0.14028438\n",
      "Validation Loss: 0.25459465\n",
      "Average SDR for Stem 0: -0.07680953 dB\n",
      "Average SDR for Stem 1: -8.61449432 dB\n",
      "Average SDR for Stem 2: -0.48483846 dB\n",
      "Overall Average SDR: -3.05871415 dB\n",
      "--------------------\n",
      "Epoch 229/1000\n"
     ]
    },
    {
     "name": "stderr",
     "output_type": "stream",
     "text": [
      "                                                                                 \r"
     ]
    },
    {
     "name": "stdout",
     "output_type": "stream",
     "text": [
      "Training Loss: 0.11615768\n",
      "Validation Loss: 0.12166621\n",
      "Average SDR for Stem 0: -8.24256229 dB\n",
      "Average SDR for Stem 1: -0.03483484 dB\n",
      "Average SDR for Stem 2: -0.08142328 dB\n",
      "Overall Average SDR: -2.78627324 dB\n",
      "--------------------\n",
      "Epoch 230/1000\n"
     ]
    },
    {
     "name": "stderr",
     "output_type": "stream",
     "text": [
      "                                                                                 \r"
     ]
    },
    {
     "name": "stdout",
     "output_type": "stream",
     "text": [
      "Training Loss: 0.23371306\n",
      "Validation Loss: 0.28231314\n",
      "Average SDR for Stem 0: -0.00695969 dB\n",
      "Average SDR for Stem 1: -2.40636635 dB\n",
      "Average SDR for Stem 2: -8.56241798 dB\n",
      "Overall Average SDR: -3.65858150 dB\n",
      "--------------------\n",
      "Epoch 231/1000\n"
     ]
    },
    {
     "name": "stderr",
     "output_type": "stream",
     "text": [
      "                                                                                 \r"
     ]
    },
    {
     "name": "stdout",
     "output_type": "stream",
     "text": [
      "Training Loss: 0.16376848\n",
      "Validation Loss: 0.07549959\n",
      "Average SDR for Stem 0: -0.28195849 dB\n",
      "Average SDR for Stem 1: -0.04360515 dB\n",
      "Average SDR for Stem 2: -5.25476217 dB\n",
      "Overall Average SDR: -1.86010849 dB\n",
      "--------------------\n",
      "Epoch 232/1000\n"
     ]
    },
    {
     "name": "stderr",
     "output_type": "stream",
     "text": [
      "                                                                                 \r"
     ]
    },
    {
     "name": "stdout",
     "output_type": "stream",
     "text": [
      "Training Loss: 0.14605520\n",
      "Validation Loss: 0.10387595\n",
      "Average SDR for Stem 0: -5.55699348 dB\n",
      "Average SDR for Stem 1: -3.04115200 dB\n",
      "Average SDR for Stem 2: -3.86283135 dB\n",
      "Overall Average SDR: -4.15365887 dB\n",
      "--------------------\n",
      "Epoch 233/1000\n"
     ]
    },
    {
     "name": "stderr",
     "output_type": "stream",
     "text": [
      "                                                                                  \r"
     ]
    },
    {
     "name": "stdout",
     "output_type": "stream",
     "text": [
      "Training Loss: 0.58895253\n",
      "Validation Loss: 0.10297920\n",
      "Average SDR for Stem 0: -0.02246341 dB\n",
      "Average SDR for Stem 1: -0.05270101 dB\n",
      "Average SDR for Stem 2: -4.13406467 dB\n",
      "Overall Average SDR: -1.40307629 dB\n",
      "--------------------\n",
      "Epoch 234/1000\n"
     ]
    },
    {
     "name": "stderr",
     "output_type": "stream",
     "text": [
      "                                                                                 \r"
     ]
    },
    {
     "name": "stdout",
     "output_type": "stream",
     "text": [
      "Training Loss: 0.10004844\n",
      "Validation Loss: 0.17875600\n",
      "Average SDR for Stem 0: -3.18934608 dB\n",
      "Average SDR for Stem 1: -0.01965352 dB\n",
      "Average SDR for Stem 2: -0.04712586 dB\n",
      "Overall Average SDR: -1.08537519 dB\n",
      "--------------------\n",
      "Epoch 235/1000\n"
     ]
    },
    {
     "name": "stderr",
     "output_type": "stream",
     "text": [
      "                                                                                 \r"
     ]
    },
    {
     "name": "stdout",
     "output_type": "stream",
     "text": [
      "Training Loss: 0.11000166\n",
      "Validation Loss: 0.16491601\n",
      "Average SDR for Stem 0: -2.57603168 dB\n",
      "Average SDR for Stem 1: -4.97607708 dB\n",
      "Average SDR for Stem 2: -0.02126832 dB\n",
      "Overall Average SDR: -2.52445912 dB\n",
      "--------------------\n",
      "Epoch 236/1000\n"
     ]
    },
    {
     "name": "stderr",
     "output_type": "stream",
     "text": [
      "                                                                                 \r"
     ]
    },
    {
     "name": "stdout",
     "output_type": "stream",
     "text": [
      "Training Loss: 0.07381093\n",
      "Validation Loss: 0.10759042\n",
      "Average SDR for Stem 0: -6.33998251 dB\n",
      "Average SDR for Stem 1: -0.05488769 dB\n",
      "Average SDR for Stem 2: -0.08041707 dB\n",
      "Overall Average SDR: -2.15842915 dB\n",
      "--------------------\n",
      "Epoch 237/1000\n"
     ]
    },
    {
     "name": "stderr",
     "output_type": "stream",
     "text": [
      "                                                                                 \r"
     ]
    },
    {
     "name": "stdout",
     "output_type": "stream",
     "text": [
      "Training Loss: 0.10723568\n",
      "Validation Loss: 0.16673113\n",
      "Average SDR for Stem 0: -2.42384672 dB\n",
      "Average SDR for Stem 1: -0.03265523 dB\n",
      "Average SDR for Stem 2: -0.06989677 dB\n",
      "Overall Average SDR: -0.84213287 dB\n",
      "--------------------\n",
      "Epoch 238/1000\n"
     ]
    },
    {
     "name": "stderr",
     "output_type": "stream",
     "text": [
      "                                                                                 \r"
     ]
    },
    {
     "name": "stdout",
     "output_type": "stream",
     "text": [
      "Training Loss: 0.10153683\n",
      "Validation Loss: 0.05992363\n",
      "Average SDR for Stem 0: -5.03724194 dB\n",
      "Average SDR for Stem 1: -0.08708447 dB\n",
      "Average SDR for Stem 2: -3.32851577 dB\n",
      "Overall Average SDR: -2.81761384 dB\n",
      "--------------------\n",
      "Epoch 239/1000\n"
     ]
    },
    {
     "name": "stderr",
     "output_type": "stream",
     "text": [
      "                                                                                 \r"
     ]
    },
    {
     "name": "stdout",
     "output_type": "stream",
     "text": [
      "Training Loss: 0.21686573\n",
      "Validation Loss: 0.09426921\n",
      "Average SDR for Stem 0: -8.99264431 dB\n",
      "Average SDR for Stem 1: -11.71376514 dB\n",
      "Average SDR for Stem 2: -0.06792444 dB\n",
      "Overall Average SDR: -6.92477798 dB\n",
      "--------------------\n",
      "Epoch 240/1000\n"
     ]
    },
    {
     "name": "stderr",
     "output_type": "stream",
     "text": [
      "                                                                                 \r"
     ]
    },
    {
     "name": "stdout",
     "output_type": "stream",
     "text": [
      "Training Loss: 0.10908760\n",
      "Validation Loss: 0.06507144\n",
      "Average SDR for Stem 0: -0.53609425 dB\n",
      "Average SDR for Stem 1: -5.22598219 dB\n",
      "Average SDR for Stem 2: -5.19900846 dB\n",
      "Overall Average SDR: -3.65369487 dB\n",
      "--------------------\n",
      "Epoch 241/1000\n"
     ]
    },
    {
     "name": "stderr",
     "output_type": "stream",
     "text": [
      "                                                                                 \r"
     ]
    },
    {
     "name": "stdout",
     "output_type": "stream",
     "text": [
      "Training Loss: 0.08501759\n",
      "Validation Loss: 0.16187838\n",
      "Average SDR for Stem 0: -4.17055845 dB\n",
      "Average SDR for Stem 1: -1.35786283 dB\n",
      "Average SDR for Stem 2: -0.27674505 dB\n",
      "Overall Average SDR: -1.93505538 dB\n",
      "--------------------\n",
      "Epoch 242/1000\n"
     ]
    },
    {
     "name": "stderr",
     "output_type": "stream",
     "text": [
      "                                                                                 \r"
     ]
    },
    {
     "name": "stdout",
     "output_type": "stream",
     "text": [
      "Training Loss: 0.08991752\n",
      "Validation Loss: 0.11315961\n",
      "Average SDR for Stem 0: -3.18397069 dB\n",
      "Average SDR for Stem 1: -0.04394472 dB\n",
      "Average SDR for Stem 2: -4.98557615 dB\n",
      "Overall Average SDR: -2.73783040 dB\n",
      "--------------------\n",
      "Epoch 243/1000\n"
     ]
    },
    {
     "name": "stderr",
     "output_type": "stream",
     "text": [
      "                                                                                 \r"
     ]
    },
    {
     "name": "stdout",
     "output_type": "stream",
     "text": [
      "Training Loss: 0.13605084\n",
      "Validation Loss: 0.05375296\n",
      "Average SDR for Stem 0: -2.00353003 dB\n",
      "Average SDR for Stem 1: -0.04961443 dB\n",
      "Average SDR for Stem 2: -4.04854012 dB\n",
      "Overall Average SDR: -2.03389478 dB\n",
      "--------------------\n",
      "Epoch 244/1000\n"
     ]
    },
    {
     "name": "stderr",
     "output_type": "stream",
     "text": [
      "                                                                                 \r"
     ]
    },
    {
     "name": "stdout",
     "output_type": "stream",
     "text": [
      "Training Loss: 0.11488303\n",
      "Validation Loss: 0.17587735\n",
      "Average SDR for Stem 0: -0.00904287 dB\n",
      "Average SDR for Stem 1: -0.12295272 dB\n",
      "Average SDR for Stem 2: -2.61962581 dB\n",
      "Overall Average SDR: -0.91720718 dB\n",
      "--------------------\n",
      "Epoch 245/1000\n"
     ]
    },
    {
     "name": "stderr",
     "output_type": "stream",
     "text": [
      "                                                                                 \r"
     ]
    },
    {
     "name": "stdout",
     "output_type": "stream",
     "text": [
      "Training Loss: 0.08771580\n",
      "Validation Loss: 0.20131964\n",
      "Average SDR for Stem 0: -1.31136811 dB\n",
      "Average SDR for Stem 1: -0.91222572 dB\n",
      "Average SDR for Stem 2: -0.53036171 dB\n",
      "Overall Average SDR: -0.91798514 dB\n",
      "--------------------\n",
      "Epoch 246/1000\n"
     ]
    },
    {
     "name": "stderr",
     "output_type": "stream",
     "text": [
      "                                                                                 \r"
     ]
    },
    {
     "name": "stdout",
     "output_type": "stream",
     "text": [
      "Training Loss: 0.14958609\n",
      "Validation Loss: 0.08359988\n",
      "Average SDR for Stem 0: -0.13113436 dB\n",
      "Average SDR for Stem 1: -6.93226480 dB\n",
      "Average SDR for Stem 2: -0.22026064 dB\n",
      "Overall Average SDR: -2.42788672 dB\n",
      "--------------------\n",
      "Epoch 247/1000\n"
     ]
    },
    {
     "name": "stderr",
     "output_type": "stream",
     "text": [
      "                                                                                 \r"
     ]
    },
    {
     "name": "stdout",
     "output_type": "stream",
     "text": [
      "Training Loss: 0.14509948\n",
      "Validation Loss: 0.05779856\n",
      "Average SDR for Stem 0: -2.86233354 dB\n",
      "Average SDR for Stem 1: -1.81508303 dB\n",
      "Average SDR for Stem 2: -3.50134063 dB\n",
      "Overall Average SDR: -2.72625256 dB\n",
      "--------------------\n",
      "Epoch 248/1000\n"
     ]
    },
    {
     "name": "stderr",
     "output_type": "stream",
     "text": [
      "                                                                                 \r"
     ]
    },
    {
     "name": "stdout",
     "output_type": "stream",
     "text": [
      "Training Loss: 0.09290236\n",
      "Validation Loss: 0.09457501\n",
      "Average SDR for Stem 0: -0.01450034 dB\n",
      "Average SDR for Stem 1: -0.02051915 dB\n",
      "Average SDR for Stem 2: -0.06664757 dB\n",
      "Overall Average SDR: -0.03388902 dB\n",
      "--------------------\n",
      "Epoch 249/1000\n"
     ]
    },
    {
     "name": "stderr",
     "output_type": "stream",
     "text": [
      "                                                                                 \r"
     ]
    },
    {
     "name": "stdout",
     "output_type": "stream",
     "text": [
      "Training Loss: 0.11900989\n",
      "Validation Loss: 0.05496768\n",
      "Average SDR for Stem 0: -0.07111888 dB\n",
      "Average SDR for Stem 1: -6.41901541 dB\n",
      "Average SDR for Stem 2: -8.38519573 dB\n",
      "Overall Average SDR: -4.95844316 dB\n",
      "--------------------\n",
      "Epoch 250/1000\n"
     ]
    },
    {
     "name": "stderr",
     "output_type": "stream",
     "text": [
      "                                                                                 \r"
     ]
    },
    {
     "name": "stdout",
     "output_type": "stream",
     "text": [
      "Training Loss: 0.11598300\n",
      "Validation Loss: 0.02865865\n",
      "Average SDR for Stem 0: -3.55203152 dB\n",
      "Average SDR for Stem 1: -3.55617714 dB\n",
      "Average SDR for Stem 2: -0.56231230 dB\n",
      "Overall Average SDR: -2.55684018 dB\n",
      "--------------------\n",
      "Epoch 251/1000\n"
     ]
    },
    {
     "name": "stderr",
     "output_type": "stream",
     "text": [
      "                                                                                  \r"
     ]
    },
    {
     "name": "stdout",
     "output_type": "stream",
     "text": [
      "Training Loss: 0.06469913\n",
      "Validation Loss: 0.09409738\n",
      "Average SDR for Stem 0: -0.01353034 dB\n",
      "Average SDR for Stem 1: -0.03113996 dB\n",
      "Average SDR for Stem 2: -10.44766045 dB\n",
      "Overall Average SDR: -3.49744344 dB\n",
      "--------------------\n",
      "Epoch 252/1000\n"
     ]
    },
    {
     "name": "stderr",
     "output_type": "stream",
     "text": [
      "                                                                                 \r"
     ]
    },
    {
     "name": "stdout",
     "output_type": "stream",
     "text": [
      "Training Loss: 0.06936490\n",
      "Validation Loss: 0.08839635\n",
      "Average SDR for Stem 0: -6.74941635 dB\n",
      "Average SDR for Stem 1: -0.45263276 dB\n",
      "Average SDR for Stem 2: -0.67170453 dB\n",
      "Overall Average SDR: -2.62458444 dB\n",
      "--------------------\n",
      "Epoch 253/1000\n"
     ]
    },
    {
     "name": "stderr",
     "output_type": "stream",
     "text": [
      "                                                                                 \r"
     ]
    },
    {
     "name": "stdout",
     "output_type": "stream",
     "text": [
      "Training Loss: 0.11564745\n",
      "Validation Loss: 0.17841691\n",
      "Average SDR for Stem 0: -3.33018851 dB\n",
      "Average SDR for Stem 1: -0.03551505 dB\n",
      "Average SDR for Stem 2: -3.80965114 dB\n",
      "Overall Average SDR: -2.39178491 dB\n",
      "--------------------\n",
      "Epoch 254/1000\n"
     ]
    },
    {
     "name": "stderr",
     "output_type": "stream",
     "text": [
      "                                                                                 \r"
     ]
    },
    {
     "name": "stdout",
     "output_type": "stream",
     "text": [
      "Training Loss: 0.06759007\n",
      "Validation Loss: 0.14121103\n",
      "Average SDR for Stem 0: -8.92960644 dB\n",
      "Average SDR for Stem 1: -3.10186839 dB\n",
      "Average SDR for Stem 2: -3.80778694 dB\n",
      "Overall Average SDR: -5.27975416 dB\n",
      "--------------------\n",
      "Epoch 255/1000\n"
     ]
    },
    {
     "name": "stderr",
     "output_type": "stream",
     "text": [
      "                                                                                 \r"
     ]
    },
    {
     "name": "stdout",
     "output_type": "stream",
     "text": [
      "Training Loss: 0.08553647\n",
      "Validation Loss: 0.08100939\n",
      "Average SDR for Stem 0: -0.01664976 dB\n",
      "Average SDR for Stem 1: -0.04060668 dB\n",
      "Average SDR for Stem 2: -5.02554178 dB\n",
      "Overall Average SDR: -1.69426596 dB\n",
      "--------------------\n",
      "Epoch 256/1000\n"
     ]
    },
    {
     "name": "stderr",
     "output_type": "stream",
     "text": [
      "                                                                                 \r"
     ]
    },
    {
     "name": "stdout",
     "output_type": "stream",
     "text": [
      "Training Loss: 0.06530012\n",
      "Validation Loss: 0.04684903\n",
      "Average SDR for Stem 0: -5.28048849 dB\n",
      "Average SDR for Stem 1: -0.09612754 dB\n",
      "Average SDR for Stem 2: -8.24656773 dB\n",
      "Overall Average SDR: -4.54106140 dB\n",
      "--------------------\n",
      "Epoch 257/1000\n"
     ]
    },
    {
     "name": "stderr",
     "output_type": "stream",
     "text": [
      "                                                                                 \r"
     ]
    },
    {
     "name": "stdout",
     "output_type": "stream",
     "text": [
      "Training Loss: 0.14653815\n",
      "Validation Loss: 0.14743535\n",
      "Average SDR for Stem 0: -0.56336945 dB\n",
      "Average SDR for Stem 1: -0.01697179 dB\n",
      "Average SDR for Stem 2: -0.07977299 dB\n",
      "Overall Average SDR: -0.22003807 dB\n",
      "--------------------\n",
      "Epoch 258/1000\n"
     ]
    },
    {
     "name": "stderr",
     "output_type": "stream",
     "text": [
      "                                                                                 \r"
     ]
    },
    {
     "name": "stdout",
     "output_type": "stream",
     "text": [
      "Training Loss: 0.09044608\n",
      "Validation Loss: 0.09221681\n",
      "Average SDR for Stem 0: -3.23069453 dB\n",
      "Average SDR for Stem 1: -0.14636563 dB\n",
      "Average SDR for Stem 2: -0.08082828 dB\n",
      "Overall Average SDR: -1.15262949 dB\n",
      "--------------------\n",
      "Epoch 259/1000\n"
     ]
    },
    {
     "name": "stderr",
     "output_type": "stream",
     "text": [
      "                                                                                 \r"
     ]
    },
    {
     "name": "stdout",
     "output_type": "stream",
     "text": [
      "Training Loss: 0.08534523\n",
      "Validation Loss: 0.09583173\n",
      "Average SDR for Stem 0: -0.88557333 dB\n",
      "Average SDR for Stem 1: -0.66750312 dB\n",
      "Average SDR for Stem 2: -0.57103819 dB\n",
      "Overall Average SDR: -0.70803827 dB\n",
      "--------------------\n",
      "Epoch 260/1000\n"
     ]
    },
    {
     "name": "stderr",
     "output_type": "stream",
     "text": [
      "                                                                                   \r"
     ]
    },
    {
     "name": "stdout",
     "output_type": "stream",
     "text": [
      "Training Loss: 0.14904554\n",
      "Validation Loss: 0.05561267\n",
      "Average SDR for Stem 0: -0.03640001 dB\n",
      "Average SDR for Stem 1: -0.39913106 dB\n",
      "Average SDR for Stem 2: -6.86436462 dB\n",
      "Overall Average SDR: -2.43329859 dB\n",
      "--------------------\n",
      "Epoch 261/1000\n"
     ]
    },
    {
     "name": "stderr",
     "output_type": "stream",
     "text": [
      "                                                                                 \r"
     ]
    },
    {
     "name": "stdout",
     "output_type": "stream",
     "text": [
      "Training Loss: 0.10463464\n",
      "Validation Loss: 0.07788278\n",
      "Average SDR for Stem 0: -0.02754378 dB\n",
      "Average SDR for Stem 1: -5.98188353 dB\n",
      "Average SDR for Stem 2: -0.08159029 dB\n",
      "Overall Average SDR: -2.03033900 dB\n",
      "--------------------\n",
      "Epoch 262/1000\n"
     ]
    },
    {
     "name": "stderr",
     "output_type": "stream",
     "text": [
      "                                                                                  \r"
     ]
    },
    {
     "name": "stdout",
     "output_type": "stream",
     "text": [
      "Training Loss: 0.17449440\n",
      "Validation Loss: 0.11988800\n",
      "Average SDR for Stem 0: -3.79423308 dB\n",
      "Average SDR for Stem 1: -0.08276221 dB\n",
      "Average SDR for Stem 2: -1.10306215 dB\n",
      "Overall Average SDR: -1.66001928 dB\n",
      "--------------------\n",
      "Epoch 263/1000\n"
     ]
    },
    {
     "name": "stderr",
     "output_type": "stream",
     "text": [
      "                                                                                 \r"
     ]
    },
    {
     "name": "stdout",
     "output_type": "stream",
     "text": [
      "Training Loss: 0.12850063\n",
      "Validation Loss: 0.06793460\n",
      "Average SDR for Stem 0: -1.88649178 dB\n",
      "Average SDR for Stem 1: -4.12711573 dB\n",
      "Average SDR for Stem 2: -4.72766638 dB\n",
      "Overall Average SDR: -3.58042455 dB\n",
      "--------------------\n",
      "Epoch 264/1000\n"
     ]
    },
    {
     "name": "stderr",
     "output_type": "stream",
     "text": [
      "                                                                                 \r"
     ]
    },
    {
     "name": "stdout",
     "output_type": "stream",
     "text": [
      "Training Loss: 0.11169724\n",
      "Validation Loss: 0.11510931\n",
      "Average SDR for Stem 0: -5.66707230 dB\n",
      "Average SDR for Stem 1: -0.02749044 dB\n",
      "Average SDR for Stem 2: -3.63547540 dB\n",
      "Overall Average SDR: -3.11001277 dB\n",
      "--------------------\n",
      "Epoch 265/1000\n"
     ]
    },
    {
     "name": "stderr",
     "output_type": "stream",
     "text": [
      "                                                                                 \r"
     ]
    },
    {
     "name": "stdout",
     "output_type": "stream",
     "text": [
      "Training Loss: 0.09257427\n",
      "Validation Loss: 0.08466426\n",
      "Average SDR for Stem 0: -2.42868018 dB\n",
      "Average SDR for Stem 1: -4.50908470 dB\n",
      "Average SDR for Stem 2: -2.27781725 dB\n",
      "Overall Average SDR: -3.07186055 dB\n",
      "--------------------\n",
      "Epoch 266/1000\n"
     ]
    },
    {
     "name": "stderr",
     "output_type": "stream",
     "text": [
      "                                                                                 \r"
     ]
    },
    {
     "name": "stdout",
     "output_type": "stream",
     "text": [
      "Training Loss: 0.09172192\n",
      "Validation Loss: 0.05524294\n",
      "Average SDR for Stem 0: -5.64597845 dB\n",
      "Average SDR for Stem 1: -1.41629779 dB\n",
      "Average SDR for Stem 2: -0.05781024 dB\n",
      "Overall Average SDR: -2.37336230 dB\n",
      "--------------------\n",
      "Epoch 267/1000\n"
     ]
    },
    {
     "name": "stderr",
     "output_type": "stream",
     "text": [
      "                                                                                 \r"
     ]
    },
    {
     "name": "stdout",
     "output_type": "stream",
     "text": [
      "Training Loss: 0.09285033\n",
      "Validation Loss: 0.11427710\n",
      "Average SDR for Stem 0: -9.18786621 dB\n",
      "Average SDR for Stem 1: -0.01853351 dB\n",
      "Average SDR for Stem 2: -1.40521467 dB\n",
      "Overall Average SDR: -3.53720474 dB\n",
      "--------------------\n",
      "Epoch 268/1000\n"
     ]
    },
    {
     "name": "stderr",
     "output_type": "stream",
     "text": [
      "                                                                                 \r"
     ]
    },
    {
     "name": "stdout",
     "output_type": "stream",
     "text": [
      "Training Loss: 0.05161648\n",
      "Validation Loss: 0.12921294\n",
      "Average SDR for Stem 0: -0.00775518 dB\n",
      "Average SDR for Stem 1: -0.11131778 dB\n",
      "Average SDR for Stem 2: -0.02261592 dB\n",
      "Overall Average SDR: -0.04722963 dB\n",
      "--------------------\n",
      "Epoch 269/1000\n"
     ]
    },
    {
     "name": "stderr",
     "output_type": "stream",
     "text": [
      "                                                                                 \r"
     ]
    },
    {
     "name": "stdout",
     "output_type": "stream",
     "text": [
      "Training Loss: 0.09418147\n",
      "Validation Loss: 0.02151532\n",
      "Average SDR for Stem 0: -0.16919684 dB\n",
      "Average SDR for Stem 1: -1.70586872 dB\n",
      "Average SDR for Stem 2: -0.46729907 dB\n",
      "Overall Average SDR: -0.78078818 dB\n",
      "--------------------\n",
      "Epoch 270/1000\n"
     ]
    },
    {
     "name": "stderr",
     "output_type": "stream",
     "text": [
      "                                                                                 \r"
     ]
    },
    {
     "name": "stdout",
     "output_type": "stream",
     "text": [
      "Training Loss: 0.30041323\n",
      "Validation Loss: 0.09165612\n",
      "Average SDR for Stem 0: -8.10119152 dB\n",
      "Average SDR for Stem 1: -0.02070029 dB\n",
      "Average SDR for Stem 2: -0.01283843 dB\n",
      "Overall Average SDR: -2.71157670 dB\n",
      "--------------------\n",
      "Epoch 271/1000\n"
     ]
    },
    {
     "name": "stderr",
     "output_type": "stream",
     "text": [
      "                                                                                 \r"
     ]
    },
    {
     "name": "stdout",
     "output_type": "stream",
     "text": [
      "Training Loss: 0.12656301\n",
      "Validation Loss: 0.05354734\n",
      "Average SDR for Stem 0: -5.62035799 dB\n",
      "Average SDR for Stem 1: -2.67499352 dB\n",
      "Average SDR for Stem 2: -3.68919015 dB\n",
      "Overall Average SDR: -3.99484706 dB\n",
      "--------------------\n",
      "Epoch 272/1000\n"
     ]
    },
    {
     "name": "stderr",
     "output_type": "stream",
     "text": [
      "                                                                                 \r"
     ]
    },
    {
     "name": "stdout",
     "output_type": "stream",
     "text": [
      "Training Loss: 0.14452825\n",
      "Validation Loss: 0.31940817\n",
      "Average SDR for Stem 0: -0.01613258 dB\n",
      "Average SDR for Stem 1: -0.01936031 dB\n",
      "Average SDR for Stem 2: -0.03479316 dB\n",
      "Overall Average SDR: -0.02342868 dB\n",
      "--------------------\n",
      "Epoch 273/1000\n"
     ]
    },
    {
     "name": "stderr",
     "output_type": "stream",
     "text": [
      "                                                                                  \r"
     ]
    },
    {
     "name": "stdout",
     "output_type": "stream",
     "text": [
      "Training Loss: 0.09079824\n",
      "Validation Loss: 0.15881864\n",
      "Average SDR for Stem 0: -0.94931084 dB\n",
      "Average SDR for Stem 1: -0.01876735 dB\n",
      "Average SDR for Stem 2: -0.03722094 dB\n",
      "Overall Average SDR: -0.33509970 dB\n",
      "--------------------\n",
      "Epoch 274/1000\n"
     ]
    },
    {
     "name": "stderr",
     "output_type": "stream",
     "text": [
      "                                                                                 \r"
     ]
    },
    {
     "name": "stdout",
     "output_type": "stream",
     "text": [
      "Training Loss: 0.09292405\n",
      "Validation Loss: 0.11005516\n",
      "Average SDR for Stem 0: -0.01607046 dB\n",
      "Average SDR for Stem 1: -0.10278652 dB\n",
      "Average SDR for Stem 2: -0.05449686 dB\n",
      "Overall Average SDR: -0.05778461 dB\n",
      "--------------------\n",
      "Epoch 275/1000\n"
     ]
    },
    {
     "name": "stderr",
     "output_type": "stream",
     "text": [
      "                                                                                   \r"
     ]
    },
    {
     "name": "stdout",
     "output_type": "stream",
     "text": [
      "Training Loss: 0.08116921\n",
      "Validation Loss: 0.06408094\n",
      "Average SDR for Stem 0: -5.31139898 dB\n",
      "Average SDR for Stem 1: -0.63703007 dB\n",
      "Average SDR for Stem 2: -0.08833244 dB\n",
      "Overall Average SDR: -2.01225400 dB\n",
      "--------------------\n",
      "Epoch 276/1000\n"
     ]
    },
    {
     "name": "stderr",
     "output_type": "stream",
     "text": [
      "                                                                                 \r"
     ]
    },
    {
     "name": "stdout",
     "output_type": "stream",
     "text": [
      "Training Loss: 0.37216943\n",
      "Validation Loss: 0.14979154\n",
      "Average SDR for Stem 0: -0.00787198 dB\n",
      "Average SDR for Stem 1: -4.23106861 dB\n",
      "Average SDR for Stem 2: -0.03400034 dB\n",
      "Overall Average SDR: -1.42431366 dB\n",
      "--------------------\n",
      "Epoch 277/1000\n"
     ]
    },
    {
     "name": "stderr",
     "output_type": "stream",
     "text": [
      "                                                                                 \r"
     ]
    },
    {
     "name": "stdout",
     "output_type": "stream",
     "text": [
      "Training Loss: 0.10080731\n",
      "Validation Loss: 0.08443590\n",
      "Average SDR for Stem 0: -7.56003952 dB\n",
      "Average SDR for Stem 1: -7.37388945 dB\n",
      "Average SDR for Stem 2: -4.37351274 dB\n",
      "Overall Average SDR: -6.43581390 dB\n",
      "--------------------\n",
      "Epoch 278/1000\n"
     ]
    },
    {
     "name": "stderr",
     "output_type": "stream",
     "text": [
      "                                                                                 \r"
     ]
    },
    {
     "name": "stdout",
     "output_type": "stream",
     "text": [
      "Training Loss: 0.12167893\n",
      "Validation Loss: 0.08171476\n",
      "Average SDR for Stem 0: -4.13189268 dB\n",
      "Average SDR for Stem 1: -1.11800778 dB\n",
      "Average SDR for Stem 2: -2.37344432 dB\n",
      "Overall Average SDR: -2.54111481 dB\n",
      "--------------------\n",
      "Epoch 279/1000\n"
     ]
    },
    {
     "name": "stderr",
     "output_type": "stream",
     "text": [
      "                                                                                 \r"
     ]
    },
    {
     "name": "stdout",
     "output_type": "stream",
     "text": [
      "Training Loss: 0.06669259\n",
      "Validation Loss: 0.03435032\n",
      "Average SDR for Stem 0: -11.94757462 dB\n",
      "Average SDR for Stem 1: -1.15817666 dB\n",
      "Average SDR for Stem 2: -2.74093080 dB\n",
      "Overall Average SDR: -5.28222704 dB\n",
      "--------------------\n",
      "Epoch 280/1000\n"
     ]
    },
    {
     "name": "stderr",
     "output_type": "stream",
     "text": [
      "                                                                                 \r"
     ]
    },
    {
     "name": "stdout",
     "output_type": "stream",
     "text": [
      "Training Loss: 0.12439032\n",
      "Validation Loss: 0.09999862\n",
      "Average SDR for Stem 0: -0.01531288 dB\n",
      "Average SDR for Stem 1: -0.04989946 dB\n",
      "Average SDR for Stem 2: -10.05860424 dB\n",
      "Overall Average SDR: -3.37460542 dB\n",
      "--------------------\n",
      "Epoch 281/1000\n"
     ]
    },
    {
     "name": "stderr",
     "output_type": "stream",
     "text": [
      "                                                                                 \r"
     ]
    },
    {
     "name": "stdout",
     "output_type": "stream",
     "text": [
      "Training Loss: 0.05790412\n",
      "Validation Loss: 0.17520994\n",
      "Average SDR for Stem 0: -0.01048754 dB\n",
      "Average SDR for Stem 1: -4.04629278 dB\n",
      "Average SDR for Stem 2: -3.95025277 dB\n",
      "Overall Average SDR: -2.66901112 dB\n",
      "--------------------\n",
      "Epoch 282/1000\n"
     ]
    },
    {
     "name": "stderr",
     "output_type": "stream",
     "text": [
      "                                                                                 \r"
     ]
    },
    {
     "name": "stdout",
     "output_type": "stream",
     "text": [
      "Training Loss: 0.10115831\n",
      "Validation Loss: 0.07039395\n",
      "Average SDR for Stem 0: -2.96144605 dB\n",
      "Average SDR for Stem 1: -2.24237204 dB\n",
      "Average SDR for Stem 2: -2.52419972 dB\n",
      "Overall Average SDR: -2.57600594 dB\n",
      "--------------------\n",
      "Epoch 283/1000\n"
     ]
    },
    {
     "name": "stderr",
     "output_type": "stream",
     "text": [
      "                                                                                 \r"
     ]
    },
    {
     "name": "stdout",
     "output_type": "stream",
     "text": [
      "Training Loss: 0.09762292\n",
      "Validation Loss: 0.13977483\n",
      "Average SDR for Stem 0: -0.01911614 dB\n",
      "Average SDR for Stem 1: -0.02830019 dB\n",
      "Average SDR for Stem 2: -0.10195168 dB\n",
      "Overall Average SDR: -0.04978934 dB\n",
      "--------------------\n",
      "Epoch 284/1000\n"
     ]
    },
    {
     "name": "stderr",
     "output_type": "stream",
     "text": [
      "                                                                                  \r"
     ]
    },
    {
     "name": "stdout",
     "output_type": "stream",
     "text": [
      "Training Loss: 0.09436749\n",
      "Validation Loss: 0.04275412\n",
      "Average SDR for Stem 0: -10.47089195 dB\n",
      "Average SDR for Stem 1: -0.05994549 dB\n",
      "Average SDR for Stem 2: -0.12573552 dB\n",
      "Overall Average SDR: -3.55219078 dB\n",
      "--------------------\n",
      "Epoch 285/1000\n"
     ]
    },
    {
     "name": "stderr",
     "output_type": "stream",
     "text": [
      "                                                                                 \r"
     ]
    },
    {
     "name": "stdout",
     "output_type": "stream",
     "text": [
      "Training Loss: 0.13716919\n",
      "Validation Loss: 0.04589519\n",
      "Average SDR for Stem 0: -1.44953680 dB\n",
      "Average SDR for Stem 1: -0.96983892 dB\n",
      "Average SDR for Stem 2: 1.09071207 dB\n",
      "Overall Average SDR: -0.44288787 dB\n",
      "--------------------\n",
      "Epoch 286/1000\n"
     ]
    },
    {
     "name": "stderr",
     "output_type": "stream",
     "text": [
      "                                                                                 \r"
     ]
    },
    {
     "name": "stdout",
     "output_type": "stream",
     "text": [
      "Training Loss: 0.08566431\n",
      "Validation Loss: 0.07710309\n",
      "Average SDR for Stem 0: -0.02063805 dB\n",
      "Average SDR for Stem 1: -2.82469916 dB\n",
      "Average SDR for Stem 2: -1.24143767 dB\n",
      "Overall Average SDR: -1.36225832 dB\n",
      "--------------------\n",
      "Epoch 287/1000\n"
     ]
    },
    {
     "name": "stderr",
     "output_type": "stream",
     "text": [
      "                                                                                 \r"
     ]
    },
    {
     "name": "stdout",
     "output_type": "stream",
     "text": [
      "Training Loss: 0.06174927\n",
      "Validation Loss: 0.16631768\n",
      "Average SDR for Stem 0: -1.06315398 dB\n",
      "Average SDR for Stem 1: -16.74615288 dB\n",
      "Average SDR for Stem 2: -0.35403040 dB\n",
      "Overall Average SDR: -6.05444574 dB\n",
      "--------------------\n",
      "Epoch 288/1000\n"
     ]
    },
    {
     "name": "stderr",
     "output_type": "stream",
     "text": [
      "                                                                                  \r"
     ]
    },
    {
     "name": "stdout",
     "output_type": "stream",
     "text": [
      "Training Loss: 0.09664574\n",
      "Validation Loss: 0.09269735\n",
      "Average SDR for Stem 0: -1.49233675 dB\n",
      "Average SDR for Stem 1: -0.01685536 dB\n",
      "Average SDR for Stem 2: -4.46103573 dB\n",
      "Overall Average SDR: -1.99007595 dB\n",
      "--------------------\n",
      "Epoch 289/1000\n"
     ]
    },
    {
     "name": "stderr",
     "output_type": "stream",
     "text": [
      "                                                                                 \r"
     ]
    },
    {
     "name": "stdout",
     "output_type": "stream",
     "text": [
      "Training Loss: 0.10958444\n",
      "Validation Loss: 0.10890827\n",
      "Average SDR for Stem 0: -0.88227016 dB\n",
      "Average SDR for Stem 1: -1.46917737 dB\n",
      "Average SDR for Stem 2: -1.99651802 dB\n",
      "Overall Average SDR: -1.44932187 dB\n",
      "--------------------\n",
      "Epoch 290/1000\n"
     ]
    },
    {
     "name": "stderr",
     "output_type": "stream",
     "text": [
      "                                                                                 \r"
     ]
    },
    {
     "name": "stdout",
     "output_type": "stream",
     "text": [
      "Training Loss: 0.37803676\n",
      "Validation Loss: 0.10003956\n",
      "Average SDR for Stem 0: 0.00723591 dB\n",
      "Average SDR for Stem 1: -1.92708731 dB\n",
      "Average SDR for Stem 2: -2.66645908 dB\n",
      "Overall Average SDR: -1.52877009 dB\n",
      "--------------------\n",
      "Epoch 291/1000\n"
     ]
    },
    {
     "name": "stderr",
     "output_type": "stream",
     "text": [
      "                                                                                  \r"
     ]
    },
    {
     "name": "stdout",
     "output_type": "stream",
     "text": [
      "Training Loss: 0.09767936\n",
      "Validation Loss: 0.06936441\n",
      "Average SDR for Stem 0: -12.31941128 dB\n",
      "Average SDR for Stem 1: -7.30029726 dB\n",
      "Average SDR for Stem 2: -0.02525930 dB\n",
      "Overall Average SDR: -6.54832268 dB\n",
      "--------------------\n",
      "Epoch 292/1000\n"
     ]
    },
    {
     "name": "stderr",
     "output_type": "stream",
     "text": [
      "                                                                                  \r"
     ]
    },
    {
     "name": "stdout",
     "output_type": "stream",
     "text": [
      "Training Loss: 0.06126350\n",
      "Validation Loss: 0.06714956\n",
      "Average SDR for Stem 0: -6.09862328 dB\n",
      "Average SDR for Stem 1: -0.03328187 dB\n",
      "Average SDR for Stem 2: -5.10666561 dB\n",
      "Overall Average SDR: -3.74619031 dB\n",
      "--------------------\n",
      "Epoch 293/1000\n"
     ]
    },
    {
     "name": "stderr",
     "output_type": "stream",
     "text": [
      "                                                                                 \r"
     ]
    },
    {
     "name": "stdout",
     "output_type": "stream",
     "text": [
      "Training Loss: 0.10199924\n",
      "Validation Loss: 0.12293323\n",
      "Average SDR for Stem 0: -3.05835176 dB\n",
      "Average SDR for Stem 1: -7.48369074 dB\n",
      "Average SDR for Stem 2: -1.49638951 dB\n",
      "Overall Average SDR: -4.01281071 dB\n",
      "--------------------\n",
      "Epoch 294/1000\n"
     ]
    },
    {
     "name": "stderr",
     "output_type": "stream",
     "text": [
      "                                                                                 \r"
     ]
    },
    {
     "name": "stdout",
     "output_type": "stream",
     "text": [
      "Training Loss: 0.10203009\n",
      "Validation Loss: 0.07990529\n",
      "Average SDR for Stem 0: -1.17521274 dB\n",
      "Average SDR for Stem 1: -0.09059774 dB\n",
      "Average SDR for Stem 2: -0.06455388 dB\n",
      "Overall Average SDR: -0.44345477 dB\n",
      "--------------------\n",
      "Epoch 295/1000\n"
     ]
    },
    {
     "name": "stderr",
     "output_type": "stream",
     "text": [
      "                                                                                  \r"
     ]
    },
    {
     "name": "stdout",
     "output_type": "stream",
     "text": [
      "Training Loss: 0.10749444\n",
      "Validation Loss: 0.12703491\n",
      "Average SDR for Stem 0: -0.02829828 dB\n",
      "Average SDR for Stem 1: -0.03545320 dB\n",
      "Average SDR for Stem 2: -6.81506872 dB\n",
      "Overall Average SDR: -2.29294014 dB\n",
      "--------------------\n",
      "Epoch 296/1000\n"
     ]
    },
    {
     "name": "stderr",
     "output_type": "stream",
     "text": [
      "                                                                                 \r"
     ]
    },
    {
     "name": "stdout",
     "output_type": "stream",
     "text": [
      "Training Loss: 0.06705994\n",
      "Validation Loss: 0.05096165\n",
      "Average SDR for Stem 0: -4.48610878 dB\n",
      "Average SDR for Stem 1: -0.02774853 dB\n",
      "Average SDR for Stem 2: -0.06166177 dB\n",
      "Overall Average SDR: -1.52517307 dB\n",
      "--------------------\n",
      "Epoch 297/1000\n"
     ]
    },
    {
     "name": "stderr",
     "output_type": "stream",
     "text": [
      "                                                                                 \r"
     ]
    },
    {
     "name": "stdout",
     "output_type": "stream",
     "text": [
      "Training Loss: 0.14248760\n",
      "Validation Loss: 0.05849084\n",
      "Average SDR for Stem 0: -8.21866894 dB\n",
      "Average SDR for Stem 1: -0.18910877 dB\n",
      "Average SDR for Stem 2: -0.05671131 dB\n",
      "Overall Average SDR: -2.82149625 dB\n",
      "--------------------\n",
      "Epoch 298/1000\n"
     ]
    },
    {
     "name": "stderr",
     "output_type": "stream",
     "text": [
      "                                                                                 \r"
     ]
    },
    {
     "name": "stdout",
     "output_type": "stream",
     "text": [
      "Training Loss: 0.12063050\n",
      "Validation Loss: 0.05792128\n",
      "Average SDR for Stem 0: -4.98608398 dB\n",
      "Average SDR for Stem 1: -2.29367900 dB\n",
      "Average SDR for Stem 2: -1.16192222 dB\n",
      "Overall Average SDR: -2.81389523 dB\n",
      "--------------------\n",
      "Epoch 299/1000\n"
     ]
    },
    {
     "name": "stderr",
     "output_type": "stream",
     "text": [
      "                                                                                 \r"
     ]
    },
    {
     "name": "stdout",
     "output_type": "stream",
     "text": [
      "Training Loss: 0.10629858\n",
      "Validation Loss: 0.08555913\n",
      "Average SDR for Stem 0: -2.09141684 dB\n",
      "Average SDR for Stem 1: -1.10503685 dB\n",
      "Average SDR for Stem 2: -0.06645329 dB\n",
      "Overall Average SDR: -1.08763564 dB\n",
      "--------------------\n",
      "Epoch 300/1000\n"
     ]
    },
    {
     "name": "stderr",
     "output_type": "stream",
     "text": [
      "                                                                                 \r"
     ]
    },
    {
     "name": "stdout",
     "output_type": "stream",
     "text": [
      "Training Loss: 0.10692883\n",
      "Validation Loss: 0.06099543\n",
      "Average SDR for Stem 0: -7.20878983 dB\n",
      "Average SDR for Stem 1: -2.10172939 dB\n",
      "Average SDR for Stem 2: -0.03311522 dB\n",
      "Overall Average SDR: -3.11454487 dB\n",
      "--------------------\n",
      "Epoch 301/1000\n"
     ]
    },
    {
     "name": "stderr",
     "output_type": "stream",
     "text": [
      "                                                                                 \r"
     ]
    },
    {
     "name": "stdout",
     "output_type": "stream",
     "text": [
      "Training Loss: 0.14397781\n",
      "Validation Loss: 0.03580184\n",
      "Average SDR for Stem 0: -3.85276508 dB\n",
      "Average SDR for Stem 1: -1.66086018 dB\n",
      "Average SDR for Stem 2: -0.13513182 dB\n",
      "Overall Average SDR: -1.88291895 dB\n",
      "--------------------\n",
      "Epoch 302/1000\n"
     ]
    },
    {
     "name": "stderr",
     "output_type": "stream",
     "text": [
      "                                                                                 \r"
     ]
    },
    {
     "name": "stdout",
     "output_type": "stream",
     "text": [
      "Training Loss: 0.17780915\n",
      "Validation Loss: 0.05792294\n",
      "Average SDR for Stem 0: -5.85040474 dB\n",
      "Average SDR for Stem 1: -0.23140745 dB\n",
      "Average SDR for Stem 2: -7.19227171 dB\n",
      "Overall Average SDR: -4.42469454 dB\n",
      "--------------------\n",
      "Epoch 303/1000\n"
     ]
    },
    {
     "name": "stderr",
     "output_type": "stream",
     "text": [
      "                                                                                 \r"
     ]
    },
    {
     "name": "stdout",
     "output_type": "stream",
     "text": [
      "Training Loss: 0.13748460\n",
      "Validation Loss: 0.12317087\n",
      "Average SDR for Stem 0: -0.07553843 dB\n",
      "Average SDR for Stem 1: -4.71572018 dB\n",
      "Average SDR for Stem 2: -5.73774672 dB\n",
      "Overall Average SDR: -3.50966835 dB\n",
      "--------------------\n",
      "Epoch 304/1000\n"
     ]
    },
    {
     "name": "stderr",
     "output_type": "stream",
     "text": [
      "                                                                                 \r"
     ]
    },
    {
     "name": "stdout",
     "output_type": "stream",
     "text": [
      "Training Loss: 0.11840587\n",
      "Validation Loss: 0.10248162\n",
      "Average SDR for Stem 0: -0.24329709 dB\n",
      "Average SDR for Stem 1: -5.36446953 dB\n",
      "Average SDR for Stem 2: -1.50005054 dB\n",
      "Overall Average SDR: -2.36927247 dB\n",
      "--------------------\n",
      "Epoch 305/1000\n"
     ]
    },
    {
     "name": "stderr",
     "output_type": "stream",
     "text": [
      "                                                                                 \r"
     ]
    },
    {
     "name": "stdout",
     "output_type": "stream",
     "text": [
      "Training Loss: 0.12993513\n",
      "Validation Loss: 0.03206705\n",
      "Average SDR for Stem 0: -3.27647471 dB\n",
      "Average SDR for Stem 1: -5.27783823 dB\n",
      "Average SDR for Stem 2: -0.08148897 dB\n",
      "Overall Average SDR: -2.87860036 dB\n",
      "--------------------\n",
      "Epoch 306/1000\n"
     ]
    },
    {
     "name": "stderr",
     "output_type": "stream",
     "text": [
      "                                                                                 \r"
     ]
    },
    {
     "name": "stdout",
     "output_type": "stream",
     "text": [
      "Training Loss: 0.12345855\n",
      "Validation Loss: 0.13651287\n",
      "Average SDR for Stem 0: -0.02892643 dB\n",
      "Average SDR for Stem 1: -6.86767769 dB\n",
      "Average SDR for Stem 2: -1.35043275 dB\n",
      "Overall Average SDR: -2.74901223 dB\n",
      "--------------------\n",
      "Epoch 307/1000\n"
     ]
    },
    {
     "name": "stderr",
     "output_type": "stream",
     "text": [
      "                                                                                 \r"
     ]
    },
    {
     "name": "stdout",
     "output_type": "stream",
     "text": [
      "Training Loss: 0.13949566\n",
      "Validation Loss: 0.14322302\n",
      "Average SDR for Stem 0: -3.66374803 dB\n",
      "Average SDR for Stem 1: -0.05895488 dB\n",
      "Average SDR for Stem 2: -2.55807900 dB\n",
      "Overall Average SDR: -2.09359384 dB\n",
      "--------------------\n",
      "Epoch 308/1000\n"
     ]
    },
    {
     "name": "stderr",
     "output_type": "stream",
     "text": [
      "                                                                                   \r"
     ]
    },
    {
     "name": "stdout",
     "output_type": "stream",
     "text": [
      "Training Loss: 0.04780357\n",
      "Validation Loss: 0.08247856\n",
      "Average SDR for Stem 0: -2.82451463 dB\n",
      "Average SDR for Stem 1: -0.02735716 dB\n",
      "Average SDR for Stem 2: -3.92372108 dB\n",
      "Overall Average SDR: -2.25853086 dB\n",
      "--------------------\n",
      "Epoch 309/1000\n"
     ]
    },
    {
     "name": "stderr",
     "output_type": "stream",
     "text": [
      "                                                                                 \r"
     ]
    },
    {
     "name": "stdout",
     "output_type": "stream",
     "text": [
      "Training Loss: 0.07699669\n",
      "Validation Loss: 0.09629040\n",
      "Average SDR for Stem 0: -0.56614697 dB\n",
      "Average SDR for Stem 1: -9.64993668 dB\n",
      "Average SDR for Stem 2: -8.94411469 dB\n",
      "Overall Average SDR: -6.38673258 dB\n",
      "--------------------\n",
      "Epoch 310/1000\n"
     ]
    },
    {
     "name": "stderr",
     "output_type": "stream",
     "text": [
      "                                                                                 \r"
     ]
    },
    {
     "name": "stdout",
     "output_type": "stream",
     "text": [
      "Training Loss: 0.20915673\n",
      "Validation Loss: 0.08631678\n",
      "Average SDR for Stem 0: -2.54714727 dB\n",
      "Average SDR for Stem 1: -0.50499952 dB\n",
      "Average SDR for Stem 2: -1.06998563 dB\n",
      "Overall Average SDR: -1.37404406 dB\n",
      "--------------------\n",
      "Epoch 311/1000\n"
     ]
    },
    {
     "name": "stderr",
     "output_type": "stream",
     "text": [
      "                                                                                 \r"
     ]
    },
    {
     "name": "stdout",
     "output_type": "stream",
     "text": [
      "Training Loss: 0.07657324\n",
      "Validation Loss: 0.09679502\n",
      "Average SDR for Stem 0: -0.04172586 dB\n",
      "Average SDR for Stem 1: -11.87307358 dB\n",
      "Average SDR for Stem 2: -2.98309112 dB\n",
      "Overall Average SDR: -4.96596384 dB\n",
      "--------------------\n",
      "Epoch 312/1000\n"
     ]
    },
    {
     "name": "stderr",
     "output_type": "stream",
     "text": [
      "                                                                                 \r"
     ]
    },
    {
     "name": "stdout",
     "output_type": "stream",
     "text": [
      "Training Loss: 0.10942079\n",
      "Validation Loss: 0.14134578\n",
      "Average SDR for Stem 0: -0.02071054 dB\n",
      "Average SDR for Stem 1: -0.06165057 dB\n",
      "Average SDR for Stem 2: -0.05484510 dB\n",
      "Overall Average SDR: -0.04573540 dB\n",
      "--------------------\n",
      "Epoch 313/1000\n"
     ]
    },
    {
     "name": "stderr",
     "output_type": "stream",
     "text": [
      "                                                                                 \r"
     ]
    },
    {
     "name": "stdout",
     "output_type": "stream",
     "text": [
      "Training Loss: 0.10949431\n",
      "Validation Loss: 0.10149277\n",
      "Average SDR for Stem 0: -0.01631738 dB\n",
      "Average SDR for Stem 1: -0.09975683 dB\n",
      "Average SDR for Stem 2: -0.07939105 dB\n",
      "Overall Average SDR: -0.06515508 dB\n",
      "--------------------\n",
      "Epoch 314/1000\n"
     ]
    },
    {
     "name": "stderr",
     "output_type": "stream",
     "text": [
      "                                                                                 \r"
     ]
    },
    {
     "name": "stdout",
     "output_type": "stream",
     "text": [
      "Training Loss: 0.09406612\n",
      "Validation Loss: 0.11519465\n",
      "Average SDR for Stem 0: -0.07149158 dB\n",
      "Average SDR for Stem 1: 1.12295473 dB\n",
      "Average SDR for Stem 2: -0.03415973 dB\n",
      "Overall Average SDR: 0.33910111 dB\n",
      "--------------------\n",
      "Epoch 315/1000\n"
     ]
    },
    {
     "name": "stderr",
     "output_type": "stream",
     "text": [
      "                                                                                 \r"
     ]
    },
    {
     "name": "stdout",
     "output_type": "stream",
     "text": [
      "Training Loss: 0.09952292\n",
      "Validation Loss: 0.11909179\n",
      "Average SDR for Stem 0: -0.45058361 dB\n",
      "Average SDR for Stem 1: -0.03755369 dB\n",
      "Average SDR for Stem 2: -2.14176273 dB\n",
      "Overall Average SDR: -0.87663335 dB\n",
      "--------------------\n",
      "Epoch 316/1000\n"
     ]
    },
    {
     "name": "stderr",
     "output_type": "stream",
     "text": [
      "                                                                                 \r"
     ]
    },
    {
     "name": "stdout",
     "output_type": "stream",
     "text": [
      "Training Loss: 0.08391595\n",
      "Validation Loss: 0.08029478\n",
      "Average SDR for Stem 0: -0.05071074 dB\n",
      "Average SDR for Stem 1: -0.08952161 dB\n",
      "Average SDR for Stem 2: -3.44874358 dB\n",
      "Overall Average SDR: -1.19632530 dB\n",
      "--------------------\n",
      "Epoch 317/1000\n"
     ]
    },
    {
     "name": "stderr",
     "output_type": "stream",
     "text": [
      "                                                                                 \r"
     ]
    },
    {
     "name": "stdout",
     "output_type": "stream",
     "text": [
      "Training Loss: 0.17577207\n",
      "Validation Loss: 0.06339003\n",
      "Average SDR for Stem 0: -2.05707526 dB\n",
      "Average SDR for Stem 1: -0.16461536 dB\n",
      "Average SDR for Stem 2: -2.18465877 dB\n",
      "Overall Average SDR: -1.46878302 dB\n",
      "--------------------\n",
      "Epoch 318/1000\n"
     ]
    },
    {
     "name": "stderr",
     "output_type": "stream",
     "text": [
      "                                                                                 \r"
     ]
    },
    {
     "name": "stdout",
     "output_type": "stream",
     "text": [
      "Training Loss: 0.09434941\n",
      "Validation Loss: 0.12737759\n",
      "Average SDR for Stem 0: -0.01839194 dB\n",
      "Average SDR for Stem 1: -3.92344379 dB\n",
      "Average SDR for Stem 2: -4.59315109 dB\n",
      "Overall Average SDR: -2.84499550 dB\n",
      "--------------------\n",
      "Epoch 319/1000\n"
     ]
    },
    {
     "name": "stderr",
     "output_type": "stream",
     "text": [
      "                                                                                 \r"
     ]
    },
    {
     "name": "stdout",
     "output_type": "stream",
     "text": [
      "Training Loss: 0.08443107\n",
      "Validation Loss: 0.10202124\n",
      "Average SDR for Stem 0: -1.16104102 dB\n",
      "Average SDR for Stem 1: -0.12529601 dB\n",
      "Average SDR for Stem 2: -7.07189560 dB\n",
      "Overall Average SDR: -2.78607750 dB\n",
      "--------------------\n",
      "Epoch 320/1000\n"
     ]
    },
    {
     "name": "stderr",
     "output_type": "stream",
     "text": [
      "                                                                                 \r"
     ]
    },
    {
     "name": "stdout",
     "output_type": "stream",
     "text": [
      "Training Loss: 0.08260484\n",
      "Validation Loss: 0.09395138\n",
      "Average SDR for Stem 0: -3.81754112 dB\n",
      "Average SDR for Stem 1: -0.11054772 dB\n",
      "Average SDR for Stem 2: -0.84635043 dB\n",
      "Overall Average SDR: -1.59147978 dB\n",
      "--------------------\n",
      "Epoch 321/1000\n"
     ]
    },
    {
     "name": "stderr",
     "output_type": "stream",
     "text": [
      "                                                                                 \r"
     ]
    },
    {
     "name": "stdout",
     "output_type": "stream",
     "text": [
      "Training Loss: 0.08692854\n",
      "Validation Loss: 0.08749311\n",
      "Average SDR for Stem 0: -0.05575030 dB\n",
      "Average SDR for Stem 1: -2.58466887 dB\n",
      "Average SDR for Stem 2: -0.10926992 dB\n",
      "Overall Average SDR: -0.91656303 dB\n",
      "--------------------\n",
      "Epoch 322/1000\n"
     ]
    },
    {
     "name": "stderr",
     "output_type": "stream",
     "text": [
      "                                                                                 \r"
     ]
    },
    {
     "name": "stdout",
     "output_type": "stream",
     "text": [
      "Training Loss: 0.08542821\n",
      "Validation Loss: 0.08399807\n",
      "Average SDR for Stem 0: -5.04208469 dB\n",
      "Average SDR for Stem 1: -6.16716719 dB\n",
      "Average SDR for Stem 2: -6.56014442 dB\n",
      "Overall Average SDR: -5.92313194 dB\n",
      "--------------------\n",
      "Epoch 323/1000\n"
     ]
    },
    {
     "name": "stderr",
     "output_type": "stream",
     "text": [
      "                                                                                 \r"
     ]
    },
    {
     "name": "stdout",
     "output_type": "stream",
     "text": [
      "Training Loss: 0.10533538\n",
      "Validation Loss: 0.07141442\n",
      "Average SDR for Stem 0: -0.04783552 dB\n",
      "Average SDR for Stem 1: -0.04171811 dB\n",
      "Average SDR for Stem 2: -2.46054673 dB\n",
      "Overall Average SDR: -0.85003346 dB\n",
      "--------------------\n",
      "Epoch 324/1000\n"
     ]
    },
    {
     "name": "stderr",
     "output_type": "stream",
     "text": [
      "                                                                                 \r"
     ]
    },
    {
     "name": "stdout",
     "output_type": "stream",
     "text": [
      "Training Loss: 0.11214166\n",
      "Validation Loss: 0.37826110\n",
      "Average SDR for Stem 0: -0.00575737 dB\n",
      "Average SDR for Stem 1: -0.14800037 dB\n",
      "Average SDR for Stem 2: -3.09049392 dB\n",
      "Overall Average SDR: -1.08141720 dB\n",
      "--------------------\n",
      "Epoch 325/1000\n"
     ]
    },
    {
     "name": "stderr",
     "output_type": "stream",
     "text": [
      "                                                                                 \r"
     ]
    },
    {
     "name": "stdout",
     "output_type": "stream",
     "text": [
      "Training Loss: 0.10700844\n",
      "Validation Loss: 0.13433690\n",
      "Average SDR for Stem 0: -5.27328014 dB\n",
      "Average SDR for Stem 1: -0.01872388 dB\n",
      "Average SDR for Stem 2: -0.31304708 dB\n",
      "Overall Average SDR: -1.86835039 dB\n",
      "--------------------\n",
      "Epoch 326/1000\n"
     ]
    },
    {
     "name": "stderr",
     "output_type": "stream",
     "text": [
      "                                                                                 \r"
     ]
    },
    {
     "name": "stdout",
     "output_type": "stream",
     "text": [
      "Training Loss: 0.74018045\n",
      "Validation Loss: 0.06606781\n",
      "Average SDR for Stem 0: -0.03440887 dB\n",
      "Average SDR for Stem 1: -5.46884871 dB\n",
      "Average SDR for Stem 2: -0.14317250 dB\n",
      "Overall Average SDR: -1.88214338 dB\n",
      "--------------------\n",
      "Epoch 327/1000\n"
     ]
    },
    {
     "name": "stderr",
     "output_type": "stream",
     "text": [
      "                                                                                 \r"
     ]
    },
    {
     "name": "stdout",
     "output_type": "stream",
     "text": [
      "Training Loss: 0.05352218\n",
      "Validation Loss: 0.06764107\n",
      "Average SDR for Stem 0: -0.05387801 dB\n",
      "Average SDR for Stem 1: -0.20134234 dB\n",
      "Average SDR for Stem 2: -7.57563829 dB\n",
      "Overall Average SDR: -2.61028624 dB\n",
      "--------------------\n",
      "Epoch 328/1000\n"
     ]
    },
    {
     "name": "stderr",
     "output_type": "stream",
     "text": [
      "                                                                                 \r"
     ]
    },
    {
     "name": "stdout",
     "output_type": "stream",
     "text": [
      "Training Loss: 0.13155304\n",
      "Validation Loss: 0.08094602\n",
      "Average SDR for Stem 0: -0.01364199 dB\n",
      "Average SDR for Stem 1: -4.81033087 dB\n",
      "Average SDR for Stem 2: -3.66492462 dB\n",
      "Overall Average SDR: -2.82963252 dB\n",
      "--------------------\n",
      "Epoch 329/1000\n"
     ]
    },
    {
     "name": "stderr",
     "output_type": "stream",
     "text": [
      "                                                                                 \r"
     ]
    },
    {
     "name": "stdout",
     "output_type": "stream",
     "text": [
      "Training Loss: 0.09721499\n",
      "Validation Loss: 0.07303416\n",
      "Average SDR for Stem 0: -3.65156388 dB\n",
      "Average SDR for Stem 1: -0.26519665 dB\n",
      "Average SDR for Stem 2: -0.02081205 dB\n",
      "Overall Average SDR: -1.31252420 dB\n",
      "--------------------\n",
      "Epoch 330/1000\n"
     ]
    },
    {
     "name": "stderr",
     "output_type": "stream",
     "text": [
      "                                                                                  \r"
     ]
    },
    {
     "name": "stdout",
     "output_type": "stream",
     "text": [
      "Training Loss: 0.08124400\n",
      "Validation Loss: 0.02108927\n",
      "Average SDR for Stem 0: -8.54551411 dB\n",
      "Average SDR for Stem 1: -2.00414276 dB\n",
      "Average SDR for Stem 2: -0.17510585 dB\n",
      "Overall Average SDR: -3.57492089 dB\n",
      "--------------------\n",
      "Epoch 331/1000\n"
     ]
    },
    {
     "name": "stderr",
     "output_type": "stream",
     "text": [
      "                                                                                 \r"
     ]
    },
    {
     "name": "stdout",
     "output_type": "stream",
     "text": [
      "Training Loss: 0.17207915\n",
      "Validation Loss: 0.14769604\n",
      "Average SDR for Stem 0: -5.15586138 dB\n",
      "Average SDR for Stem 1: -2.12650013 dB\n",
      "Average SDR for Stem 2: -5.45967817 dB\n",
      "Overall Average SDR: -4.24734640 dB\n",
      "--------------------\n",
      "Epoch 332/1000\n"
     ]
    },
    {
     "name": "stderr",
     "output_type": "stream",
     "text": [
      "                                                                                  \r"
     ]
    },
    {
     "name": "stdout",
     "output_type": "stream",
     "text": [
      "Training Loss: 0.08222514\n",
      "Validation Loss: 0.11810863\n",
      "Average SDR for Stem 0: -10.99240398 dB\n",
      "Average SDR for Stem 1: -0.39062902 dB\n",
      "Average SDR for Stem 2: -10.92817593 dB\n",
      "Overall Average SDR: -7.43706942 dB\n",
      "--------------------\n",
      "Epoch 333/1000\n"
     ]
    },
    {
     "name": "stderr",
     "output_type": "stream",
     "text": [
      "                                                                                   \r"
     ]
    },
    {
     "name": "stdout",
     "output_type": "stream",
     "text": [
      "Training Loss: 0.05815650\n",
      "Validation Loss: 0.05517222\n",
      "Average SDR for Stem 0: -11.02269840 dB\n",
      "Average SDR for Stem 1: -2.12901092 dB\n",
      "Average SDR for Stem 2: -2.94464135 dB\n",
      "Overall Average SDR: -5.36545038 dB\n",
      "--------------------\n",
      "Epoch 334/1000\n"
     ]
    },
    {
     "name": "stderr",
     "output_type": "stream",
     "text": [
      "                                                                                   \r"
     ]
    },
    {
     "name": "stdout",
     "output_type": "stream",
     "text": [
      "Training Loss: 0.04347565\n",
      "Validation Loss: 0.06689236\n",
      "Average SDR for Stem 0: -0.10556794 dB\n",
      "Average SDR for Stem 1: -4.17389250 dB\n",
      "Average SDR for Stem 2: -1.10854471 dB\n",
      "Overall Average SDR: -1.79600179 dB\n",
      "--------------------\n",
      "Epoch 335/1000\n"
     ]
    },
    {
     "name": "stderr",
     "output_type": "stream",
     "text": [
      "                                                                                 \r"
     ]
    },
    {
     "name": "stdout",
     "output_type": "stream",
     "text": [
      "Training Loss: 0.12740387\n",
      "Validation Loss: 0.04398910\n",
      "Average SDR for Stem 0: -3.79479408 dB\n",
      "Average SDR for Stem 1: -3.30222797 dB\n",
      "Average SDR for Stem 2: -0.12337672 dB\n",
      "Overall Average SDR: -2.40679955 dB\n",
      "--------------------\n",
      "Epoch 336/1000\n"
     ]
    },
    {
     "name": "stderr",
     "output_type": "stream",
     "text": [
      "                                                                                 \r"
     ]
    },
    {
     "name": "stdout",
     "output_type": "stream",
     "text": [
      "Training Loss: 0.09912511\n",
      "Validation Loss: 0.07047863\n",
      "Average SDR for Stem 0: -0.03115688 dB\n",
      "Average SDR for Stem 1: -3.99046540 dB\n",
      "Average SDR for Stem 2: -4.21681976 dB\n",
      "Overall Average SDR: -2.74614716 dB\n",
      "--------------------\n",
      "Epoch 337/1000\n"
     ]
    },
    {
     "name": "stderr",
     "output_type": "stream",
     "text": [
      "                                                                                   \r"
     ]
    },
    {
     "name": "stdout",
     "output_type": "stream",
     "text": [
      "Training Loss: 0.12340782\n",
      "Validation Loss: 0.11749896\n",
      "Average SDR for Stem 0: -0.02148951 dB\n",
      "Average SDR for Stem 1: -0.02631264 dB\n",
      "Average SDR for Stem 2: -3.07882285 dB\n",
      "Overall Average SDR: -1.04220831 dB\n",
      "--------------------\n",
      "Epoch 338/1000\n"
     ]
    },
    {
     "name": "stderr",
     "output_type": "stream",
     "text": [
      "                                                                                 \r"
     ]
    },
    {
     "name": "stdout",
     "output_type": "stream",
     "text": [
      "Training Loss: 0.09543277\n",
      "Validation Loss: 0.07616527\n",
      "Average SDR for Stem 0: -18.72248840 dB\n",
      "Average SDR for Stem 1: -0.11112398 dB\n",
      "Average SDR for Stem 2: -2.43928909 dB\n",
      "Overall Average SDR: -7.09096718 dB\n",
      "--------------------\n",
      "Epoch 339/1000\n"
     ]
    },
    {
     "name": "stderr",
     "output_type": "stream",
     "text": [
      "                                                                                 \r"
     ]
    },
    {
     "name": "stdout",
     "output_type": "stream",
     "text": [
      "Training Loss: 0.19391249\n",
      "Validation Loss: 0.05411615\n",
      "Average SDR for Stem 0: -1.36614466 dB\n",
      "Average SDR for Stem 1: -0.04187378 dB\n",
      "Average SDR for Stem 2: -0.36201921 dB\n",
      "Overall Average SDR: -0.59001255 dB\n",
      "--------------------\n",
      "Epoch 340/1000\n"
     ]
    },
    {
     "name": "stderr",
     "output_type": "stream",
     "text": [
      "                                                                                 \r"
     ]
    },
    {
     "name": "stdout",
     "output_type": "stream",
     "text": [
      "Training Loss: 0.13497345\n",
      "Validation Loss: 0.06806637\n",
      "Average SDR for Stem 0: -3.57757306 dB\n",
      "Average SDR for Stem 1: -4.16954136 dB\n",
      "Average SDR for Stem 2: -1.77830803 dB\n",
      "Overall Average SDR: -3.17514062 dB\n",
      "--------------------\n",
      "Epoch 341/1000\n"
     ]
    },
    {
     "name": "stderr",
     "output_type": "stream",
     "text": [
      "                                                                                 \r"
     ]
    },
    {
     "name": "stdout",
     "output_type": "stream",
     "text": [
      "Training Loss: 0.10457193\n",
      "Validation Loss: 0.23579823\n",
      "Average SDR for Stem 0: -2.15597105 dB\n",
      "Average SDR for Stem 1: -1.82184994 dB\n",
      "Average SDR for Stem 2: -8.69543266 dB\n",
      "Overall Average SDR: -4.22441816 dB\n",
      "--------------------\n",
      "Epoch 342/1000\n"
     ]
    },
    {
     "name": "stderr",
     "output_type": "stream",
     "text": [
      "                                                                                 \r"
     ]
    },
    {
     "name": "stdout",
     "output_type": "stream",
     "text": [
      "Training Loss: 0.13819332\n",
      "Validation Loss: 0.07284979\n",
      "Average SDR for Stem 0: -0.15488474 dB\n",
      "Average SDR for Stem 1: -8.98664761 dB\n",
      "Average SDR for Stem 2: -0.17013158 dB\n",
      "Overall Average SDR: -3.10388780 dB\n",
      "--------------------\n",
      "Epoch 343/1000\n"
     ]
    },
    {
     "name": "stderr",
     "output_type": "stream",
     "text": [
      "                                                                                  \r"
     ]
    },
    {
     "name": "stdout",
     "output_type": "stream",
     "text": [
      "Training Loss: 0.13659373\n",
      "Validation Loss: 0.18937123\n",
      "Average SDR for Stem 0: -2.61449671 dB\n",
      "Average SDR for Stem 1: -1.00491357 dB\n",
      "Average SDR for Stem 2: -1.23768878 dB\n",
      "Overall Average SDR: -1.61903298 dB\n",
      "--------------------\n",
      "Epoch 344/1000\n"
     ]
    },
    {
     "name": "stderr",
     "output_type": "stream",
     "text": [
      "                                                                                  \r"
     ]
    },
    {
     "name": "stdout",
     "output_type": "stream",
     "text": [
      "Training Loss: 0.06762013\n",
      "Validation Loss: 0.08961357\n",
      "Average SDR for Stem 0: -0.09812909 dB\n",
      "Average SDR for Stem 1: -2.48582888 dB\n",
      "Average SDR for Stem 2: -5.17318392 dB\n",
      "Overall Average SDR: -2.58571410 dB\n",
      "--------------------\n",
      "Epoch 345/1000\n"
     ]
    },
    {
     "name": "stderr",
     "output_type": "stream",
     "text": [
      "                                                                                 \r"
     ]
    },
    {
     "name": "stdout",
     "output_type": "stream",
     "text": [
      "Training Loss: 0.07786926\n",
      "Validation Loss: 0.05494932\n",
      "Average SDR for Stem 0: -3.85572076 dB\n",
      "Average SDR for Stem 1: -0.31665817 dB\n",
      "Average SDR for Stem 2: -4.91390657 dB\n",
      "Overall Average SDR: -3.02876186 dB\n",
      "--------------------\n",
      "Epoch 346/1000\n"
     ]
    },
    {
     "name": "stderr",
     "output_type": "stream",
     "text": [
      "                                                                                 \r"
     ]
    },
    {
     "name": "stdout",
     "output_type": "stream",
     "text": [
      "Training Loss: 0.10761114\n",
      "Validation Loss: 0.07024415\n",
      "Average SDR for Stem 0: -4.42161036 dB\n",
      "Average SDR for Stem 1: -0.29941884 dB\n",
      "Average SDR for Stem 2: -1.48833740 dB\n",
      "Overall Average SDR: -2.06978893 dB\n",
      "--------------------\n",
      "Epoch 347/1000\n"
     ]
    },
    {
     "name": "stderr",
     "output_type": "stream",
     "text": [
      "                                                                                 \r"
     ]
    },
    {
     "name": "stdout",
     "output_type": "stream",
     "text": [
      "Training Loss: 0.11125866\n",
      "Validation Loss: 0.13304317\n",
      "Average SDR for Stem 0: -0.05343974 dB\n",
      "Average SDR for Stem 1: -2.54841542 dB\n",
      "Average SDR for Stem 2: -4.80865431 dB\n",
      "Overall Average SDR: -2.47016978 dB\n",
      "--------------------\n",
      "Epoch 348/1000\n"
     ]
    },
    {
     "name": "stderr",
     "output_type": "stream",
     "text": [
      "                                                                                 \r"
     ]
    },
    {
     "name": "stdout",
     "output_type": "stream",
     "text": [
      "Training Loss: 0.14174053\n",
      "Validation Loss: 0.06019854\n",
      "Average SDR for Stem 0: -4.55325127 dB\n",
      "Average SDR for Stem 1: -3.91842389 dB\n",
      "Average SDR for Stem 2: -0.04976029 dB\n",
      "Overall Average SDR: -2.84047818 dB\n",
      "--------------------\n",
      "Epoch 349/1000\n"
     ]
    },
    {
     "name": "stderr",
     "output_type": "stream",
     "text": [
      "                                                                                 \r"
     ]
    },
    {
     "name": "stdout",
     "output_type": "stream",
     "text": [
      "Training Loss: 0.14312507\n",
      "Validation Loss: 0.10678680\n",
      "Average SDR for Stem 0: -6.80662727 dB\n",
      "Average SDR for Stem 1: -2.58684564 dB\n",
      "Average SDR for Stem 2: -0.25107265 dB\n",
      "Overall Average SDR: -3.21484852 dB\n",
      "--------------------\n",
      "Epoch 350/1000\n"
     ]
    },
    {
     "name": "stderr",
     "output_type": "stream",
     "text": [
      "                                                                                  \r"
     ]
    },
    {
     "name": "stdout",
     "output_type": "stream",
     "text": [
      "Training Loss: 0.09822245\n",
      "Validation Loss: 0.16219317\n",
      "Average SDR for Stem 0: -0.00913180 dB\n",
      "Average SDR for Stem 1: -0.05234233 dB\n",
      "Average SDR for Stem 2: -2.59306359 dB\n",
      "Overall Average SDR: -0.88484591 dB\n",
      "--------------------\n",
      "Epoch 351/1000\n"
     ]
    },
    {
     "name": "stderr",
     "output_type": "stream",
     "text": [
      "                                                                                   \r"
     ]
    },
    {
     "name": "stdout",
     "output_type": "stream",
     "text": [
      "Training Loss: 0.15237627\n",
      "Validation Loss: 0.13426414\n",
      "Average SDR for Stem 0: -0.03053066 dB\n",
      "Average SDR for Stem 1: -6.54365301 dB\n",
      "Average SDR for Stem 2: -0.03210014 dB\n",
      "Overall Average SDR: -2.20209455 dB\n",
      "--------------------\n",
      "Epoch 352/1000\n"
     ]
    },
    {
     "name": "stderr",
     "output_type": "stream",
     "text": [
      "                                                                                   \r"
     ]
    },
    {
     "name": "stdout",
     "output_type": "stream",
     "text": [
      "Training Loss: 0.07913203\n",
      "Validation Loss: 0.26639378\n",
      "Average SDR for Stem 0: -0.00993352 dB\n",
      "Average SDR for Stem 1: -0.03495961 dB\n",
      "Average SDR for Stem 2: -6.54308939 dB\n",
      "Overall Average SDR: -2.19599414 dB\n",
      "--------------------\n",
      "Epoch 353/1000\n"
     ]
    },
    {
     "name": "stderr",
     "output_type": "stream",
     "text": [
      "                                                                                 \r"
     ]
    },
    {
     "name": "stdout",
     "output_type": "stream",
     "text": [
      "Training Loss: 0.12671265\n",
      "Validation Loss: 0.02468688\n",
      "Average SDR for Stem 0: -4.62528276 dB\n",
      "Average SDR for Stem 1: -0.05378602 dB\n",
      "Average SDR for Stem 2: -0.07524806 dB\n",
      "Overall Average SDR: -1.58477223 dB\n",
      "--------------------\n",
      "Epoch 354/1000\n"
     ]
    },
    {
     "name": "stderr",
     "output_type": "stream",
     "text": [
      "                                                                                 \r"
     ]
    },
    {
     "name": "stdout",
     "output_type": "stream",
     "text": [
      "Training Loss: 0.06978038\n",
      "Validation Loss: 0.13565192\n",
      "Average SDR for Stem 0: -5.79820108 dB\n",
      "Average SDR for Stem 1: -3.44761276 dB\n",
      "Average SDR for Stem 2: -0.07378859 dB\n",
      "Overall Average SDR: -3.10653400 dB\n",
      "--------------------\n",
      "Epoch 355/1000\n"
     ]
    },
    {
     "name": "stderr",
     "output_type": "stream",
     "text": [
      "                                                                                 \r"
     ]
    },
    {
     "name": "stdout",
     "output_type": "stream",
     "text": [
      "Training Loss: 0.15514035\n",
      "Validation Loss: 0.06760649\n",
      "Average SDR for Stem 0: -5.32271433 dB\n",
      "Average SDR for Stem 1: -7.09221840 dB\n",
      "Average SDR for Stem 2: -1.23230803 dB\n",
      "Overall Average SDR: -4.54908037 dB\n",
      "--------------------\n",
      "Epoch 356/1000\n"
     ]
    },
    {
     "name": "stderr",
     "output_type": "stream",
     "text": [
      "                                                                                 \r"
     ]
    },
    {
     "name": "stdout",
     "output_type": "stream",
     "text": [
      "Training Loss: 0.12389513\n",
      "Validation Loss: 0.08669187\n",
      "Average SDR for Stem 0: -4.53941727 dB\n",
      "Average SDR for Stem 1: -0.04657071 dB\n",
      "Average SDR for Stem 2: -4.33758688 dB\n",
      "Overall Average SDR: -2.97452474 dB\n",
      "--------------------\n",
      "Epoch 357/1000\n"
     ]
    },
    {
     "name": "stderr",
     "output_type": "stream",
     "text": [
      "                                                                                 \r"
     ]
    },
    {
     "name": "stdout",
     "output_type": "stream",
     "text": [
      "Training Loss: 0.09998596\n",
      "Validation Loss: 0.14193984\n",
      "Average SDR for Stem 0: -0.02155447 dB\n",
      "Average SDR for Stem 1: -4.41493654 dB\n",
      "Average SDR for Stem 2: -0.05388717 dB\n",
      "Overall Average SDR: -1.49679279 dB\n",
      "--------------------\n",
      "Epoch 358/1000\n"
     ]
    },
    {
     "name": "stderr",
     "output_type": "stream",
     "text": [
      "                                                                                 \r"
     ]
    },
    {
     "name": "stdout",
     "output_type": "stream",
     "text": [
      "Training Loss: 0.10220748\n",
      "Validation Loss: 0.25287141\n",
      "Average SDR for Stem 0: -5.68607569 dB\n",
      "Average SDR for Stem 1: -0.02006367 dB\n",
      "Average SDR for Stem 2: -2.04768205 dB\n",
      "Overall Average SDR: -2.58460712 dB\n",
      "--------------------\n",
      "Epoch 359/1000\n"
     ]
    },
    {
     "name": "stderr",
     "output_type": "stream",
     "text": [
      "                                                                                 \r"
     ]
    },
    {
     "name": "stdout",
     "output_type": "stream",
     "text": [
      "Training Loss: 0.14405773\n",
      "Validation Loss: 0.12257669\n",
      "Average SDR for Stem 0: -2.48942304 dB\n",
      "Average SDR for Stem 1: -8.65003109 dB\n",
      "Average SDR for Stem 2: -0.06233582 dB\n",
      "Overall Average SDR: -3.73392987 dB\n",
      "--------------------\n",
      "Epoch 360/1000\n"
     ]
    },
    {
     "name": "stderr",
     "output_type": "stream",
     "text": [
      "                                                                                   \r"
     ]
    },
    {
     "name": "stdout",
     "output_type": "stream",
     "text": [
      "Training Loss: 0.11579455\n",
      "Validation Loss: 0.14610908\n",
      "Average SDR for Stem 0: -0.01192386 dB\n",
      "Average SDR for Stem 1: -0.10105401 dB\n",
      "Average SDR for Stem 2: -2.59221387 dB\n",
      "Overall Average SDR: -0.90173054 dB\n",
      "--------------------\n",
      "Epoch 361/1000\n"
     ]
    },
    {
     "name": "stderr",
     "output_type": "stream",
     "text": [
      "                                                                                 \r"
     ]
    },
    {
     "name": "stdout",
     "output_type": "stream",
     "text": [
      "Training Loss: 0.11424969\n",
      "Validation Loss: 0.06907628\n",
      "Average SDR for Stem 0: -1.76531804 dB\n",
      "Average SDR for Stem 1: 1.76767921 dB\n",
      "Average SDR for Stem 2: -3.40210152 dB\n",
      "Overall Average SDR: -1.13324678 dB\n",
      "--------------------\n",
      "Epoch 362/1000\n"
     ]
    },
    {
     "name": "stderr",
     "output_type": "stream",
     "text": [
      "                                                                                 \r"
     ]
    },
    {
     "name": "stdout",
     "output_type": "stream",
     "text": [
      "Training Loss: 0.08539372\n",
      "Validation Loss: 0.09411968\n",
      "Average SDR for Stem 0: -3.25321364 dB\n",
      "Average SDR for Stem 1: -0.09648787 dB\n",
      "Average SDR for Stem 2: -0.07821857 dB\n",
      "Overall Average SDR: -1.14263999 dB\n",
      "--------------------\n",
      "Epoch 363/1000\n"
     ]
    },
    {
     "name": "stderr",
     "output_type": "stream",
     "text": [
      "                                                                                 \r"
     ]
    },
    {
     "name": "stdout",
     "output_type": "stream",
     "text": [
      "Training Loss: 0.10770703\n",
      "Validation Loss: 0.04061737\n",
      "Average SDR for Stem 0: -5.54604912 dB\n",
      "Average SDR for Stem 1: -3.82251048 dB\n",
      "Average SDR for Stem 2: -0.09594338 dB\n",
      "Overall Average SDR: -3.15483451 dB\n",
      "--------------------\n",
      "Epoch 364/1000\n"
     ]
    },
    {
     "name": "stderr",
     "output_type": "stream",
     "text": [
      "                                                                                 \r"
     ]
    },
    {
     "name": "stdout",
     "output_type": "stream",
     "text": [
      "Training Loss: 0.13988656\n",
      "Validation Loss: 0.16992605\n",
      "Average SDR for Stem 0: -0.00919251 dB\n",
      "Average SDR for Stem 1: -0.02506960 dB\n",
      "Average SDR for Stem 2: -3.37961078 dB\n",
      "Overall Average SDR: -1.13795769 dB\n",
      "--------------------\n",
      "Epoch 365/1000\n"
     ]
    },
    {
     "name": "stderr",
     "output_type": "stream",
     "text": [
      "                                                                                   \r"
     ]
    },
    {
     "name": "stdout",
     "output_type": "stream",
     "text": [
      "Training Loss: 0.11905168\n",
      "Validation Loss: 0.01373356\n",
      "Average SDR for Stem 0: -5.75590086 dB\n",
      "Average SDR for Stem 1: -2.91997337 dB\n",
      "Average SDR for Stem 2: -3.33177257 dB\n",
      "Overall Average SDR: -4.00254917 dB\n",
      "--------------------\n",
      "Epoch 366/1000\n"
     ]
    },
    {
     "name": "stderr",
     "output_type": "stream",
     "text": [
      "                                                                                  \r"
     ]
    },
    {
     "name": "stdout",
     "output_type": "stream",
     "text": [
      "Training Loss: 0.11360465\n",
      "Validation Loss: 0.12006774\n",
      "Average SDR for Stem 0: -0.01346307 dB\n",
      "Average SDR for Stem 1: -4.54076099 dB\n",
      "Average SDR for Stem 2: -3.13876247 dB\n",
      "Overall Average SDR: -2.56432891 dB\n",
      "--------------------\n",
      "Epoch 367/1000\n"
     ]
    },
    {
     "name": "stderr",
     "output_type": "stream",
     "text": [
      "                                                                                 \r"
     ]
    },
    {
     "name": "stdout",
     "output_type": "stream",
     "text": [
      "Training Loss: 0.15457364\n",
      "Validation Loss: 0.06374476\n",
      "Average SDR for Stem 0: -8.30674458 dB\n",
      "Average SDR for Stem 1: -3.09762645 dB\n",
      "Average SDR for Stem 2: -3.75358653 dB\n",
      "Overall Average SDR: -5.05265284 dB\n",
      "--------------------\n",
      "Epoch 368/1000\n"
     ]
    },
    {
     "name": "stderr",
     "output_type": "stream",
     "text": [
      "                                                                                 \r"
     ]
    },
    {
     "name": "stdout",
     "output_type": "stream",
     "text": [
      "Training Loss: 0.09272261\n",
      "Validation Loss: 0.08962429\n",
      "Average SDR for Stem 0: -0.02710981 dB\n",
      "Average SDR for Stem 1: -2.68863416 dB\n",
      "Average SDR for Stem 2: -0.78036475 dB\n",
      "Overall Average SDR: -1.16536963 dB\n",
      "--------------------\n",
      "Epoch 369/1000\n"
     ]
    },
    {
     "name": "stderr",
     "output_type": "stream",
     "text": [
      "                                                                                 \r"
     ]
    },
    {
     "name": "stdout",
     "output_type": "stream",
     "text": [
      "Training Loss: 0.14061592\n",
      "Validation Loss: 0.04542012\n",
      "Average SDR for Stem 0: -2.98907590 dB\n",
      "Average SDR for Stem 1: -2.11193061 dB\n",
      "Average SDR for Stem 2: -0.05149713 dB\n",
      "Overall Average SDR: -1.71750116 dB\n",
      "--------------------\n",
      "Epoch 370/1000\n"
     ]
    },
    {
     "name": "stderr",
     "output_type": "stream",
     "text": [
      "                                                                                  \r"
     ]
    },
    {
     "name": "stdout",
     "output_type": "stream",
     "text": [
      "Training Loss: 0.08921620\n",
      "Validation Loss: 0.06867854\n",
      "Average SDR for Stem 0: -3.80626702 dB\n",
      "Average SDR for Stem 1: -1.94821560 dB\n",
      "Average SDR for Stem 2: -0.14550039 dB\n",
      "Overall Average SDR: -1.96666098 dB\n",
      "--------------------\n",
      "Epoch 371/1000\n"
     ]
    },
    {
     "name": "stderr",
     "output_type": "stream",
     "text": [
      "                                                                                  \r"
     ]
    },
    {
     "name": "stdout",
     "output_type": "stream",
     "text": [
      "Training Loss: 0.08467689\n",
      "Validation Loss: 0.01737934\n",
      "Average SDR for Stem 0: -7.04883814 dB\n",
      "Average SDR for Stem 1: -2.81549358 dB\n",
      "Average SDR for Stem 2: -2.26837230 dB\n",
      "Overall Average SDR: -4.04423475 dB\n",
      "--------------------\n",
      "Epoch 372/1000\n"
     ]
    },
    {
     "name": "stderr",
     "output_type": "stream",
     "text": [
      "                                                                                 \r"
     ]
    },
    {
     "name": "stdout",
     "output_type": "stream",
     "text": [
      "Training Loss: 0.08416416\n",
      "Validation Loss: 0.09936619\n",
      "Average SDR for Stem 0: -5.36280107 dB\n",
      "Average SDR for Stem 1: -5.92557907 dB\n",
      "Average SDR for Stem 2: -0.09713336 dB\n",
      "Overall Average SDR: -3.79517102 dB\n",
      "--------------------\n",
      "Epoch 373/1000\n"
     ]
    },
    {
     "name": "stderr",
     "output_type": "stream",
     "text": [
      "                                                                                 \r"
     ]
    },
    {
     "name": "stdout",
     "output_type": "stream",
     "text": [
      "Training Loss: 0.07156031\n",
      "Validation Loss: 0.13167640\n",
      "Average SDR for Stem 0: -0.01810274 dB\n",
      "Average SDR for Stem 1: -0.07393347 dB\n",
      "Average SDR for Stem 2: -6.18911362 dB\n",
      "Overall Average SDR: -2.09371662 dB\n",
      "--------------------\n",
      "Epoch 374/1000\n"
     ]
    },
    {
     "name": "stderr",
     "output_type": "stream",
     "text": [
      "                                                                                 \r"
     ]
    },
    {
     "name": "stdout",
     "output_type": "stream",
     "text": [
      "Training Loss: 0.09030094\n",
      "Validation Loss: 0.11501279\n",
      "Average SDR for Stem 0: -5.08953381 dB\n",
      "Average SDR for Stem 1: -7.16660166 dB\n",
      "Average SDR for Stem 2: -0.03197041 dB\n",
      "Overall Average SDR: -4.09603548 dB\n",
      "--------------------\n",
      "Epoch 375/1000\n"
     ]
    },
    {
     "name": "stderr",
     "output_type": "stream",
     "text": [
      "                                                                                 \r"
     ]
    },
    {
     "name": "stdout",
     "output_type": "stream",
     "text": [
      "Training Loss: 0.09074160\n",
      "Validation Loss: 0.11254604\n",
      "Average SDR for Stem 0: -0.03289157 dB\n",
      "Average SDR for Stem 1: -5.11967897 dB\n",
      "Average SDR for Stem 2: -0.03123450 dB\n",
      "Overall Average SDR: -1.72793519 dB\n",
      "--------------------\n",
      "Epoch 376/1000\n"
     ]
    },
    {
     "name": "stderr",
     "output_type": "stream",
     "text": [
      "                                                                                 \r"
     ]
    },
    {
     "name": "stdout",
     "output_type": "stream",
     "text": [
      "Training Loss: 0.08274256\n",
      "Validation Loss: 0.49262137\n",
      "Average SDR for Stem 0: -2.00660634 dB\n",
      "Average SDR for Stem 1: -8.19638538 dB\n",
      "Average SDR for Stem 2: -3.04241657 dB\n",
      "Overall Average SDR: -4.41513586 dB\n",
      "--------------------\n",
      "Epoch 377/1000\n"
     ]
    },
    {
     "name": "stderr",
     "output_type": "stream",
     "text": [
      "                                                                                  \r"
     ]
    },
    {
     "name": "stdout",
     "output_type": "stream",
     "text": [
      "Training Loss: 0.10152644\n",
      "Validation Loss: 0.26742134\n",
      "Average SDR for Stem 0: -0.05634603 dB\n",
      "Average SDR for Stem 1: -5.01563501 dB\n",
      "Average SDR for Stem 2: -0.02758071 dB\n",
      "Overall Average SDR: -1.69985390 dB\n",
      "--------------------\n",
      "Epoch 378/1000\n"
     ]
    },
    {
     "name": "stderr",
     "output_type": "stream",
     "text": [
      "                                                                                  \r"
     ]
    },
    {
     "name": "stdout",
     "output_type": "stream",
     "text": [
      "Training Loss: 0.07149284\n",
      "Validation Loss: 0.06648791\n",
      "Average SDR for Stem 0: -8.80268764 dB\n",
      "Average SDR for Stem 1: -0.01887374 dB\n",
      "Average SDR for Stem 2: -2.76237583 dB\n",
      "Overall Average SDR: -3.86131263 dB\n",
      "--------------------\n",
      "Epoch 379/1000\n"
     ]
    },
    {
     "name": "stderr",
     "output_type": "stream",
     "text": [
      "                                                                                  \r"
     ]
    },
    {
     "name": "stdout",
     "output_type": "stream",
     "text": [
      "Training Loss: 0.05334453\n",
      "Validation Loss: 0.06170450\n",
      "Average SDR for Stem 0: -3.22887349 dB\n",
      "Average SDR for Stem 1: -3.16415405 dB\n",
      "Average SDR for Stem 2: -2.17754555 dB\n",
      "Overall Average SDR: -2.85685754 dB\n",
      "--------------------\n",
      "Epoch 380/1000\n"
     ]
    },
    {
     "name": "stderr",
     "output_type": "stream",
     "text": [
      "                                                                                  \r"
     ]
    },
    {
     "name": "stdout",
     "output_type": "stream",
     "text": [
      "Training Loss: 0.07436847\n",
      "Validation Loss: 0.06723988\n",
      "Average SDR for Stem 0: -1.52805412 dB\n",
      "Average SDR for Stem 1: 1.35237467 dB\n",
      "Average SDR for Stem 2: -1.26948488 dB\n",
      "Overall Average SDR: -0.48172143 dB\n",
      "--------------------\n",
      "Epoch 381/1000\n"
     ]
    },
    {
     "name": "stderr",
     "output_type": "stream",
     "text": [
      "                                                                                 \r"
     ]
    },
    {
     "name": "stdout",
     "output_type": "stream",
     "text": [
      "Training Loss: 0.07081443\n",
      "Validation Loss: 0.08721846\n",
      "Average SDR for Stem 0: -0.01752082 dB\n",
      "Average SDR for Stem 1: -0.08106244 dB\n",
      "Average SDR for Stem 2: -0.03725825 dB\n",
      "Overall Average SDR: -0.04528050 dB\n",
      "--------------------\n",
      "Epoch 382/1000\n"
     ]
    },
    {
     "name": "stderr",
     "output_type": "stream",
     "text": [
      "                                                                                  \r"
     ]
    },
    {
     "name": "stdout",
     "output_type": "stream",
     "text": [
      "Training Loss: 0.05446778\n",
      "Validation Loss: 0.11270806\n",
      "Average SDR for Stem 0: -0.02572150 dB\n",
      "Average SDR for Stem 1: -2.57652164 dB\n",
      "Average SDR for Stem 2: -0.05796756 dB\n",
      "Overall Average SDR: -0.88673693 dB\n",
      "--------------------\n",
      "Epoch 383/1000\n"
     ]
    },
    {
     "name": "stderr",
     "output_type": "stream",
     "text": [
      "                                                                                  \r"
     ]
    },
    {
     "name": "stdout",
     "output_type": "stream",
     "text": [
      "Training Loss: 0.14005721\n",
      "Validation Loss: 0.05736954\n",
      "Average SDR for Stem 0: -0.22346531 dB\n",
      "Average SDR for Stem 1: -7.06501341 dB\n",
      "Average SDR for Stem 2: -3.05601478 dB\n",
      "Overall Average SDR: -3.44816470 dB\n",
      "--------------------\n",
      "Epoch 384/1000\n"
     ]
    },
    {
     "name": "stderr",
     "output_type": "stream",
     "text": [
      "                                                                                 \r"
     ]
    },
    {
     "name": "stdout",
     "output_type": "stream",
     "text": [
      "Training Loss: 0.07742128\n",
      "Validation Loss: 0.03264400\n",
      "Average SDR for Stem 0: -7.52841425 dB\n",
      "Average SDR for Stem 1: -8.26416492 dB\n",
      "Average SDR for Stem 2: -0.69421512 dB\n",
      "Overall Average SDR: -5.49559832 dB\n",
      "--------------------\n",
      "Epoch 385/1000\n"
     ]
    },
    {
     "name": "stderr",
     "output_type": "stream",
     "text": [
      "                                                                                 \r"
     ]
    },
    {
     "name": "stdout",
     "output_type": "stream",
     "text": [
      "Training Loss: 0.12518135\n",
      "Validation Loss: 0.12862526\n",
      "Average SDR for Stem 0: -0.00812168 dB\n",
      "Average SDR for Stem 1: -0.32043496 dB\n",
      "Average SDR for Stem 2: -0.01696479 dB\n",
      "Overall Average SDR: -0.11517381 dB\n",
      "--------------------\n",
      "Epoch 386/1000\n"
     ]
    },
    {
     "name": "stderr",
     "output_type": "stream",
     "text": [
      "                                                                                 \r"
     ]
    },
    {
     "name": "stdout",
     "output_type": "stream",
     "text": [
      "Training Loss: 0.09349628\n",
      "Validation Loss: 0.11065134\n",
      "Average SDR for Stem 0: -0.01739361 dB\n",
      "Average SDR for Stem 1: -0.49377838 dB\n",
      "Average SDR for Stem 2: -0.11182780 dB\n",
      "Overall Average SDR: -0.20766659 dB\n",
      "--------------------\n",
      "Epoch 387/1000\n"
     ]
    },
    {
     "name": "stderr",
     "output_type": "stream",
     "text": [
      "                                                                                 \r"
     ]
    },
    {
     "name": "stdout",
     "output_type": "stream",
     "text": [
      "Training Loss: 0.14450123\n",
      "Validation Loss: 0.02761424\n",
      "Average SDR for Stem 0: -4.75268412 dB\n",
      "Average SDR for Stem 1: -0.49665603 dB\n",
      "Average SDR for Stem 2: -1.54966545 dB\n",
      "Overall Average SDR: -2.26633525 dB\n",
      "--------------------\n",
      "Epoch 388/1000\n"
     ]
    },
    {
     "name": "stderr",
     "output_type": "stream",
     "text": [
      "                                                                                 \r"
     ]
    },
    {
     "name": "stdout",
     "output_type": "stream",
     "text": [
      "Training Loss: 0.18388153\n",
      "Validation Loss: 0.11266769\n",
      "Average SDR for Stem 0: -5.78311348 dB\n",
      "Average SDR for Stem 1: -1.72319841 dB\n",
      "Average SDR for Stem 2: -0.11033097 dB\n",
      "Overall Average SDR: -2.53888106 dB\n",
      "--------------------\n",
      "Epoch 389/1000\n"
     ]
    },
    {
     "name": "stderr",
     "output_type": "stream",
     "text": [
      "                                                                                 \r"
     ]
    },
    {
     "name": "stdout",
     "output_type": "stream",
     "text": [
      "Training Loss: 0.19476218\n",
      "Validation Loss: 0.07607371\n",
      "Average SDR for Stem 0: -5.75333166 dB\n",
      "Average SDR for Stem 1: -0.06715242 dB\n",
      "Average SDR for Stem 2: -4.08906412 dB\n",
      "Overall Average SDR: -3.30318260 dB\n",
      "--------------------\n",
      "Epoch 390/1000\n"
     ]
    },
    {
     "name": "stderr",
     "output_type": "stream",
     "text": [
      "                                                                                  \r"
     ]
    },
    {
     "name": "stdout",
     "output_type": "stream",
     "text": [
      "Training Loss: 0.11516426\n",
      "Validation Loss: 0.12317886\n",
      "Average SDR for Stem 0: -3.77199817 dB\n",
      "Average SDR for Stem 1: -9.47731781 dB\n",
      "Average SDR for Stem 2: -9.77916622 dB\n",
      "Overall Average SDR: -7.67616081 dB\n",
      "--------------------\n",
      "Epoch 391/1000\n"
     ]
    },
    {
     "name": "stderr",
     "output_type": "stream",
     "text": [
      "                                                                                 \r"
     ]
    },
    {
     "name": "stdout",
     "output_type": "stream",
     "text": [
      "Training Loss: 0.10098014\n",
      "Validation Loss: 0.10353448\n",
      "Average SDR for Stem 0: -0.04209490 dB\n",
      "Average SDR for Stem 1: -4.73448706 dB\n",
      "Average SDR for Stem 2: -2.43303466 dB\n",
      "Overall Average SDR: -2.40320563 dB\n",
      "--------------------\n",
      "Epoch 392/1000\n"
     ]
    },
    {
     "name": "stderr",
     "output_type": "stream",
     "text": [
      "                                                                                 \r"
     ]
    },
    {
     "name": "stdout",
     "output_type": "stream",
     "text": [
      "Training Loss: 0.12116770\n",
      "Validation Loss: 0.06600338\n",
      "Average SDR for Stem 0: -0.03621220 dB\n",
      "Average SDR for Stem 1: -0.06336354 dB\n",
      "Average SDR for Stem 2: -1.86825800 dB\n",
      "Overall Average SDR: -0.65594459 dB\n",
      "--------------------\n",
      "Epoch 393/1000\n"
     ]
    },
    {
     "name": "stderr",
     "output_type": "stream",
     "text": [
      "                                                                                  \r"
     ]
    },
    {
     "name": "stdout",
     "output_type": "stream",
     "text": [
      "Training Loss: 0.09933542\n",
      "Validation Loss: 0.03603261\n",
      "Average SDR for Stem 0: -7.19271851 dB\n",
      "Average SDR for Stem 1: -5.78085709 dB\n",
      "Average SDR for Stem 2: -1.59638262 dB\n",
      "Overall Average SDR: -4.85665274 dB\n",
      "--------------------\n",
      "Epoch 394/1000\n"
     ]
    },
    {
     "name": "stderr",
     "output_type": "stream",
     "text": [
      "                                                                                   \r"
     ]
    },
    {
     "name": "stdout",
     "output_type": "stream",
     "text": [
      "Training Loss: 0.08477652\n",
      "Validation Loss: 0.08422441\n",
      "Average SDR for Stem 0: -0.12820609 dB\n",
      "Average SDR for Stem 1: -0.16362312 dB\n",
      "Average SDR for Stem 2: -1.43114126 dB\n",
      "Overall Average SDR: -0.57432348 dB\n",
      "--------------------\n",
      "Epoch 395/1000\n"
     ]
    },
    {
     "name": "stderr",
     "output_type": "stream",
     "text": [
      "                                                                                 \r"
     ]
    },
    {
     "name": "stdout",
     "output_type": "stream",
     "text": [
      "Training Loss: 0.15921484\n",
      "Validation Loss: 0.18656956\n",
      "Average SDR for Stem 0: -0.29816633 dB\n",
      "Average SDR for Stem 1: -0.01059737 dB\n",
      "Average SDR for Stem 2: -2.74755883 dB\n",
      "Overall Average SDR: -1.01877415 dB\n",
      "--------------------\n",
      "Epoch 396/1000\n"
     ]
    },
    {
     "name": "stderr",
     "output_type": "stream",
     "text": [
      "                                                                                 \r"
     ]
    },
    {
     "name": "stdout",
     "output_type": "stream",
     "text": [
      "Training Loss: 0.14009375\n",
      "Validation Loss: 0.07587964\n",
      "Average SDR for Stem 0: -4.98734999 dB\n",
      "Average SDR for Stem 1: -4.89152718 dB\n",
      "Average SDR for Stem 2: -2.91370797 dB\n",
      "Overall Average SDR: -4.26419497 dB\n",
      "--------------------\n",
      "Epoch 397/1000\n"
     ]
    },
    {
     "name": "stderr",
     "output_type": "stream",
     "text": [
      "                                                                                 \r"
     ]
    },
    {
     "name": "stdout",
     "output_type": "stream",
     "text": [
      "Training Loss: 0.19280415\n",
      "Validation Loss: 0.02649205\n",
      "Average SDR for Stem 0: -1.64190423 dB\n",
      "Average SDR for Stem 1: -1.03037035 dB\n",
      "Average SDR for Stem 2: -1.76226616 dB\n",
      "Overall Average SDR: -1.47818029 dB\n",
      "--------------------\n",
      "Epoch 398/1000\n"
     ]
    },
    {
     "name": "stderr",
     "output_type": "stream",
     "text": [
      "                                                                                 \r"
     ]
    },
    {
     "name": "stdout",
     "output_type": "stream",
     "text": [
      "Training Loss: 0.09962616\n",
      "Validation Loss: 0.13120752\n",
      "Average SDR for Stem 0: -0.09081624 dB\n",
      "Average SDR for Stem 1: -0.27485088 dB\n",
      "Average SDR for Stem 2: -0.16629148 dB\n",
      "Overall Average SDR: -0.17731953 dB\n",
      "--------------------\n",
      "Epoch 399/1000\n"
     ]
    },
    {
     "name": "stderr",
     "output_type": "stream",
     "text": [
      "                                                                                 \r"
     ]
    },
    {
     "name": "stdout",
     "output_type": "stream",
     "text": [
      "Training Loss: 0.08306870\n",
      "Validation Loss: 0.08366542\n",
      "Average SDR for Stem 0: -2.82948685 dB\n",
      "Average SDR for Stem 1: -0.04325897 dB\n",
      "Average SDR for Stem 2: -2.96163368 dB\n",
      "Overall Average SDR: -1.94479311 dB\n",
      "--------------------\n",
      "Epoch 400/1000\n"
     ]
    },
    {
     "name": "stderr",
     "output_type": "stream",
     "text": [
      "                                                                                 \r"
     ]
    },
    {
     "name": "stdout",
     "output_type": "stream",
     "text": [
      "Training Loss: 0.06871782\n",
      "Validation Loss: 0.15030733\n",
      "Average SDR for Stem 0: -4.36756372 dB\n",
      "Average SDR for Stem 1: -3.39856124 dB\n",
      "Average SDR for Stem 2: -3.70210052 dB\n",
      "Overall Average SDR: -3.82274175 dB\n",
      "--------------------\n",
      "Epoch 401/1000\n"
     ]
    },
    {
     "name": "stderr",
     "output_type": "stream",
     "text": [
      "                                                                                 \r"
     ]
    },
    {
     "name": "stdout",
     "output_type": "stream",
     "text": [
      "Training Loss: 0.12213842\n",
      "Validation Loss: 0.07731657\n",
      "Average SDR for Stem 0: 0.01371956 dB\n",
      "Average SDR for Stem 1: -1.25679338 dB\n",
      "Average SDR for Stem 2: -0.65034932 dB\n",
      "Overall Average SDR: -0.63114101 dB\n",
      "--------------------\n",
      "Epoch 402/1000\n"
     ]
    },
    {
     "name": "stderr",
     "output_type": "stream",
     "text": [
      "                                                                                 \r"
     ]
    },
    {
     "name": "stdout",
     "output_type": "stream",
     "text": [
      "Training Loss: 0.08906360\n",
      "Validation Loss: 0.06936204\n",
      "Average SDR for Stem 0: -3.06674170 dB\n",
      "Average SDR for Stem 1: -0.39963245 dB\n",
      "Average SDR for Stem 2: -0.02909999 dB\n",
      "Overall Average SDR: -1.16515803 dB\n",
      "--------------------\n",
      "Epoch 403/1000\n"
     ]
    },
    {
     "name": "stderr",
     "output_type": "stream",
     "text": [
      "                                                                                 \r"
     ]
    },
    {
     "name": "stdout",
     "output_type": "stream",
     "text": [
      "Training Loss: 0.08525065\n",
      "Validation Loss: 0.03708060\n",
      "Average SDR for Stem 0: -3.62792873 dB\n",
      "Average SDR for Stem 1: -3.32592654 dB\n",
      "Average SDR for Stem 2: -5.37873411 dB\n",
      "Overall Average SDR: -4.11086321 dB\n",
      "--------------------\n",
      "Epoch 404/1000\n"
     ]
    },
    {
     "name": "stderr",
     "output_type": "stream",
     "text": [
      "                                                                                 \r"
     ]
    },
    {
     "name": "stdout",
     "output_type": "stream",
     "text": [
      "Training Loss: 0.13907574\n",
      "Validation Loss: 0.07218445\n",
      "Average SDR for Stem 0: -0.03709966 dB\n",
      "Average SDR for Stem 1: -2.28690410 dB\n",
      "Average SDR for Stem 2: -5.02537394 dB\n",
      "Overall Average SDR: -2.44979262 dB\n",
      "--------------------\n",
      "Epoch 405/1000\n"
     ]
    },
    {
     "name": "stderr",
     "output_type": "stream",
     "text": [
      "                                                                                 \r"
     ]
    },
    {
     "name": "stdout",
     "output_type": "stream",
     "text": [
      "Training Loss: 0.10254777\n",
      "Validation Loss: 0.10937237\n",
      "Average SDR for Stem 0: -0.01518515 dB\n",
      "Average SDR for Stem 1: -10.85598660 dB\n",
      "Average SDR for Stem 2: -0.13386701 dB\n",
      "Overall Average SDR: -3.66834641 dB\n",
      "--------------------\n",
      "Epoch 406/1000\n"
     ]
    },
    {
     "name": "stderr",
     "output_type": "stream",
     "text": [
      "                                                                                 \r"
     ]
    },
    {
     "name": "stdout",
     "output_type": "stream",
     "text": [
      "Training Loss: 0.15671847\n",
      "Validation Loss: 0.09342296\n",
      "Average SDR for Stem 0: -5.96098137 dB\n",
      "Average SDR for Stem 1: -0.02930883 dB\n",
      "Average SDR for Stem 2: -3.40464044 dB\n",
      "Overall Average SDR: -3.13164353 dB\n",
      "--------------------\n",
      "Epoch 407/1000\n"
     ]
    },
    {
     "name": "stderr",
     "output_type": "stream",
     "text": [
      "                                                                                 \r"
     ]
    },
    {
     "name": "stdout",
     "output_type": "stream",
     "text": [
      "Training Loss: 0.11903184\n",
      "Validation Loss: 0.06678004\n",
      "Average SDR for Stem 0: -0.08066671 dB\n",
      "Average SDR for Stem 1: -0.32087931 dB\n",
      "Average SDR for Stem 2: -1.46956110 dB\n",
      "Overall Average SDR: -0.62370235 dB\n",
      "--------------------\n",
      "Epoch 408/1000\n"
     ]
    },
    {
     "name": "stderr",
     "output_type": "stream",
     "text": [
      "                                                                                  \r"
     ]
    },
    {
     "name": "stdout",
     "output_type": "stream",
     "text": [
      "Training Loss: 0.06988403\n",
      "Validation Loss: 0.14045613\n",
      "Average SDR for Stem 0: -0.02989740 dB\n",
      "Average SDR for Stem 1: -0.02193221 dB\n",
      "Average SDR for Stem 2: -8.65641880 dB\n",
      "Overall Average SDR: -2.90274930 dB\n",
      "--------------------\n",
      "Epoch 409/1000\n"
     ]
    },
    {
     "name": "stderr",
     "output_type": "stream",
     "text": [
      "                                                                                 \r"
     ]
    },
    {
     "name": "stdout",
     "output_type": "stream",
     "text": [
      "Training Loss: 0.10532282\n",
      "Validation Loss: 0.10838378\n",
      "Average SDR for Stem 0: -0.01527917 dB\n",
      "Average SDR for Stem 1: -0.21087982 dB\n",
      "Average SDR for Stem 2: -1.78162992 dB\n",
      "Overall Average SDR: -0.66926295 dB\n",
      "--------------------\n",
      "Epoch 410/1000\n"
     ]
    },
    {
     "name": "stderr",
     "output_type": "stream",
     "text": [
      "                                                                                 \r"
     ]
    },
    {
     "name": "stdout",
     "output_type": "stream",
     "text": [
      "Training Loss: 0.07662927\n",
      "Validation Loss: 0.12587084\n",
      "Average SDR for Stem 0: -3.78904223 dB\n",
      "Average SDR for Stem 1: -1.55466282 dB\n",
      "Average SDR for Stem 2: -8.03561306 dB\n",
      "Overall Average SDR: -4.45977259 dB\n",
      "--------------------\n",
      "Epoch 411/1000\n"
     ]
    },
    {
     "name": "stderr",
     "output_type": "stream",
     "text": [
      "                                                                                 \r"
     ]
    },
    {
     "name": "stdout",
     "output_type": "stream",
     "text": [
      "Training Loss: 0.09256235\n",
      "Validation Loss: 0.03938156\n",
      "Average SDR for Stem 0: -6.20590353 dB\n",
      "Average SDR for Stem 1: -8.09358883 dB\n",
      "Average SDR for Stem 2: -3.83975959 dB\n",
      "Overall Average SDR: -6.04641724 dB\n",
      "--------------------\n",
      "Epoch 412/1000\n"
     ]
    },
    {
     "name": "stderr",
     "output_type": "stream",
     "text": [
      "                                                                                 \r"
     ]
    },
    {
     "name": "stdout",
     "output_type": "stream",
     "text": [
      "Training Loss: 0.12129008\n",
      "Validation Loss: 0.26439099\n",
      "Average SDR for Stem 0: -0.00795325 dB\n",
      "Average SDR for Stem 1: -0.03717699 dB\n",
      "Average SDR for Stem 2: -0.02055811 dB\n",
      "Overall Average SDR: -0.02189612 dB\n",
      "--------------------\n",
      "Epoch 413/1000\n"
     ]
    },
    {
     "name": "stderr",
     "output_type": "stream",
     "text": [
      "                                                                                   \r"
     ]
    },
    {
     "name": "stdout",
     "output_type": "stream",
     "text": [
      "Training Loss: 0.08109970\n",
      "Validation Loss: 0.04870322\n",
      "Average SDR for Stem 0: -6.78973055 dB\n",
      "Average SDR for Stem 1: -0.01682321 dB\n",
      "Average SDR for Stem 2: -4.90197563 dB\n",
      "Overall Average SDR: -3.90284324 dB\n",
      "--------------------\n",
      "Epoch 414/1000\n"
     ]
    },
    {
     "name": "stderr",
     "output_type": "stream",
     "text": [
      "                                                                                 \r"
     ]
    },
    {
     "name": "stdout",
     "output_type": "stream",
     "text": [
      "Training Loss: 0.13973381\n",
      "Validation Loss: 0.03206359\n",
      "Average SDR for Stem 0: -6.81344604 dB\n",
      "Average SDR for Stem 1: -0.02559262 dB\n",
      "Average SDR for Stem 2: -2.58460021 dB\n",
      "Overall Average SDR: -3.14121318 dB\n",
      "--------------------\n",
      "Epoch 415/1000\n"
     ]
    },
    {
     "name": "stderr",
     "output_type": "stream",
     "text": [
      "                                                                                 \r"
     ]
    },
    {
     "name": "stdout",
     "output_type": "stream",
     "text": [
      "Training Loss: 0.09401495\n",
      "Validation Loss: 0.11672943\n",
      "Average SDR for Stem 0: -0.07012311 dB\n",
      "Average SDR for Stem 1: -0.24752820 dB\n",
      "Average SDR for Stem 2: -0.05371763 dB\n",
      "Overall Average SDR: -0.12378965 dB\n",
      "--------------------\n",
      "Epoch 416/1000\n"
     ]
    },
    {
     "name": "stderr",
     "output_type": "stream",
     "text": [
      "                                                                                   \r"
     ]
    },
    {
     "name": "stdout",
     "output_type": "stream",
     "text": [
      "Training Loss: 0.04110517\n",
      "Validation Loss: 0.56011069\n",
      "Average SDR for Stem 0: -1.86584103 dB\n",
      "Average SDR for Stem 1: -1.92929709 dB\n",
      "Average SDR for Stem 2: -0.13783674 dB\n",
      "Overall Average SDR: -1.31099164 dB\n",
      "--------------------\n",
      "Epoch 417/1000\n"
     ]
    },
    {
     "name": "stderr",
     "output_type": "stream",
     "text": [
      "                                                                                   \r"
     ]
    },
    {
     "name": "stdout",
     "output_type": "stream",
     "text": [
      "Training Loss: 0.05835834\n",
      "Validation Loss: 0.04981180\n",
      "Average SDR for Stem 0: -5.77740288 dB\n",
      "Average SDR for Stem 1: -0.13213061 dB\n",
      "Average SDR for Stem 2: -2.19768023 dB\n",
      "Overall Average SDR: -2.70240474 dB\n",
      "--------------------\n",
      "Epoch 418/1000\n"
     ]
    },
    {
     "name": "stderr",
     "output_type": "stream",
     "text": [
      "                                                                                 \r"
     ]
    },
    {
     "name": "stdout",
     "output_type": "stream",
     "text": [
      "Training Loss: 0.06951634\n",
      "Validation Loss: 0.02359923\n",
      "Average SDR for Stem 0: -5.08650208 dB\n",
      "Average SDR for Stem 1: -0.73653030 dB\n",
      "Average SDR for Stem 2: -1.41516840 dB\n",
      "Overall Average SDR: -2.41273355 dB\n",
      "--------------------\n",
      "Epoch 419/1000\n"
     ]
    },
    {
     "name": "stderr",
     "output_type": "stream",
     "text": [
      "                                                                                 \r"
     ]
    },
    {
     "name": "stdout",
     "output_type": "stream",
     "text": [
      "Training Loss: 0.16137121\n",
      "Validation Loss: 0.07176580\n",
      "Average SDR for Stem 0: -0.02736094 dB\n",
      "Average SDR for Stem 1: -0.08623435 dB\n",
      "Average SDR for Stem 2: -0.03395807 dB\n",
      "Overall Average SDR: -0.04918445 dB\n",
      "--------------------\n",
      "Epoch 420/1000\n"
     ]
    },
    {
     "name": "stderr",
     "output_type": "stream",
     "text": [
      "                                                                                 \r"
     ]
    },
    {
     "name": "stdout",
     "output_type": "stream",
     "text": [
      "Training Loss: 0.12274491\n",
      "Validation Loss: 0.14643241\n",
      "Average SDR for Stem 0: -1.55658495 dB\n",
      "Average SDR for Stem 1: -0.01797880 dB\n",
      "Average SDR for Stem 2: -3.51379132 dB\n",
      "Overall Average SDR: -1.69611835 dB\n",
      "--------------------\n",
      "Epoch 421/1000\n"
     ]
    },
    {
     "name": "stderr",
     "output_type": "stream",
     "text": [
      "                                                                                 \r"
     ]
    },
    {
     "name": "stdout",
     "output_type": "stream",
     "text": [
      "Training Loss: 0.14325230\n",
      "Validation Loss: 0.06484832\n",
      "Average SDR for Stem 0: -8.49190426 dB\n",
      "Average SDR for Stem 1: -0.02476948 dB\n",
      "Average SDR for Stem 2: -0.12017886 dB\n",
      "Overall Average SDR: -2.87895107 dB\n",
      "--------------------\n",
      "Epoch 422/1000\n"
     ]
    },
    {
     "name": "stderr",
     "output_type": "stream",
     "text": [
      "                                                                                 \r"
     ]
    },
    {
     "name": "stdout",
     "output_type": "stream",
     "text": [
      "Training Loss: 0.07870626\n",
      "Validation Loss: 0.08122844\n",
      "Average SDR for Stem 0: -0.02406733 dB\n",
      "Average SDR for Stem 1: -0.11253473 dB\n",
      "Average SDR for Stem 2: -3.41796398 dB\n",
      "Overall Average SDR: -1.18485534 dB\n",
      "--------------------\n",
      "Epoch 423/1000\n"
     ]
    },
    {
     "name": "stderr",
     "output_type": "stream",
     "text": [
      "                                                                                 \r"
     ]
    },
    {
     "name": "stdout",
     "output_type": "stream",
     "text": [
      "Training Loss: 0.09995190\n",
      "Validation Loss: 0.07485230\n",
      "Average SDR for Stem 0: -0.03333678 dB\n",
      "Average SDR for Stem 1: -0.05948912 dB\n",
      "Average SDR for Stem 2: -0.68119293 dB\n",
      "Overall Average SDR: -0.25800627 dB\n",
      "--------------------\n",
      "Epoch 424/1000\n"
     ]
    },
    {
     "name": "stderr",
     "output_type": "stream",
     "text": [
      "                                                                                 \r"
     ]
    },
    {
     "name": "stdout",
     "output_type": "stream",
     "text": [
      "Training Loss: 0.13274929\n",
      "Validation Loss: 0.01922858\n",
      "Average SDR for Stem 0: -7.63515520 dB\n",
      "Average SDR for Stem 1: -3.35584068 dB\n",
      "Average SDR for Stem 2: -4.47008085 dB\n",
      "Overall Average SDR: -5.15369225 dB\n",
      "--------------------\n",
      "Epoch 425/1000\n"
     ]
    },
    {
     "name": "stderr",
     "output_type": "stream",
     "text": [
      "                                                                                 \r"
     ]
    },
    {
     "name": "stdout",
     "output_type": "stream",
     "text": [
      "Training Loss: 0.08515402\n",
      "Validation Loss: 0.13004561\n",
      "Average SDR for Stem 0: -5.33977556 dB\n",
      "Average SDR for Stem 1: -2.53776598 dB\n",
      "Average SDR for Stem 2: 1.41304207 dB\n",
      "Overall Average SDR: -2.15483308 dB\n",
      "--------------------\n",
      "Epoch 426/1000\n"
     ]
    },
    {
     "name": "stderr",
     "output_type": "stream",
     "text": [
      "                                                                                  \r"
     ]
    },
    {
     "name": "stdout",
     "output_type": "stream",
     "text": [
      "Training Loss: 0.06875590\n",
      "Validation Loss: 0.07317880\n",
      "Average SDR for Stem 0: -0.03292151 dB\n",
      "Average SDR for Stem 1: -0.02523802 dB\n",
      "Average SDR for Stem 2: -4.52795649 dB\n",
      "Overall Average SDR: -1.52870524 dB\n",
      "--------------------\n",
      "Epoch 427/1000\n"
     ]
    },
    {
     "name": "stderr",
     "output_type": "stream",
     "text": [
      "                                                                                 \r"
     ]
    },
    {
     "name": "stdout",
     "output_type": "stream",
     "text": [
      "Training Loss: 0.10123117\n",
      "Validation Loss: 0.24845462\n",
      "Average SDR for Stem 0: -0.00938817 dB\n",
      "Average SDR for Stem 1: -2.94268584 dB\n",
      "Average SDR for Stem 2: -2.95436835 dB\n",
      "Overall Average SDR: -1.96881425 dB\n",
      "--------------------\n",
      "Epoch 428/1000\n"
     ]
    },
    {
     "name": "stderr",
     "output_type": "stream",
     "text": [
      "                                                                                  \r"
     ]
    },
    {
     "name": "stdout",
     "output_type": "stream",
     "text": [
      "Training Loss: 0.07388026\n",
      "Validation Loss: 0.09116993\n",
      "Average SDR for Stem 0: -6.39985085 dB\n",
      "Average SDR for Stem 1: -0.27811995 dB\n",
      "Average SDR for Stem 2: -0.09358394 dB\n",
      "Overall Average SDR: -2.25718498 dB\n",
      "--------------------\n",
      "Epoch 429/1000\n"
     ]
    },
    {
     "name": "stderr",
     "output_type": "stream",
     "text": [
      "                                                                                 \r"
     ]
    },
    {
     "name": "stdout",
     "output_type": "stream",
     "text": [
      "Training Loss: 0.06527249\n",
      "Validation Loss: 0.05071060\n",
      "Average SDR for Stem 0: 0.68232638 dB\n",
      "Average SDR for Stem 1: -0.10764661 dB\n",
      "Average SDR for Stem 2: -1.95131552 dB\n",
      "Overall Average SDR: -0.45887861 dB\n",
      "--------------------\n",
      "Epoch 430/1000\n"
     ]
    },
    {
     "name": "stderr",
     "output_type": "stream",
     "text": [
      "                                                                                 \r"
     ]
    },
    {
     "name": "stdout",
     "output_type": "stream",
     "text": [
      "Training Loss: 0.11180442\n",
      "Validation Loss: 0.08703253\n",
      "Average SDR for Stem 0: -4.53460121 dB\n",
      "Average SDR for Stem 1: -6.03944063 dB\n",
      "Average SDR for Stem 2: -0.11782845 dB\n",
      "Overall Average SDR: -3.56395650 dB\n",
      "--------------------\n",
      "Epoch 431/1000\n"
     ]
    },
    {
     "name": "stderr",
     "output_type": "stream",
     "text": [
      "                                                                                  \r"
     ]
    },
    {
     "name": "stdout",
     "output_type": "stream",
     "text": [
      "Training Loss: 0.11672299\n",
      "Validation Loss: 0.03679060\n",
      "Average SDR for Stem 0: -5.94751406 dB\n",
      "Average SDR for Stem 1: -2.95098472 dB\n",
      "Average SDR for Stem 2: -0.10650191 dB\n",
      "Overall Average SDR: -3.00166678 dB\n",
      "--------------------\n",
      "Epoch 432/1000\n"
     ]
    },
    {
     "name": "stderr",
     "output_type": "stream",
     "text": [
      "                                                                                 \r"
     ]
    },
    {
     "name": "stdout",
     "output_type": "stream",
     "text": [
      "Training Loss: 0.12405124\n",
      "Validation Loss: 0.06663623\n",
      "Average SDR for Stem 0: -0.01621370 dB\n",
      "Average SDR for Stem 1: -0.48013783 dB\n",
      "Average SDR for Stem 2: 0.04407163 dB\n",
      "Overall Average SDR: -0.15075995 dB\n",
      "--------------------\n",
      "Epoch 433/1000\n"
     ]
    },
    {
     "name": "stderr",
     "output_type": "stream",
     "text": [
      "                                                                                 \r"
     ]
    },
    {
     "name": "stdout",
     "output_type": "stream",
     "text": [
      "Training Loss: 0.05325083\n",
      "Validation Loss: 0.09052160\n",
      "Average SDR for Stem 0: -0.02085380 dB\n",
      "Average SDR for Stem 1: -6.51234579 dB\n",
      "Average SDR for Stem 2: -6.31912470 dB\n",
      "Overall Average SDR: -4.28410816 dB\n",
      "--------------------\n",
      "Epoch 434/1000\n"
     ]
    },
    {
     "name": "stderr",
     "output_type": "stream",
     "text": [
      "                                                                                 \r"
     ]
    },
    {
     "name": "stdout",
     "output_type": "stream",
     "text": [
      "Training Loss: 0.09322869\n",
      "Validation Loss: 0.06457075\n",
      "Average SDR for Stem 0: -4.64857435 dB\n",
      "Average SDR for Stem 1: -0.44223127 dB\n",
      "Average SDR for Stem 2: 1.28627741 dB\n",
      "Overall Average SDR: -1.26817608 dB\n",
      "--------------------\n",
      "Epoch 435/1000\n"
     ]
    },
    {
     "name": "stderr",
     "output_type": "stream",
     "text": [
      "                                                                                 \r"
     ]
    },
    {
     "name": "stdout",
     "output_type": "stream",
     "text": [
      "Training Loss: 0.10033222\n",
      "Validation Loss: 0.04418211\n",
      "Average SDR for Stem 0: -3.53339362 dB\n",
      "Average SDR for Stem 1: -5.66076040 dB\n",
      "Average SDR for Stem 2: -7.31236601 dB\n",
      "Overall Average SDR: -5.50217295 dB\n",
      "--------------------\n",
      "Epoch 436/1000\n"
     ]
    },
    {
     "name": "stderr",
     "output_type": "stream",
     "text": [
      "                                                                                 \r"
     ]
    },
    {
     "name": "stdout",
     "output_type": "stream",
     "text": [
      "Training Loss: 0.09729593\n",
      "Validation Loss: 0.08982894\n",
      "Average SDR for Stem 0: -2.24232888 dB\n",
      "Average SDR for Stem 1: -0.24797243 dB\n",
      "Average SDR for Stem 2: -0.96489292 dB\n",
      "Overall Average SDR: -1.15173137 dB\n",
      "--------------------\n",
      "Epoch 437/1000\n"
     ]
    },
    {
     "name": "stderr",
     "output_type": "stream",
     "text": [
      "                                                                                  \r"
     ]
    },
    {
     "name": "stdout",
     "output_type": "stream",
     "text": [
      "Training Loss: 0.09136358\n",
      "Validation Loss: 0.09242876\n",
      "Average SDR for Stem 0: -0.18948132 dB\n",
      "Average SDR for Stem 1: -0.01685656 dB\n",
      "Average SDR for Stem 2: -1.31906843 dB\n",
      "Overall Average SDR: -0.50846881 dB\n",
      "--------------------\n",
      "Epoch 438/1000\n"
     ]
    },
    {
     "name": "stderr",
     "output_type": "stream",
     "text": [
      "                                                                                   \r"
     ]
    },
    {
     "name": "stdout",
     "output_type": "stream",
     "text": [
      "Training Loss: 0.11963872\n",
      "Validation Loss: 0.20140066\n",
      "Average SDR for Stem 0: -2.58087277 dB\n",
      "Average SDR for Stem 1: -0.09217474 dB\n",
      "Average SDR for Stem 2: -0.06713257 dB\n",
      "Overall Average SDR: -0.91339332 dB\n",
      "--------------------\n",
      "Epoch 439/1000\n"
     ]
    },
    {
     "name": "stderr",
     "output_type": "stream",
     "text": [
      "                                                                                 \r"
     ]
    },
    {
     "name": "stdout",
     "output_type": "stream",
     "text": [
      "Training Loss: 0.11065719\n",
      "Validation Loss: 0.07902878\n",
      "Average SDR for Stem 0: -0.08134672 dB\n",
      "Average SDR for Stem 1: -5.01449108 dB\n",
      "Average SDR for Stem 2: -2.94617271 dB\n",
      "Overall Average SDR: -2.68067002 dB\n",
      "--------------------\n",
      "Epoch 440/1000\n"
     ]
    },
    {
     "name": "stderr",
     "output_type": "stream",
     "text": [
      "                                                                                 \r"
     ]
    },
    {
     "name": "stdout",
     "output_type": "stream",
     "text": [
      "Training Loss: 0.10366064\n",
      "Validation Loss: 0.09752557\n",
      "Average SDR for Stem 0: -5.36186266 dB\n",
      "Average SDR for Stem 1: -0.09234089 dB\n",
      "Average SDR for Stem 2: -0.11583114 dB\n",
      "Overall Average SDR: -1.85667837 dB\n",
      "--------------------\n",
      "Epoch 441/1000\n"
     ]
    },
    {
     "name": "stderr",
     "output_type": "stream",
     "text": [
      "                                                                                 \r"
     ]
    },
    {
     "name": "stdout",
     "output_type": "stream",
     "text": [
      "Training Loss: 0.06964557\n",
      "Validation Loss: 0.10773363\n",
      "Average SDR for Stem 0: -0.01717483 dB\n",
      "Average SDR for Stem 1: -5.89723253 dB\n",
      "Average SDR for Stem 2: -0.38619542 dB\n",
      "Overall Average SDR: -2.10020089 dB\n",
      "--------------------\n",
      "Epoch 442/1000\n"
     ]
    },
    {
     "name": "stderr",
     "output_type": "stream",
     "text": [
      "                                                                                 \r"
     ]
    },
    {
     "name": "stdout",
     "output_type": "stream",
     "text": [
      "Training Loss: 0.08319872\n",
      "Validation Loss: 0.14334190\n",
      "Average SDR for Stem 0: -2.86206412 dB\n",
      "Average SDR for Stem 1: -0.01892046 dB\n",
      "Average SDR for Stem 2: -0.11974901 dB\n",
      "Overall Average SDR: -1.00024450 dB\n",
      "--------------------\n",
      "Epoch 443/1000\n"
     ]
    },
    {
     "name": "stderr",
     "output_type": "stream",
     "text": [
      "                                                                                 \r"
     ]
    },
    {
     "name": "stdout",
     "output_type": "stream",
     "text": [
      "Training Loss: 0.08679489\n",
      "Validation Loss: 0.08564107\n",
      "Average SDR for Stem 0: -2.95755124 dB\n",
      "Average SDR for Stem 1: -0.01509381 dB\n",
      "Average SDR for Stem 2: -5.93992853 dB\n",
      "Overall Average SDR: -2.97085786 dB\n",
      "--------------------\n",
      "Epoch 444/1000\n"
     ]
    },
    {
     "name": "stderr",
     "output_type": "stream",
     "text": [
      "                                                                                 \r"
     ]
    },
    {
     "name": "stdout",
     "output_type": "stream",
     "text": [
      "Training Loss: 0.08555748\n",
      "Validation Loss: 0.05014816\n",
      "Average SDR for Stem 0: -2.39578032 dB\n",
      "Average SDR for Stem 1: -1.00052011 dB\n",
      "Average SDR for Stem 2: -0.08734842 dB\n",
      "Overall Average SDR: -1.16121626 dB\n",
      "--------------------\n",
      "Epoch 445/1000\n"
     ]
    },
    {
     "name": "stderr",
     "output_type": "stream",
     "text": [
      "                                                                                 \r"
     ]
    },
    {
     "name": "stdout",
     "output_type": "stream",
     "text": [
      "Training Loss: 0.11476798\n",
      "Validation Loss: 0.19009141\n",
      "Average SDR for Stem 0: -0.01421157 dB\n",
      "Average SDR for Stem 1: -0.02373068 dB\n",
      "Average SDR for Stem 2: -0.02108839 dB\n",
      "Overall Average SDR: -0.01967688 dB\n",
      "--------------------\n",
      "Epoch 446/1000\n"
     ]
    },
    {
     "name": "stderr",
     "output_type": "stream",
     "text": [
      "                                                                                  \r"
     ]
    },
    {
     "name": "stdout",
     "output_type": "stream",
     "text": [
      "Training Loss: 0.10098666\n",
      "Validation Loss: 0.08802984\n",
      "Average SDR for Stem 0: -1.94997358 dB\n",
      "Average SDR for Stem 1: -5.40436935 dB\n",
      "Average SDR for Stem 2: -5.32362890 dB\n",
      "Overall Average SDR: -4.22599077 dB\n",
      "--------------------\n",
      "Epoch 447/1000\n"
     ]
    },
    {
     "name": "stderr",
     "output_type": "stream",
     "text": [
      "                                                                                 \r"
     ]
    },
    {
     "name": "stdout",
     "output_type": "stream",
     "text": [
      "Training Loss: 0.17723177\n",
      "Validation Loss: 0.16264644\n",
      "Average SDR for Stem 0: -3.29721355 dB\n",
      "Average SDR for Stem 1: -3.89334679 dB\n",
      "Average SDR for Stem 2: -2.83340621 dB\n",
      "Overall Average SDR: -3.34132218 dB\n",
      "--------------------\n",
      "Epoch 448/1000\n"
     ]
    },
    {
     "name": "stderr",
     "output_type": "stream",
     "text": [
      "                                                                                 \r"
     ]
    },
    {
     "name": "stdout",
     "output_type": "stream",
     "text": [
      "Training Loss: 0.07054594\n",
      "Validation Loss: 0.18074288\n",
      "Average SDR for Stem 0: -0.01511582 dB\n",
      "Average SDR for Stem 1: -0.03037281 dB\n",
      "Average SDR for Stem 2: -0.09283679 dB\n",
      "Overall Average SDR: -0.04610847 dB\n",
      "--------------------\n",
      "Epoch 449/1000\n"
     ]
    },
    {
     "name": "stderr",
     "output_type": "stream",
     "text": [
      "                                                                                 \r"
     ]
    },
    {
     "name": "stdout",
     "output_type": "stream",
     "text": [
      "Training Loss: 0.07310238\n",
      "Validation Loss: 0.07072229\n",
      "Average SDR for Stem 0: -0.06639034 dB\n",
      "Average SDR for Stem 1: -0.03752035 dB\n",
      "Average SDR for Stem 2: -4.80584574 dB\n",
      "Overall Average SDR: -1.63658559 dB\n",
      "--------------------\n",
      "Epoch 450/1000\n"
     ]
    },
    {
     "name": "stderr",
     "output_type": "stream",
     "text": [
      "                                                                                 \r"
     ]
    },
    {
     "name": "stdout",
     "output_type": "stream",
     "text": [
      "Training Loss: 0.08882561\n",
      "Validation Loss: 0.10492128\n",
      "Average SDR for Stem 0: -0.00737947 dB\n",
      "Average SDR for Stem 1: -8.12419796 dB\n",
      "Average SDR for Stem 2: -2.85392475 dB\n",
      "Overall Average SDR: -3.66183400 dB\n",
      "--------------------\n",
      "Epoch 451/1000\n"
     ]
    },
    {
     "name": "stderr",
     "output_type": "stream",
     "text": [
      "                                                                                 \r"
     ]
    },
    {
     "name": "stdout",
     "output_type": "stream",
     "text": [
      "Training Loss: 0.14097953\n",
      "Validation Loss: 0.06799022\n",
      "Average SDR for Stem 0: -6.49825811 dB\n",
      "Average SDR for Stem 1: -0.69061399 dB\n",
      "Average SDR for Stem 2: -0.06635237 dB\n",
      "Overall Average SDR: -2.41840816 dB\n",
      "--------------------\n",
      "Epoch 452/1000\n"
     ]
    },
    {
     "name": "stderr",
     "output_type": "stream",
     "text": [
      "                                                                                 \r"
     ]
    },
    {
     "name": "stdout",
     "output_type": "stream",
     "text": [
      "Training Loss: 0.08299461\n",
      "Validation Loss: 0.10093957\n",
      "Average SDR for Stem 0: -2.24130511 dB\n",
      "Average SDR for Stem 1: -5.00248194 dB\n",
      "Average SDR for Stem 2: -6.22495794 dB\n",
      "Overall Average SDR: -4.48958158 dB\n",
      "--------------------\n",
      "Epoch 453/1000\n"
     ]
    },
    {
     "name": "stderr",
     "output_type": "stream",
     "text": [
      "                                                                                 \r"
     ]
    },
    {
     "name": "stdout",
     "output_type": "stream",
     "text": [
      "Training Loss: 0.13793169\n",
      "Validation Loss: 0.04920046\n",
      "Average SDR for Stem 0: -3.36555386 dB\n",
      "Average SDR for Stem 1: -10.07321358 dB\n",
      "Average SDR for Stem 2: -4.80571699 dB\n",
      "Overall Average SDR: -6.08149481 dB\n",
      "--------------------\n",
      "Epoch 454/1000\n"
     ]
    },
    {
     "name": "stderr",
     "output_type": "stream",
     "text": [
      "                                                                                 \r"
     ]
    },
    {
     "name": "stdout",
     "output_type": "stream",
     "text": [
      "Training Loss: 0.08242433\n",
      "Validation Loss: 0.05529959\n",
      "Average SDR for Stem 0: -1.68494165 dB\n",
      "Average SDR for Stem 1: -2.67750573 dB\n",
      "Average SDR for Stem 2: -0.03933723 dB\n",
      "Overall Average SDR: -1.46726143 dB\n",
      "--------------------\n",
      "Epoch 455/1000\n"
     ]
    },
    {
     "name": "stderr",
     "output_type": "stream",
     "text": [
      "                                                                                 \r"
     ]
    },
    {
     "name": "stdout",
     "output_type": "stream",
     "text": [
      "Training Loss: 0.10939590\n",
      "Validation Loss: 0.04650493\n",
      "Average SDR for Stem 0: -0.05801586 dB\n",
      "Average SDR for Stem 1: -3.66767383 dB\n",
      "Average SDR for Stem 2: -0.12240363 dB\n",
      "Overall Average SDR: -1.28269780 dB\n",
      "--------------------\n",
      "Epoch 456/1000\n"
     ]
    },
    {
     "name": "stderr",
     "output_type": "stream",
     "text": [
      "                                                                                 \r"
     ]
    },
    {
     "name": "stdout",
     "output_type": "stream",
     "text": [
      "Training Loss: 0.09615237\n",
      "Validation Loss: 0.09599562\n",
      "Average SDR for Stem 0: -0.01683330 dB\n",
      "Average SDR for Stem 1: -2.94970107 dB\n",
      "Average SDR for Stem 2: -0.08056588 dB\n",
      "Overall Average SDR: -1.01570010 dB\n",
      "--------------------\n",
      "Epoch 457/1000\n"
     ]
    },
    {
     "name": "stderr",
     "output_type": "stream",
     "text": [
      "                                                                                 \r"
     ]
    },
    {
     "name": "stdout",
     "output_type": "stream",
     "text": [
      "Training Loss: 0.22015955\n",
      "Validation Loss: 0.17506799\n",
      "Average SDR for Stem 0: 0.00007057 dB\n",
      "Average SDR for Stem 1: -0.03280367 dB\n",
      "Average SDR for Stem 2: -2.75039196 dB\n",
      "Overall Average SDR: -0.92770839 dB\n",
      "--------------------\n",
      "Epoch 458/1000\n"
     ]
    },
    {
     "name": "stderr",
     "output_type": "stream",
     "text": [
      "                                                                                 \r"
     ]
    },
    {
     "name": "stdout",
     "output_type": "stream",
     "text": [
      "Training Loss: 0.10242486\n",
      "Validation Loss: 0.10996414\n",
      "Average SDR for Stem 0: -2.14694762 dB\n",
      "Average SDR for Stem 1: -0.01284668 dB\n",
      "Average SDR for Stem 2: -0.03664924 dB\n",
      "Overall Average SDR: -0.73214787 dB\n",
      "--------------------\n",
      "Epoch 459/1000\n"
     ]
    },
    {
     "name": "stderr",
     "output_type": "stream",
     "text": [
      "                                                                                 \r"
     ]
    },
    {
     "name": "stdout",
     "output_type": "stream",
     "text": [
      "Training Loss: 0.10949746\n",
      "Validation Loss: 0.16365557\n",
      "Average SDR for Stem 0: -0.00936374 dB\n",
      "Average SDR for Stem 1: -0.05957295 dB\n",
      "Average SDR for Stem 2: -0.09033721 dB\n",
      "Overall Average SDR: -0.05309130 dB\n",
      "--------------------\n",
      "Epoch 460/1000\n"
     ]
    },
    {
     "name": "stderr",
     "output_type": "stream",
     "text": [
      "                                                                                 \r"
     ]
    },
    {
     "name": "stdout",
     "output_type": "stream",
     "text": [
      "Training Loss: 0.11452546\n",
      "Validation Loss: 0.09260274\n",
      "Average SDR for Stem 0: -0.04140645 dB\n",
      "Average SDR for Stem 1: -2.99167800 dB\n",
      "Average SDR for Stem 2: -0.05593504 dB\n",
      "Overall Average SDR: -1.02967322 dB\n",
      "--------------------\n",
      "Epoch 461/1000\n"
     ]
    },
    {
     "name": "stderr",
     "output_type": "stream",
     "text": [
      "                                                                                 \r"
     ]
    },
    {
     "name": "stdout",
     "output_type": "stream",
     "text": [
      "Training Loss: 0.04825386\n",
      "Validation Loss: 0.09053980\n",
      "Average SDR for Stem 0: -5.56677246 dB\n",
      "Average SDR for Stem 1: -0.06365382 dB\n",
      "Average SDR for Stem 2: -0.14435555 dB\n",
      "Overall Average SDR: -1.92492735 dB\n",
      "--------------------\n",
      "Epoch 462/1000\n"
     ]
    },
    {
     "name": "stderr",
     "output_type": "stream",
     "text": [
      "                                                                                  \r"
     ]
    },
    {
     "name": "stdout",
     "output_type": "stream",
     "text": [
      "Training Loss: 0.14000101\n",
      "Validation Loss: 0.01712950\n",
      "Average SDR for Stem 0: -5.27348804 dB\n",
      "Average SDR for Stem 1: -4.57878447 dB\n",
      "Average SDR for Stem 2: -0.84885103 dB\n",
      "Overall Average SDR: -3.56704116 dB\n",
      "--------------------\n",
      "Epoch 463/1000\n"
     ]
    },
    {
     "name": "stderr",
     "output_type": "stream",
     "text": [
      "                                                                                 \r"
     ]
    },
    {
     "name": "stdout",
     "output_type": "stream",
     "text": [
      "Training Loss: 0.11580826\n",
      "Validation Loss: 0.04488393\n",
      "Average SDR for Stem 0: -1.95822775 dB\n",
      "Average SDR for Stem 1: -0.17402261 dB\n",
      "Average SDR for Stem 2: -6.97616625 dB\n",
      "Overall Average SDR: -3.03613877 dB\n",
      "--------------------\n",
      "Epoch 464/1000\n"
     ]
    },
    {
     "name": "stderr",
     "output_type": "stream",
     "text": [
      "                                                                                 \r"
     ]
    },
    {
     "name": "stdout",
     "output_type": "stream",
     "text": [
      "Training Loss: 0.11995271\n",
      "Validation Loss: 0.02365356\n",
      "Average SDR for Stem 0: -13.05044270 dB\n",
      "Average SDR for Stem 1: -0.02900453 dB\n",
      "Average SDR for Stem 2: -14.39570618 dB\n",
      "Overall Average SDR: -9.15838432 dB\n",
      "--------------------\n",
      "Epoch 465/1000\n"
     ]
    },
    {
     "name": "stderr",
     "output_type": "stream",
     "text": [
      "                                                                                 \r"
     ]
    },
    {
     "name": "stdout",
     "output_type": "stream",
     "text": [
      "Training Loss: 0.07119820\n",
      "Validation Loss: 0.05909391\n",
      "Average SDR for Stem 0: -2.14588809 dB\n",
      "Average SDR for Stem 1: -9.54502487 dB\n",
      "Average SDR for Stem 2: -3.18442035 dB\n",
      "Overall Average SDR: -4.95844460 dB\n",
      "--------------------\n",
      "Epoch 466/1000\n"
     ]
    },
    {
     "name": "stderr",
     "output_type": "stream",
     "text": [
      "                                                                                 \r"
     ]
    },
    {
     "name": "stdout",
     "output_type": "stream",
     "text": [
      "Training Loss: 0.07042971\n",
      "Validation Loss: 0.05825713\n",
      "Average SDR for Stem 0: -2.73979950 dB\n",
      "Average SDR for Stem 1: -7.48150015 dB\n",
      "Average SDR for Stem 2: -0.05419092 dB\n",
      "Overall Average SDR: -3.42516351 dB\n",
      "--------------------\n",
      "Epoch 467/1000\n"
     ]
    },
    {
     "name": "stderr",
     "output_type": "stream",
     "text": [
      "                                                                                 \r"
     ]
    },
    {
     "name": "stdout",
     "output_type": "stream",
     "text": [
      "Training Loss: 0.09790785\n",
      "Validation Loss: 0.10490792\n",
      "Average SDR for Stem 0: -0.01720072 dB\n",
      "Average SDR for Stem 1: -4.96914816 dB\n",
      "Average SDR for Stem 2: -0.03905851 dB\n",
      "Overall Average SDR: -1.67513597 dB\n",
      "--------------------\n",
      "Epoch 468/1000\n"
     ]
    },
    {
     "name": "stderr",
     "output_type": "stream",
     "text": [
      "                                                                                 \r"
     ]
    },
    {
     "name": "stdout",
     "output_type": "stream",
     "text": [
      "Training Loss: 0.13117442\n",
      "Validation Loss: 0.27690359\n",
      "Average SDR for Stem 0: -6.81876230 dB\n",
      "Average SDR for Stem 1: -3.06620669 dB\n",
      "Average SDR for Stem 2: -10.11618805 dB\n",
      "Overall Average SDR: -6.66705179 dB\n",
      "--------------------\n",
      "Epoch 469/1000\n"
     ]
    },
    {
     "name": "stderr",
     "output_type": "stream",
     "text": [
      "                                                                                 \r"
     ]
    },
    {
     "name": "stdout",
     "output_type": "stream",
     "text": [
      "Training Loss: 0.10215375\n",
      "Validation Loss: 0.03303771\n",
      "Average SDR for Stem 0: -9.88363934 dB\n",
      "Average SDR for Stem 1: -9.65727139 dB\n",
      "Average SDR for Stem 2: -2.82732129 dB\n",
      "Overall Average SDR: -7.45607758 dB\n",
      "--------------------\n",
      "Epoch 470/1000\n"
     ]
    },
    {
     "name": "stderr",
     "output_type": "stream",
     "text": [
      "                                                                                 \r"
     ]
    },
    {
     "name": "stdout",
     "output_type": "stream",
     "text": [
      "Training Loss: 0.06950248\n",
      "Validation Loss: 0.22325658\n",
      "Average SDR for Stem 0: -0.87370706 dB\n",
      "Average SDR for Stem 1: -0.02613823 dB\n",
      "Average SDR for Stem 2: -0.08495734 dB\n",
      "Overall Average SDR: -0.32826754 dB\n",
      "--------------------\n",
      "Epoch 471/1000\n"
     ]
    },
    {
     "name": "stderr",
     "output_type": "stream",
     "text": [
      "                                                                                  \r"
     ]
    },
    {
     "name": "stdout",
     "output_type": "stream",
     "text": [
      "Training Loss: 0.09244001\n",
      "Validation Loss: 0.15220819\n",
      "Average SDR for Stem 0: -1.39261484 dB\n",
      "Average SDR for Stem 1: -6.46786928 dB\n",
      "Average SDR for Stem 2: -0.10149718 dB\n",
      "Overall Average SDR: -2.65399384 dB\n",
      "--------------------\n",
      "Epoch 472/1000\n"
     ]
    },
    {
     "name": "stderr",
     "output_type": "stream",
     "text": [
      "                                                                                 \r"
     ]
    },
    {
     "name": "stdout",
     "output_type": "stream",
     "text": [
      "Training Loss: 0.12103908\n",
      "Validation Loss: 0.12721933\n",
      "Average SDR for Stem 0: -0.09526520 dB\n",
      "Average SDR for Stem 1: -0.01111728 dB\n",
      "Average SDR for Stem 2: -2.03834558 dB\n",
      "Overall Average SDR: -0.71490937 dB\n",
      "--------------------\n",
      "Epoch 473/1000\n"
     ]
    },
    {
     "name": "stderr",
     "output_type": "stream",
     "text": [
      "                                                                                 \r"
     ]
    },
    {
     "name": "stdout",
     "output_type": "stream",
     "text": [
      "Training Loss: 0.06756830\n",
      "Validation Loss: 0.09351245\n",
      "Average SDR for Stem 0: 0.00462807 dB\n",
      "Average SDR for Stem 1: -17.13952637 dB\n",
      "Average SDR for Stem 2: -0.75403100 dB\n",
      "Overall Average SDR: -5.96297646 dB\n",
      "--------------------\n",
      "Epoch 474/1000\n"
     ]
    },
    {
     "name": "stderr",
     "output_type": "stream",
     "text": [
      "                                                                                 \r"
     ]
    },
    {
     "name": "stdout",
     "output_type": "stream",
     "text": [
      "Training Loss: 0.07395109\n",
      "Validation Loss: 0.06669623\n",
      "Average SDR for Stem 0: -1.75216472 dB\n",
      "Average SDR for Stem 1: -0.10469676 dB\n",
      "Average SDR for Stem 2: -1.70303142 dB\n",
      "Overall Average SDR: -1.18663096 dB\n",
      "--------------------\n",
      "Epoch 475/1000\n"
     ]
    },
    {
     "name": "stderr",
     "output_type": "stream",
     "text": [
      "                                                                                 \r"
     ]
    },
    {
     "name": "stdout",
     "output_type": "stream",
     "text": [
      "Training Loss: 0.07690493\n",
      "Validation Loss: 0.14268766\n",
      "Average SDR for Stem 0: -0.01326786 dB\n",
      "Average SDR for Stem 1: -2.26243615 dB\n",
      "Average SDR for Stem 2: -0.04413034 dB\n",
      "Overall Average SDR: -0.77327806 dB\n",
      "--------------------\n",
      "Epoch 476/1000\n"
     ]
    },
    {
     "name": "stderr",
     "output_type": "stream",
     "text": [
      "                                                                                   \r"
     ]
    },
    {
     "name": "stdout",
     "output_type": "stream",
     "text": [
      "Training Loss: 0.13877238\n",
      "Validation Loss: 0.14809409\n",
      "Average SDR for Stem 0: -2.85304070 dB\n",
      "Average SDR for Stem 1: -0.07100274 dB\n",
      "Average SDR for Stem 2: -1.33194244 dB\n",
      "Overall Average SDR: -1.41866195 dB\n",
      "--------------------\n",
      "Epoch 477/1000\n"
     ]
    },
    {
     "name": "stderr",
     "output_type": "stream",
     "text": [
      "                                                                                 \r"
     ]
    },
    {
     "name": "stdout",
     "output_type": "stream",
     "text": [
      "Training Loss: 0.10958662\n",
      "Validation Loss: 0.13659778\n",
      "Average SDR for Stem 0: -6.33807135 dB\n",
      "Average SDR for Stem 1: -0.02007915 dB\n",
      "Average SDR for Stem 2: -0.09632694 dB\n",
      "Overall Average SDR: -2.15149236 dB\n",
      "--------------------\n",
      "Epoch 478/1000\n"
     ]
    },
    {
     "name": "stderr",
     "output_type": "stream",
     "text": [
      "                                                                                 \r"
     ]
    },
    {
     "name": "stdout",
     "output_type": "stream",
     "text": [
      "Training Loss: 0.08161630\n",
      "Validation Loss: 0.18577371\n",
      "Average SDR for Stem 0: -0.01141864 dB\n",
      "Average SDR for Stem 1: -2.09997344 dB\n",
      "Average SDR for Stem 2: -3.60112882 dB\n",
      "Overall Average SDR: -1.90417349 dB\n",
      "--------------------\n",
      "Epoch 479/1000\n"
     ]
    },
    {
     "name": "stderr",
     "output_type": "stream",
     "text": [
      "                                                                                  \r"
     ]
    },
    {
     "name": "stdout",
     "output_type": "stream",
     "text": [
      "Training Loss: 0.16742143\n",
      "Validation Loss: 0.12719633\n",
      "Average SDR for Stem 0: -0.03930134 dB\n",
      "Average SDR for Stem 1: -0.04258711 dB\n",
      "Average SDR for Stem 2: -3.97198701 dB\n",
      "Overall Average SDR: -1.35129178 dB\n",
      "--------------------\n",
      "Epoch 480/1000\n"
     ]
    },
    {
     "name": "stderr",
     "output_type": "stream",
     "text": [
      "                                                                                 \r"
     ]
    },
    {
     "name": "stdout",
     "output_type": "stream",
     "text": [
      "Training Loss: 0.13358380\n",
      "Validation Loss: 0.12876637\n",
      "Average SDR for Stem 0: -0.03688777 dB\n",
      "Average SDR for Stem 1: -0.02060485 dB\n",
      "Average SDR for Stem 2: -6.64338493 dB\n",
      "Overall Average SDR: -2.23362589 dB\n",
      "--------------------\n",
      "Epoch 481/1000\n"
     ]
    },
    {
     "name": "stderr",
     "output_type": "stream",
     "text": [
      "                                                                                 \r"
     ]
    },
    {
     "name": "stdout",
     "output_type": "stream",
     "text": [
      "Training Loss: 0.13135110\n",
      "Validation Loss: 0.08161617\n",
      "Average SDR for Stem 0: -0.05888166 dB\n",
      "Average SDR for Stem 1: -2.70440936 dB\n",
      "Average SDR for Stem 2: -0.05315408 dB\n",
      "Overall Average SDR: -0.93881506 dB\n",
      "--------------------\n",
      "Epoch 482/1000\n"
     ]
    },
    {
     "name": "stderr",
     "output_type": "stream",
     "text": [
      "                                                                                 \r"
     ]
    },
    {
     "name": "stdout",
     "output_type": "stream",
     "text": [
      "Training Loss: 0.17623248\n",
      "Validation Loss: 0.39631995\n",
      "Average SDR for Stem 0: -0.13231622 dB\n",
      "Average SDR for Stem 1: -1.71998084 dB\n",
      "Average SDR for Stem 2: -0.82462788 dB\n",
      "Overall Average SDR: -0.89230829 dB\n",
      "--------------------\n",
      "Epoch 483/1000\n"
     ]
    },
    {
     "name": "stderr",
     "output_type": "stream",
     "text": [
      "                                                                                 \r"
     ]
    },
    {
     "name": "stdout",
     "output_type": "stream",
     "text": [
      "Training Loss: 0.14873983\n",
      "Validation Loss: 0.03772930\n",
      "Average SDR for Stem 0: -5.90485525 dB\n",
      "Average SDR for Stem 1: -0.16845728 dB\n",
      "Average SDR for Stem 2: -0.46563482 dB\n",
      "Overall Average SDR: -2.17964911 dB\n",
      "--------------------\n",
      "Epoch 484/1000\n"
     ]
    },
    {
     "name": "stderr",
     "output_type": "stream",
     "text": [
      "                                                                                 \r"
     ]
    },
    {
     "name": "stdout",
     "output_type": "stream",
     "text": [
      "Training Loss: 0.10172120\n",
      "Validation Loss: 0.07999953\n",
      "Average SDR for Stem 0: -0.00904816 dB\n",
      "Average SDR for Stem 1: -0.29601005 dB\n",
      "Average SDR for Stem 2: -0.12206168 dB\n",
      "Overall Average SDR: -0.14237329 dB\n",
      "--------------------\n",
      "Epoch 485/1000\n"
     ]
    },
    {
     "name": "stderr",
     "output_type": "stream",
     "text": [
      "                                                                                 \r"
     ]
    },
    {
     "name": "stdout",
     "output_type": "stream",
     "text": [
      "Training Loss: 0.16728466\n",
      "Validation Loss: 0.12239532\n",
      "Average SDR for Stem 0: -0.01209487 dB\n",
      "Average SDR for Stem 1: -0.08995926 dB\n",
      "Average SDR for Stem 2: -4.11864805 dB\n",
      "Overall Average SDR: -1.40690076 dB\n",
      "--------------------\n",
      "Epoch 486/1000\n"
     ]
    },
    {
     "name": "stderr",
     "output_type": "stream",
     "text": [
      "                                                                                 \r"
     ]
    },
    {
     "name": "stdout",
     "output_type": "stream",
     "text": [
      "Training Loss: 0.13628306\n",
      "Validation Loss: 0.08757886\n",
      "Average SDR for Stem 0: 0.01018851 dB\n",
      "Average SDR for Stem 1: -0.36347198 dB\n",
      "Average SDR for Stem 2: -0.30588445 dB\n",
      "Overall Average SDR: -0.21972263 dB\n",
      "--------------------\n",
      "Epoch 487/1000\n"
     ]
    },
    {
     "name": "stderr",
     "output_type": "stream",
     "text": [
      "                                                                                 \r"
     ]
    },
    {
     "name": "stdout",
     "output_type": "stream",
     "text": [
      "Training Loss: 0.08378047\n",
      "Validation Loss: 0.07157437\n",
      "Average SDR for Stem 0: -0.10425534 dB\n",
      "Average SDR for Stem 1: -1.97859871 dB\n",
      "Average SDR for Stem 2: 0.07799096 dB\n",
      "Overall Average SDR: -0.66828769 dB\n",
      "--------------------\n",
      "Epoch 488/1000\n"
     ]
    },
    {
     "name": "stderr",
     "output_type": "stream",
     "text": [
      "                                                                                 \r"
     ]
    },
    {
     "name": "stdout",
     "output_type": "stream",
     "text": [
      "Training Loss: 0.05306391\n",
      "Validation Loss: 0.06644684\n",
      "Average SDR for Stem 0: -4.44959402 dB\n",
      "Average SDR for Stem 1: -0.34730732 dB\n",
      "Average SDR for Stem 2: -2.16075850 dB\n",
      "Overall Average SDR: -2.31921983 dB\n",
      "--------------------\n",
      "Epoch 489/1000\n"
     ]
    },
    {
     "name": "stderr",
     "output_type": "stream",
     "text": [
      "                                                                                 \r"
     ]
    },
    {
     "name": "stdout",
     "output_type": "stream",
     "text": [
      "Training Loss: 0.12875956\n",
      "Validation Loss: 0.05883785\n",
      "Average SDR for Stem 0: -0.01706943 dB\n",
      "Average SDR for Stem 1: -10.30363941 dB\n",
      "Average SDR for Stem 2: -4.26395655 dB\n",
      "Overall Average SDR: -4.86155510 dB\n",
      "--------------------\n",
      "Epoch 490/1000\n"
     ]
    },
    {
     "name": "stderr",
     "output_type": "stream",
     "text": [
      "                                                                                 \r"
     ]
    },
    {
     "name": "stdout",
     "output_type": "stream",
     "text": [
      "Training Loss: 0.07737826\n",
      "Validation Loss: 0.05937075\n",
      "Average SDR for Stem 0: -0.04421076 dB\n",
      "Average SDR for Stem 1: -0.36634555 dB\n",
      "Average SDR for Stem 2: -5.87452173 dB\n",
      "Overall Average SDR: -2.09502602 dB\n",
      "--------------------\n",
      "Epoch 491/1000\n"
     ]
    },
    {
     "name": "stderr",
     "output_type": "stream",
     "text": [
      "                                                                                 \r"
     ]
    },
    {
     "name": "stdout",
     "output_type": "stream",
     "text": [
      "Training Loss: 0.09602283\n",
      "Validation Loss: 0.20400374\n",
      "Average SDR for Stem 0: -0.00999754 dB\n",
      "Average SDR for Stem 1: -0.05169414 dB\n",
      "Average SDR for Stem 2: -2.87458491 dB\n",
      "Overall Average SDR: -0.97875887 dB\n",
      "--------------------\n",
      "Epoch 492/1000\n"
     ]
    },
    {
     "name": "stderr",
     "output_type": "stream",
     "text": [
      "                                                                                 \r"
     ]
    },
    {
     "name": "stdout",
     "output_type": "stream",
     "text": [
      "Training Loss: 0.10714202\n",
      "Validation Loss: 0.05859614\n",
      "Average SDR for Stem 0: -2.67273545 dB\n",
      "Average SDR for Stem 1: -6.43212271 dB\n",
      "Average SDR for Stem 2: -0.06165992 dB\n",
      "Overall Average SDR: -3.05550599 dB\n",
      "--------------------\n",
      "Epoch 493/1000\n"
     ]
    },
    {
     "name": "stderr",
     "output_type": "stream",
     "text": [
      "                                                                                 \r"
     ]
    },
    {
     "name": "stdout",
     "output_type": "stream",
     "text": [
      "Training Loss: 0.10540768\n",
      "Validation Loss: 0.10674897\n",
      "Average SDR for Stem 0: -0.20512021 dB\n",
      "Average SDR for Stem 1: -0.04581827 dB\n",
      "Average SDR for Stem 2: -1.11104751 dB\n",
      "Overall Average SDR: -0.45399532 dB\n",
      "--------------------\n",
      "Epoch 494/1000\n"
     ]
    },
    {
     "name": "stderr",
     "output_type": "stream",
     "text": [
      "                                                                                 \r"
     ]
    },
    {
     "name": "stdout",
     "output_type": "stream",
     "text": [
      "Training Loss: 0.08703450\n",
      "Validation Loss: 0.04660890\n",
      "Average SDR for Stem 0: -5.19986868 dB\n",
      "Average SDR for Stem 1: -5.46522522 dB\n",
      "Average SDR for Stem 2: -4.76304102 dB\n",
      "Overall Average SDR: -5.14271164 dB\n",
      "--------------------\n",
      "Epoch 495/1000\n"
     ]
    },
    {
     "name": "stderr",
     "output_type": "stream",
     "text": [
      "                                                                                 \r"
     ]
    },
    {
     "name": "stdout",
     "output_type": "stream",
     "text": [
      "Training Loss: 0.13472155\n",
      "Validation Loss: 0.13324204\n",
      "Average SDR for Stem 0: -1.56648815 dB\n",
      "Average SDR for Stem 1: -0.29126391 dB\n",
      "Average SDR for Stem 2: -0.88826877 dB\n",
      "Overall Average SDR: -0.91534024 dB\n",
      "--------------------\n",
      "Epoch 496/1000\n"
     ]
    },
    {
     "name": "stderr",
     "output_type": "stream",
     "text": [
      "                                                                                   \r"
     ]
    },
    {
     "name": "stdout",
     "output_type": "stream",
     "text": [
      "Training Loss: 0.05860534\n",
      "Validation Loss: 0.08708255\n",
      "Average SDR for Stem 0: -3.05304027 dB\n",
      "Average SDR for Stem 1: -2.16812539 dB\n",
      "Average SDR for Stem 2: -0.05150570 dB\n",
      "Overall Average SDR: -1.75755703 dB\n",
      "--------------------\n",
      "Epoch 497/1000\n"
     ]
    },
    {
     "name": "stderr",
     "output_type": "stream",
     "text": [
      "                                                                                 \r"
     ]
    },
    {
     "name": "stdout",
     "output_type": "stream",
     "text": [
      "Training Loss: 0.09772566\n",
      "Validation Loss: 0.21685215\n",
      "Average SDR for Stem 0: -0.01490022 dB\n",
      "Average SDR for Stem 1: -0.02920995 dB\n",
      "Average SDR for Stem 2: -4.58306932 dB\n",
      "Overall Average SDR: -1.54239321 dB\n",
      "--------------------\n",
      "Epoch 498/1000\n"
     ]
    },
    {
     "name": "stderr",
     "output_type": "stream",
     "text": [
      "                                                                                 \r"
     ]
    },
    {
     "name": "stdout",
     "output_type": "stream",
     "text": [
      "Training Loss: 0.09122859\n",
      "Validation Loss: 0.08557454\n",
      "Average SDR for Stem 0: -3.66586876 dB\n",
      "Average SDR for Stem 1: -1.67103863 dB\n",
      "Average SDR for Stem 2: -4.22020769 dB\n",
      "Overall Average SDR: -3.18570518 dB\n",
      "--------------------\n",
      "Epoch 499/1000\n"
     ]
    },
    {
     "name": "stderr",
     "output_type": "stream",
     "text": [
      "                                                                                 \r"
     ]
    },
    {
     "name": "stdout",
     "output_type": "stream",
     "text": [
      "Training Loss: 0.12343482\n",
      "Validation Loss: 0.08715284\n",
      "Average SDR for Stem 0: -3.44492173 dB\n",
      "Average SDR for Stem 1: -6.04731607 dB\n",
      "Average SDR for Stem 2: -0.09647301 dB\n",
      "Overall Average SDR: -3.19623685 dB\n",
      "--------------------\n",
      "Epoch 500/1000\n"
     ]
    },
    {
     "name": "stderr",
     "output_type": "stream",
     "text": [
      "                                                                                   \r"
     ]
    },
    {
     "name": "stdout",
     "output_type": "stream",
     "text": [
      "Training Loss: 0.12083708\n",
      "Validation Loss: 0.06902697\n",
      "Average SDR for Stem 0: -0.09255423 dB\n",
      "Average SDR for Stem 1: -7.13383532 dB\n",
      "Average SDR for Stem 2: -1.57622063 dB\n",
      "Overall Average SDR: -2.93420339 dB\n",
      "--------------------\n",
      "Epoch 501/1000\n"
     ]
    },
    {
     "name": "stderr",
     "output_type": "stream",
     "text": [
      "                                                                                   \r"
     ]
    },
    {
     "name": "stdout",
     "output_type": "stream",
     "text": [
      "Training Loss: 0.08024298\n",
      "Validation Loss: 0.05017919\n",
      "Average SDR for Stem 0: -5.41567373 dB\n",
      "Average SDR for Stem 1: -0.04591561 dB\n",
      "Average SDR for Stem 2: -7.56911230 dB\n",
      "Overall Average SDR: -4.34356737 dB\n",
      "--------------------\n",
      "Epoch 502/1000\n"
     ]
    },
    {
     "name": "stderr",
     "output_type": "stream",
     "text": [
      "                                                                                 \r"
     ]
    },
    {
     "name": "stdout",
     "output_type": "stream",
     "text": [
      "Training Loss: 0.09812811\n",
      "Validation Loss: 0.04213678\n",
      "Average SDR for Stem 0: -4.27219725 dB\n",
      "Average SDR for Stem 1: -1.93624103 dB\n",
      "Average SDR for Stem 2: -0.40901926 dB\n",
      "Overall Average SDR: -2.20581937 dB\n",
      "--------------------\n",
      "Epoch 503/1000\n"
     ]
    },
    {
     "name": "stderr",
     "output_type": "stream",
     "text": [
      "                                                                                 \r"
     ]
    },
    {
     "name": "stdout",
     "output_type": "stream",
     "text": [
      "Training Loss: 0.17441752\n",
      "Validation Loss: 0.09713297\n",
      "Average SDR for Stem 0: -0.02614701 dB\n",
      "Average SDR for Stem 1: -0.05876249 dB\n",
      "Average SDR for Stem 2: -4.16074181 dB\n",
      "Overall Average SDR: -1.41521704 dB\n",
      "--------------------\n",
      "Epoch 504/1000\n"
     ]
    },
    {
     "name": "stderr",
     "output_type": "stream",
     "text": [
      "                                                                                   \r"
     ]
    },
    {
     "name": "stdout",
     "output_type": "stream",
     "text": [
      "Training Loss: 0.08806443\n",
      "Validation Loss: 0.19348981\n",
      "Average SDR for Stem 0: -0.05062971 dB\n",
      "Average SDR for Stem 1: -0.04997907 dB\n",
      "Average SDR for Stem 2: -0.09684411 dB\n",
      "Overall Average SDR: -0.06581763 dB\n",
      "--------------------\n",
      "Epoch 505/1000\n"
     ]
    },
    {
     "name": "stderr",
     "output_type": "stream",
     "text": [
      "                                                                                 \r"
     ]
    },
    {
     "name": "stdout",
     "output_type": "stream",
     "text": [
      "Training Loss: 0.08837174\n",
      "Validation Loss: 0.20806505\n",
      "Average SDR for Stem 0: -0.01791368 dB\n",
      "Average SDR for Stem 1: -0.04578481 dB\n",
      "Average SDR for Stem 2: -1.88550937 dB\n",
      "Overall Average SDR: -0.64973599 dB\n",
      "--------------------\n",
      "Epoch 506/1000\n"
     ]
    },
    {
     "name": "stderr",
     "output_type": "stream",
     "text": [
      "                                                                                   \r"
     ]
    },
    {
     "name": "stdout",
     "output_type": "stream",
     "text": [
      "Training Loss: 0.10305959\n",
      "Validation Loss: 0.08997004\n",
      "Average SDR for Stem 0: -3.02890229 dB\n",
      "Average SDR for Stem 1: -0.02246228 dB\n",
      "Average SDR for Stem 2: -0.13597940 dB\n",
      "Overall Average SDR: -1.06244802 dB\n",
      "--------------------\n",
      "Epoch 507/1000\n"
     ]
    },
    {
     "name": "stderr",
     "output_type": "stream",
     "text": [
      "                                                                                   \r"
     ]
    },
    {
     "name": "stdout",
     "output_type": "stream",
     "text": [
      "Training Loss: 0.10011117\n",
      "Validation Loss: 0.05574351\n",
      "Average SDR for Stem 0: -2.74639964 dB\n",
      "Average SDR for Stem 1: -0.03705337 dB\n",
      "Average SDR for Stem 2: -4.67059660 dB\n",
      "Overall Average SDR: -2.48468328 dB\n",
      "--------------------\n",
      "Epoch 508/1000\n"
     ]
    },
    {
     "name": "stderr",
     "output_type": "stream",
     "text": [
      "                                                                                 \r"
     ]
    },
    {
     "name": "stdout",
     "output_type": "stream",
     "text": [
      "Training Loss: 0.13049039\n",
      "Validation Loss: 0.07337772\n",
      "Average SDR for Stem 0: -4.60075235 dB\n",
      "Average SDR for Stem 1: -0.02664082 dB\n",
      "Average SDR for Stem 2: -5.98140192 dB\n",
      "Overall Average SDR: -3.53626513 dB\n",
      "--------------------\n",
      "Epoch 509/1000\n"
     ]
    },
    {
     "name": "stderr",
     "output_type": "stream",
     "text": [
      "                                                                                 \r"
     ]
    },
    {
     "name": "stdout",
     "output_type": "stream",
     "text": [
      "Training Loss: 0.11083483\n",
      "Validation Loss: 0.08923392\n",
      "Average SDR for Stem 0: -0.04082860 dB\n",
      "Average SDR for Stem 1: -8.47597885 dB\n",
      "Average SDR for Stem 2: -8.11306381 dB\n",
      "Overall Average SDR: -5.54329062 dB\n",
      "--------------------\n",
      "Epoch 510/1000\n"
     ]
    },
    {
     "name": "stderr",
     "output_type": "stream",
     "text": [
      "                                                                                 \r"
     ]
    },
    {
     "name": "stdout",
     "output_type": "stream",
     "text": [
      "Training Loss: 0.08646064\n",
      "Validation Loss: 0.25447915\n",
      "Average SDR for Stem 0: -4.85915184 dB\n",
      "Average SDR for Stem 1: -3.71456552 dB\n",
      "Average SDR for Stem 2: -1.57961857 dB\n",
      "Overall Average SDR: -3.38444519 dB\n",
      "--------------------\n",
      "Epoch 511/1000\n"
     ]
    },
    {
     "name": "stderr",
     "output_type": "stream",
     "text": [
      "                                                                                 \r"
     ]
    },
    {
     "name": "stdout",
     "output_type": "stream",
     "text": [
      "Training Loss: 0.10133246\n",
      "Validation Loss: 0.11444342\n",
      "Average SDR for Stem 0: -5.65045404 dB\n",
      "Average SDR for Stem 1: -0.02167354 dB\n",
      "Average SDR for Stem 2: -0.06940036 dB\n",
      "Overall Average SDR: -1.91384268 dB\n",
      "--------------------\n",
      "Epoch 512/1000\n"
     ]
    },
    {
     "name": "stderr",
     "output_type": "stream",
     "text": [
      "                                                                                 \r"
     ]
    },
    {
     "name": "stdout",
     "output_type": "stream",
     "text": [
      "Training Loss: 0.13283673\n",
      "Validation Loss: 0.10996066\n",
      "Average SDR for Stem 0: -0.01284774 dB\n",
      "Average SDR for Stem 1: -1.60518539 dB\n",
      "Average SDR for Stem 2: -4.21341944 dB\n",
      "Overall Average SDR: -1.94381750 dB\n",
      "--------------------\n",
      "Epoch 513/1000\n"
     ]
    },
    {
     "name": "stderr",
     "output_type": "stream",
     "text": [
      "                                                                                  \r"
     ]
    },
    {
     "name": "stdout",
     "output_type": "stream",
     "text": [
      "Training Loss: 0.05121216\n",
      "Validation Loss: 0.11014687\n",
      "Average SDR for Stem 0: -1.64564991 dB\n",
      "Average SDR for Stem 1: -0.02974937 dB\n",
      "Average SDR for Stem 2: -4.10819006 dB\n",
      "Overall Average SDR: -1.92786312 dB\n",
      "--------------------\n",
      "Epoch 514/1000\n"
     ]
    },
    {
     "name": "stderr",
     "output_type": "stream",
     "text": [
      "                                                                                 \r"
     ]
    },
    {
     "name": "stdout",
     "output_type": "stream",
     "text": [
      "Training Loss: 0.10511335\n",
      "Validation Loss: 0.07231022\n",
      "Average SDR for Stem 0: -0.08182567 dB\n",
      "Average SDR for Stem 1: -3.47820830 dB\n",
      "Average SDR for Stem 2: -0.44827750 dB\n",
      "Overall Average SDR: -1.33610392 dB\n",
      "--------------------\n",
      "Epoch 515/1000\n"
     ]
    },
    {
     "name": "stderr",
     "output_type": "stream",
     "text": [
      "                                                                                 \r"
     ]
    },
    {
     "name": "stdout",
     "output_type": "stream",
     "text": [
      "Training Loss: 0.09655568\n",
      "Validation Loss: 0.08075951\n",
      "Average SDR for Stem 0: -0.02457977 dB\n",
      "Average SDR for Stem 1: -0.97138524 dB\n",
      "Average SDR for Stem 2: -3.66499615 dB\n",
      "Overall Average SDR: -1.55365372 dB\n",
      "--------------------\n",
      "Epoch 516/1000\n"
     ]
    },
    {
     "name": "stderr",
     "output_type": "stream",
     "text": [
      "                                                                                   \r"
     ]
    },
    {
     "name": "stdout",
     "output_type": "stream",
     "text": [
      "Training Loss: 0.03638437\n",
      "Validation Loss: 0.08041527\n",
      "Average SDR for Stem 0: -15.42688656 dB\n",
      "Average SDR for Stem 1: -0.04653909 dB\n",
      "Average SDR for Stem 2: -7.18085241 dB\n",
      "Overall Average SDR: -7.55142593 dB\n",
      "--------------------\n",
      "Epoch 517/1000\n"
     ]
    },
    {
     "name": "stderr",
     "output_type": "stream",
     "text": [
      "                                                                                 \r"
     ]
    },
    {
     "name": "stdout",
     "output_type": "stream",
     "text": [
      "Training Loss: 0.13374505\n",
      "Validation Loss: 0.08995172\n",
      "Average SDR for Stem 0: -5.53942108 dB\n",
      "Average SDR for Stem 1: -0.54690784 dB\n",
      "Average SDR for Stem 2: -0.08921400 dB\n",
      "Overall Average SDR: -2.05851436 dB\n",
      "--------------------\n",
      "Epoch 518/1000\n"
     ]
    },
    {
     "name": "stderr",
     "output_type": "stream",
     "text": [
      "                                                                                  \r"
     ]
    },
    {
     "name": "stdout",
     "output_type": "stream",
     "text": [
      "Training Loss: 0.08905384\n",
      "Validation Loss: 0.11653349\n",
      "Average SDR for Stem 0: -0.02859832 dB\n",
      "Average SDR for Stem 1: -1.16266429 dB\n",
      "Average SDR for Stem 2: -3.15587354 dB\n",
      "Overall Average SDR: -1.44904530 dB\n",
      "--------------------\n",
      "Epoch 519/1000\n"
     ]
    },
    {
     "name": "stderr",
     "output_type": "stream",
     "text": [
      "                                                                                 \r"
     ]
    },
    {
     "name": "stdout",
     "output_type": "stream",
     "text": [
      "Training Loss: 0.11810851\n",
      "Validation Loss: 0.07435395\n",
      "Average SDR for Stem 0: -1.40214396 dB\n",
      "Average SDR for Stem 1: -4.97926521 dB\n",
      "Average SDR for Stem 2: -4.70909214 dB\n",
      "Overall Average SDR: -3.69683385 dB\n",
      "--------------------\n",
      "Epoch 520/1000\n"
     ]
    },
    {
     "name": "stderr",
     "output_type": "stream",
     "text": [
      "                                                                                   \r"
     ]
    },
    {
     "name": "stdout",
     "output_type": "stream",
     "text": [
      "Training Loss: 0.09851150\n",
      "Validation Loss: 0.04858356\n",
      "Average SDR for Stem 0: -4.60413027 dB\n",
      "Average SDR for Stem 1: -0.04416176 dB\n",
      "Average SDR for Stem 2: -2.02499557 dB\n",
      "Overall Average SDR: -2.22442913 dB\n",
      "--------------------\n",
      "Epoch 521/1000\n"
     ]
    },
    {
     "name": "stderr",
     "output_type": "stream",
     "text": [
      "                                                                                  \r"
     ]
    },
    {
     "name": "stdout",
     "output_type": "stream",
     "text": [
      "Training Loss: 0.11961123\n",
      "Validation Loss: 0.18652766\n",
      "Average SDR for Stem 0: -0.00870896 dB\n",
      "Average SDR for Stem 1: -5.27918386 dB\n",
      "Average SDR for Stem 2: -1.30705464 dB\n",
      "Overall Average SDR: -2.19831586 dB\n",
      "--------------------\n",
      "Epoch 522/1000\n"
     ]
    },
    {
     "name": "stderr",
     "output_type": "stream",
     "text": [
      "                                                                                 \r"
     ]
    },
    {
     "name": "stdout",
     "output_type": "stream",
     "text": [
      "Training Loss: 0.06542610\n",
      "Validation Loss: 0.15143368\n",
      "Average SDR for Stem 0: -0.02324979 dB\n",
      "Average SDR for Stem 1: -0.03422398 dB\n",
      "Average SDR for Stem 2: -4.69193077 dB\n",
      "Overall Average SDR: -1.58313477 dB\n",
      "--------------------\n",
      "Epoch 523/1000\n"
     ]
    },
    {
     "name": "stderr",
     "output_type": "stream",
     "text": [
      "                                                                                  \r"
     ]
    },
    {
     "name": "stdout",
     "output_type": "stream",
     "text": [
      "Training Loss: 0.07945385\n",
      "Validation Loss: 0.23633371\n",
      "Average SDR for Stem 0: -11.84393215 dB\n",
      "Average SDR for Stem 1: -2.51255441 dB\n",
      "Average SDR for Stem 2: -0.28369012 dB\n",
      "Overall Average SDR: -4.88005877 dB\n",
      "--------------------\n",
      "Epoch 524/1000\n"
     ]
    },
    {
     "name": "stderr",
     "output_type": "stream",
     "text": [
      "                                                                                 \r"
     ]
    },
    {
     "name": "stdout",
     "output_type": "stream",
     "text": [
      "Training Loss: 0.07865867\n",
      "Validation Loss: 0.13079904\n",
      "Average SDR for Stem 0: -5.48083067 dB\n",
      "Average SDR for Stem 1: -4.99099302 dB\n",
      "Average SDR for Stem 2: -0.09652165 dB\n",
      "Overall Average SDR: -3.52278161 dB\n",
      "--------------------\n",
      "Epoch 525/1000\n"
     ]
    },
    {
     "name": "stderr",
     "output_type": "stream",
     "text": [
      "                                                                                 \r"
     ]
    },
    {
     "name": "stdout",
     "output_type": "stream",
     "text": [
      "Training Loss: 0.08847282\n",
      "Validation Loss: 0.13296836\n",
      "Average SDR for Stem 0: -1.60540998 dB\n",
      "Average SDR for Stem 1: -0.04576904 dB\n",
      "Average SDR for Stem 2: -6.44338179 dB\n",
      "Overall Average SDR: -2.69818687 dB\n",
      "--------------------\n",
      "Epoch 526/1000\n"
     ]
    },
    {
     "name": "stderr",
     "output_type": "stream",
     "text": [
      "                                                                                 \r"
     ]
    },
    {
     "name": "stdout",
     "output_type": "stream",
     "text": [
      "Training Loss: 0.09219828\n",
      "Validation Loss: 0.13208799\n",
      "Average SDR for Stem 0: -4.76107359 dB\n",
      "Average SDR for Stem 1: -0.01847208 dB\n",
      "Average SDR for Stem 2: -2.57473230 dB\n",
      "Overall Average SDR: -2.45142603 dB\n",
      "--------------------\n",
      "Epoch 527/1000\n"
     ]
    },
    {
     "name": "stderr",
     "output_type": "stream",
     "text": [
      "                                                                                 \r"
     ]
    },
    {
     "name": "stdout",
     "output_type": "stream",
     "text": [
      "Training Loss: 0.12988423\n",
      "Validation Loss: 0.08222323\n",
      "Average SDR for Stem 0: -8.34933662 dB\n",
      "Average SDR for Stem 1: -2.55004811 dB\n",
      "Average SDR for Stem 2: -0.06893463 dB\n",
      "Overall Average SDR: -3.65610623 dB\n",
      "--------------------\n",
      "Epoch 528/1000\n"
     ]
    },
    {
     "name": "stderr",
     "output_type": "stream",
     "text": [
      "                                                                                  \r"
     ]
    },
    {
     "name": "stdout",
     "output_type": "stream",
     "text": [
      "Training Loss: 0.07113284\n",
      "Validation Loss: 0.11106389\n",
      "Average SDR for Stem 0: -0.12309230 dB\n",
      "Average SDR for Stem 1: -0.43411049 dB\n",
      "Average SDR for Stem 2: -1.24270618 dB\n",
      "Overall Average SDR: -0.59996969 dB\n",
      "--------------------\n",
      "Epoch 529/1000\n"
     ]
    },
    {
     "name": "stderr",
     "output_type": "stream",
     "text": [
      "                                                                                 \r"
     ]
    },
    {
     "name": "stdout",
     "output_type": "stream",
     "text": [
      "Training Loss: 0.07403077\n",
      "Validation Loss: 0.18379475\n",
      "Average SDR for Stem 0: -0.01032822 dB\n",
      "Average SDR for Stem 1: -10.19357967 dB\n",
      "Average SDR for Stem 2: -1.76023579 dB\n",
      "Overall Average SDR: -3.98804784 dB\n",
      "--------------------\n",
      "Epoch 530/1000\n"
     ]
    },
    {
     "name": "stderr",
     "output_type": "stream",
     "text": [
      "                                                                                 \r"
     ]
    },
    {
     "name": "stdout",
     "output_type": "stream",
     "text": [
      "Training Loss: 0.20643581\n",
      "Validation Loss: 0.19455843\n",
      "Average SDR for Stem 0: -0.01130536 dB\n",
      "Average SDR for Stem 1: -0.11230671 dB\n",
      "Average SDR for Stem 2: -8.38399601 dB\n",
      "Overall Average SDR: -2.83586955 dB\n",
      "--------------------\n",
      "Epoch 531/1000\n"
     ]
    },
    {
     "name": "stderr",
     "output_type": "stream",
     "text": [
      "                                                                                 \r"
     ]
    },
    {
     "name": "stdout",
     "output_type": "stream",
     "text": [
      "Training Loss: 0.13591116\n",
      "Validation Loss: 0.04488981\n",
      "Average SDR for Stem 0: -2.35681653 dB\n",
      "Average SDR for Stem 1: -5.19738436 dB\n",
      "Average SDR for Stem 2: -0.05494429 dB\n",
      "Overall Average SDR: -2.53638196 dB\n",
      "--------------------\n",
      "Epoch 532/1000\n"
     ]
    },
    {
     "name": "stderr",
     "output_type": "stream",
     "text": [
      "                                                                                 \r"
     ]
    },
    {
     "name": "stdout",
     "output_type": "stream",
     "text": [
      "Training Loss: 0.18991949\n",
      "Validation Loss: 0.02680447\n",
      "Average SDR for Stem 0: -15.50310421 dB\n",
      "Average SDR for Stem 1: -5.33457994 dB\n",
      "Average SDR for Stem 2: -0.03800626 dB\n",
      "Overall Average SDR: -6.95856333 dB\n",
      "--------------------\n",
      "Epoch 533/1000\n"
     ]
    },
    {
     "name": "stderr",
     "output_type": "stream",
     "text": [
      "                                                                                 \r"
     ]
    },
    {
     "name": "stdout",
     "output_type": "stream",
     "text": [
      "Training Loss: 0.21873635\n",
      "Validation Loss: 0.14660598\n",
      "Average SDR for Stem 0: -1.14591181 dB\n",
      "Average SDR for Stem 1: -0.36517668 dB\n",
      "Average SDR for Stem 2: -3.02155685 dB\n",
      "Overall Average SDR: -1.51088178 dB\n",
      "--------------------\n",
      "Epoch 534/1000\n"
     ]
    },
    {
     "name": "stderr",
     "output_type": "stream",
     "text": [
      "                                                                                 \r"
     ]
    },
    {
     "name": "stdout",
     "output_type": "stream",
     "text": [
      "Training Loss: 0.06689987\n",
      "Validation Loss: 0.07574265\n",
      "Average SDR for Stem 0: -0.25183624 dB\n",
      "Average SDR for Stem 1: -2.84910893 dB\n",
      "Average SDR for Stem 2: -2.94609165 dB\n",
      "Overall Average SDR: -2.01567912 dB\n",
      "--------------------\n",
      "Epoch 535/1000\n"
     ]
    },
    {
     "name": "stderr",
     "output_type": "stream",
     "text": [
      "                                                                                 \r"
     ]
    },
    {
     "name": "stdout",
     "output_type": "stream",
     "text": [
      "Training Loss: 0.09756217\n",
      "Validation Loss: 0.20436259\n",
      "Average SDR for Stem 0: -0.01236442 dB\n",
      "Average SDR for Stem 1: 3.97751737 dB\n",
      "Average SDR for Stem 2: 3.54689527 dB\n",
      "Overall Average SDR: 2.50401616 dB\n",
      "--------------------\n",
      "Epoch 536/1000\n"
     ]
    },
    {
     "name": "stderr",
     "output_type": "stream",
     "text": [
      "                                                                                 \r"
     ]
    },
    {
     "name": "stdout",
     "output_type": "stream",
     "text": [
      "Training Loss: 0.15776906\n",
      "Validation Loss: 0.15858630\n",
      "Average SDR for Stem 0: -0.02121913 dB\n",
      "Average SDR for Stem 1: -8.43734264 dB\n",
      "Average SDR for Stem 2: -1.25751233 dB\n",
      "Overall Average SDR: -3.23869133 dB\n",
      "--------------------\n",
      "Epoch 537/1000\n"
     ]
    },
    {
     "name": "stderr",
     "output_type": "stream",
     "text": [
      "                                                                                  \r"
     ]
    },
    {
     "name": "stdout",
     "output_type": "stream",
     "text": [
      "Training Loss: 0.08492648\n",
      "Validation Loss: 0.11587186\n",
      "Average SDR for Stem 0: -0.01604185 dB\n",
      "Average SDR for Stem 1: -0.19357924 dB\n",
      "Average SDR for Stem 2: -4.72577906 dB\n",
      "Overall Average SDR: -1.64513338 dB\n",
      "--------------------\n",
      "Epoch 538/1000\n"
     ]
    },
    {
     "name": "stderr",
     "output_type": "stream",
     "text": [
      "                                                                                 \r"
     ]
    },
    {
     "name": "stdout",
     "output_type": "stream",
     "text": [
      "Training Loss: 0.19760039\n",
      "Validation Loss: 0.05000342\n",
      "Average SDR for Stem 0: -0.04800335 dB\n",
      "Average SDR for Stem 1: -3.64189601 dB\n",
      "Average SDR for Stem 2: -0.07799699 dB\n",
      "Overall Average SDR: -1.25596547 dB\n",
      "--------------------\n",
      "Epoch 539/1000\n"
     ]
    },
    {
     "name": "stderr",
     "output_type": "stream",
     "text": [
      "                                                                                 \r"
     ]
    },
    {
     "name": "stdout",
     "output_type": "stream",
     "text": [
      "Training Loss: 0.07996349\n",
      "Validation Loss: 0.02806913\n",
      "Average SDR for Stem 0: -5.95557928 dB\n",
      "Average SDR for Stem 1: -3.08018780 dB\n",
      "Average SDR for Stem 2: -5.45341301 dB\n",
      "Overall Average SDR: -4.82972670 dB\n",
      "--------------------\n",
      "Epoch 540/1000\n"
     ]
    },
    {
     "name": "stderr",
     "output_type": "stream",
     "text": [
      "                                                                                 \r"
     ]
    },
    {
     "name": "stdout",
     "output_type": "stream",
     "text": [
      "Training Loss: 0.12850636\n",
      "Validation Loss: 0.02293402\n",
      "Average SDR for Stem 0: -13.93005371 dB\n",
      "Average SDR for Stem 1: -6.41644287 dB\n",
      "Average SDR for Stem 2: -2.13599777 dB\n",
      "Overall Average SDR: -7.49416494 dB\n",
      "--------------------\n",
      "Epoch 541/1000\n"
     ]
    },
    {
     "name": "stderr",
     "output_type": "stream",
     "text": [
      "                                                                                 \r"
     ]
    },
    {
     "name": "stdout",
     "output_type": "stream",
     "text": [
      "Training Loss: 0.06665166\n",
      "Validation Loss: 0.13860378\n",
      "Average SDR for Stem 0: -0.05544569 dB\n",
      "Average SDR for Stem 1: -0.07679652 dB\n",
      "Average SDR for Stem 2: -1.32982016 dB\n",
      "Overall Average SDR: -0.48735413 dB\n",
      "--------------------\n",
      "Epoch 542/1000\n"
     ]
    },
    {
     "name": "stderr",
     "output_type": "stream",
     "text": [
      "                                                                                 \r"
     ]
    },
    {
     "name": "stdout",
     "output_type": "stream",
     "text": [
      "Training Loss: 0.11720298\n",
      "Validation Loss: 0.06540486\n",
      "Average SDR for Stem 0: -0.07873940 dB\n",
      "Average SDR for Stem 1: -0.40969265 dB\n",
      "Average SDR for Stem 2: -7.92481470 dB\n",
      "Overall Average SDR: -2.80441570 dB\n",
      "--------------------\n",
      "Epoch 543/1000\n"
     ]
    },
    {
     "name": "stderr",
     "output_type": "stream",
     "text": [
      "                                                                                 \r"
     ]
    },
    {
     "name": "stdout",
     "output_type": "stream",
     "text": [
      "Training Loss: 0.45081475\n",
      "Validation Loss: 0.06647397\n",
      "Average SDR for Stem 0: -3.84018707 dB\n",
      "Average SDR for Stem 1: -4.00342894 dB\n",
      "Average SDR for Stem 2: -0.18917696 dB\n",
      "Overall Average SDR: -2.67759776 dB\n",
      "--------------------\n",
      "Epoch 544/1000\n"
     ]
    },
    {
     "name": "stderr",
     "output_type": "stream",
     "text": [
      "                                                                                 \r"
     ]
    },
    {
     "name": "stdout",
     "output_type": "stream",
     "text": [
      "Training Loss: 0.17824404\n",
      "Validation Loss: 0.14022126\n",
      "Average SDR for Stem 0: -0.02138273 dB\n",
      "Average SDR for Stem 1: -1.37030172 dB\n",
      "Average SDR for Stem 2: -0.07367674 dB\n",
      "Overall Average SDR: -0.48845372 dB\n",
      "--------------------\n",
      "Epoch 545/1000\n"
     ]
    },
    {
     "name": "stderr",
     "output_type": "stream",
     "text": [
      "                                                                                 \r"
     ]
    },
    {
     "name": "stdout",
     "output_type": "stream",
     "text": [
      "Training Loss: 0.06851760\n",
      "Validation Loss: 0.08160481\n",
      "Average SDR for Stem 0: -4.25786114 dB\n",
      "Average SDR for Stem 1: -0.02328770 dB\n",
      "Average SDR for Stem 2: -4.10549068 dB\n",
      "Overall Average SDR: -2.79554653 dB\n",
      "--------------------\n",
      "Epoch 546/1000\n"
     ]
    },
    {
     "name": "stderr",
     "output_type": "stream",
     "text": [
      "                                                                                 \r"
     ]
    },
    {
     "name": "stdout",
     "output_type": "stream",
     "text": [
      "Training Loss: 0.10357648\n",
      "Validation Loss: 0.29157005\n",
      "Average SDR for Stem 0: -7.85672712 dB\n",
      "Average SDR for Stem 1: -1.89792621 dB\n",
      "Average SDR for Stem 2: -2.40892601 dB\n",
      "Overall Average SDR: -4.05452633 dB\n",
      "--------------------\n",
      "Epoch 547/1000\n"
     ]
    },
    {
     "name": "stderr",
     "output_type": "stream",
     "text": [
      "                                                                                 \r"
     ]
    },
    {
     "name": "stdout",
     "output_type": "stream",
     "text": [
      "Training Loss: 0.08168329\n",
      "Validation Loss: 0.15154613\n",
      "Average SDR for Stem 0: -0.00845526 dB\n",
      "Average SDR for Stem 1: -2.97184253 dB\n",
      "Average SDR for Stem 2: -1.22875190 dB\n",
      "Overall Average SDR: -1.40301657 dB\n",
      "--------------------\n",
      "Epoch 548/1000\n"
     ]
    },
    {
     "name": "stderr",
     "output_type": "stream",
     "text": [
      "                                                                                 \r"
     ]
    },
    {
     "name": "stdout",
     "output_type": "stream",
     "text": [
      "Training Loss: 0.06811619\n",
      "Validation Loss: 0.04848431\n",
      "Average SDR for Stem 0: -1.58816051 dB\n",
      "Average SDR for Stem 1: -0.92924786 dB\n",
      "Average SDR for Stem 2: -0.27088183 dB\n",
      "Overall Average SDR: -0.92943007 dB\n",
      "--------------------\n",
      "Epoch 549/1000\n"
     ]
    },
    {
     "name": "stderr",
     "output_type": "stream",
     "text": [
      "                                                                                 \r"
     ]
    },
    {
     "name": "stdout",
     "output_type": "stream",
     "text": [
      "Training Loss: 0.09555925\n",
      "Validation Loss: 0.05883867\n",
      "Average SDR for Stem 0: -0.77599078 dB\n",
      "Average SDR for Stem 1: -0.07478768 dB\n",
      "Average SDR for Stem 2: -7.14799309 dB\n",
      "Overall Average SDR: -2.66625714 dB\n",
      "--------------------\n",
      "Epoch 550/1000\n"
     ]
    },
    {
     "name": "stderr",
     "output_type": "stream",
     "text": [
      "                                                                                   \r"
     ]
    },
    {
     "name": "stdout",
     "output_type": "stream",
     "text": [
      "Training Loss: 0.06048410\n",
      "Validation Loss: 0.19168798\n",
      "Average SDR for Stem 0: -5.02903795 dB\n",
      "Average SDR for Stem 1: -4.29851532 dB\n",
      "Average SDR for Stem 2: -1.77011395 dB\n",
      "Overall Average SDR: -3.69922233 dB\n",
      "--------------------\n",
      "Epoch 551/1000\n"
     ]
    },
    {
     "name": "stderr",
     "output_type": "stream",
     "text": [
      "                                                                                 \r"
     ]
    },
    {
     "name": "stdout",
     "output_type": "stream",
     "text": [
      "Training Loss: 0.13203456\n",
      "Validation Loss: 0.05823157\n",
      "Average SDR for Stem 0: -5.99278784 dB\n",
      "Average SDR for Stem 1: -0.21091433 dB\n",
      "Average SDR for Stem 2: -4.99490690 dB\n",
      "Overall Average SDR: -3.73286939 dB\n",
      "--------------------\n",
      "Epoch 552/1000\n"
     ]
    },
    {
     "name": "stderr",
     "output_type": "stream",
     "text": [
      "                                               \r"
     ]
    },
    {
     "ename": "KeyboardInterrupt",
     "evalue": "",
     "output_type": "error",
     "traceback": [
      "\u001b[0;31m---------------------------------------------------------------------------\u001b[0m",
      "\u001b[0;31mKeyboardInterrupt\u001b[0m                         Traceback (most recent call last)",
      "Cell \u001b[0;32mIn[26], line 9\u001b[0m\n\u001b[1;32m      6\u001b[0m os\u001b[38;5;241m.\u001b[39mmakedirs(output_dir, exist_ok\u001b[38;5;241m=\u001b[39m\u001b[38;5;28;01mTrue\u001b[39;00m)\n\u001b[1;32m      8\u001b[0m \u001b[38;5;66;03m# Train with Masked loss\u001b[39;00m\n\u001b[0;32m----> 9\u001b[0m trained \u001b[38;5;241m=\u001b[39m \u001b[43mtrain\u001b[49m\u001b[38;5;241;43m.\u001b[39;49m\u001b[43mtrain_model\u001b[49m\u001b[43m(\u001b[49m\n\u001b[1;32m     10\u001b[0m \u001b[43m    \u001b[49m\u001b[43mmodel\u001b[49m\u001b[43m,\u001b[49m\u001b[43m \u001b[49m\u001b[43mtrain_loader\u001b[49m\u001b[43m,\u001b[49m\u001b[43m \u001b[49m\u001b[43mval_loader\u001b[49m\u001b[43m,\u001b[49m\n\u001b[1;32m     11\u001b[0m \u001b[43m    \u001b[49m\u001b[43mepochs\u001b[49m\u001b[38;5;241;43m=\u001b[39;49m\u001b[38;5;241;43m1000\u001b[39;49m\u001b[43m,\u001b[49m\u001b[43m \u001b[49m\u001b[43mlearning_rate\u001b[49m\u001b[38;5;241;43m=\u001b[39;49m\u001b[38;5;241;43m1e-4\u001b[39;49m\u001b[43m,\u001b[49m\u001b[43m \u001b[49m\u001b[43moutput_dir\u001b[49m\u001b[38;5;241;43m=\u001b[39;49m\u001b[38;5;124;43m\"\u001b[39;49m\u001b[38;5;124;43m./models/test\u001b[39;49m\u001b[38;5;124;43m\"\u001b[39;49m\u001b[43m,\u001b[49m\n\u001b[1;32m     12\u001b[0m \u001b[43m    \u001b[49m\u001b[43mdevice\u001b[49m\u001b[38;5;241;43m=\u001b[39;49m\u001b[38;5;124;43m\"\u001b[39;49m\u001b[38;5;124;43mcpu\u001b[39;49m\u001b[38;5;124;43m\"\u001b[39;49m\u001b[43m,\u001b[49m\u001b[43m \u001b[49m\u001b[43mearly_stopping\u001b[49m\u001b[38;5;241;43m=\u001b[39;49m\u001b[38;5;28;43;01mNone\u001b[39;49;00m\u001b[43m,\u001b[49m\u001b[43m \u001b[49m\u001b[43mloss_type\u001b[49m\u001b[38;5;241;43m=\u001b[39;49m\u001b[38;5;124;43m\"\u001b[39;49m\u001b[38;5;124;43mmasked\u001b[39;49m\u001b[38;5;124;43m\"\u001b[39;49m\n\u001b[1;32m     13\u001b[0m \u001b[43m)\u001b[49m\n",
      "File \u001b[0;32m~/coding/DL4CV/Final/Cinematic_sound_demixer/source/train.py:118\u001b[0m, in \u001b[0;36mtrain_model\u001b[0;34m(model, train_loader, val_loader, epochs, learning_rate, output_dir, device, early_stopping, loss_type, normalize_data, gcs_bucket_name, gcs_model_dir, stem_names)\u001b[0m\n\u001b[1;32m    115\u001b[0m optimizer\u001b[38;5;241m.\u001b[39mzero_grad()\n\u001b[1;32m    117\u001b[0m \u001b[38;5;66;03m# Forward pass\u001b[39;00m\n\u001b[0;32m--> 118\u001b[0m outputs \u001b[38;5;241m=\u001b[39m \u001b[43mmodel\u001b[49m\u001b[43m(\u001b[49m\u001b[43mmix\u001b[49m\u001b[43m)\u001b[49m\n\u001b[1;32m    120\u001b[0m \u001b[38;5;66;03m# Compute loss\u001b[39;00m\n\u001b[1;32m    121\u001b[0m loss \u001b[38;5;241m=\u001b[39m loss_fn(outputs, targets)\n",
      "File \u001b[0;32m~/.pyenv/shims/versions/dl4cv_final/lib/python3.12/site-packages/torch/nn/modules/module.py:1736\u001b[0m, in \u001b[0;36mModule._wrapped_call_impl\u001b[0;34m(self, *args, **kwargs)\u001b[0m\n\u001b[1;32m   1734\u001b[0m     \u001b[38;5;28;01mreturn\u001b[39;00m \u001b[38;5;28mself\u001b[39m\u001b[38;5;241m.\u001b[39m_compiled_call_impl(\u001b[38;5;241m*\u001b[39margs, \u001b[38;5;241m*\u001b[39m\u001b[38;5;241m*\u001b[39mkwargs)  \u001b[38;5;66;03m# type: ignore[misc]\u001b[39;00m\n\u001b[1;32m   1735\u001b[0m \u001b[38;5;28;01melse\u001b[39;00m:\n\u001b[0;32m-> 1736\u001b[0m     \u001b[38;5;28;01mreturn\u001b[39;00m \u001b[38;5;28;43mself\u001b[39;49m\u001b[38;5;241;43m.\u001b[39;49m\u001b[43m_call_impl\u001b[49m\u001b[43m(\u001b[49m\u001b[38;5;241;43m*\u001b[39;49m\u001b[43margs\u001b[49m\u001b[43m,\u001b[49m\u001b[43m \u001b[49m\u001b[38;5;241;43m*\u001b[39;49m\u001b[38;5;241;43m*\u001b[39;49m\u001b[43mkwargs\u001b[49m\u001b[43m)\u001b[49m\n",
      "File \u001b[0;32m~/.pyenv/shims/versions/dl4cv_final/lib/python3.12/site-packages/torch/nn/modules/module.py:1747\u001b[0m, in \u001b[0;36mModule._call_impl\u001b[0;34m(self, *args, **kwargs)\u001b[0m\n\u001b[1;32m   1742\u001b[0m \u001b[38;5;66;03m# If we don't have any hooks, we want to skip the rest of the logic in\u001b[39;00m\n\u001b[1;32m   1743\u001b[0m \u001b[38;5;66;03m# this function, and just call forward.\u001b[39;00m\n\u001b[1;32m   1744\u001b[0m \u001b[38;5;28;01mif\u001b[39;00m \u001b[38;5;129;01mnot\u001b[39;00m (\u001b[38;5;28mself\u001b[39m\u001b[38;5;241m.\u001b[39m_backward_hooks \u001b[38;5;129;01mor\u001b[39;00m \u001b[38;5;28mself\u001b[39m\u001b[38;5;241m.\u001b[39m_backward_pre_hooks \u001b[38;5;129;01mor\u001b[39;00m \u001b[38;5;28mself\u001b[39m\u001b[38;5;241m.\u001b[39m_forward_hooks \u001b[38;5;129;01mor\u001b[39;00m \u001b[38;5;28mself\u001b[39m\u001b[38;5;241m.\u001b[39m_forward_pre_hooks\n\u001b[1;32m   1745\u001b[0m         \u001b[38;5;129;01mor\u001b[39;00m _global_backward_pre_hooks \u001b[38;5;129;01mor\u001b[39;00m _global_backward_hooks\n\u001b[1;32m   1746\u001b[0m         \u001b[38;5;129;01mor\u001b[39;00m _global_forward_hooks \u001b[38;5;129;01mor\u001b[39;00m _global_forward_pre_hooks):\n\u001b[0;32m-> 1747\u001b[0m     \u001b[38;5;28;01mreturn\u001b[39;00m \u001b[43mforward_call\u001b[49m\u001b[43m(\u001b[49m\u001b[38;5;241;43m*\u001b[39;49m\u001b[43margs\u001b[49m\u001b[43m,\u001b[49m\u001b[43m \u001b[49m\u001b[38;5;241;43m*\u001b[39;49m\u001b[38;5;241;43m*\u001b[39;49m\u001b[43mkwargs\u001b[49m\u001b[43m)\u001b[49m\n\u001b[1;32m   1749\u001b[0m result \u001b[38;5;241m=\u001b[39m \u001b[38;5;28;01mNone\u001b[39;00m\n\u001b[1;32m   1750\u001b[0m called_always_called_hooks \u001b[38;5;241m=\u001b[39m \u001b[38;5;28mset\u001b[39m()\n",
      "File \u001b[0;32m~/.pyenv/shims/versions/dl4cv_final/lib/python3.12/site-packages/demucs/htdemucs.py:593\u001b[0m, in \u001b[0;36mHTDemucs.forward\u001b[0;34m(self, mix)\u001b[0m\n\u001b[1;32m    590\u001b[0m     x \u001b[38;5;241m=\u001b[39m rearrange(x, \u001b[38;5;124m\"\u001b[39m\u001b[38;5;124mb c (f t)-> b c f t\u001b[39m\u001b[38;5;124m\"\u001b[39m, f\u001b[38;5;241m=\u001b[39mf)\n\u001b[1;32m    591\u001b[0m     xt \u001b[38;5;241m=\u001b[39m \u001b[38;5;28mself\u001b[39m\u001b[38;5;241m.\u001b[39mchannel_upsampler_t(xt)\n\u001b[0;32m--> 593\u001b[0m x, xt \u001b[38;5;241m=\u001b[39m \u001b[38;5;28;43mself\u001b[39;49m\u001b[38;5;241;43m.\u001b[39;49m\u001b[43mcrosstransformer\u001b[49m\u001b[43m(\u001b[49m\u001b[43mx\u001b[49m\u001b[43m,\u001b[49m\u001b[43m \u001b[49m\u001b[43mxt\u001b[49m\u001b[43m)\u001b[49m\n\u001b[1;32m    595\u001b[0m \u001b[38;5;28;01mif\u001b[39;00m \u001b[38;5;28mself\u001b[39m\u001b[38;5;241m.\u001b[39mbottom_channels:\n\u001b[1;32m    596\u001b[0m     x \u001b[38;5;241m=\u001b[39m rearrange(x, \u001b[38;5;124m\"\u001b[39m\u001b[38;5;124mb c f t-> b c (f t)\u001b[39m\u001b[38;5;124m\"\u001b[39m)\n",
      "File \u001b[0;32m~/.pyenv/shims/versions/dl4cv_final/lib/python3.12/site-packages/torch/nn/modules/module.py:1736\u001b[0m, in \u001b[0;36mModule._wrapped_call_impl\u001b[0;34m(self, *args, **kwargs)\u001b[0m\n\u001b[1;32m   1734\u001b[0m     \u001b[38;5;28;01mreturn\u001b[39;00m \u001b[38;5;28mself\u001b[39m\u001b[38;5;241m.\u001b[39m_compiled_call_impl(\u001b[38;5;241m*\u001b[39margs, \u001b[38;5;241m*\u001b[39m\u001b[38;5;241m*\u001b[39mkwargs)  \u001b[38;5;66;03m# type: ignore[misc]\u001b[39;00m\n\u001b[1;32m   1735\u001b[0m \u001b[38;5;28;01melse\u001b[39;00m:\n\u001b[0;32m-> 1736\u001b[0m     \u001b[38;5;28;01mreturn\u001b[39;00m \u001b[38;5;28;43mself\u001b[39;49m\u001b[38;5;241;43m.\u001b[39;49m\u001b[43m_call_impl\u001b[49m\u001b[43m(\u001b[49m\u001b[38;5;241;43m*\u001b[39;49m\u001b[43margs\u001b[49m\u001b[43m,\u001b[49m\u001b[43m \u001b[49m\u001b[38;5;241;43m*\u001b[39;49m\u001b[38;5;241;43m*\u001b[39;49m\u001b[43mkwargs\u001b[49m\u001b[43m)\u001b[49m\n",
      "File \u001b[0;32m~/.pyenv/shims/versions/dl4cv_final/lib/python3.12/site-packages/torch/nn/modules/module.py:1747\u001b[0m, in \u001b[0;36mModule._call_impl\u001b[0;34m(self, *args, **kwargs)\u001b[0m\n\u001b[1;32m   1742\u001b[0m \u001b[38;5;66;03m# If we don't have any hooks, we want to skip the rest of the logic in\u001b[39;00m\n\u001b[1;32m   1743\u001b[0m \u001b[38;5;66;03m# this function, and just call forward.\u001b[39;00m\n\u001b[1;32m   1744\u001b[0m \u001b[38;5;28;01mif\u001b[39;00m \u001b[38;5;129;01mnot\u001b[39;00m (\u001b[38;5;28mself\u001b[39m\u001b[38;5;241m.\u001b[39m_backward_hooks \u001b[38;5;129;01mor\u001b[39;00m \u001b[38;5;28mself\u001b[39m\u001b[38;5;241m.\u001b[39m_backward_pre_hooks \u001b[38;5;129;01mor\u001b[39;00m \u001b[38;5;28mself\u001b[39m\u001b[38;5;241m.\u001b[39m_forward_hooks \u001b[38;5;129;01mor\u001b[39;00m \u001b[38;5;28mself\u001b[39m\u001b[38;5;241m.\u001b[39m_forward_pre_hooks\n\u001b[1;32m   1745\u001b[0m         \u001b[38;5;129;01mor\u001b[39;00m _global_backward_pre_hooks \u001b[38;5;129;01mor\u001b[39;00m _global_backward_hooks\n\u001b[1;32m   1746\u001b[0m         \u001b[38;5;129;01mor\u001b[39;00m _global_forward_hooks \u001b[38;5;129;01mor\u001b[39;00m _global_forward_pre_hooks):\n\u001b[0;32m-> 1747\u001b[0m     \u001b[38;5;28;01mreturn\u001b[39;00m \u001b[43mforward_call\u001b[49m\u001b[43m(\u001b[49m\u001b[38;5;241;43m*\u001b[39;49m\u001b[43margs\u001b[49m\u001b[43m,\u001b[49m\u001b[43m \u001b[49m\u001b[38;5;241;43m*\u001b[39;49m\u001b[38;5;241;43m*\u001b[39;49m\u001b[43mkwargs\u001b[49m\u001b[43m)\u001b[49m\n\u001b[1;32m   1749\u001b[0m result \u001b[38;5;241m=\u001b[39m \u001b[38;5;28;01mNone\u001b[39;00m\n\u001b[1;32m   1750\u001b[0m called_always_called_hooks \u001b[38;5;241m=\u001b[39m \u001b[38;5;28mset\u001b[39m()\n",
      "File \u001b[0;32m~/.pyenv/shims/versions/dl4cv_final/lib/python3.12/site-packages/demucs/transformer.py:667\u001b[0m, in \u001b[0;36mCrossTransformerEncoder.forward\u001b[0;34m(self, x, xt)\u001b[0m\n\u001b[1;32m    665\u001b[0m \u001b[38;5;28;01mfor\u001b[39;00m idx \u001b[38;5;129;01min\u001b[39;00m \u001b[38;5;28mrange\u001b[39m(\u001b[38;5;28mself\u001b[39m\u001b[38;5;241m.\u001b[39mnum_layers):\n\u001b[1;32m    666\u001b[0m     \u001b[38;5;28;01mif\u001b[39;00m idx \u001b[38;5;241m%\u001b[39m \u001b[38;5;241m2\u001b[39m \u001b[38;5;241m==\u001b[39m \u001b[38;5;28mself\u001b[39m\u001b[38;5;241m.\u001b[39mclassic_parity:\n\u001b[0;32m--> 667\u001b[0m         x \u001b[38;5;241m=\u001b[39m \u001b[38;5;28;43mself\u001b[39;49m\u001b[38;5;241;43m.\u001b[39;49m\u001b[43mlayers\u001b[49m\u001b[43m[\u001b[49m\u001b[43midx\u001b[49m\u001b[43m]\u001b[49m\u001b[43m(\u001b[49m\u001b[43mx\u001b[49m\u001b[43m)\u001b[49m\n\u001b[1;32m    668\u001b[0m         xt \u001b[38;5;241m=\u001b[39m \u001b[38;5;28mself\u001b[39m\u001b[38;5;241m.\u001b[39mlayers_t[idx](xt)\n\u001b[1;32m    669\u001b[0m     \u001b[38;5;28;01melse\u001b[39;00m:\n",
      "File \u001b[0;32m~/.pyenv/shims/versions/dl4cv_final/lib/python3.12/site-packages/torch/nn/modules/module.py:1736\u001b[0m, in \u001b[0;36mModule._wrapped_call_impl\u001b[0;34m(self, *args, **kwargs)\u001b[0m\n\u001b[1;32m   1734\u001b[0m     \u001b[38;5;28;01mreturn\u001b[39;00m \u001b[38;5;28mself\u001b[39m\u001b[38;5;241m.\u001b[39m_compiled_call_impl(\u001b[38;5;241m*\u001b[39margs, \u001b[38;5;241m*\u001b[39m\u001b[38;5;241m*\u001b[39mkwargs)  \u001b[38;5;66;03m# type: ignore[misc]\u001b[39;00m\n\u001b[1;32m   1735\u001b[0m \u001b[38;5;28;01melse\u001b[39;00m:\n\u001b[0;32m-> 1736\u001b[0m     \u001b[38;5;28;01mreturn\u001b[39;00m \u001b[38;5;28;43mself\u001b[39;49m\u001b[38;5;241;43m.\u001b[39;49m\u001b[43m_call_impl\u001b[49m\u001b[43m(\u001b[49m\u001b[38;5;241;43m*\u001b[39;49m\u001b[43margs\u001b[49m\u001b[43m,\u001b[49m\u001b[43m \u001b[49m\u001b[38;5;241;43m*\u001b[39;49m\u001b[38;5;241;43m*\u001b[39;49m\u001b[43mkwargs\u001b[49m\u001b[43m)\u001b[49m\n",
      "File \u001b[0;32m~/.pyenv/shims/versions/dl4cv_final/lib/python3.12/site-packages/torch/nn/modules/module.py:1747\u001b[0m, in \u001b[0;36mModule._call_impl\u001b[0;34m(self, *args, **kwargs)\u001b[0m\n\u001b[1;32m   1742\u001b[0m \u001b[38;5;66;03m# If we don't have any hooks, we want to skip the rest of the logic in\u001b[39;00m\n\u001b[1;32m   1743\u001b[0m \u001b[38;5;66;03m# this function, and just call forward.\u001b[39;00m\n\u001b[1;32m   1744\u001b[0m \u001b[38;5;28;01mif\u001b[39;00m \u001b[38;5;129;01mnot\u001b[39;00m (\u001b[38;5;28mself\u001b[39m\u001b[38;5;241m.\u001b[39m_backward_hooks \u001b[38;5;129;01mor\u001b[39;00m \u001b[38;5;28mself\u001b[39m\u001b[38;5;241m.\u001b[39m_backward_pre_hooks \u001b[38;5;129;01mor\u001b[39;00m \u001b[38;5;28mself\u001b[39m\u001b[38;5;241m.\u001b[39m_forward_hooks \u001b[38;5;129;01mor\u001b[39;00m \u001b[38;5;28mself\u001b[39m\u001b[38;5;241m.\u001b[39m_forward_pre_hooks\n\u001b[1;32m   1745\u001b[0m         \u001b[38;5;129;01mor\u001b[39;00m _global_backward_pre_hooks \u001b[38;5;129;01mor\u001b[39;00m _global_backward_hooks\n\u001b[1;32m   1746\u001b[0m         \u001b[38;5;129;01mor\u001b[39;00m _global_forward_hooks \u001b[38;5;129;01mor\u001b[39;00m _global_forward_pre_hooks):\n\u001b[0;32m-> 1747\u001b[0m     \u001b[38;5;28;01mreturn\u001b[39;00m \u001b[43mforward_call\u001b[49m\u001b[43m(\u001b[49m\u001b[38;5;241;43m*\u001b[39;49m\u001b[43margs\u001b[49m\u001b[43m,\u001b[49m\u001b[43m \u001b[49m\u001b[38;5;241;43m*\u001b[39;49m\u001b[38;5;241;43m*\u001b[39;49m\u001b[43mkwargs\u001b[49m\u001b[43m)\u001b[49m\n\u001b[1;32m   1749\u001b[0m result \u001b[38;5;241m=\u001b[39m \u001b[38;5;28;01mNone\u001b[39;00m\n\u001b[1;32m   1750\u001b[0m called_always_called_hooks \u001b[38;5;241m=\u001b[39m \u001b[38;5;28mset\u001b[39m()\n",
      "File \u001b[0;32m~/.pyenv/shims/versions/dl4cv_final/lib/python3.12/site-packages/demucs/transformer.py:365\u001b[0m, in \u001b[0;36mMyTransformerEncoderLayer.forward\u001b[0;34m(self, src, src_mask, src_key_padding_mask)\u001b[0m\n\u001b[1;32m    361\u001b[0m         \u001b[38;5;28mself\u001b[39m\u001b[38;5;241m.\u001b[39m\u001b[38;5;21m__setattr__\u001b[39m(\u001b[38;5;124m\"\u001b[39m\u001b[38;5;124msrc_mask\u001b[39m\u001b[38;5;124m\"\u001b[39m, src_mask)\n\u001b[1;32m    363\u001b[0m \u001b[38;5;28;01mif\u001b[39;00m \u001b[38;5;28mself\u001b[39m\u001b[38;5;241m.\u001b[39mnorm_first:\n\u001b[1;32m    364\u001b[0m     x \u001b[38;5;241m=\u001b[39m x \u001b[38;5;241m+\u001b[39m \u001b[38;5;28mself\u001b[39m\u001b[38;5;241m.\u001b[39mgamma_1(\n\u001b[0;32m--> 365\u001b[0m         \u001b[38;5;28;43mself\u001b[39;49m\u001b[38;5;241;43m.\u001b[39;49m\u001b[43m_sa_block\u001b[49m\u001b[43m(\u001b[49m\u001b[38;5;28;43mself\u001b[39;49m\u001b[38;5;241;43m.\u001b[39;49m\u001b[43mnorm1\u001b[49m\u001b[43m(\u001b[49m\u001b[43mx\u001b[49m\u001b[43m)\u001b[49m\u001b[43m,\u001b[49m\u001b[43m \u001b[49m\u001b[43msrc_mask\u001b[49m\u001b[43m,\u001b[49m\u001b[43m \u001b[49m\u001b[43msrc_key_padding_mask\u001b[49m\u001b[43m)\u001b[49m\n\u001b[1;32m    366\u001b[0m     )\n\u001b[1;32m    367\u001b[0m     x \u001b[38;5;241m=\u001b[39m x \u001b[38;5;241m+\u001b[39m \u001b[38;5;28mself\u001b[39m\u001b[38;5;241m.\u001b[39mgamma_2(\u001b[38;5;28mself\u001b[39m\u001b[38;5;241m.\u001b[39m_ff_block(\u001b[38;5;28mself\u001b[39m\u001b[38;5;241m.\u001b[39mnorm2(x)))\n\u001b[1;32m    369\u001b[0m     \u001b[38;5;28;01mif\u001b[39;00m \u001b[38;5;28mself\u001b[39m\u001b[38;5;241m.\u001b[39mnorm_out:\n",
      "File \u001b[0;32m~/.pyenv/shims/versions/dl4cv_final/lib/python3.12/site-packages/torch/nn/modules/transformer.py:918\u001b[0m, in \u001b[0;36mTransformerEncoderLayer._sa_block\u001b[0;34m(self, x, attn_mask, key_padding_mask, is_causal)\u001b[0m\n\u001b[1;32m    911\u001b[0m \u001b[38;5;28;01mdef\u001b[39;00m \u001b[38;5;21m_sa_block\u001b[39m(\n\u001b[1;32m    912\u001b[0m     \u001b[38;5;28mself\u001b[39m,\n\u001b[1;32m    913\u001b[0m     x: Tensor,\n\u001b[0;32m   (...)\u001b[0m\n\u001b[1;32m    916\u001b[0m     is_causal: \u001b[38;5;28mbool\u001b[39m \u001b[38;5;241m=\u001b[39m \u001b[38;5;28;01mFalse\u001b[39;00m,\n\u001b[1;32m    917\u001b[0m ) \u001b[38;5;241m-\u001b[39m\u001b[38;5;241m>\u001b[39m Tensor:\n\u001b[0;32m--> 918\u001b[0m     x \u001b[38;5;241m=\u001b[39m \u001b[38;5;28;43mself\u001b[39;49m\u001b[38;5;241;43m.\u001b[39;49m\u001b[43mself_attn\u001b[49m\u001b[43m(\u001b[49m\n\u001b[1;32m    919\u001b[0m \u001b[43m        \u001b[49m\u001b[43mx\u001b[49m\u001b[43m,\u001b[49m\n\u001b[1;32m    920\u001b[0m \u001b[43m        \u001b[49m\u001b[43mx\u001b[49m\u001b[43m,\u001b[49m\n\u001b[1;32m    921\u001b[0m \u001b[43m        \u001b[49m\u001b[43mx\u001b[49m\u001b[43m,\u001b[49m\n\u001b[1;32m    922\u001b[0m \u001b[43m        \u001b[49m\u001b[43mattn_mask\u001b[49m\u001b[38;5;241;43m=\u001b[39;49m\u001b[43mattn_mask\u001b[49m\u001b[43m,\u001b[49m\n\u001b[1;32m    923\u001b[0m \u001b[43m        \u001b[49m\u001b[43mkey_padding_mask\u001b[49m\u001b[38;5;241;43m=\u001b[39;49m\u001b[43mkey_padding_mask\u001b[49m\u001b[43m,\u001b[49m\n\u001b[1;32m    924\u001b[0m \u001b[43m        \u001b[49m\u001b[43mneed_weights\u001b[49m\u001b[38;5;241;43m=\u001b[39;49m\u001b[38;5;28;43;01mFalse\u001b[39;49;00m\u001b[43m,\u001b[49m\n\u001b[1;32m    925\u001b[0m \u001b[43m        \u001b[49m\u001b[43mis_causal\u001b[49m\u001b[38;5;241;43m=\u001b[39;49m\u001b[43mis_causal\u001b[49m\u001b[43m,\u001b[49m\n\u001b[1;32m    926\u001b[0m \u001b[43m    \u001b[49m\u001b[43m)\u001b[49m[\u001b[38;5;241m0\u001b[39m]\n\u001b[1;32m    927\u001b[0m     \u001b[38;5;28;01mreturn\u001b[39;00m \u001b[38;5;28mself\u001b[39m\u001b[38;5;241m.\u001b[39mdropout1(x)\n",
      "File \u001b[0;32m~/.pyenv/shims/versions/dl4cv_final/lib/python3.12/site-packages/torch/nn/modules/module.py:1736\u001b[0m, in \u001b[0;36mModule._wrapped_call_impl\u001b[0;34m(self, *args, **kwargs)\u001b[0m\n\u001b[1;32m   1734\u001b[0m     \u001b[38;5;28;01mreturn\u001b[39;00m \u001b[38;5;28mself\u001b[39m\u001b[38;5;241m.\u001b[39m_compiled_call_impl(\u001b[38;5;241m*\u001b[39margs, \u001b[38;5;241m*\u001b[39m\u001b[38;5;241m*\u001b[39mkwargs)  \u001b[38;5;66;03m# type: ignore[misc]\u001b[39;00m\n\u001b[1;32m   1735\u001b[0m \u001b[38;5;28;01melse\u001b[39;00m:\n\u001b[0;32m-> 1736\u001b[0m     \u001b[38;5;28;01mreturn\u001b[39;00m \u001b[38;5;28;43mself\u001b[39;49m\u001b[38;5;241;43m.\u001b[39;49m\u001b[43m_call_impl\u001b[49m\u001b[43m(\u001b[49m\u001b[38;5;241;43m*\u001b[39;49m\u001b[43margs\u001b[49m\u001b[43m,\u001b[49m\u001b[43m \u001b[49m\u001b[38;5;241;43m*\u001b[39;49m\u001b[38;5;241;43m*\u001b[39;49m\u001b[43mkwargs\u001b[49m\u001b[43m)\u001b[49m\n",
      "File \u001b[0;32m~/.pyenv/shims/versions/dl4cv_final/lib/python3.12/site-packages/torch/nn/modules/module.py:1747\u001b[0m, in \u001b[0;36mModule._call_impl\u001b[0;34m(self, *args, **kwargs)\u001b[0m\n\u001b[1;32m   1742\u001b[0m \u001b[38;5;66;03m# If we don't have any hooks, we want to skip the rest of the logic in\u001b[39;00m\n\u001b[1;32m   1743\u001b[0m \u001b[38;5;66;03m# this function, and just call forward.\u001b[39;00m\n\u001b[1;32m   1744\u001b[0m \u001b[38;5;28;01mif\u001b[39;00m \u001b[38;5;129;01mnot\u001b[39;00m (\u001b[38;5;28mself\u001b[39m\u001b[38;5;241m.\u001b[39m_backward_hooks \u001b[38;5;129;01mor\u001b[39;00m \u001b[38;5;28mself\u001b[39m\u001b[38;5;241m.\u001b[39m_backward_pre_hooks \u001b[38;5;129;01mor\u001b[39;00m \u001b[38;5;28mself\u001b[39m\u001b[38;5;241m.\u001b[39m_forward_hooks \u001b[38;5;129;01mor\u001b[39;00m \u001b[38;5;28mself\u001b[39m\u001b[38;5;241m.\u001b[39m_forward_pre_hooks\n\u001b[1;32m   1745\u001b[0m         \u001b[38;5;129;01mor\u001b[39;00m _global_backward_pre_hooks \u001b[38;5;129;01mor\u001b[39;00m _global_backward_hooks\n\u001b[1;32m   1746\u001b[0m         \u001b[38;5;129;01mor\u001b[39;00m _global_forward_hooks \u001b[38;5;129;01mor\u001b[39;00m _global_forward_pre_hooks):\n\u001b[0;32m-> 1747\u001b[0m     \u001b[38;5;28;01mreturn\u001b[39;00m \u001b[43mforward_call\u001b[49m\u001b[43m(\u001b[49m\u001b[38;5;241;43m*\u001b[39;49m\u001b[43margs\u001b[49m\u001b[43m,\u001b[49m\u001b[43m \u001b[49m\u001b[38;5;241;43m*\u001b[39;49m\u001b[38;5;241;43m*\u001b[39;49m\u001b[43mkwargs\u001b[49m\u001b[43m)\u001b[49m\n\u001b[1;32m   1749\u001b[0m result \u001b[38;5;241m=\u001b[39m \u001b[38;5;28;01mNone\u001b[39;00m\n\u001b[1;32m   1750\u001b[0m called_always_called_hooks \u001b[38;5;241m=\u001b[39m \u001b[38;5;28mset\u001b[39m()\n",
      "File \u001b[0;32m~/.pyenv/shims/versions/dl4cv_final/lib/python3.12/site-packages/torch/nn/modules/activation.py:1368\u001b[0m, in \u001b[0;36mMultiheadAttention.forward\u001b[0;34m(self, query, key, value, key_padding_mask, need_weights, attn_mask, average_attn_weights, is_causal)\u001b[0m\n\u001b[1;32m   1342\u001b[0m     attn_output, attn_output_weights \u001b[38;5;241m=\u001b[39m F\u001b[38;5;241m.\u001b[39mmulti_head_attention_forward(\n\u001b[1;32m   1343\u001b[0m         query,\n\u001b[1;32m   1344\u001b[0m         key,\n\u001b[0;32m   (...)\u001b[0m\n\u001b[1;32m   1365\u001b[0m         is_causal\u001b[38;5;241m=\u001b[39mis_causal,\n\u001b[1;32m   1366\u001b[0m     )\n\u001b[1;32m   1367\u001b[0m \u001b[38;5;28;01melse\u001b[39;00m:\n\u001b[0;32m-> 1368\u001b[0m     attn_output, attn_output_weights \u001b[38;5;241m=\u001b[39m \u001b[43mF\u001b[49m\u001b[38;5;241;43m.\u001b[39;49m\u001b[43mmulti_head_attention_forward\u001b[49m\u001b[43m(\u001b[49m\n\u001b[1;32m   1369\u001b[0m \u001b[43m        \u001b[49m\u001b[43mquery\u001b[49m\u001b[43m,\u001b[49m\n\u001b[1;32m   1370\u001b[0m \u001b[43m        \u001b[49m\u001b[43mkey\u001b[49m\u001b[43m,\u001b[49m\n\u001b[1;32m   1371\u001b[0m \u001b[43m        \u001b[49m\u001b[43mvalue\u001b[49m\u001b[43m,\u001b[49m\n\u001b[1;32m   1372\u001b[0m \u001b[43m        \u001b[49m\u001b[38;5;28;43mself\u001b[39;49m\u001b[38;5;241;43m.\u001b[39;49m\u001b[43membed_dim\u001b[49m\u001b[43m,\u001b[49m\n\u001b[1;32m   1373\u001b[0m \u001b[43m        \u001b[49m\u001b[38;5;28;43mself\u001b[39;49m\u001b[38;5;241;43m.\u001b[39;49m\u001b[43mnum_heads\u001b[49m\u001b[43m,\u001b[49m\n\u001b[1;32m   1374\u001b[0m \u001b[43m        \u001b[49m\u001b[38;5;28;43mself\u001b[39;49m\u001b[38;5;241;43m.\u001b[39;49m\u001b[43min_proj_weight\u001b[49m\u001b[43m,\u001b[49m\n\u001b[1;32m   1375\u001b[0m \u001b[43m        \u001b[49m\u001b[38;5;28;43mself\u001b[39;49m\u001b[38;5;241;43m.\u001b[39;49m\u001b[43min_proj_bias\u001b[49m\u001b[43m,\u001b[49m\n\u001b[1;32m   1376\u001b[0m \u001b[43m        \u001b[49m\u001b[38;5;28;43mself\u001b[39;49m\u001b[38;5;241;43m.\u001b[39;49m\u001b[43mbias_k\u001b[49m\u001b[43m,\u001b[49m\n\u001b[1;32m   1377\u001b[0m \u001b[43m        \u001b[49m\u001b[38;5;28;43mself\u001b[39;49m\u001b[38;5;241;43m.\u001b[39;49m\u001b[43mbias_v\u001b[49m\u001b[43m,\u001b[49m\n\u001b[1;32m   1378\u001b[0m \u001b[43m        \u001b[49m\u001b[38;5;28;43mself\u001b[39;49m\u001b[38;5;241;43m.\u001b[39;49m\u001b[43madd_zero_attn\u001b[49m\u001b[43m,\u001b[49m\n\u001b[1;32m   1379\u001b[0m \u001b[43m        \u001b[49m\u001b[38;5;28;43mself\u001b[39;49m\u001b[38;5;241;43m.\u001b[39;49m\u001b[43mdropout\u001b[49m\u001b[43m,\u001b[49m\n\u001b[1;32m   1380\u001b[0m \u001b[43m        \u001b[49m\u001b[38;5;28;43mself\u001b[39;49m\u001b[38;5;241;43m.\u001b[39;49m\u001b[43mout_proj\u001b[49m\u001b[38;5;241;43m.\u001b[39;49m\u001b[43mweight\u001b[49m\u001b[43m,\u001b[49m\n\u001b[1;32m   1381\u001b[0m \u001b[43m        \u001b[49m\u001b[38;5;28;43mself\u001b[39;49m\u001b[38;5;241;43m.\u001b[39;49m\u001b[43mout_proj\u001b[49m\u001b[38;5;241;43m.\u001b[39;49m\u001b[43mbias\u001b[49m\u001b[43m,\u001b[49m\n\u001b[1;32m   1382\u001b[0m \u001b[43m        \u001b[49m\u001b[43mtraining\u001b[49m\u001b[38;5;241;43m=\u001b[39;49m\u001b[38;5;28;43mself\u001b[39;49m\u001b[38;5;241;43m.\u001b[39;49m\u001b[43mtraining\u001b[49m\u001b[43m,\u001b[49m\n\u001b[1;32m   1383\u001b[0m \u001b[43m        \u001b[49m\u001b[43mkey_padding_mask\u001b[49m\u001b[38;5;241;43m=\u001b[39;49m\u001b[43mkey_padding_mask\u001b[49m\u001b[43m,\u001b[49m\n\u001b[1;32m   1384\u001b[0m \u001b[43m        \u001b[49m\u001b[43mneed_weights\u001b[49m\u001b[38;5;241;43m=\u001b[39;49m\u001b[43mneed_weights\u001b[49m\u001b[43m,\u001b[49m\n\u001b[1;32m   1385\u001b[0m \u001b[43m        \u001b[49m\u001b[43mattn_mask\u001b[49m\u001b[38;5;241;43m=\u001b[39;49m\u001b[43mattn_mask\u001b[49m\u001b[43m,\u001b[49m\n\u001b[1;32m   1386\u001b[0m \u001b[43m        \u001b[49m\u001b[43maverage_attn_weights\u001b[49m\u001b[38;5;241;43m=\u001b[39;49m\u001b[43maverage_attn_weights\u001b[49m\u001b[43m,\u001b[49m\n\u001b[1;32m   1387\u001b[0m \u001b[43m        \u001b[49m\u001b[43mis_causal\u001b[49m\u001b[38;5;241;43m=\u001b[39;49m\u001b[43mis_causal\u001b[49m\u001b[43m,\u001b[49m\n\u001b[1;32m   1388\u001b[0m \u001b[43m    \u001b[49m\u001b[43m)\u001b[49m\n\u001b[1;32m   1389\u001b[0m \u001b[38;5;28;01mif\u001b[39;00m \u001b[38;5;28mself\u001b[39m\u001b[38;5;241m.\u001b[39mbatch_first \u001b[38;5;129;01mand\u001b[39;00m is_batched:\n\u001b[1;32m   1390\u001b[0m     \u001b[38;5;28;01mreturn\u001b[39;00m attn_output\u001b[38;5;241m.\u001b[39mtranspose(\u001b[38;5;241m1\u001b[39m, \u001b[38;5;241m0\u001b[39m), attn_output_weights\n",
      "File \u001b[0;32m~/.pyenv/shims/versions/dl4cv_final/lib/python3.12/site-packages/torch/nn/functional.py:6278\u001b[0m, in \u001b[0;36mmulti_head_attention_forward\u001b[0;34m(query, key, value, embed_dim_to_check, num_heads, in_proj_weight, in_proj_bias, bias_k, bias_v, add_zero_attn, dropout_p, out_proj_weight, out_proj_bias, training, key_padding_mask, need_weights, attn_mask, use_separate_proj_weight, q_proj_weight, k_proj_weight, v_proj_weight, static_k, static_v, average_attn_weights, is_causal)\u001b[0m\n\u001b[1;32m   6275\u001b[0m k \u001b[38;5;241m=\u001b[39m k\u001b[38;5;241m.\u001b[39mview(bsz, num_heads, src_len, head_dim)\n\u001b[1;32m   6276\u001b[0m v \u001b[38;5;241m=\u001b[39m v\u001b[38;5;241m.\u001b[39mview(bsz, num_heads, src_len, head_dim)\n\u001b[0;32m-> 6278\u001b[0m attn_output \u001b[38;5;241m=\u001b[39m \u001b[43mscaled_dot_product_attention\u001b[49m\u001b[43m(\u001b[49m\n\u001b[1;32m   6279\u001b[0m \u001b[43m    \u001b[49m\u001b[43mq\u001b[49m\u001b[43m,\u001b[49m\u001b[43m \u001b[49m\u001b[43mk\u001b[49m\u001b[43m,\u001b[49m\u001b[43m \u001b[49m\u001b[43mv\u001b[49m\u001b[43m,\u001b[49m\u001b[43m \u001b[49m\u001b[43mattn_mask\u001b[49m\u001b[43m,\u001b[49m\u001b[43m \u001b[49m\u001b[43mdropout_p\u001b[49m\u001b[43m,\u001b[49m\u001b[43m \u001b[49m\u001b[43mis_causal\u001b[49m\n\u001b[1;32m   6280\u001b[0m \u001b[43m\u001b[49m\u001b[43m)\u001b[49m\n\u001b[1;32m   6281\u001b[0m attn_output \u001b[38;5;241m=\u001b[39m (\n\u001b[1;32m   6282\u001b[0m     attn_output\u001b[38;5;241m.\u001b[39mpermute(\u001b[38;5;241m2\u001b[39m, \u001b[38;5;241m0\u001b[39m, \u001b[38;5;241m1\u001b[39m, \u001b[38;5;241m3\u001b[39m)\u001b[38;5;241m.\u001b[39mcontiguous()\u001b[38;5;241m.\u001b[39mview(bsz \u001b[38;5;241m*\u001b[39m tgt_len, embed_dim)\n\u001b[1;32m   6283\u001b[0m )\n\u001b[1;32m   6285\u001b[0m attn_output \u001b[38;5;241m=\u001b[39m linear(attn_output, out_proj_weight, out_proj_bias)\n",
      "\u001b[0;31mKeyboardInterrupt\u001b[0m: "
     ]
    }
   ],
   "source": [
    "import train \n",
    "importlib.reload(train)\n",
    "\n",
    "# Create output directory to save model\n",
    "output_dir = \"./models/half_dataset\"\n",
    "os.makedirs(output_dir, exist_ok=True)\n",
    "\n",
    "# Train with Masked loss\n",
    "trained = train.train_model(\n",
    "    model, train_loader, val_loader,\n",
    "    epochs=1000, learning_rate=1e-4, output_dir=\"./models/test\",\n",
    "    device=\"cpu\", early_stopping=None, loss_type=\"masked\"\n",
    ")"
   ]
  },
  {
   "cell_type": "code",
   "execution_count": null,
   "metadata": {},
   "outputs": [
    {
     "name": "stdout",
     "output_type": "stream",
     "text": [
      "--------------------\n",
      "Epoch 1/50\n"
     ]
    },
    {
     "name": "stderr",
     "output_type": "stream",
     "text": [
      "100%|██████████| 2/2 [01:28<00:00, 44.05s/it]\n"
     ]
    },
    {
     "name": "stdout",
     "output_type": "stream",
     "text": [
      "Training Loss: 52.52687454\n",
      "Validation Loss: 49.61462402\n",
      "Average SDR: -4.55867434 dB\n",
      "Validation loss improved to 49.61462402, model saved.\n",
      "--------------------\n",
      "Epoch 2/50\n"
     ]
    },
    {
     "name": "stderr",
     "output_type": "stream",
     "text": [
      "100%|██████████| 2/2 [01:27<00:00, 43.51s/it]\n"
     ]
    },
    {
     "name": "stdout",
     "output_type": "stream",
     "text": [
      "Training Loss: 50.15989685\n",
      "Validation Loss: 53.16985321\n",
      "Average SDR: -9.15587711 dB\n",
      "No improvement in validation loss. Counter: 1/10\n",
      "--------------------\n",
      "Epoch 3/50\n"
     ]
    },
    {
     "name": "stderr",
     "output_type": "stream",
     "text": [
      "100%|██████████| 2/2 [01:26<00:00, 43.42s/it]\n"
     ]
    },
    {
     "name": "stdout",
     "output_type": "stream",
     "text": [
      "Training Loss: 53.36610794\n",
      "Validation Loss: 44.91479874\n",
      "Average SDR: -6.11486769 dB\n",
      "Validation loss improved to 44.91479874, model saved.\n",
      "--------------------\n",
      "Epoch 4/50\n"
     ]
    },
    {
     "name": "stderr",
     "output_type": "stream",
     "text": [
      "100%|██████████| 2/2 [01:48<00:00, 54.12s/it]\n"
     ]
    },
    {
     "name": "stdout",
     "output_type": "stream",
     "text": [
      "Training Loss: 51.09166527\n",
      "Validation Loss: 51.18777084\n",
      "Average SDR: -9.71933079 dB\n",
      "No improvement in validation loss. Counter: 1/10\n",
      "--------------------\n",
      "Epoch 5/50\n"
     ]
    },
    {
     "name": "stderr",
     "output_type": "stream",
     "text": [
      " 50%|█████     | 1/2 [00:49<00:49, 49.95s/it]"
     ]
    }
   ],
   "source": [
    "import train \n",
    "importlib.reload(train)\n",
    "\n",
    "# Create output directory to save model\n",
    "output_dir = \"./models/half_dataset\"\n",
    "os.makedirs(output_dir, exist_ok=True)\n",
    "\n",
    "# Train with Masked loss\n",
    "trained = train.train_model(\n",
    "    model, train_loader, val_loader,\n",
    "    epochs=50, learning_rate=1e-4, output_dir=\"./models/\",\n",
    "    device=\"cpu\", early_stopping=train.EarlyStopping(), loss_type=\"si_snr\"\n",
    ")"
   ]
  },
  {
   "cell_type": "code",
   "execution_count": null,
   "metadata": {},
   "outputs": [
    {
     "name": "stdout",
     "output_type": "stream",
     "text": [
      "--------------------\n",
      "Epoch 1/50\n"
     ]
    },
    {
     "name": "stderr",
     "output_type": "stream",
     "text": [
      "100%|██████████| 2/2 [01:16<00:00, 38.44s/it]\n"
     ]
    },
    {
     "name": "stdout",
     "output_type": "stream",
     "text": [
      "Training Loss: 51.11145973\n",
      "Validation Loss: 49.64332581\n",
      "Average SDR: -0.40868154 dB\n",
      "Validation loss improved to 0.40868154, model saved.\n",
      "--------------------\n",
      "Epoch 2/50\n"
     ]
    },
    {
     "name": "stderr",
     "output_type": "stream",
     "text": [
      "100%|██████████| 2/2 [01:19<00:00, 39.58s/it]\n"
     ]
    },
    {
     "name": "stdout",
     "output_type": "stream",
     "text": [
      "Training Loss: 50.30214500\n",
      "Validation Loss: 51.68160629\n",
      "Average SDR: -12.83787632 dB\n",
      "No improvement in validation loss. Counter: 1/10\n",
      "--------------------\n",
      "Epoch 3/50\n"
     ]
    },
    {
     "name": "stderr",
     "output_type": "stream",
     "text": [
      "100%|██████████| 2/2 [01:19<00:00, 39.70s/it]\n"
     ]
    },
    {
     "name": "stdout",
     "output_type": "stream",
     "text": [
      "Training Loss: 50.55461884\n",
      "Validation Loss: 49.87434006\n",
      "Average SDR: -9.55712700 dB\n",
      "No improvement in validation loss. Counter: 2/10\n",
      "--------------------\n",
      "Epoch 4/50\n"
     ]
    },
    {
     "name": "stderr",
     "output_type": "stream",
     "text": [
      "100%|██████████| 2/2 [01:26<00:00, 43.34s/it]\n"
     ]
    },
    {
     "name": "stdout",
     "output_type": "stream",
     "text": [
      "Training Loss: 49.77793884\n",
      "Validation Loss: 49.06096649\n",
      "Average SDR: -6.99217033 dB\n",
      "No improvement in validation loss. Counter: 3/10\n",
      "--------------------\n",
      "Epoch 5/50\n"
     ]
    },
    {
     "name": "stderr",
     "output_type": "stream",
     "text": [
      "100%|██████████| 2/2 [01:23<00:00, 41.58s/it]\n"
     ]
    },
    {
     "name": "stdout",
     "output_type": "stream",
     "text": [
      "Training Loss: 52.09741592\n",
      "Validation Loss: 52.17314911\n",
      "Average SDR: -5.01403284 dB\n",
      "No improvement in validation loss. Counter: 4/10\n",
      "--------------------\n",
      "Epoch 6/50\n"
     ]
    },
    {
     "name": "stderr",
     "output_type": "stream",
     "text": [
      "100%|██████████| 2/2 [01:24<00:00, 42.10s/it]\n"
     ]
    },
    {
     "name": "stdout",
     "output_type": "stream",
     "text": [
      "Training Loss: 51.65753746\n",
      "Validation Loss: 56.72332764\n",
      "Average SDR: -17.36362839 dB\n",
      "No improvement in validation loss. Counter: 5/10\n",
      "--------------------\n",
      "Epoch 7/50\n"
     ]
    },
    {
     "name": "stderr",
     "output_type": "stream",
     "text": [
      "100%|██████████| 2/2 [01:27<00:00, 43.62s/it]\n"
     ]
    },
    {
     "name": "stdout",
     "output_type": "stream",
     "text": [
      "Training Loss: 51.67884064\n",
      "Validation Loss: 52.63242340\n",
      "Average SDR: -8.87325668 dB\n",
      "No improvement in validation loss. Counter: 6/10\n",
      "--------------------\n",
      "Epoch 8/50\n"
     ]
    },
    {
     "name": "stderr",
     "output_type": "stream",
     "text": [
      "100%|██████████| 2/2 [01:28<00:00, 44.12s/it]\n"
     ]
    },
    {
     "name": "stdout",
     "output_type": "stream",
     "text": [
      "Training Loss: 51.97249413\n",
      "Validation Loss: 53.90426636\n",
      "Average SDR: -6.48446417 dB\n",
      "No improvement in validation loss. Counter: 7/10\n",
      "--------------------\n",
      "Epoch 9/50\n"
     ]
    },
    {
     "name": "stderr",
     "output_type": "stream",
     "text": [
      "100%|██████████| 2/2 [01:29<00:00, 44.71s/it]\n"
     ]
    },
    {
     "name": "stdout",
     "output_type": "stream",
     "text": [
      "Training Loss: 51.04137611\n",
      "Validation Loss: 55.67629242\n",
      "Average SDR: -13.43802261 dB\n",
      "No improvement in validation loss. Counter: 8/10\n",
      "--------------------\n",
      "Epoch 10/50\n"
     ]
    },
    {
     "name": "stderr",
     "output_type": "stream",
     "text": [
      "100%|██████████| 2/2 [01:31<00:00, 45.84s/it]\n"
     ]
    },
    {
     "name": "stdout",
     "output_type": "stream",
     "text": [
      "Training Loss: 47.23505402\n",
      "Validation Loss: 52.54701996\n",
      "Average SDR: -7.13948727 dB\n",
      "No improvement in validation loss. Counter: 9/10\n",
      "--------------------\n",
      "Epoch 11/50\n"
     ]
    },
    {
     "name": "stderr",
     "output_type": "stream",
     "text": [
      " 50%|█████     | 1/2 [00:57<00:57, 57.98s/it]\n"
     ]
    },
    {
     "ename": "KeyboardInterrupt",
     "evalue": "",
     "output_type": "error",
     "traceback": [
      "\u001b[0;31m---------------------------------------------------------------------------\u001b[0m",
      "\u001b[0;31mKeyboardInterrupt\u001b[0m                         Traceback (most recent call last)",
      "Cell \u001b[0;32mIn[13], line 9\u001b[0m\n\u001b[1;32m      6\u001b[0m os\u001b[38;5;241m.\u001b[39mmakedirs(output_dir, exist_ok\u001b[38;5;241m=\u001b[39m\u001b[38;5;28;01mTrue\u001b[39;00m)\n\u001b[1;32m      8\u001b[0m \u001b[38;5;66;03m# Train with Masked loss\u001b[39;00m\n\u001b[0;32m----> 9\u001b[0m trained \u001b[38;5;241m=\u001b[39m \u001b[43mtrain\u001b[49m\u001b[38;5;241;43m.\u001b[39;49m\u001b[43mtrain_model\u001b[49m\u001b[43m(\u001b[49m\n\u001b[1;32m     10\u001b[0m \u001b[43m    \u001b[49m\u001b[43mmodel\u001b[49m\u001b[43m,\u001b[49m\u001b[43m \u001b[49m\u001b[43mtrain_loader\u001b[49m\u001b[43m,\u001b[49m\u001b[43m \u001b[49m\u001b[43mval_loader\u001b[49m\u001b[43m,\u001b[49m\n\u001b[1;32m     11\u001b[0m \u001b[43m    \u001b[49m\u001b[43mepochs\u001b[49m\u001b[38;5;241;43m=\u001b[39;49m\u001b[38;5;241;43m50\u001b[39;49m\u001b[43m,\u001b[49m\u001b[43m \u001b[49m\u001b[43mlearning_rate\u001b[49m\u001b[38;5;241;43m=\u001b[39;49m\u001b[38;5;241;43m1e-4\u001b[39;49m\u001b[43m,\u001b[49m\u001b[43m \u001b[49m\u001b[43moutput_dir\u001b[49m\u001b[38;5;241;43m=\u001b[39;49m\u001b[38;5;124;43m\"\u001b[39;49m\u001b[38;5;124;43m./models/\u001b[39;49m\u001b[38;5;124;43m\"\u001b[39;49m\u001b[43m,\u001b[49m\n\u001b[1;32m     12\u001b[0m \u001b[43m    \u001b[49m\u001b[43mdevice\u001b[49m\u001b[38;5;241;43m=\u001b[39;49m\u001b[38;5;124;43m\"\u001b[39;49m\u001b[38;5;124;43mcpu\u001b[39;49m\u001b[38;5;124;43m\"\u001b[39;49m\u001b[43m,\u001b[49m\u001b[43m \u001b[49m\u001b[43mearly_stopping\u001b[49m\u001b[38;5;241;43m=\u001b[39;49m\u001b[43mtrain\u001b[49m\u001b[38;5;241;43m.\u001b[39;49m\u001b[43mEarlyStopping\u001b[49m\u001b[43m(\u001b[49m\u001b[43m)\u001b[49m\u001b[43m,\u001b[49m\u001b[43m \u001b[49m\u001b[43mloss_type\u001b[49m\u001b[38;5;241;43m=\u001b[39;49m\u001b[38;5;124;43m\"\u001b[39;49m\u001b[38;5;124;43msi_snr\u001b[39;49m\u001b[38;5;124;43m\"\u001b[39;49m\n\u001b[1;32m     13\u001b[0m \u001b[43m)\u001b[49m\n",
      "File \u001b[0;32m~/coding/DL4CV/Final/Cinematic_sound_demixer/source/train.py:115\u001b[0m, in \u001b[0;36mtrain_model\u001b[0;34m(model, train_loader, val_loader, epochs, learning_rate, output_dir, device, early_stopping, loss_type)\u001b[0m\n\u001b[1;32m      0\u001b[0m <Error retrieving source code with stack_data see ipython/ipython#13598>\n",
      "File \u001b[0;32m~/.pyenv/shims/versions/dl4cv_final/lib/python3.12/site-packages/torch/nn/modules/module.py:1736\u001b[0m, in \u001b[0;36mModule._wrapped_call_impl\u001b[0;34m(self, *args, **kwargs)\u001b[0m\n\u001b[1;32m   1734\u001b[0m     \u001b[38;5;28;01mreturn\u001b[39;00m \u001b[38;5;28mself\u001b[39m\u001b[38;5;241m.\u001b[39m_compiled_call_impl(\u001b[38;5;241m*\u001b[39margs, \u001b[38;5;241m*\u001b[39m\u001b[38;5;241m*\u001b[39mkwargs)  \u001b[38;5;66;03m# type: ignore[misc]\u001b[39;00m\n\u001b[1;32m   1735\u001b[0m \u001b[38;5;28;01melse\u001b[39;00m:\n\u001b[0;32m-> 1736\u001b[0m     \u001b[38;5;28;01mreturn\u001b[39;00m \u001b[38;5;28;43mself\u001b[39;49m\u001b[38;5;241;43m.\u001b[39;49m\u001b[43m_call_impl\u001b[49m\u001b[43m(\u001b[49m\u001b[38;5;241;43m*\u001b[39;49m\u001b[43margs\u001b[49m\u001b[43m,\u001b[49m\u001b[43m \u001b[49m\u001b[38;5;241;43m*\u001b[39;49m\u001b[38;5;241;43m*\u001b[39;49m\u001b[43mkwargs\u001b[49m\u001b[43m)\u001b[49m\n",
      "File \u001b[0;32m~/.pyenv/shims/versions/dl4cv_final/lib/python3.12/site-packages/torch/nn/modules/module.py:1747\u001b[0m, in \u001b[0;36mModule._call_impl\u001b[0;34m(self, *args, **kwargs)\u001b[0m\n\u001b[1;32m   1742\u001b[0m \u001b[38;5;66;03m# If we don't have any hooks, we want to skip the rest of the logic in\u001b[39;00m\n\u001b[1;32m   1743\u001b[0m \u001b[38;5;66;03m# this function, and just call forward.\u001b[39;00m\n\u001b[1;32m   1744\u001b[0m \u001b[38;5;28;01mif\u001b[39;00m \u001b[38;5;129;01mnot\u001b[39;00m (\u001b[38;5;28mself\u001b[39m\u001b[38;5;241m.\u001b[39m_backward_hooks \u001b[38;5;129;01mor\u001b[39;00m \u001b[38;5;28mself\u001b[39m\u001b[38;5;241m.\u001b[39m_backward_pre_hooks \u001b[38;5;129;01mor\u001b[39;00m \u001b[38;5;28mself\u001b[39m\u001b[38;5;241m.\u001b[39m_forward_hooks \u001b[38;5;129;01mor\u001b[39;00m \u001b[38;5;28mself\u001b[39m\u001b[38;5;241m.\u001b[39m_forward_pre_hooks\n\u001b[1;32m   1745\u001b[0m         \u001b[38;5;129;01mor\u001b[39;00m _global_backward_pre_hooks \u001b[38;5;129;01mor\u001b[39;00m _global_backward_hooks\n\u001b[1;32m   1746\u001b[0m         \u001b[38;5;129;01mor\u001b[39;00m _global_forward_hooks \u001b[38;5;129;01mor\u001b[39;00m _global_forward_pre_hooks):\n\u001b[0;32m-> 1747\u001b[0m     \u001b[38;5;28;01mreturn\u001b[39;00m \u001b[43mforward_call\u001b[49m\u001b[43m(\u001b[49m\u001b[38;5;241;43m*\u001b[39;49m\u001b[43margs\u001b[49m\u001b[43m,\u001b[49m\u001b[43m \u001b[49m\u001b[38;5;241;43m*\u001b[39;49m\u001b[38;5;241;43m*\u001b[39;49m\u001b[43mkwargs\u001b[49m\u001b[43m)\u001b[49m\n\u001b[1;32m   1749\u001b[0m result \u001b[38;5;241m=\u001b[39m \u001b[38;5;28;01mNone\u001b[39;00m\n\u001b[1;32m   1750\u001b[0m called_always_called_hooks \u001b[38;5;241m=\u001b[39m \u001b[38;5;28mset\u001b[39m()\n",
      "File \u001b[0;32m~/.pyenv/shims/versions/dl4cv_final/lib/python3.12/site-packages/demucs/htdemucs.py:603\u001b[0m, in \u001b[0;36mHTDemucs.forward\u001b[0;34m(self, mix)\u001b[0m\n\u001b[1;32m    601\u001b[0m \u001b[38;5;28;01mfor\u001b[39;00m idx, decode \u001b[38;5;129;01min\u001b[39;00m \u001b[38;5;28menumerate\u001b[39m(\u001b[38;5;28mself\u001b[39m\u001b[38;5;241m.\u001b[39mdecoder):\n\u001b[1;32m    602\u001b[0m     skip \u001b[38;5;241m=\u001b[39m saved\u001b[38;5;241m.\u001b[39mpop(\u001b[38;5;241m-\u001b[39m\u001b[38;5;241m1\u001b[39m)\n\u001b[0;32m--> 603\u001b[0m     x, pre \u001b[38;5;241m=\u001b[39m \u001b[43mdecode\u001b[49m\u001b[43m(\u001b[49m\u001b[43mx\u001b[49m\u001b[43m,\u001b[49m\u001b[43m \u001b[49m\u001b[43mskip\u001b[49m\u001b[43m,\u001b[49m\u001b[43m \u001b[49m\u001b[43mlengths\u001b[49m\u001b[38;5;241;43m.\u001b[39;49m\u001b[43mpop\u001b[49m\u001b[43m(\u001b[49m\u001b[38;5;241;43m-\u001b[39;49m\u001b[38;5;241;43m1\u001b[39;49m\u001b[43m)\u001b[49m\u001b[43m)\u001b[49m\n\u001b[1;32m    604\u001b[0m     \u001b[38;5;66;03m# `pre` contains the output just before final transposed convolution,\u001b[39;00m\n\u001b[1;32m    605\u001b[0m     \u001b[38;5;66;03m# which is used when the freq. and time branch separate.\u001b[39;00m\n\u001b[1;32m    607\u001b[0m     offset \u001b[38;5;241m=\u001b[39m \u001b[38;5;28mself\u001b[39m\u001b[38;5;241m.\u001b[39mdepth \u001b[38;5;241m-\u001b[39m \u001b[38;5;28mlen\u001b[39m(\u001b[38;5;28mself\u001b[39m\u001b[38;5;241m.\u001b[39mtdecoder)\n",
      "File \u001b[0;32m~/.pyenv/shims/versions/dl4cv_final/lib/python3.12/site-packages/torch/nn/modules/module.py:1736\u001b[0m, in \u001b[0;36mModule._wrapped_call_impl\u001b[0;34m(self, *args, **kwargs)\u001b[0m\n\u001b[1;32m   1734\u001b[0m     \u001b[38;5;28;01mreturn\u001b[39;00m \u001b[38;5;28mself\u001b[39m\u001b[38;5;241m.\u001b[39m_compiled_call_impl(\u001b[38;5;241m*\u001b[39margs, \u001b[38;5;241m*\u001b[39m\u001b[38;5;241m*\u001b[39mkwargs)  \u001b[38;5;66;03m# type: ignore[misc]\u001b[39;00m\n\u001b[1;32m   1735\u001b[0m \u001b[38;5;28;01melse\u001b[39;00m:\n\u001b[0;32m-> 1736\u001b[0m     \u001b[38;5;28;01mreturn\u001b[39;00m \u001b[38;5;28;43mself\u001b[39;49m\u001b[38;5;241;43m.\u001b[39;49m\u001b[43m_call_impl\u001b[49m\u001b[43m(\u001b[49m\u001b[38;5;241;43m*\u001b[39;49m\u001b[43margs\u001b[49m\u001b[43m,\u001b[49m\u001b[43m \u001b[49m\u001b[38;5;241;43m*\u001b[39;49m\u001b[38;5;241;43m*\u001b[39;49m\u001b[43mkwargs\u001b[49m\u001b[43m)\u001b[49m\n",
      "File \u001b[0;32m~/.pyenv/shims/versions/dl4cv_final/lib/python3.12/site-packages/torch/nn/modules/module.py:1747\u001b[0m, in \u001b[0;36mModule._call_impl\u001b[0;34m(self, *args, **kwargs)\u001b[0m\n\u001b[1;32m   1742\u001b[0m \u001b[38;5;66;03m# If we don't have any hooks, we want to skip the rest of the logic in\u001b[39;00m\n\u001b[1;32m   1743\u001b[0m \u001b[38;5;66;03m# this function, and just call forward.\u001b[39;00m\n\u001b[1;32m   1744\u001b[0m \u001b[38;5;28;01mif\u001b[39;00m \u001b[38;5;129;01mnot\u001b[39;00m (\u001b[38;5;28mself\u001b[39m\u001b[38;5;241m.\u001b[39m_backward_hooks \u001b[38;5;129;01mor\u001b[39;00m \u001b[38;5;28mself\u001b[39m\u001b[38;5;241m.\u001b[39m_backward_pre_hooks \u001b[38;5;129;01mor\u001b[39;00m \u001b[38;5;28mself\u001b[39m\u001b[38;5;241m.\u001b[39m_forward_hooks \u001b[38;5;129;01mor\u001b[39;00m \u001b[38;5;28mself\u001b[39m\u001b[38;5;241m.\u001b[39m_forward_pre_hooks\n\u001b[1;32m   1745\u001b[0m         \u001b[38;5;129;01mor\u001b[39;00m _global_backward_pre_hooks \u001b[38;5;129;01mor\u001b[39;00m _global_backward_hooks\n\u001b[1;32m   1746\u001b[0m         \u001b[38;5;129;01mor\u001b[39;00m _global_forward_hooks \u001b[38;5;129;01mor\u001b[39;00m _global_forward_pre_hooks):\n\u001b[0;32m-> 1747\u001b[0m     \u001b[38;5;28;01mreturn\u001b[39;00m \u001b[43mforward_call\u001b[49m\u001b[43m(\u001b[49m\u001b[38;5;241;43m*\u001b[39;49m\u001b[43margs\u001b[49m\u001b[43m,\u001b[49m\u001b[43m \u001b[49m\u001b[38;5;241;43m*\u001b[39;49m\u001b[38;5;241;43m*\u001b[39;49m\u001b[43mkwargs\u001b[49m\u001b[43m)\u001b[49m\n\u001b[1;32m   1749\u001b[0m result \u001b[38;5;241m=\u001b[39m \u001b[38;5;28;01mNone\u001b[39;00m\n\u001b[1;32m   1750\u001b[0m called_always_called_hooks \u001b[38;5;241m=\u001b[39m \u001b[38;5;28mset\u001b[39m()\n",
      "File \u001b[0;32m~/.pyenv/shims/versions/dl4cv_final/lib/python3.12/site-packages/demucs/hdemucs.py:320\u001b[0m, in \u001b[0;36mHDecLayer.forward\u001b[0;34m(self, x, skip, length)\u001b[0m\n\u001b[1;32m    318\u001b[0m     B, C, Fr, T \u001b[38;5;241m=\u001b[39m y\u001b[38;5;241m.\u001b[39mshape\n\u001b[1;32m    319\u001b[0m     y \u001b[38;5;241m=\u001b[39m y\u001b[38;5;241m.\u001b[39mpermute(\u001b[38;5;241m0\u001b[39m, \u001b[38;5;241m2\u001b[39m, \u001b[38;5;241m1\u001b[39m, \u001b[38;5;241m3\u001b[39m)\u001b[38;5;241m.\u001b[39mreshape(\u001b[38;5;241m-\u001b[39m\u001b[38;5;241m1\u001b[39m, C, T)\n\u001b[0;32m--> 320\u001b[0m y \u001b[38;5;241m=\u001b[39m \u001b[38;5;28;43mself\u001b[39;49m\u001b[38;5;241;43m.\u001b[39;49m\u001b[43mdconv\u001b[49m\u001b[43m(\u001b[49m\u001b[43my\u001b[49m\u001b[43m)\u001b[49m\n\u001b[1;32m    321\u001b[0m \u001b[38;5;28;01mif\u001b[39;00m \u001b[38;5;28mself\u001b[39m\u001b[38;5;241m.\u001b[39mfreq:\n\u001b[1;32m    322\u001b[0m     y \u001b[38;5;241m=\u001b[39m y\u001b[38;5;241m.\u001b[39mview(B, Fr, C, T)\u001b[38;5;241m.\u001b[39mpermute(\u001b[38;5;241m0\u001b[39m, \u001b[38;5;241m2\u001b[39m, \u001b[38;5;241m1\u001b[39m, \u001b[38;5;241m3\u001b[39m)\n",
      "File \u001b[0;32m~/.pyenv/shims/versions/dl4cv_final/lib/python3.12/site-packages/torch/nn/modules/module.py:1736\u001b[0m, in \u001b[0;36mModule._wrapped_call_impl\u001b[0;34m(self, *args, **kwargs)\u001b[0m\n\u001b[1;32m   1734\u001b[0m     \u001b[38;5;28;01mreturn\u001b[39;00m \u001b[38;5;28mself\u001b[39m\u001b[38;5;241m.\u001b[39m_compiled_call_impl(\u001b[38;5;241m*\u001b[39margs, \u001b[38;5;241m*\u001b[39m\u001b[38;5;241m*\u001b[39mkwargs)  \u001b[38;5;66;03m# type: ignore[misc]\u001b[39;00m\n\u001b[1;32m   1735\u001b[0m \u001b[38;5;28;01melse\u001b[39;00m:\n\u001b[0;32m-> 1736\u001b[0m     \u001b[38;5;28;01mreturn\u001b[39;00m \u001b[38;5;28;43mself\u001b[39;49m\u001b[38;5;241;43m.\u001b[39;49m\u001b[43m_call_impl\u001b[49m\u001b[43m(\u001b[49m\u001b[38;5;241;43m*\u001b[39;49m\u001b[43margs\u001b[49m\u001b[43m,\u001b[49m\u001b[43m \u001b[49m\u001b[38;5;241;43m*\u001b[39;49m\u001b[38;5;241;43m*\u001b[39;49m\u001b[43mkwargs\u001b[49m\u001b[43m)\u001b[49m\n",
      "File \u001b[0;32m~/.pyenv/shims/versions/dl4cv_final/lib/python3.12/site-packages/torch/nn/modules/module.py:1747\u001b[0m, in \u001b[0;36mModule._call_impl\u001b[0;34m(self, *args, **kwargs)\u001b[0m\n\u001b[1;32m   1742\u001b[0m \u001b[38;5;66;03m# If we don't have any hooks, we want to skip the rest of the logic in\u001b[39;00m\n\u001b[1;32m   1743\u001b[0m \u001b[38;5;66;03m# this function, and just call forward.\u001b[39;00m\n\u001b[1;32m   1744\u001b[0m \u001b[38;5;28;01mif\u001b[39;00m \u001b[38;5;129;01mnot\u001b[39;00m (\u001b[38;5;28mself\u001b[39m\u001b[38;5;241m.\u001b[39m_backward_hooks \u001b[38;5;129;01mor\u001b[39;00m \u001b[38;5;28mself\u001b[39m\u001b[38;5;241m.\u001b[39m_backward_pre_hooks \u001b[38;5;129;01mor\u001b[39;00m \u001b[38;5;28mself\u001b[39m\u001b[38;5;241m.\u001b[39m_forward_hooks \u001b[38;5;129;01mor\u001b[39;00m \u001b[38;5;28mself\u001b[39m\u001b[38;5;241m.\u001b[39m_forward_pre_hooks\n\u001b[1;32m   1745\u001b[0m         \u001b[38;5;129;01mor\u001b[39;00m _global_backward_pre_hooks \u001b[38;5;129;01mor\u001b[39;00m _global_backward_hooks\n\u001b[1;32m   1746\u001b[0m         \u001b[38;5;129;01mor\u001b[39;00m _global_forward_hooks \u001b[38;5;129;01mor\u001b[39;00m _global_forward_pre_hooks):\n\u001b[0;32m-> 1747\u001b[0m     \u001b[38;5;28;01mreturn\u001b[39;00m \u001b[43mforward_call\u001b[49m\u001b[43m(\u001b[49m\u001b[38;5;241;43m*\u001b[39;49m\u001b[43margs\u001b[49m\u001b[43m,\u001b[49m\u001b[43m \u001b[49m\u001b[38;5;241;43m*\u001b[39;49m\u001b[38;5;241;43m*\u001b[39;49m\u001b[43mkwargs\u001b[49m\u001b[43m)\u001b[49m\n\u001b[1;32m   1749\u001b[0m result \u001b[38;5;241m=\u001b[39m \u001b[38;5;28;01mNone\u001b[39;00m\n\u001b[1;32m   1750\u001b[0m called_always_called_hooks \u001b[38;5;241m=\u001b[39m \u001b[38;5;28mset\u001b[39m()\n",
      "File \u001b[0;32m~/.pyenv/shims/versions/dl4cv_final/lib/python3.12/site-packages/demucs/demucs.py:153\u001b[0m, in \u001b[0;36mDConv.forward\u001b[0;34m(self, x)\u001b[0m\n\u001b[1;32m    151\u001b[0m \u001b[38;5;28;01mdef\u001b[39;00m \u001b[38;5;21mforward\u001b[39m(\u001b[38;5;28mself\u001b[39m, x):\n\u001b[1;32m    152\u001b[0m     \u001b[38;5;28;01mfor\u001b[39;00m layer \u001b[38;5;129;01min\u001b[39;00m \u001b[38;5;28mself\u001b[39m\u001b[38;5;241m.\u001b[39mlayers:\n\u001b[0;32m--> 153\u001b[0m         x \u001b[38;5;241m=\u001b[39m x \u001b[38;5;241m+\u001b[39m \u001b[43mlayer\u001b[49m\u001b[43m(\u001b[49m\u001b[43mx\u001b[49m\u001b[43m)\u001b[49m\n\u001b[1;32m    154\u001b[0m     \u001b[38;5;28;01mreturn\u001b[39;00m x\n",
      "File \u001b[0;32m~/.pyenv/shims/versions/dl4cv_final/lib/python3.12/site-packages/torch/nn/modules/module.py:1736\u001b[0m, in \u001b[0;36mModule._wrapped_call_impl\u001b[0;34m(self, *args, **kwargs)\u001b[0m\n\u001b[1;32m   1734\u001b[0m     \u001b[38;5;28;01mreturn\u001b[39;00m \u001b[38;5;28mself\u001b[39m\u001b[38;5;241m.\u001b[39m_compiled_call_impl(\u001b[38;5;241m*\u001b[39margs, \u001b[38;5;241m*\u001b[39m\u001b[38;5;241m*\u001b[39mkwargs)  \u001b[38;5;66;03m# type: ignore[misc]\u001b[39;00m\n\u001b[1;32m   1735\u001b[0m \u001b[38;5;28;01melse\u001b[39;00m:\n\u001b[0;32m-> 1736\u001b[0m     \u001b[38;5;28;01mreturn\u001b[39;00m \u001b[38;5;28;43mself\u001b[39;49m\u001b[38;5;241;43m.\u001b[39;49m\u001b[43m_call_impl\u001b[49m\u001b[43m(\u001b[49m\u001b[38;5;241;43m*\u001b[39;49m\u001b[43margs\u001b[49m\u001b[43m,\u001b[49m\u001b[43m \u001b[49m\u001b[38;5;241;43m*\u001b[39;49m\u001b[38;5;241;43m*\u001b[39;49m\u001b[43mkwargs\u001b[49m\u001b[43m)\u001b[49m\n",
      "File \u001b[0;32m~/.pyenv/shims/versions/dl4cv_final/lib/python3.12/site-packages/torch/nn/modules/module.py:1747\u001b[0m, in \u001b[0;36mModule._call_impl\u001b[0;34m(self, *args, **kwargs)\u001b[0m\n\u001b[1;32m   1742\u001b[0m \u001b[38;5;66;03m# If we don't have any hooks, we want to skip the rest of the logic in\u001b[39;00m\n\u001b[1;32m   1743\u001b[0m \u001b[38;5;66;03m# this function, and just call forward.\u001b[39;00m\n\u001b[1;32m   1744\u001b[0m \u001b[38;5;28;01mif\u001b[39;00m \u001b[38;5;129;01mnot\u001b[39;00m (\u001b[38;5;28mself\u001b[39m\u001b[38;5;241m.\u001b[39m_backward_hooks \u001b[38;5;129;01mor\u001b[39;00m \u001b[38;5;28mself\u001b[39m\u001b[38;5;241m.\u001b[39m_backward_pre_hooks \u001b[38;5;129;01mor\u001b[39;00m \u001b[38;5;28mself\u001b[39m\u001b[38;5;241m.\u001b[39m_forward_hooks \u001b[38;5;129;01mor\u001b[39;00m \u001b[38;5;28mself\u001b[39m\u001b[38;5;241m.\u001b[39m_forward_pre_hooks\n\u001b[1;32m   1745\u001b[0m         \u001b[38;5;129;01mor\u001b[39;00m _global_backward_pre_hooks \u001b[38;5;129;01mor\u001b[39;00m _global_backward_hooks\n\u001b[1;32m   1746\u001b[0m         \u001b[38;5;129;01mor\u001b[39;00m _global_forward_hooks \u001b[38;5;129;01mor\u001b[39;00m _global_forward_pre_hooks):\n\u001b[0;32m-> 1747\u001b[0m     \u001b[38;5;28;01mreturn\u001b[39;00m \u001b[43mforward_call\u001b[49m\u001b[43m(\u001b[49m\u001b[38;5;241;43m*\u001b[39;49m\u001b[43margs\u001b[49m\u001b[43m,\u001b[49m\u001b[43m \u001b[49m\u001b[38;5;241;43m*\u001b[39;49m\u001b[38;5;241;43m*\u001b[39;49m\u001b[43mkwargs\u001b[49m\u001b[43m)\u001b[49m\n\u001b[1;32m   1749\u001b[0m result \u001b[38;5;241m=\u001b[39m \u001b[38;5;28;01mNone\u001b[39;00m\n\u001b[1;32m   1750\u001b[0m called_always_called_hooks \u001b[38;5;241m=\u001b[39m \u001b[38;5;28mset\u001b[39m()\n",
      "File \u001b[0;32m~/.pyenv/shims/versions/dl4cv_final/lib/python3.12/site-packages/torch/nn/modules/container.py:250\u001b[0m, in \u001b[0;36mSequential.forward\u001b[0;34m(self, input)\u001b[0m\n\u001b[1;32m    248\u001b[0m \u001b[38;5;28;01mdef\u001b[39;00m \u001b[38;5;21mforward\u001b[39m(\u001b[38;5;28mself\u001b[39m, \u001b[38;5;28minput\u001b[39m):\n\u001b[1;32m    249\u001b[0m     \u001b[38;5;28;01mfor\u001b[39;00m module \u001b[38;5;129;01min\u001b[39;00m \u001b[38;5;28mself\u001b[39m:\n\u001b[0;32m--> 250\u001b[0m         \u001b[38;5;28minput\u001b[39m \u001b[38;5;241m=\u001b[39m \u001b[43mmodule\u001b[49m\u001b[43m(\u001b[49m\u001b[38;5;28;43minput\u001b[39;49m\u001b[43m)\u001b[49m\n\u001b[1;32m    251\u001b[0m     \u001b[38;5;28;01mreturn\u001b[39;00m \u001b[38;5;28minput\u001b[39m\n",
      "File \u001b[0;32m~/.pyenv/shims/versions/dl4cv_final/lib/python3.12/site-packages/torch/nn/modules/module.py:1736\u001b[0m, in \u001b[0;36mModule._wrapped_call_impl\u001b[0;34m(self, *args, **kwargs)\u001b[0m\n\u001b[1;32m   1734\u001b[0m     \u001b[38;5;28;01mreturn\u001b[39;00m \u001b[38;5;28mself\u001b[39m\u001b[38;5;241m.\u001b[39m_compiled_call_impl(\u001b[38;5;241m*\u001b[39margs, \u001b[38;5;241m*\u001b[39m\u001b[38;5;241m*\u001b[39mkwargs)  \u001b[38;5;66;03m# type: ignore[misc]\u001b[39;00m\n\u001b[1;32m   1735\u001b[0m \u001b[38;5;28;01melse\u001b[39;00m:\n\u001b[0;32m-> 1736\u001b[0m     \u001b[38;5;28;01mreturn\u001b[39;00m \u001b[38;5;28;43mself\u001b[39;49m\u001b[38;5;241;43m.\u001b[39;49m\u001b[43m_call_impl\u001b[49m\u001b[43m(\u001b[49m\u001b[38;5;241;43m*\u001b[39;49m\u001b[43margs\u001b[49m\u001b[43m,\u001b[49m\u001b[43m \u001b[49m\u001b[38;5;241;43m*\u001b[39;49m\u001b[38;5;241;43m*\u001b[39;49m\u001b[43mkwargs\u001b[49m\u001b[43m)\u001b[49m\n",
      "File \u001b[0;32m~/.pyenv/shims/versions/dl4cv_final/lib/python3.12/site-packages/torch/nn/modules/module.py:1747\u001b[0m, in \u001b[0;36mModule._call_impl\u001b[0;34m(self, *args, **kwargs)\u001b[0m\n\u001b[1;32m   1742\u001b[0m \u001b[38;5;66;03m# If we don't have any hooks, we want to skip the rest of the logic in\u001b[39;00m\n\u001b[1;32m   1743\u001b[0m \u001b[38;5;66;03m# this function, and just call forward.\u001b[39;00m\n\u001b[1;32m   1744\u001b[0m \u001b[38;5;28;01mif\u001b[39;00m \u001b[38;5;129;01mnot\u001b[39;00m (\u001b[38;5;28mself\u001b[39m\u001b[38;5;241m.\u001b[39m_backward_hooks \u001b[38;5;129;01mor\u001b[39;00m \u001b[38;5;28mself\u001b[39m\u001b[38;5;241m.\u001b[39m_backward_pre_hooks \u001b[38;5;129;01mor\u001b[39;00m \u001b[38;5;28mself\u001b[39m\u001b[38;5;241m.\u001b[39m_forward_hooks \u001b[38;5;129;01mor\u001b[39;00m \u001b[38;5;28mself\u001b[39m\u001b[38;5;241m.\u001b[39m_forward_pre_hooks\n\u001b[1;32m   1745\u001b[0m         \u001b[38;5;129;01mor\u001b[39;00m _global_backward_pre_hooks \u001b[38;5;129;01mor\u001b[39;00m _global_backward_hooks\n\u001b[1;32m   1746\u001b[0m         \u001b[38;5;129;01mor\u001b[39;00m _global_forward_hooks \u001b[38;5;129;01mor\u001b[39;00m _global_forward_pre_hooks):\n\u001b[0;32m-> 1747\u001b[0m     \u001b[38;5;28;01mreturn\u001b[39;00m \u001b[43mforward_call\u001b[49m\u001b[43m(\u001b[49m\u001b[38;5;241;43m*\u001b[39;49m\u001b[43margs\u001b[49m\u001b[43m,\u001b[49m\u001b[43m \u001b[49m\u001b[38;5;241;43m*\u001b[39;49m\u001b[38;5;241;43m*\u001b[39;49m\u001b[43mkwargs\u001b[49m\u001b[43m)\u001b[49m\n\u001b[1;32m   1749\u001b[0m result \u001b[38;5;241m=\u001b[39m \u001b[38;5;28;01mNone\u001b[39;00m\n\u001b[1;32m   1750\u001b[0m called_always_called_hooks \u001b[38;5;241m=\u001b[39m \u001b[38;5;28mset\u001b[39m()\n",
      "File \u001b[0;32m~/.pyenv/shims/versions/dl4cv_final/lib/python3.12/site-packages/torch/nn/modules/conv.py:375\u001b[0m, in \u001b[0;36mConv1d.forward\u001b[0;34m(self, input)\u001b[0m\n\u001b[1;32m    374\u001b[0m \u001b[38;5;28;01mdef\u001b[39;00m \u001b[38;5;21mforward\u001b[39m(\u001b[38;5;28mself\u001b[39m, \u001b[38;5;28minput\u001b[39m: Tensor) \u001b[38;5;241m-\u001b[39m\u001b[38;5;241m>\u001b[39m Tensor:\n\u001b[0;32m--> 375\u001b[0m     \u001b[38;5;28;01mreturn\u001b[39;00m \u001b[38;5;28;43mself\u001b[39;49m\u001b[38;5;241;43m.\u001b[39;49m\u001b[43m_conv_forward\u001b[49m\u001b[43m(\u001b[49m\u001b[38;5;28;43minput\u001b[39;49m\u001b[43m,\u001b[49m\u001b[43m \u001b[49m\u001b[38;5;28;43mself\u001b[39;49m\u001b[38;5;241;43m.\u001b[39;49m\u001b[43mweight\u001b[49m\u001b[43m,\u001b[49m\u001b[43m \u001b[49m\u001b[38;5;28;43mself\u001b[39;49m\u001b[38;5;241;43m.\u001b[39;49m\u001b[43mbias\u001b[49m\u001b[43m)\u001b[49m\n",
      "File \u001b[0;32m~/.pyenv/shims/versions/dl4cv_final/lib/python3.12/site-packages/torch/nn/modules/conv.py:370\u001b[0m, in \u001b[0;36mConv1d._conv_forward\u001b[0;34m(self, input, weight, bias)\u001b[0m\n\u001b[1;32m    358\u001b[0m \u001b[38;5;28;01mif\u001b[39;00m \u001b[38;5;28mself\u001b[39m\u001b[38;5;241m.\u001b[39mpadding_mode \u001b[38;5;241m!=\u001b[39m \u001b[38;5;124m\"\u001b[39m\u001b[38;5;124mzeros\u001b[39m\u001b[38;5;124m\"\u001b[39m:\n\u001b[1;32m    359\u001b[0m     \u001b[38;5;28;01mreturn\u001b[39;00m F\u001b[38;5;241m.\u001b[39mconv1d(\n\u001b[1;32m    360\u001b[0m         F\u001b[38;5;241m.\u001b[39mpad(\n\u001b[1;32m    361\u001b[0m             \u001b[38;5;28minput\u001b[39m, \u001b[38;5;28mself\u001b[39m\u001b[38;5;241m.\u001b[39m_reversed_padding_repeated_twice, mode\u001b[38;5;241m=\u001b[39m\u001b[38;5;28mself\u001b[39m\u001b[38;5;241m.\u001b[39mpadding_mode\n\u001b[0;32m   (...)\u001b[0m\n\u001b[1;32m    368\u001b[0m         \u001b[38;5;28mself\u001b[39m\u001b[38;5;241m.\u001b[39mgroups,\n\u001b[1;32m    369\u001b[0m     )\n\u001b[0;32m--> 370\u001b[0m \u001b[38;5;28;01mreturn\u001b[39;00m \u001b[43mF\u001b[49m\u001b[38;5;241;43m.\u001b[39;49m\u001b[43mconv1d\u001b[49m\u001b[43m(\u001b[49m\n\u001b[1;32m    371\u001b[0m \u001b[43m    \u001b[49m\u001b[38;5;28;43minput\u001b[39;49m\u001b[43m,\u001b[49m\u001b[43m \u001b[49m\u001b[43mweight\u001b[49m\u001b[43m,\u001b[49m\u001b[43m \u001b[49m\u001b[43mbias\u001b[49m\u001b[43m,\u001b[49m\u001b[43m \u001b[49m\u001b[38;5;28;43mself\u001b[39;49m\u001b[38;5;241;43m.\u001b[39;49m\u001b[43mstride\u001b[49m\u001b[43m,\u001b[49m\u001b[43m \u001b[49m\u001b[38;5;28;43mself\u001b[39;49m\u001b[38;5;241;43m.\u001b[39;49m\u001b[43mpadding\u001b[49m\u001b[43m,\u001b[49m\u001b[43m \u001b[49m\u001b[38;5;28;43mself\u001b[39;49m\u001b[38;5;241;43m.\u001b[39;49m\u001b[43mdilation\u001b[49m\u001b[43m,\u001b[49m\u001b[43m \u001b[49m\u001b[38;5;28;43mself\u001b[39;49m\u001b[38;5;241;43m.\u001b[39;49m\u001b[43mgroups\u001b[49m\n\u001b[1;32m    372\u001b[0m \u001b[43m\u001b[49m\u001b[43m)\u001b[49m\n",
      "\u001b[0;31mKeyboardInterrupt\u001b[0m: "
     ]
    }
   ],
   "source": [
    "import train \n",
    "importlib.reload(train)\n",
    "\n",
    "# Create output directory to save model\n",
    "output_dir = \"./models/half_dataset\"\n",
    "os.makedirs(output_dir, exist_ok=True)\n",
    "\n",
    "# Train with Masked loss\n",
    "trained = train.train_model(\n",
    "    model, train_loader, val_loader,\n",
    "    epochs=50, learning_rate=1e-4, output_dir=\"./models/\",\n",
    "    device=\"cpu\", early_stopping=train.EarlyStopping(), loss_type=\"si_snr\"\n",
    ")"
   ]
  },
  {
   "cell_type": "code",
   "execution_count": null,
   "metadata": {},
   "outputs": [
    {
     "name": "stdout",
     "output_type": "stream",
     "text": [
      "--------------------\n",
      "Epoch 1/50\n"
     ]
    },
    {
     "name": "stderr",
     "output_type": "stream",
     "text": [
      "100%|██████████| 2/2 [01:14<00:00, 37.07s/it]\n"
     ]
    },
    {
     "name": "stdout",
     "output_type": "stream",
     "text": [
      "Training Loss: 0.00044986\n",
      "Validation Loss: 0.00037341\n",
      "Average SDR: -8.92233753 dB\n",
      "Validation loss improved to 0.00037341, model saved.\n",
      "--------------------\n",
      "Epoch 2/50\n"
     ]
    },
    {
     "name": "stderr",
     "output_type": "stream",
     "text": [
      "100%|██████████| 2/2 [01:13<00:00, 36.63s/it]\n"
     ]
    },
    {
     "name": "stdout",
     "output_type": "stream",
     "text": [
      "Training Loss: 0.00046402\n",
      "Validation Loss: 0.00053507\n",
      "Average SDR: -5.22554255 dB\n",
      "No improvement in validation loss. Counter: 1/10\n",
      "--------------------\n",
      "Epoch 3/50\n"
     ]
    },
    {
     "name": "stderr",
     "output_type": "stream",
     "text": [
      " 50%|█████     | 1/2 [01:14<01:14, 74.30s/it]\n"
     ]
    },
    {
     "ename": "KeyboardInterrupt",
     "evalue": "",
     "output_type": "error",
     "traceback": [
      "\u001b[0;31m---------------------------------------------------------------------------\u001b[0m",
      "\u001b[0;31mKeyboardInterrupt\u001b[0m                         Traceback (most recent call last)",
      "Cell \u001b[0;32mIn[12], line 9\u001b[0m\n\u001b[1;32m      6\u001b[0m os\u001b[38;5;241m.\u001b[39mmakedirs(output_dir, exist_ok\u001b[38;5;241m=\u001b[39m\u001b[38;5;28;01mTrue\u001b[39;00m)\n\u001b[1;32m      8\u001b[0m \u001b[38;5;66;03m# Train with Masked loss\u001b[39;00m\n\u001b[0;32m----> 9\u001b[0m trained \u001b[38;5;241m=\u001b[39m \u001b[43mtrain\u001b[49m\u001b[38;5;241;43m.\u001b[39;49m\u001b[43mtrain_model\u001b[49m\u001b[43m(\u001b[49m\n\u001b[1;32m     10\u001b[0m \u001b[43m    \u001b[49m\u001b[43mmodel\u001b[49m\u001b[43m,\u001b[49m\u001b[43m \u001b[49m\u001b[43mtrain_loader\u001b[49m\u001b[43m,\u001b[49m\u001b[43m \u001b[49m\u001b[43mval_loader\u001b[49m\u001b[43m,\u001b[49m\n\u001b[1;32m     11\u001b[0m \u001b[43m    \u001b[49m\u001b[43mepochs\u001b[49m\u001b[38;5;241;43m=\u001b[39;49m\u001b[38;5;241;43m50\u001b[39;49m\u001b[43m,\u001b[49m\u001b[43m \u001b[49m\u001b[43mlearning_rate\u001b[49m\u001b[38;5;241;43m=\u001b[39;49m\u001b[38;5;241;43m1e-4\u001b[39;49m\u001b[43m,\u001b[49m\u001b[43m \u001b[49m\u001b[43moutput_dir\u001b[49m\u001b[38;5;241;43m=\u001b[39;49m\u001b[38;5;124;43m\"\u001b[39;49m\u001b[38;5;124;43m./models/\u001b[39;49m\u001b[38;5;124;43m\"\u001b[39;49m\u001b[43m,\u001b[49m\n\u001b[1;32m     12\u001b[0m \u001b[43m    \u001b[49m\u001b[43mdevice\u001b[49m\u001b[38;5;241;43m=\u001b[39;49m\u001b[38;5;124;43m\"\u001b[39;49m\u001b[38;5;124;43mcpu\u001b[39;49m\u001b[38;5;124;43m\"\u001b[39;49m\u001b[43m,\u001b[49m\u001b[43m \u001b[49m\u001b[43mearly_stopping\u001b[49m\u001b[38;5;241;43m=\u001b[39;49m\u001b[43mtrain\u001b[49m\u001b[38;5;241;43m.\u001b[39;49m\u001b[43mEarlyStopping\u001b[49m\u001b[43m(\u001b[49m\u001b[43m)\u001b[49m\u001b[43m,\u001b[49m\u001b[43m \u001b[49m\u001b[43mloss_type\u001b[49m\u001b[38;5;241;43m=\u001b[39;49m\u001b[38;5;124;43m\"\u001b[39;49m\u001b[38;5;124;43mmasked\u001b[39;49m\u001b[38;5;124;43m\"\u001b[39;49m\n\u001b[1;32m     13\u001b[0m \u001b[43m)\u001b[49m\n",
      "File \u001b[0;32m~/coding/DL4CV/Final/Cinematic_sound_demixer/source/train.py:139\u001b[0m, in \u001b[0;36mtrain_model\u001b[0;34m(model, train_loader, val_loader, epochs, learning_rate, output_dir, device, early_stopping, loss_type)\u001b[0m\n\u001b[1;32m    136\u001b[0m     train_loss \u001b[38;5;241m+\u001b[39m\u001b[38;5;241m=\u001b[39m loss\u001b[38;5;241m.\u001b[39mitem()\n\u001b[1;32m    138\u001b[0m     \u001b[38;5;66;03m# Backward pass\u001b[39;00m\n\u001b[0;32m--> 139\u001b[0m     \u001b[43mloss\u001b[49m\u001b[38;5;241;43m.\u001b[39;49m\u001b[43mbackward\u001b[49m\u001b[43m(\u001b[49m\u001b[43m)\u001b[49m\n\u001b[1;32m    140\u001b[0m     optimizer\u001b[38;5;241m.\u001b[39mstep()\n\u001b[1;32m    142\u001b[0m train_loss \u001b[38;5;241m/\u001b[39m\u001b[38;5;241m=\u001b[39m \u001b[38;5;28mlen\u001b[39m(train_loader)\n",
      "File \u001b[0;32m~/.pyenv/shims/versions/dl4cv_final/lib/python3.12/site-packages/torch/_tensor.py:581\u001b[0m, in \u001b[0;36mTensor.backward\u001b[0;34m(self, gradient, retain_graph, create_graph, inputs)\u001b[0m\n\u001b[1;32m    571\u001b[0m \u001b[38;5;28;01mif\u001b[39;00m has_torch_function_unary(\u001b[38;5;28mself\u001b[39m):\n\u001b[1;32m    572\u001b[0m     \u001b[38;5;28;01mreturn\u001b[39;00m handle_torch_function(\n\u001b[1;32m    573\u001b[0m         Tensor\u001b[38;5;241m.\u001b[39mbackward,\n\u001b[1;32m    574\u001b[0m         (\u001b[38;5;28mself\u001b[39m,),\n\u001b[0;32m   (...)\u001b[0m\n\u001b[1;32m    579\u001b[0m         inputs\u001b[38;5;241m=\u001b[39minputs,\n\u001b[1;32m    580\u001b[0m     )\n\u001b[0;32m--> 581\u001b[0m \u001b[43mtorch\u001b[49m\u001b[38;5;241;43m.\u001b[39;49m\u001b[43mautograd\u001b[49m\u001b[38;5;241;43m.\u001b[39;49m\u001b[43mbackward\u001b[49m\u001b[43m(\u001b[49m\n\u001b[1;32m    582\u001b[0m \u001b[43m    \u001b[49m\u001b[38;5;28;43mself\u001b[39;49m\u001b[43m,\u001b[49m\u001b[43m \u001b[49m\u001b[43mgradient\u001b[49m\u001b[43m,\u001b[49m\u001b[43m \u001b[49m\u001b[43mretain_graph\u001b[49m\u001b[43m,\u001b[49m\u001b[43m \u001b[49m\u001b[43mcreate_graph\u001b[49m\u001b[43m,\u001b[49m\u001b[43m \u001b[49m\u001b[43minputs\u001b[49m\u001b[38;5;241;43m=\u001b[39;49m\u001b[43minputs\u001b[49m\n\u001b[1;32m    583\u001b[0m \u001b[43m\u001b[49m\u001b[43m)\u001b[49m\n",
      "File \u001b[0;32m~/.pyenv/shims/versions/dl4cv_final/lib/python3.12/site-packages/torch/autograd/__init__.py:347\u001b[0m, in \u001b[0;36mbackward\u001b[0;34m(tensors, grad_tensors, retain_graph, create_graph, grad_variables, inputs)\u001b[0m\n\u001b[1;32m    342\u001b[0m     retain_graph \u001b[38;5;241m=\u001b[39m create_graph\n\u001b[1;32m    344\u001b[0m \u001b[38;5;66;03m# The reason we repeat the same comment below is that\u001b[39;00m\n\u001b[1;32m    345\u001b[0m \u001b[38;5;66;03m# some Python versions print out the first line of a multi-line function\u001b[39;00m\n\u001b[1;32m    346\u001b[0m \u001b[38;5;66;03m# calls in the traceback and some print out the last line\u001b[39;00m\n\u001b[0;32m--> 347\u001b[0m \u001b[43m_engine_run_backward\u001b[49m\u001b[43m(\u001b[49m\n\u001b[1;32m    348\u001b[0m \u001b[43m    \u001b[49m\u001b[43mtensors\u001b[49m\u001b[43m,\u001b[49m\n\u001b[1;32m    349\u001b[0m \u001b[43m    \u001b[49m\u001b[43mgrad_tensors_\u001b[49m\u001b[43m,\u001b[49m\n\u001b[1;32m    350\u001b[0m \u001b[43m    \u001b[49m\u001b[43mretain_graph\u001b[49m\u001b[43m,\u001b[49m\n\u001b[1;32m    351\u001b[0m \u001b[43m    \u001b[49m\u001b[43mcreate_graph\u001b[49m\u001b[43m,\u001b[49m\n\u001b[1;32m    352\u001b[0m \u001b[43m    \u001b[49m\u001b[43minputs\u001b[49m\u001b[43m,\u001b[49m\n\u001b[1;32m    353\u001b[0m \u001b[43m    \u001b[49m\u001b[43mallow_unreachable\u001b[49m\u001b[38;5;241;43m=\u001b[39;49m\u001b[38;5;28;43;01mTrue\u001b[39;49;00m\u001b[43m,\u001b[49m\n\u001b[1;32m    354\u001b[0m \u001b[43m    \u001b[49m\u001b[43maccumulate_grad\u001b[49m\u001b[38;5;241;43m=\u001b[39;49m\u001b[38;5;28;43;01mTrue\u001b[39;49;00m\u001b[43m,\u001b[49m\n\u001b[1;32m    355\u001b[0m \u001b[43m\u001b[49m\u001b[43m)\u001b[49m\n",
      "File \u001b[0;32m~/.pyenv/shims/versions/dl4cv_final/lib/python3.12/site-packages/torch/autograd/graph.py:825\u001b[0m, in \u001b[0;36m_engine_run_backward\u001b[0;34m(t_outputs, *args, **kwargs)\u001b[0m\n\u001b[1;32m    823\u001b[0m     unregister_hooks \u001b[38;5;241m=\u001b[39m _register_logging_hooks_on_whole_graph(t_outputs)\n\u001b[1;32m    824\u001b[0m \u001b[38;5;28;01mtry\u001b[39;00m:\n\u001b[0;32m--> 825\u001b[0m     \u001b[38;5;28;01mreturn\u001b[39;00m \u001b[43mVariable\u001b[49m\u001b[38;5;241;43m.\u001b[39;49m\u001b[43m_execution_engine\u001b[49m\u001b[38;5;241;43m.\u001b[39;49m\u001b[43mrun_backward\u001b[49m\u001b[43m(\u001b[49m\u001b[43m  \u001b[49m\u001b[38;5;66;43;03m# Calls into the C++ engine to run the backward pass\u001b[39;49;00m\n\u001b[1;32m    826\u001b[0m \u001b[43m        \u001b[49m\u001b[43mt_outputs\u001b[49m\u001b[43m,\u001b[49m\u001b[43m \u001b[49m\u001b[38;5;241;43m*\u001b[39;49m\u001b[43margs\u001b[49m\u001b[43m,\u001b[49m\u001b[43m \u001b[49m\u001b[38;5;241;43m*\u001b[39;49m\u001b[38;5;241;43m*\u001b[39;49m\u001b[43mkwargs\u001b[49m\n\u001b[1;32m    827\u001b[0m \u001b[43m    \u001b[49m\u001b[43m)\u001b[49m  \u001b[38;5;66;03m# Calls into the C++ engine to run the backward pass\u001b[39;00m\n\u001b[1;32m    828\u001b[0m \u001b[38;5;28;01mfinally\u001b[39;00m:\n\u001b[1;32m    829\u001b[0m     \u001b[38;5;28;01mif\u001b[39;00m attach_logging_hooks:\n",
      "\u001b[0;31mKeyboardInterrupt\u001b[0m: "
     ]
    }
   ],
   "source": [
    "import train \n",
    "importlib.reload(train)\n",
    "\n",
    "# Create output directory to save model\n",
    "output_dir = \"./models/half_dataset\"\n",
    "os.makedirs(output_dir, exist_ok=True)\n",
    "\n",
    "# Train with Masked loss\n",
    "trained = train.train_model(\n",
    "    model, train_loader, val_loader,\n",
    "    epochs=50, learning_rate=1e-4, output_dir=\"./models/\",\n",
    "    device=\"cpu\", early_stopping=train.EarlyStopping(), loss_type=\"masked\"\n",
    ")"
   ]
  },
  {
   "cell_type": "code",
   "execution_count": null,
   "metadata": {},
   "outputs": [
    {
     "name": "stdout",
     "output_type": "stream",
     "text": [
      "--------------------\n",
      "Epoch 1/100\n"
     ]
    },
    {
     "name": "stderr",
     "output_type": "stream",
     "text": [
      "100%|██████████| 2/2 [01:17<00:00, 38.76s/it]\n"
     ]
    },
    {
     "name": "stdout",
     "output_type": "stream",
     "text": [
      "Training Loss: 49.27630234\n",
      "Validation Loss: 47.09437561\n",
      "Average SDR: -5.00354195 dB\n",
      "Validation loss improved to 47.09437561, model saved.\n",
      "--------------------\n",
      "Epoch 2/100\n"
     ]
    },
    {
     "name": "stderr",
     "output_type": "stream",
     "text": [
      "100%|██████████| 2/2 [01:18<00:00, 39.47s/it]\n"
     ]
    },
    {
     "name": "stdout",
     "output_type": "stream",
     "text": [
      "Training Loss: 48.89335251\n",
      "Validation Loss: 54.91148758\n",
      "Average SDR: -8.42761993 dB\n",
      "No improvement in validation loss. Counter: 1/10\n",
      "--------------------\n",
      "Epoch 3/100\n"
     ]
    },
    {
     "name": "stderr",
     "output_type": "stream",
     "text": [
      "100%|██████████| 2/2 [01:39<00:00, 49.77s/it]\n"
     ]
    },
    {
     "name": "stdout",
     "output_type": "stream",
     "text": [
      "Training Loss: 50.43497849\n",
      "Validation Loss: 40.88008118\n",
      "Average SDR: -0.77648544 dB\n",
      "Validation loss improved to 40.88008118, model saved.\n",
      "--------------------\n",
      "Epoch 4/100\n"
     ]
    },
    {
     "name": "stderr",
     "output_type": "stream",
     "text": [
      "100%|██████████| 2/2 [01:26<00:00, 43.45s/it]\n"
     ]
    },
    {
     "name": "stdout",
     "output_type": "stream",
     "text": [
      "Training Loss: 50.36124611\n",
      "Validation Loss: 49.50655365\n",
      "Average SDR: -6.86114264 dB\n",
      "No improvement in validation loss. Counter: 1/10\n",
      "--------------------\n",
      "Epoch 5/100\n"
     ]
    },
    {
     "name": "stderr",
     "output_type": "stream",
     "text": [
      "100%|██████████| 2/2 [01:27<00:00, 43.80s/it]\n"
     ]
    },
    {
     "name": "stdout",
     "output_type": "stream",
     "text": [
      "Training Loss: 50.60266304\n",
      "Validation Loss: 50.60391998\n",
      "Average SDR: -11.07363796 dB\n",
      "No improvement in validation loss. Counter: 2/10\n",
      "--------------------\n",
      "Epoch 6/100\n"
     ]
    },
    {
     "name": "stderr",
     "output_type": "stream",
     "text": [
      "100%|██████████| 2/2 [01:27<00:00, 43.88s/it]\n"
     ]
    },
    {
     "name": "stdout",
     "output_type": "stream",
     "text": [
      "Training Loss: 50.72283173\n",
      "Validation Loss: 49.53795624\n",
      "Average SDR: -0.63632107 dB\n",
      "No improvement in validation loss. Counter: 3/10\n",
      "--------------------\n",
      "Epoch 7/100\n"
     ]
    },
    {
     "name": "stderr",
     "output_type": "stream",
     "text": [
      "100%|██████████| 2/2 [01:27<00:00, 43.66s/it]\n"
     ]
    },
    {
     "name": "stdout",
     "output_type": "stream",
     "text": [
      "Training Loss: 49.56028175\n",
      "Validation Loss: 56.56599808\n",
      "Average SDR: -12.88835716 dB\n",
      "No improvement in validation loss. Counter: 4/10\n",
      "--------------------\n",
      "Epoch 8/100\n"
     ]
    },
    {
     "name": "stderr",
     "output_type": "stream",
     "text": [
      " 50%|█████     | 1/2 [00:52<00:52, 52.63s/it]\n"
     ]
    },
    {
     "ename": "KeyboardInterrupt",
     "evalue": "",
     "output_type": "error",
     "traceback": [
      "\u001b[0;31m---------------------------------------------------------------------------\u001b[0m",
      "\u001b[0;31mKeyboardInterrupt\u001b[0m                         Traceback (most recent call last)",
      "Cell \u001b[0;32mIn[10], line 13\u001b[0m\n\u001b[1;32m     11\u001b[0m model\u001b[38;5;241m.\u001b[39mto(DEVICE)\n\u001b[1;32m     12\u001b[0m \u001b[38;5;66;03m# Train the model\u001b[39;00m\n\u001b[0;32m---> 13\u001b[0m trained_model \u001b[38;5;241m=\u001b[39m \u001b[43mtrain\u001b[49m\u001b[38;5;241;43m.\u001b[39;49m\u001b[43mtrain_model\u001b[49m\u001b[43m(\u001b[49m\n\u001b[1;32m     14\u001b[0m \u001b[43m    \u001b[49m\u001b[43mmodel\u001b[49m\u001b[38;5;241;43m=\u001b[39;49m\u001b[43mmodel\u001b[49m\u001b[43m,\u001b[49m\n\u001b[1;32m     15\u001b[0m \u001b[43m    \u001b[49m\u001b[43mtrain_loader\u001b[49m\u001b[38;5;241;43m=\u001b[39;49m\u001b[43mtrain_loader\u001b[49m\u001b[43m,\u001b[49m\n\u001b[1;32m     16\u001b[0m \u001b[43m    \u001b[49m\u001b[43mval_loader\u001b[49m\u001b[38;5;241;43m=\u001b[39;49m\u001b[43mval_loader\u001b[49m\u001b[43m,\u001b[49m\n\u001b[1;32m     17\u001b[0m \u001b[43m    \u001b[49m\u001b[43mearly_stopping\u001b[49m\u001b[43m \u001b[49m\u001b[38;5;241;43m=\u001b[39;49m\u001b[43m \u001b[49m\u001b[43mtrain\u001b[49m\u001b[38;5;241;43m.\u001b[39;49m\u001b[43mEarlyStopping\u001b[49m\u001b[43m(\u001b[49m\u001b[43m)\u001b[49m\u001b[43m,\u001b[49m\n\u001b[1;32m     18\u001b[0m \u001b[43m    \u001b[49m\u001b[43mepochs\u001b[49m\u001b[38;5;241;43m=\u001b[39;49m\u001b[38;5;241;43m100\u001b[39;49m\u001b[43m,\u001b[49m\u001b[43m  \u001b[49m\n\u001b[1;32m     19\u001b[0m \u001b[43m    \u001b[49m\u001b[43mlearning_rate\u001b[49m\u001b[38;5;241;43m=\u001b[39;49m\u001b[38;5;241;43m1e-4\u001b[39;49m\u001b[43m,\u001b[49m\u001b[43m  \u001b[49m\u001b[38;5;66;43;03m# Learning rate\u001b[39;49;00m\n\u001b[1;32m     20\u001b[0m \u001b[43m    \u001b[49m\u001b[43moutput_dir\u001b[49m\u001b[38;5;241;43m=\u001b[39;49m\u001b[43moutput_dir\u001b[49m\u001b[43m,\u001b[49m\n\u001b[1;32m     21\u001b[0m \u001b[43m    \u001b[49m\u001b[43mdevice\u001b[49m\u001b[43m \u001b[49m\u001b[38;5;241;43m=\u001b[39;49m\u001b[43m \u001b[49m\u001b[43mDEVICE\u001b[49m\n\u001b[1;32m     22\u001b[0m \u001b[43m)\u001b[49m\n",
      "File \u001b[0;32m~/coding/DL4CV/Final/Cinematic_sound_demixer/source/train.py:107\u001b[0m, in \u001b[0;36mtrain_model\u001b[0;34m(model, train_loader, val_loader, epochs, learning_rate, output_dir, device, early_stopping)\u001b[0m\n\u001b[1;32m    104\u001b[0m optimizer\u001b[38;5;241m.\u001b[39mzero_grad()\n\u001b[1;32m    106\u001b[0m \u001b[38;5;66;03m# Forward pass\u001b[39;00m\n\u001b[0;32m--> 107\u001b[0m outputs \u001b[38;5;241m=\u001b[39m \u001b[43mmodel\u001b[49m\u001b[43m(\u001b[49m\u001b[43mmix\u001b[49m\u001b[43m)\u001b[49m\n\u001b[1;32m    109\u001b[0m \u001b[38;5;66;03m# Compute loss using SI-SNR\u001b[39;00m\n\u001b[1;32m    110\u001b[0m loss \u001b[38;5;241m=\u001b[39m si_snr_loss(outputs, targets)\n",
      "File \u001b[0;32m~/.pyenv/shims/versions/dl4cv_final/lib/python3.12/site-packages/torch/nn/modules/module.py:1736\u001b[0m, in \u001b[0;36mModule._wrapped_call_impl\u001b[0;34m(self, *args, **kwargs)\u001b[0m\n\u001b[1;32m   1734\u001b[0m     \u001b[38;5;28;01mreturn\u001b[39;00m \u001b[38;5;28mself\u001b[39m\u001b[38;5;241m.\u001b[39m_compiled_call_impl(\u001b[38;5;241m*\u001b[39margs, \u001b[38;5;241m*\u001b[39m\u001b[38;5;241m*\u001b[39mkwargs)  \u001b[38;5;66;03m# type: ignore[misc]\u001b[39;00m\n\u001b[1;32m   1735\u001b[0m \u001b[38;5;28;01melse\u001b[39;00m:\n\u001b[0;32m-> 1736\u001b[0m     \u001b[38;5;28;01mreturn\u001b[39;00m \u001b[38;5;28;43mself\u001b[39;49m\u001b[38;5;241;43m.\u001b[39;49m\u001b[43m_call_impl\u001b[49m\u001b[43m(\u001b[49m\u001b[38;5;241;43m*\u001b[39;49m\u001b[43margs\u001b[49m\u001b[43m,\u001b[49m\u001b[43m \u001b[49m\u001b[38;5;241;43m*\u001b[39;49m\u001b[38;5;241;43m*\u001b[39;49m\u001b[43mkwargs\u001b[49m\u001b[43m)\u001b[49m\n",
      "File \u001b[0;32m~/.pyenv/shims/versions/dl4cv_final/lib/python3.12/site-packages/torch/nn/modules/module.py:1747\u001b[0m, in \u001b[0;36mModule._call_impl\u001b[0;34m(self, *args, **kwargs)\u001b[0m\n\u001b[1;32m   1742\u001b[0m \u001b[38;5;66;03m# If we don't have any hooks, we want to skip the rest of the logic in\u001b[39;00m\n\u001b[1;32m   1743\u001b[0m \u001b[38;5;66;03m# this function, and just call forward.\u001b[39;00m\n\u001b[1;32m   1744\u001b[0m \u001b[38;5;28;01mif\u001b[39;00m \u001b[38;5;129;01mnot\u001b[39;00m (\u001b[38;5;28mself\u001b[39m\u001b[38;5;241m.\u001b[39m_backward_hooks \u001b[38;5;129;01mor\u001b[39;00m \u001b[38;5;28mself\u001b[39m\u001b[38;5;241m.\u001b[39m_backward_pre_hooks \u001b[38;5;129;01mor\u001b[39;00m \u001b[38;5;28mself\u001b[39m\u001b[38;5;241m.\u001b[39m_forward_hooks \u001b[38;5;129;01mor\u001b[39;00m \u001b[38;5;28mself\u001b[39m\u001b[38;5;241m.\u001b[39m_forward_pre_hooks\n\u001b[1;32m   1745\u001b[0m         \u001b[38;5;129;01mor\u001b[39;00m _global_backward_pre_hooks \u001b[38;5;129;01mor\u001b[39;00m _global_backward_hooks\n\u001b[1;32m   1746\u001b[0m         \u001b[38;5;129;01mor\u001b[39;00m _global_forward_hooks \u001b[38;5;129;01mor\u001b[39;00m _global_forward_pre_hooks):\n\u001b[0;32m-> 1747\u001b[0m     \u001b[38;5;28;01mreturn\u001b[39;00m \u001b[43mforward_call\u001b[49m\u001b[43m(\u001b[49m\u001b[38;5;241;43m*\u001b[39;49m\u001b[43margs\u001b[49m\u001b[43m,\u001b[49m\u001b[43m \u001b[49m\u001b[38;5;241;43m*\u001b[39;49m\u001b[38;5;241;43m*\u001b[39;49m\u001b[43mkwargs\u001b[49m\u001b[43m)\u001b[49m\n\u001b[1;32m   1749\u001b[0m result \u001b[38;5;241m=\u001b[39m \u001b[38;5;28;01mNone\u001b[39;00m\n\u001b[1;32m   1750\u001b[0m called_always_called_hooks \u001b[38;5;241m=\u001b[39m \u001b[38;5;28mset\u001b[39m()\n",
      "File \u001b[0;32m~/.pyenv/shims/versions/dl4cv_final/lib/python3.12/site-packages/demucs/htdemucs.py:593\u001b[0m, in \u001b[0;36mHTDemucs.forward\u001b[0;34m(self, mix)\u001b[0m\n\u001b[1;32m    590\u001b[0m     x \u001b[38;5;241m=\u001b[39m rearrange(x, \u001b[38;5;124m\"\u001b[39m\u001b[38;5;124mb c (f t)-> b c f t\u001b[39m\u001b[38;5;124m\"\u001b[39m, f\u001b[38;5;241m=\u001b[39mf)\n\u001b[1;32m    591\u001b[0m     xt \u001b[38;5;241m=\u001b[39m \u001b[38;5;28mself\u001b[39m\u001b[38;5;241m.\u001b[39mchannel_upsampler_t(xt)\n\u001b[0;32m--> 593\u001b[0m x, xt \u001b[38;5;241m=\u001b[39m \u001b[38;5;28;43mself\u001b[39;49m\u001b[38;5;241;43m.\u001b[39;49m\u001b[43mcrosstransformer\u001b[49m\u001b[43m(\u001b[49m\u001b[43mx\u001b[49m\u001b[43m,\u001b[49m\u001b[43m \u001b[49m\u001b[43mxt\u001b[49m\u001b[43m)\u001b[49m\n\u001b[1;32m    595\u001b[0m \u001b[38;5;28;01mif\u001b[39;00m \u001b[38;5;28mself\u001b[39m\u001b[38;5;241m.\u001b[39mbottom_channels:\n\u001b[1;32m    596\u001b[0m     x \u001b[38;5;241m=\u001b[39m rearrange(x, \u001b[38;5;124m\"\u001b[39m\u001b[38;5;124mb c f t-> b c (f t)\u001b[39m\u001b[38;5;124m\"\u001b[39m)\n",
      "File \u001b[0;32m~/.pyenv/shims/versions/dl4cv_final/lib/python3.12/site-packages/torch/nn/modules/module.py:1736\u001b[0m, in \u001b[0;36mModule._wrapped_call_impl\u001b[0;34m(self, *args, **kwargs)\u001b[0m\n\u001b[1;32m   1734\u001b[0m     \u001b[38;5;28;01mreturn\u001b[39;00m \u001b[38;5;28mself\u001b[39m\u001b[38;5;241m.\u001b[39m_compiled_call_impl(\u001b[38;5;241m*\u001b[39margs, \u001b[38;5;241m*\u001b[39m\u001b[38;5;241m*\u001b[39mkwargs)  \u001b[38;5;66;03m# type: ignore[misc]\u001b[39;00m\n\u001b[1;32m   1735\u001b[0m \u001b[38;5;28;01melse\u001b[39;00m:\n\u001b[0;32m-> 1736\u001b[0m     \u001b[38;5;28;01mreturn\u001b[39;00m \u001b[38;5;28;43mself\u001b[39;49m\u001b[38;5;241;43m.\u001b[39;49m\u001b[43m_call_impl\u001b[49m\u001b[43m(\u001b[49m\u001b[38;5;241;43m*\u001b[39;49m\u001b[43margs\u001b[49m\u001b[43m,\u001b[49m\u001b[43m \u001b[49m\u001b[38;5;241;43m*\u001b[39;49m\u001b[38;5;241;43m*\u001b[39;49m\u001b[43mkwargs\u001b[49m\u001b[43m)\u001b[49m\n",
      "File \u001b[0;32m~/.pyenv/shims/versions/dl4cv_final/lib/python3.12/site-packages/torch/nn/modules/module.py:1747\u001b[0m, in \u001b[0;36mModule._call_impl\u001b[0;34m(self, *args, **kwargs)\u001b[0m\n\u001b[1;32m   1742\u001b[0m \u001b[38;5;66;03m# If we don't have any hooks, we want to skip the rest of the logic in\u001b[39;00m\n\u001b[1;32m   1743\u001b[0m \u001b[38;5;66;03m# this function, and just call forward.\u001b[39;00m\n\u001b[1;32m   1744\u001b[0m \u001b[38;5;28;01mif\u001b[39;00m \u001b[38;5;129;01mnot\u001b[39;00m (\u001b[38;5;28mself\u001b[39m\u001b[38;5;241m.\u001b[39m_backward_hooks \u001b[38;5;129;01mor\u001b[39;00m \u001b[38;5;28mself\u001b[39m\u001b[38;5;241m.\u001b[39m_backward_pre_hooks \u001b[38;5;129;01mor\u001b[39;00m \u001b[38;5;28mself\u001b[39m\u001b[38;5;241m.\u001b[39m_forward_hooks \u001b[38;5;129;01mor\u001b[39;00m \u001b[38;5;28mself\u001b[39m\u001b[38;5;241m.\u001b[39m_forward_pre_hooks\n\u001b[1;32m   1745\u001b[0m         \u001b[38;5;129;01mor\u001b[39;00m _global_backward_pre_hooks \u001b[38;5;129;01mor\u001b[39;00m _global_backward_hooks\n\u001b[1;32m   1746\u001b[0m         \u001b[38;5;129;01mor\u001b[39;00m _global_forward_hooks \u001b[38;5;129;01mor\u001b[39;00m _global_forward_pre_hooks):\n\u001b[0;32m-> 1747\u001b[0m     \u001b[38;5;28;01mreturn\u001b[39;00m \u001b[43mforward_call\u001b[49m\u001b[43m(\u001b[49m\u001b[38;5;241;43m*\u001b[39;49m\u001b[43margs\u001b[49m\u001b[43m,\u001b[49m\u001b[43m \u001b[49m\u001b[38;5;241;43m*\u001b[39;49m\u001b[38;5;241;43m*\u001b[39;49m\u001b[43mkwargs\u001b[49m\u001b[43m)\u001b[49m\n\u001b[1;32m   1749\u001b[0m result \u001b[38;5;241m=\u001b[39m \u001b[38;5;28;01mNone\u001b[39;00m\n\u001b[1;32m   1750\u001b[0m called_always_called_hooks \u001b[38;5;241m=\u001b[39m \u001b[38;5;28mset\u001b[39m()\n",
      "File \u001b[0;32m~/.pyenv/shims/versions/dl4cv_final/lib/python3.12/site-packages/demucs/transformer.py:667\u001b[0m, in \u001b[0;36mCrossTransformerEncoder.forward\u001b[0;34m(self, x, xt)\u001b[0m\n\u001b[1;32m    665\u001b[0m \u001b[38;5;28;01mfor\u001b[39;00m idx \u001b[38;5;129;01min\u001b[39;00m \u001b[38;5;28mrange\u001b[39m(\u001b[38;5;28mself\u001b[39m\u001b[38;5;241m.\u001b[39mnum_layers):\n\u001b[1;32m    666\u001b[0m     \u001b[38;5;28;01mif\u001b[39;00m idx \u001b[38;5;241m%\u001b[39m \u001b[38;5;241m2\u001b[39m \u001b[38;5;241m==\u001b[39m \u001b[38;5;28mself\u001b[39m\u001b[38;5;241m.\u001b[39mclassic_parity:\n\u001b[0;32m--> 667\u001b[0m         x \u001b[38;5;241m=\u001b[39m \u001b[38;5;28;43mself\u001b[39;49m\u001b[38;5;241;43m.\u001b[39;49m\u001b[43mlayers\u001b[49m\u001b[43m[\u001b[49m\u001b[43midx\u001b[49m\u001b[43m]\u001b[49m\u001b[43m(\u001b[49m\u001b[43mx\u001b[49m\u001b[43m)\u001b[49m\n\u001b[1;32m    668\u001b[0m         xt \u001b[38;5;241m=\u001b[39m \u001b[38;5;28mself\u001b[39m\u001b[38;5;241m.\u001b[39mlayers_t[idx](xt)\n\u001b[1;32m    669\u001b[0m     \u001b[38;5;28;01melse\u001b[39;00m:\n",
      "File \u001b[0;32m~/.pyenv/shims/versions/dl4cv_final/lib/python3.12/site-packages/torch/nn/modules/module.py:1736\u001b[0m, in \u001b[0;36mModule._wrapped_call_impl\u001b[0;34m(self, *args, **kwargs)\u001b[0m\n\u001b[1;32m   1734\u001b[0m     \u001b[38;5;28;01mreturn\u001b[39;00m \u001b[38;5;28mself\u001b[39m\u001b[38;5;241m.\u001b[39m_compiled_call_impl(\u001b[38;5;241m*\u001b[39margs, \u001b[38;5;241m*\u001b[39m\u001b[38;5;241m*\u001b[39mkwargs)  \u001b[38;5;66;03m# type: ignore[misc]\u001b[39;00m\n\u001b[1;32m   1735\u001b[0m \u001b[38;5;28;01melse\u001b[39;00m:\n\u001b[0;32m-> 1736\u001b[0m     \u001b[38;5;28;01mreturn\u001b[39;00m \u001b[38;5;28;43mself\u001b[39;49m\u001b[38;5;241;43m.\u001b[39;49m\u001b[43m_call_impl\u001b[49m\u001b[43m(\u001b[49m\u001b[38;5;241;43m*\u001b[39;49m\u001b[43margs\u001b[49m\u001b[43m,\u001b[49m\u001b[43m \u001b[49m\u001b[38;5;241;43m*\u001b[39;49m\u001b[38;5;241;43m*\u001b[39;49m\u001b[43mkwargs\u001b[49m\u001b[43m)\u001b[49m\n",
      "File \u001b[0;32m~/.pyenv/shims/versions/dl4cv_final/lib/python3.12/site-packages/torch/nn/modules/module.py:1747\u001b[0m, in \u001b[0;36mModule._call_impl\u001b[0;34m(self, *args, **kwargs)\u001b[0m\n\u001b[1;32m   1742\u001b[0m \u001b[38;5;66;03m# If we don't have any hooks, we want to skip the rest of the logic in\u001b[39;00m\n\u001b[1;32m   1743\u001b[0m \u001b[38;5;66;03m# this function, and just call forward.\u001b[39;00m\n\u001b[1;32m   1744\u001b[0m \u001b[38;5;28;01mif\u001b[39;00m \u001b[38;5;129;01mnot\u001b[39;00m (\u001b[38;5;28mself\u001b[39m\u001b[38;5;241m.\u001b[39m_backward_hooks \u001b[38;5;129;01mor\u001b[39;00m \u001b[38;5;28mself\u001b[39m\u001b[38;5;241m.\u001b[39m_backward_pre_hooks \u001b[38;5;129;01mor\u001b[39;00m \u001b[38;5;28mself\u001b[39m\u001b[38;5;241m.\u001b[39m_forward_hooks \u001b[38;5;129;01mor\u001b[39;00m \u001b[38;5;28mself\u001b[39m\u001b[38;5;241m.\u001b[39m_forward_pre_hooks\n\u001b[1;32m   1745\u001b[0m         \u001b[38;5;129;01mor\u001b[39;00m _global_backward_pre_hooks \u001b[38;5;129;01mor\u001b[39;00m _global_backward_hooks\n\u001b[1;32m   1746\u001b[0m         \u001b[38;5;129;01mor\u001b[39;00m _global_forward_hooks \u001b[38;5;129;01mor\u001b[39;00m _global_forward_pre_hooks):\n\u001b[0;32m-> 1747\u001b[0m     \u001b[38;5;28;01mreturn\u001b[39;00m \u001b[43mforward_call\u001b[49m\u001b[43m(\u001b[49m\u001b[38;5;241;43m*\u001b[39;49m\u001b[43margs\u001b[49m\u001b[43m,\u001b[49m\u001b[43m \u001b[49m\u001b[38;5;241;43m*\u001b[39;49m\u001b[38;5;241;43m*\u001b[39;49m\u001b[43mkwargs\u001b[49m\u001b[43m)\u001b[49m\n\u001b[1;32m   1749\u001b[0m result \u001b[38;5;241m=\u001b[39m \u001b[38;5;28;01mNone\u001b[39;00m\n\u001b[1;32m   1750\u001b[0m called_always_called_hooks \u001b[38;5;241m=\u001b[39m \u001b[38;5;28mset\u001b[39m()\n",
      "File \u001b[0;32m~/.pyenv/shims/versions/dl4cv_final/lib/python3.12/site-packages/demucs/transformer.py:365\u001b[0m, in \u001b[0;36mMyTransformerEncoderLayer.forward\u001b[0;34m(self, src, src_mask, src_key_padding_mask)\u001b[0m\n\u001b[1;32m    361\u001b[0m         \u001b[38;5;28mself\u001b[39m\u001b[38;5;241m.\u001b[39m\u001b[38;5;21m__setattr__\u001b[39m(\u001b[38;5;124m\"\u001b[39m\u001b[38;5;124msrc_mask\u001b[39m\u001b[38;5;124m\"\u001b[39m, src_mask)\n\u001b[1;32m    363\u001b[0m \u001b[38;5;28;01mif\u001b[39;00m \u001b[38;5;28mself\u001b[39m\u001b[38;5;241m.\u001b[39mnorm_first:\n\u001b[1;32m    364\u001b[0m     x \u001b[38;5;241m=\u001b[39m x \u001b[38;5;241m+\u001b[39m \u001b[38;5;28mself\u001b[39m\u001b[38;5;241m.\u001b[39mgamma_1(\n\u001b[0;32m--> 365\u001b[0m         \u001b[38;5;28;43mself\u001b[39;49m\u001b[38;5;241;43m.\u001b[39;49m\u001b[43m_sa_block\u001b[49m\u001b[43m(\u001b[49m\u001b[38;5;28;43mself\u001b[39;49m\u001b[38;5;241;43m.\u001b[39;49m\u001b[43mnorm1\u001b[49m\u001b[43m(\u001b[49m\u001b[43mx\u001b[49m\u001b[43m)\u001b[49m\u001b[43m,\u001b[49m\u001b[43m \u001b[49m\u001b[43msrc_mask\u001b[49m\u001b[43m,\u001b[49m\u001b[43m \u001b[49m\u001b[43msrc_key_padding_mask\u001b[49m\u001b[43m)\u001b[49m\n\u001b[1;32m    366\u001b[0m     )\n\u001b[1;32m    367\u001b[0m     x \u001b[38;5;241m=\u001b[39m x \u001b[38;5;241m+\u001b[39m \u001b[38;5;28mself\u001b[39m\u001b[38;5;241m.\u001b[39mgamma_2(\u001b[38;5;28mself\u001b[39m\u001b[38;5;241m.\u001b[39m_ff_block(\u001b[38;5;28mself\u001b[39m\u001b[38;5;241m.\u001b[39mnorm2(x)))\n\u001b[1;32m    369\u001b[0m     \u001b[38;5;28;01mif\u001b[39;00m \u001b[38;5;28mself\u001b[39m\u001b[38;5;241m.\u001b[39mnorm_out:\n",
      "File \u001b[0;32m~/.pyenv/shims/versions/dl4cv_final/lib/python3.12/site-packages/torch/nn/modules/transformer.py:927\u001b[0m, in \u001b[0;36mTransformerEncoderLayer._sa_block\u001b[0;34m(self, x, attn_mask, key_padding_mask, is_causal)\u001b[0m\n\u001b[1;32m    911\u001b[0m \u001b[38;5;28;01mdef\u001b[39;00m \u001b[38;5;21m_sa_block\u001b[39m(\n\u001b[1;32m    912\u001b[0m     \u001b[38;5;28mself\u001b[39m,\n\u001b[1;32m    913\u001b[0m     x: Tensor,\n\u001b[0;32m   (...)\u001b[0m\n\u001b[1;32m    916\u001b[0m     is_causal: \u001b[38;5;28mbool\u001b[39m \u001b[38;5;241m=\u001b[39m \u001b[38;5;28;01mFalse\u001b[39;00m,\n\u001b[1;32m    917\u001b[0m ) \u001b[38;5;241m-\u001b[39m\u001b[38;5;241m>\u001b[39m Tensor:\n\u001b[1;32m    918\u001b[0m     x \u001b[38;5;241m=\u001b[39m \u001b[38;5;28mself\u001b[39m\u001b[38;5;241m.\u001b[39mself_attn(\n\u001b[1;32m    919\u001b[0m         x,\n\u001b[1;32m    920\u001b[0m         x,\n\u001b[0;32m   (...)\u001b[0m\n\u001b[1;32m    925\u001b[0m         is_causal\u001b[38;5;241m=\u001b[39mis_causal,\n\u001b[1;32m    926\u001b[0m     )[\u001b[38;5;241m0\u001b[39m]\n\u001b[0;32m--> 927\u001b[0m     \u001b[38;5;28;01mreturn\u001b[39;00m \u001b[38;5;28;43mself\u001b[39;49m\u001b[38;5;241;43m.\u001b[39;49m\u001b[43mdropout1\u001b[49m\u001b[43m(\u001b[49m\u001b[43mx\u001b[49m\u001b[43m)\u001b[49m\n",
      "File \u001b[0;32m~/.pyenv/shims/versions/dl4cv_final/lib/python3.12/site-packages/torch/nn/modules/module.py:1736\u001b[0m, in \u001b[0;36mModule._wrapped_call_impl\u001b[0;34m(self, *args, **kwargs)\u001b[0m\n\u001b[1;32m   1734\u001b[0m     \u001b[38;5;28;01mreturn\u001b[39;00m \u001b[38;5;28mself\u001b[39m\u001b[38;5;241m.\u001b[39m_compiled_call_impl(\u001b[38;5;241m*\u001b[39margs, \u001b[38;5;241m*\u001b[39m\u001b[38;5;241m*\u001b[39mkwargs)  \u001b[38;5;66;03m# type: ignore[misc]\u001b[39;00m\n\u001b[1;32m   1735\u001b[0m \u001b[38;5;28;01melse\u001b[39;00m:\n\u001b[0;32m-> 1736\u001b[0m     \u001b[38;5;28;01mreturn\u001b[39;00m \u001b[38;5;28;43mself\u001b[39;49m\u001b[38;5;241;43m.\u001b[39;49m\u001b[43m_call_impl\u001b[49m\u001b[43m(\u001b[49m\u001b[38;5;241;43m*\u001b[39;49m\u001b[43margs\u001b[49m\u001b[43m,\u001b[49m\u001b[43m \u001b[49m\u001b[38;5;241;43m*\u001b[39;49m\u001b[38;5;241;43m*\u001b[39;49m\u001b[43mkwargs\u001b[49m\u001b[43m)\u001b[49m\n",
      "File \u001b[0;32m~/.pyenv/shims/versions/dl4cv_final/lib/python3.12/site-packages/torch/nn/modules/module.py:1747\u001b[0m, in \u001b[0;36mModule._call_impl\u001b[0;34m(self, *args, **kwargs)\u001b[0m\n\u001b[1;32m   1742\u001b[0m \u001b[38;5;66;03m# If we don't have any hooks, we want to skip the rest of the logic in\u001b[39;00m\n\u001b[1;32m   1743\u001b[0m \u001b[38;5;66;03m# this function, and just call forward.\u001b[39;00m\n\u001b[1;32m   1744\u001b[0m \u001b[38;5;28;01mif\u001b[39;00m \u001b[38;5;129;01mnot\u001b[39;00m (\u001b[38;5;28mself\u001b[39m\u001b[38;5;241m.\u001b[39m_backward_hooks \u001b[38;5;129;01mor\u001b[39;00m \u001b[38;5;28mself\u001b[39m\u001b[38;5;241m.\u001b[39m_backward_pre_hooks \u001b[38;5;129;01mor\u001b[39;00m \u001b[38;5;28mself\u001b[39m\u001b[38;5;241m.\u001b[39m_forward_hooks \u001b[38;5;129;01mor\u001b[39;00m \u001b[38;5;28mself\u001b[39m\u001b[38;5;241m.\u001b[39m_forward_pre_hooks\n\u001b[1;32m   1745\u001b[0m         \u001b[38;5;129;01mor\u001b[39;00m _global_backward_pre_hooks \u001b[38;5;129;01mor\u001b[39;00m _global_backward_hooks\n\u001b[1;32m   1746\u001b[0m         \u001b[38;5;129;01mor\u001b[39;00m _global_forward_hooks \u001b[38;5;129;01mor\u001b[39;00m _global_forward_pre_hooks):\n\u001b[0;32m-> 1747\u001b[0m     \u001b[38;5;28;01mreturn\u001b[39;00m \u001b[43mforward_call\u001b[49m\u001b[43m(\u001b[49m\u001b[38;5;241;43m*\u001b[39;49m\u001b[43margs\u001b[49m\u001b[43m,\u001b[49m\u001b[43m \u001b[49m\u001b[38;5;241;43m*\u001b[39;49m\u001b[38;5;241;43m*\u001b[39;49m\u001b[43mkwargs\u001b[49m\u001b[43m)\u001b[49m\n\u001b[1;32m   1749\u001b[0m result \u001b[38;5;241m=\u001b[39m \u001b[38;5;28;01mNone\u001b[39;00m\n\u001b[1;32m   1750\u001b[0m called_always_called_hooks \u001b[38;5;241m=\u001b[39m \u001b[38;5;28mset\u001b[39m()\n",
      "File \u001b[0;32m~/.pyenv/shims/versions/dl4cv_final/lib/python3.12/site-packages/torch/nn/modules/dropout.py:70\u001b[0m, in \u001b[0;36mDropout.forward\u001b[0;34m(self, input)\u001b[0m\n\u001b[1;32m     69\u001b[0m \u001b[38;5;28;01mdef\u001b[39;00m \u001b[38;5;21mforward\u001b[39m(\u001b[38;5;28mself\u001b[39m, \u001b[38;5;28minput\u001b[39m: Tensor) \u001b[38;5;241m-\u001b[39m\u001b[38;5;241m>\u001b[39m Tensor:\n\u001b[0;32m---> 70\u001b[0m     \u001b[38;5;28;01mreturn\u001b[39;00m \u001b[43mF\u001b[49m\u001b[38;5;241;43m.\u001b[39;49m\u001b[43mdropout\u001b[49m\u001b[43m(\u001b[49m\u001b[38;5;28;43minput\u001b[39;49m\u001b[43m,\u001b[49m\u001b[43m \u001b[49m\u001b[38;5;28;43mself\u001b[39;49m\u001b[38;5;241;43m.\u001b[39;49m\u001b[43mp\u001b[49m\u001b[43m,\u001b[49m\u001b[43m \u001b[49m\u001b[38;5;28;43mself\u001b[39;49m\u001b[38;5;241;43m.\u001b[39;49m\u001b[43mtraining\u001b[49m\u001b[43m,\u001b[49m\u001b[43m \u001b[49m\u001b[38;5;28;43mself\u001b[39;49m\u001b[38;5;241;43m.\u001b[39;49m\u001b[43minplace\u001b[49m\u001b[43m)\u001b[49m\n",
      "File \u001b[0;32m~/.pyenv/shims/versions/dl4cv_final/lib/python3.12/site-packages/torch/nn/functional.py:1425\u001b[0m, in \u001b[0;36mdropout\u001b[0;34m(input, p, training, inplace)\u001b[0m\n\u001b[1;32m   1422\u001b[0m \u001b[38;5;28;01mif\u001b[39;00m p \u001b[38;5;241m<\u001b[39m \u001b[38;5;241m0.0\u001b[39m \u001b[38;5;129;01mor\u001b[39;00m p \u001b[38;5;241m>\u001b[39m \u001b[38;5;241m1.0\u001b[39m:\n\u001b[1;32m   1423\u001b[0m     \u001b[38;5;28;01mraise\u001b[39;00m \u001b[38;5;167;01mValueError\u001b[39;00m(\u001b[38;5;124mf\u001b[39m\u001b[38;5;124m\"\u001b[39m\u001b[38;5;124mdropout probability has to be between 0 and 1, but got \u001b[39m\u001b[38;5;132;01m{\u001b[39;00mp\u001b[38;5;132;01m}\u001b[39;00m\u001b[38;5;124m\"\u001b[39m)\n\u001b[1;32m   1424\u001b[0m \u001b[38;5;28;01mreturn\u001b[39;00m (\n\u001b[0;32m-> 1425\u001b[0m     _VF\u001b[38;5;241m.\u001b[39mdropout_(\u001b[38;5;28minput\u001b[39m, p, training) \u001b[38;5;28;01mif\u001b[39;00m inplace \u001b[38;5;28;01melse\u001b[39;00m \u001b[43m_VF\u001b[49m\u001b[38;5;241;43m.\u001b[39;49m\u001b[43mdropout\u001b[49m\u001b[43m(\u001b[49m\u001b[38;5;28;43minput\u001b[39;49m\u001b[43m,\u001b[49m\u001b[43m \u001b[49m\u001b[43mp\u001b[49m\u001b[43m,\u001b[49m\u001b[43m \u001b[49m\u001b[43mtraining\u001b[49m\u001b[43m)\u001b[49m\n\u001b[1;32m   1426\u001b[0m )\n",
      "\u001b[0;31mKeyboardInterrupt\u001b[0m: "
     ]
    }
   ],
   "source": [
    "import train \n",
    "importlib.reload(train)\n",
    "\n",
    "# Create output directory to save model\n",
    "output_dir = \"./models/half_dataset\"\n",
    "os.makedirs(output_dir, exist_ok=True)\n",
    "\n",
    "# DEVICE = torch.device(\"mps\" if torch.backends.mps.is_available() else \"cpu\")\n",
    "DEVICE = \"cpu\"\n",
    "\n",
    "model.to(DEVICE)\n",
    "# Train the model\n",
    "trained_model = train.train_model(\n",
    "    model=model,\n",
    "    train_loader=train_loader,\n",
    "    val_loader=val_loader,\n",
    "    early_stopping = train.EarlyStopping(),\n",
    "    epochs=100,  \n",
    "    learning_rate=1e-4,  # Learning rate\n",
    "    output_dir=output_dir,\n",
    "    device = DEVICE\n",
    ")"
   ]
  },
  {
   "cell_type": "code",
   "execution_count": null,
   "metadata": {},
   "outputs": [
    {
     "name": "stderr",
     "output_type": "stream",
     "text": [
      "/var/folders/ry/tyg2vvqs2t30yq4510jl_ns80000gn/T/ipykernel_34058/2916665466.py:31: FutureWarning: You are using `torch.load` with `weights_only=False` (the current default value), which uses the default pickle module implicitly. It is possible to construct malicious pickle data which will execute arbitrary code during unpickling (See https://github.com/pytorch/pytorch/blob/main/SECURITY.md#untrusted-models for more details). In a future release, the default value for `weights_only` will be flipped to `True`. This limits the functions that could be executed during unpickling. Arbitrary objects will no longer be allowed to be loaded via this mode unless they are explicitly allowlisted by the user via `torch.serialization.add_safe_globals`. We recommend you start setting `weights_only=True` for any use case where you don't have full control of the loaded file. Please open an issue on GitHub for any issues related to this experimental feature.\n",
      "  checkpoint = torch.load(ckpt_path, map_location=torch.device('cpu'))  # Use 'cuda' if GPU is available\n"
     ]
    },
    {
     "ename": "RuntimeError",
     "evalue": "Error(s) in loading state_dict for HTDemucs:\n\tMissing key(s) in state_dict: \"channel_upsampler.weight\", \"channel_upsampler.bias\", \"channel_downsampler.weight\", \"channel_downsampler.bias\", \"channel_upsampler_t.weight\", \"channel_upsampler_t.bias\", \"channel_downsampler_t.weight\", \"channel_downsampler_t.bias\". \n\tsize mismatch for crosstransformer.norm_in.weight: copying a param with shape torch.Size([384]) from checkpoint, the shape in current model is torch.Size([512]).\n\tsize mismatch for crosstransformer.norm_in.bias: copying a param with shape torch.Size([384]) from checkpoint, the shape in current model is torch.Size([512]).\n\tsize mismatch for crosstransformer.norm_in_t.weight: copying a param with shape torch.Size([384]) from checkpoint, the shape in current model is torch.Size([512]).\n\tsize mismatch for crosstransformer.norm_in_t.bias: copying a param with shape torch.Size([384]) from checkpoint, the shape in current model is torch.Size([512]).\n\tsize mismatch for crosstransformer.layers.0.self_attn.in_proj_weight: copying a param with shape torch.Size([1152, 384]) from checkpoint, the shape in current model is torch.Size([1536, 512]).\n\tsize mismatch for crosstransformer.layers.0.self_attn.in_proj_bias: copying a param with shape torch.Size([1152]) from checkpoint, the shape in current model is torch.Size([1536]).\n\tsize mismatch for crosstransformer.layers.0.self_attn.out_proj.weight: copying a param with shape torch.Size([384, 384]) from checkpoint, the shape in current model is torch.Size([512, 512]).\n\tsize mismatch for crosstransformer.layers.0.self_attn.out_proj.bias: copying a param with shape torch.Size([384]) from checkpoint, the shape in current model is torch.Size([512]).\n\tsize mismatch for crosstransformer.layers.0.linear1.weight: copying a param with shape torch.Size([1536, 384]) from checkpoint, the shape in current model is torch.Size([2048, 512]).\n\tsize mismatch for crosstransformer.layers.0.linear1.bias: copying a param with shape torch.Size([1536]) from checkpoint, the shape in current model is torch.Size([2048]).\n\tsize mismatch for crosstransformer.layers.0.linear2.weight: copying a param with shape torch.Size([384, 1536]) from checkpoint, the shape in current model is torch.Size([512, 2048]).\n\tsize mismatch for crosstransformer.layers.0.linear2.bias: copying a param with shape torch.Size([384]) from checkpoint, the shape in current model is torch.Size([512]).\n\tsize mismatch for crosstransformer.layers.0.norm1.weight: copying a param with shape torch.Size([384]) from checkpoint, the shape in current model is torch.Size([512]).\n\tsize mismatch for crosstransformer.layers.0.norm1.bias: copying a param with shape torch.Size([384]) from checkpoint, the shape in current model is torch.Size([512]).\n\tsize mismatch for crosstransformer.layers.0.norm2.weight: copying a param with shape torch.Size([384]) from checkpoint, the shape in current model is torch.Size([512]).\n\tsize mismatch for crosstransformer.layers.0.norm2.bias: copying a param with shape torch.Size([384]) from checkpoint, the shape in current model is torch.Size([512]).\n\tsize mismatch for crosstransformer.layers.0.norm_out.weight: copying a param with shape torch.Size([384]) from checkpoint, the shape in current model is torch.Size([512]).\n\tsize mismatch for crosstransformer.layers.0.norm_out.bias: copying a param with shape torch.Size([384]) from checkpoint, the shape in current model is torch.Size([512]).\n\tsize mismatch for crosstransformer.layers.0.gamma_1.scale: copying a param with shape torch.Size([384]) from checkpoint, the shape in current model is torch.Size([512]).\n\tsize mismatch for crosstransformer.layers.0.gamma_2.scale: copying a param with shape torch.Size([384]) from checkpoint, the shape in current model is torch.Size([512]).\n\tsize mismatch for crosstransformer.layers.1.cross_attn.in_proj_weight: copying a param with shape torch.Size([1152, 384]) from checkpoint, the shape in current model is torch.Size([1536, 512]).\n\tsize mismatch for crosstransformer.layers.1.cross_attn.in_proj_bias: copying a param with shape torch.Size([1152]) from checkpoint, the shape in current model is torch.Size([1536]).\n\tsize mismatch for crosstransformer.layers.1.cross_attn.out_proj.weight: copying a param with shape torch.Size([384, 384]) from checkpoint, the shape in current model is torch.Size([512, 512]).\n\tsize mismatch for crosstransformer.layers.1.cross_attn.out_proj.bias: copying a param with shape torch.Size([384]) from checkpoint, the shape in current model is torch.Size([512]).\n\tsize mismatch for crosstransformer.layers.1.linear1.weight: copying a param with shape torch.Size([1536, 384]) from checkpoint, the shape in current model is torch.Size([2048, 512]).\n\tsize mismatch for crosstransformer.layers.1.linear1.bias: copying a param with shape torch.Size([1536]) from checkpoint, the shape in current model is torch.Size([2048]).\n\tsize mismatch for crosstransformer.layers.1.linear2.weight: copying a param with shape torch.Size([384, 1536]) from checkpoint, the shape in current model is torch.Size([512, 2048]).\n\tsize mismatch for crosstransformer.layers.1.linear2.bias: copying a param with shape torch.Size([384]) from checkpoint, the shape in current model is torch.Size([512]).\n\tsize mismatch for crosstransformer.layers.1.norm1.weight: copying a param with shape torch.Size([384]) from checkpoint, the shape in current model is torch.Size([512]).\n\tsize mismatch for crosstransformer.layers.1.norm1.bias: copying a param with shape torch.Size([384]) from checkpoint, the shape in current model is torch.Size([512]).\n\tsize mismatch for crosstransformer.layers.1.norm2.weight: copying a param with shape torch.Size([384]) from checkpoint, the shape in current model is torch.Size([512]).\n\tsize mismatch for crosstransformer.layers.1.norm2.bias: copying a param with shape torch.Size([384]) from checkpoint, the shape in current model is torch.Size([512]).\n\tsize mismatch for crosstransformer.layers.1.norm3.weight: copying a param with shape torch.Size([384]) from checkpoint, the shape in current model is torch.Size([512]).\n\tsize mismatch for crosstransformer.layers.1.norm3.bias: copying a param with shape torch.Size([384]) from checkpoint, the shape in current model is torch.Size([512]).\n\tsize mismatch for crosstransformer.layers.1.norm_out.weight: copying a param with shape torch.Size([384]) from checkpoint, the shape in current model is torch.Size([512]).\n\tsize mismatch for crosstransformer.layers.1.norm_out.bias: copying a param with shape torch.Size([384]) from checkpoint, the shape in current model is torch.Size([512]).\n\tsize mismatch for crosstransformer.layers.1.gamma_1.scale: copying a param with shape torch.Size([384]) from checkpoint, the shape in current model is torch.Size([512]).\n\tsize mismatch for crosstransformer.layers.1.gamma_2.scale: copying a param with shape torch.Size([384]) from checkpoint, the shape in current model is torch.Size([512]).\n\tsize mismatch for crosstransformer.layers.2.self_attn.in_proj_weight: copying a param with shape torch.Size([1152, 384]) from checkpoint, the shape in current model is torch.Size([1536, 512]).\n\tsize mismatch for crosstransformer.layers.2.self_attn.in_proj_bias: copying a param with shape torch.Size([1152]) from checkpoint, the shape in current model is torch.Size([1536]).\n\tsize mismatch for crosstransformer.layers.2.self_attn.out_proj.weight: copying a param with shape torch.Size([384, 384]) from checkpoint, the shape in current model is torch.Size([512, 512]).\n\tsize mismatch for crosstransformer.layers.2.self_attn.out_proj.bias: copying a param with shape torch.Size([384]) from checkpoint, the shape in current model is torch.Size([512]).\n\tsize mismatch for crosstransformer.layers.2.linear1.weight: copying a param with shape torch.Size([1536, 384]) from checkpoint, the shape in current model is torch.Size([2048, 512]).\n\tsize mismatch for crosstransformer.layers.2.linear1.bias: copying a param with shape torch.Size([1536]) from checkpoint, the shape in current model is torch.Size([2048]).\n\tsize mismatch for crosstransformer.layers.2.linear2.weight: copying a param with shape torch.Size([384, 1536]) from checkpoint, the shape in current model is torch.Size([512, 2048]).\n\tsize mismatch for crosstransformer.layers.2.linear2.bias: copying a param with shape torch.Size([384]) from checkpoint, the shape in current model is torch.Size([512]).\n\tsize mismatch for crosstransformer.layers.2.norm1.weight: copying a param with shape torch.Size([384]) from checkpoint, the shape in current model is torch.Size([512]).\n\tsize mismatch for crosstransformer.layers.2.norm1.bias: copying a param with shape torch.Size([384]) from checkpoint, the shape in current model is torch.Size([512]).\n\tsize mismatch for crosstransformer.layers.2.norm2.weight: copying a param with shape torch.Size([384]) from checkpoint, the shape in current model is torch.Size([512]).\n\tsize mismatch for crosstransformer.layers.2.norm2.bias: copying a param with shape torch.Size([384]) from checkpoint, the shape in current model is torch.Size([512]).\n\tsize mismatch for crosstransformer.layers.2.norm_out.weight: copying a param with shape torch.Size([384]) from checkpoint, the shape in current model is torch.Size([512]).\n\tsize mismatch for crosstransformer.layers.2.norm_out.bias: copying a param with shape torch.Size([384]) from checkpoint, the shape in current model is torch.Size([512]).\n\tsize mismatch for crosstransformer.layers.2.gamma_1.scale: copying a param with shape torch.Size([384]) from checkpoint, the shape in current model is torch.Size([512]).\n\tsize mismatch for crosstransformer.layers.2.gamma_2.scale: copying a param with shape torch.Size([384]) from checkpoint, the shape in current model is torch.Size([512]).\n\tsize mismatch for crosstransformer.layers.3.cross_attn.in_proj_weight: copying a param with shape torch.Size([1152, 384]) from checkpoint, the shape in current model is torch.Size([1536, 512]).\n\tsize mismatch for crosstransformer.layers.3.cross_attn.in_proj_bias: copying a param with shape torch.Size([1152]) from checkpoint, the shape in current model is torch.Size([1536]).\n\tsize mismatch for crosstransformer.layers.3.cross_attn.out_proj.weight: copying a param with shape torch.Size([384, 384]) from checkpoint, the shape in current model is torch.Size([512, 512]).\n\tsize mismatch for crosstransformer.layers.3.cross_attn.out_proj.bias: copying a param with shape torch.Size([384]) from checkpoint, the shape in current model is torch.Size([512]).\n\tsize mismatch for crosstransformer.layers.3.linear1.weight: copying a param with shape torch.Size([1536, 384]) from checkpoint, the shape in current model is torch.Size([2048, 512]).\n\tsize mismatch for crosstransformer.layers.3.linear1.bias: copying a param with shape torch.Size([1536]) from checkpoint, the shape in current model is torch.Size([2048]).\n\tsize mismatch for crosstransformer.layers.3.linear2.weight: copying a param with shape torch.Size([384, 1536]) from checkpoint, the shape in current model is torch.Size([512, 2048]).\n\tsize mismatch for crosstransformer.layers.3.linear2.bias: copying a param with shape torch.Size([384]) from checkpoint, the shape in current model is torch.Size([512]).\n\tsize mismatch for crosstransformer.layers.3.norm1.weight: copying a param with shape torch.Size([384]) from checkpoint, the shape in current model is torch.Size([512]).\n\tsize mismatch for crosstransformer.layers.3.norm1.bias: copying a param with shape torch.Size([384]) from checkpoint, the shape in current model is torch.Size([512]).\n\tsize mismatch for crosstransformer.layers.3.norm2.weight: copying a param with shape torch.Size([384]) from checkpoint, the shape in current model is torch.Size([512]).\n\tsize mismatch for crosstransformer.layers.3.norm2.bias: copying a param with shape torch.Size([384]) from checkpoint, the shape in current model is torch.Size([512]).\n\tsize mismatch for crosstransformer.layers.3.norm3.weight: copying a param with shape torch.Size([384]) from checkpoint, the shape in current model is torch.Size([512]).\n\tsize mismatch for crosstransformer.layers.3.norm3.bias: copying a param with shape torch.Size([384]) from checkpoint, the shape in current model is torch.Size([512]).\n\tsize mismatch for crosstransformer.layers.3.norm_out.weight: copying a param with shape torch.Size([384]) from checkpoint, the shape in current model is torch.Size([512]).\n\tsize mismatch for crosstransformer.layers.3.norm_out.bias: copying a param with shape torch.Size([384]) from checkpoint, the shape in current model is torch.Size([512]).\n\tsize mismatch for crosstransformer.layers.3.gamma_1.scale: copying a param with shape torch.Size([384]) from checkpoint, the shape in current model is torch.Size([512]).\n\tsize mismatch for crosstransformer.layers.3.gamma_2.scale: copying a param with shape torch.Size([384]) from checkpoint, the shape in current model is torch.Size([512]).\n\tsize mismatch for crosstransformer.layers.4.self_attn.in_proj_weight: copying a param with shape torch.Size([1152, 384]) from checkpoint, the shape in current model is torch.Size([1536, 512]).\n\tsize mismatch for crosstransformer.layers.4.self_attn.in_proj_bias: copying a param with shape torch.Size([1152]) from checkpoint, the shape in current model is torch.Size([1536]).\n\tsize mismatch for crosstransformer.layers.4.self_attn.out_proj.weight: copying a param with shape torch.Size([384, 384]) from checkpoint, the shape in current model is torch.Size([512, 512]).\n\tsize mismatch for crosstransformer.layers.4.self_attn.out_proj.bias: copying a param with shape torch.Size([384]) from checkpoint, the shape in current model is torch.Size([512]).\n\tsize mismatch for crosstransformer.layers.4.linear1.weight: copying a param with shape torch.Size([1536, 384]) from checkpoint, the shape in current model is torch.Size([2048, 512]).\n\tsize mismatch for crosstransformer.layers.4.linear1.bias: copying a param with shape torch.Size([1536]) from checkpoint, the shape in current model is torch.Size([2048]).\n\tsize mismatch for crosstransformer.layers.4.linear2.weight: copying a param with shape torch.Size([384, 1536]) from checkpoint, the shape in current model is torch.Size([512, 2048]).\n\tsize mismatch for crosstransformer.layers.4.linear2.bias: copying a param with shape torch.Size([384]) from checkpoint, the shape in current model is torch.Size([512]).\n\tsize mismatch for crosstransformer.layers.4.norm1.weight: copying a param with shape torch.Size([384]) from checkpoint, the shape in current model is torch.Size([512]).\n\tsize mismatch for crosstransformer.layers.4.norm1.bias: copying a param with shape torch.Size([384]) from checkpoint, the shape in current model is torch.Size([512]).\n\tsize mismatch for crosstransformer.layers.4.norm2.weight: copying a param with shape torch.Size([384]) from checkpoint, the shape in current model is torch.Size([512]).\n\tsize mismatch for crosstransformer.layers.4.norm2.bias: copying a param with shape torch.Size([384]) from checkpoint, the shape in current model is torch.Size([512]).\n\tsize mismatch for crosstransformer.layers.4.norm_out.weight: copying a param with shape torch.Size([384]) from checkpoint, the shape in current model is torch.Size([512]).\n\tsize mismatch for crosstransformer.layers.4.norm_out.bias: copying a param with shape torch.Size([384]) from checkpoint, the shape in current model is torch.Size([512]).\n\tsize mismatch for crosstransformer.layers.4.gamma_1.scale: copying a param with shape torch.Size([384]) from checkpoint, the shape in current model is torch.Size([512]).\n\tsize mismatch for crosstransformer.layers.4.gamma_2.scale: copying a param with shape torch.Size([384]) from checkpoint, the shape in current model is torch.Size([512]).\n\tsize mismatch for crosstransformer.layers_t.0.self_attn.in_proj_weight: copying a param with shape torch.Size([1152, 384]) from checkpoint, the shape in current model is torch.Size([1536, 512]).\n\tsize mismatch for crosstransformer.layers_t.0.self_attn.in_proj_bias: copying a param with shape torch.Size([1152]) from checkpoint, the shape in current model is torch.Size([1536]).\n\tsize mismatch for crosstransformer.layers_t.0.self_attn.out_proj.weight: copying a param with shape torch.Size([384, 384]) from checkpoint, the shape in current model is torch.Size([512, 512]).\n\tsize mismatch for crosstransformer.layers_t.0.self_attn.out_proj.bias: copying a param with shape torch.Size([384]) from checkpoint, the shape in current model is torch.Size([512]).\n\tsize mismatch for crosstransformer.layers_t.0.linear1.weight: copying a param with shape torch.Size([1536, 384]) from checkpoint, the shape in current model is torch.Size([2048, 512]).\n\tsize mismatch for crosstransformer.layers_t.0.linear1.bias: copying a param with shape torch.Size([1536]) from checkpoint, the shape in current model is torch.Size([2048]).\n\tsize mismatch for crosstransformer.layers_t.0.linear2.weight: copying a param with shape torch.Size([384, 1536]) from checkpoint, the shape in current model is torch.Size([512, 2048]).\n\tsize mismatch for crosstransformer.layers_t.0.linear2.bias: copying a param with shape torch.Size([384]) from checkpoint, the shape in current model is torch.Size([512]).\n\tsize mismatch for crosstransformer.layers_t.0.norm1.weight: copying a param with shape torch.Size([384]) from checkpoint, the shape in current model is torch.Size([512]).\n\tsize mismatch for crosstransformer.layers_t.0.norm1.bias: copying a param with shape torch.Size([384]) from checkpoint, the shape in current model is torch.Size([512]).\n\tsize mismatch for crosstransformer.layers_t.0.norm2.weight: copying a param with shape torch.Size([384]) from checkpoint, the shape in current model is torch.Size([512]).\n\tsize mismatch for crosstransformer.layers_t.0.norm2.bias: copying a param with shape torch.Size([384]) from checkpoint, the shape in current model is torch.Size([512]).\n\tsize mismatch for crosstransformer.layers_t.0.norm_out.weight: copying a param with shape torch.Size([384]) from checkpoint, the shape in current model is torch.Size([512]).\n\tsize mismatch for crosstransformer.layers_t.0.norm_out.bias: copying a param with shape torch.Size([384]) from checkpoint, the shape in current model is torch.Size([512]).\n\tsize mismatch for crosstransformer.layers_t.0.gamma_1.scale: copying a param with shape torch.Size([384]) from checkpoint, the shape in current model is torch.Size([512]).\n\tsize mismatch for crosstransformer.layers_t.0.gamma_2.scale: copying a param with shape torch.Size([384]) from checkpoint, the shape in current model is torch.Size([512]).\n\tsize mismatch for crosstransformer.layers_t.1.cross_attn.in_proj_weight: copying a param with shape torch.Size([1152, 384]) from checkpoint, the shape in current model is torch.Size([1536, 512]).\n\tsize mismatch for crosstransformer.layers_t.1.cross_attn.in_proj_bias: copying a param with shape torch.Size([1152]) from checkpoint, the shape in current model is torch.Size([1536]).\n\tsize mismatch for crosstransformer.layers_t.1.cross_attn.out_proj.weight: copying a param with shape torch.Size([384, 384]) from checkpoint, the shape in current model is torch.Size([512, 512]).\n\tsize mismatch for crosstransformer.layers_t.1.cross_attn.out_proj.bias: copying a param with shape torch.Size([384]) from checkpoint, the shape in current model is torch.Size([512]).\n\tsize mismatch for crosstransformer.layers_t.1.linear1.weight: copying a param with shape torch.Size([1536, 384]) from checkpoint, the shape in current model is torch.Size([2048, 512]).\n\tsize mismatch for crosstransformer.layers_t.1.linear1.bias: copying a param with shape torch.Size([1536]) from checkpoint, the shape in current model is torch.Size([2048]).\n\tsize mismatch for crosstransformer.layers_t.1.linear2.weight: copying a param with shape torch.Size([384, 1536]) from checkpoint, the shape in current model is torch.Size([512, 2048]).\n\tsize mismatch for crosstransformer.layers_t.1.linear2.bias: copying a param with shape torch.Size([384]) from checkpoint, the shape in current model is torch.Size([512]).\n\tsize mismatch for crosstransformer.layers_t.1.norm1.weight: copying a param with shape torch.Size([384]) from checkpoint, the shape in current model is torch.Size([512]).\n\tsize mismatch for crosstransformer.layers_t.1.norm1.bias: copying a param with shape torch.Size([384]) from checkpoint, the shape in current model is torch.Size([512]).\n\tsize mismatch for crosstransformer.layers_t.1.norm2.weight: copying a param with shape torch.Size([384]) from checkpoint, the shape in current model is torch.Size([512]).\n\tsize mismatch for crosstransformer.layers_t.1.norm2.bias: copying a param with shape torch.Size([384]) from checkpoint, the shape in current model is torch.Size([512]).\n\tsize mismatch for crosstransformer.layers_t.1.norm3.weight: copying a param with shape torch.Size([384]) from checkpoint, the shape in current model is torch.Size([512]).\n\tsize mismatch for crosstransformer.layers_t.1.norm3.bias: copying a param with shape torch.Size([384]) from checkpoint, the shape in current model is torch.Size([512]).\n\tsize mismatch for crosstransformer.layers_t.1.norm_out.weight: copying a param with shape torch.Size([384]) from checkpoint, the shape in current model is torch.Size([512]).\n\tsize mismatch for crosstransformer.layers_t.1.norm_out.bias: copying a param with shape torch.Size([384]) from checkpoint, the shape in current model is torch.Size([512]).\n\tsize mismatch for crosstransformer.layers_t.1.gamma_1.scale: copying a param with shape torch.Size([384]) from checkpoint, the shape in current model is torch.Size([512]).\n\tsize mismatch for crosstransformer.layers_t.1.gamma_2.scale: copying a param with shape torch.Size([384]) from checkpoint, the shape in current model is torch.Size([512]).\n\tsize mismatch for crosstransformer.layers_t.2.self_attn.in_proj_weight: copying a param with shape torch.Size([1152, 384]) from checkpoint, the shape in current model is torch.Size([1536, 512]).\n\tsize mismatch for crosstransformer.layers_t.2.self_attn.in_proj_bias: copying a param with shape torch.Size([1152]) from checkpoint, the shape in current model is torch.Size([1536]).\n\tsize mismatch for crosstransformer.layers_t.2.self_attn.out_proj.weight: copying a param with shape torch.Size([384, 384]) from checkpoint, the shape in current model is torch.Size([512, 512]).\n\tsize mismatch for crosstransformer.layers_t.2.self_attn.out_proj.bias: copying a param with shape torch.Size([384]) from checkpoint, the shape in current model is torch.Size([512]).\n\tsize mismatch for crosstransformer.layers_t.2.linear1.weight: copying a param with shape torch.Size([1536, 384]) from checkpoint, the shape in current model is torch.Size([2048, 512]).\n\tsize mismatch for crosstransformer.layers_t.2.linear1.bias: copying a param with shape torch.Size([1536]) from checkpoint, the shape in current model is torch.Size([2048]).\n\tsize mismatch for crosstransformer.layers_t.2.linear2.weight: copying a param with shape torch.Size([384, 1536]) from checkpoint, the shape in current model is torch.Size([512, 2048]).\n\tsize mismatch for crosstransformer.layers_t.2.linear2.bias: copying a param with shape torch.Size([384]) from checkpoint, the shape in current model is torch.Size([512]).\n\tsize mismatch for crosstransformer.layers_t.2.norm1.weight: copying a param with shape torch.Size([384]) from checkpoint, the shape in current model is torch.Size([512]).\n\tsize mismatch for crosstransformer.layers_t.2.norm1.bias: copying a param with shape torch.Size([384]) from checkpoint, the shape in current model is torch.Size([512]).\n\tsize mismatch for crosstransformer.layers_t.2.norm2.weight: copying a param with shape torch.Size([384]) from checkpoint, the shape in current model is torch.Size([512]).\n\tsize mismatch for crosstransformer.layers_t.2.norm2.bias: copying a param with shape torch.Size([384]) from checkpoint, the shape in current model is torch.Size([512]).\n\tsize mismatch for crosstransformer.layers_t.2.norm_out.weight: copying a param with shape torch.Size([384]) from checkpoint, the shape in current model is torch.Size([512]).\n\tsize mismatch for crosstransformer.layers_t.2.norm_out.bias: copying a param with shape torch.Size([384]) from checkpoint, the shape in current model is torch.Size([512]).\n\tsize mismatch for crosstransformer.layers_t.2.gamma_1.scale: copying a param with shape torch.Size([384]) from checkpoint, the shape in current model is torch.Size([512]).\n\tsize mismatch for crosstransformer.layers_t.2.gamma_2.scale: copying a param with shape torch.Size([384]) from checkpoint, the shape in current model is torch.Size([512]).\n\tsize mismatch for crosstransformer.layers_t.3.cross_attn.in_proj_weight: copying a param with shape torch.Size([1152, 384]) from checkpoint, the shape in current model is torch.Size([1536, 512]).\n\tsize mismatch for crosstransformer.layers_t.3.cross_attn.in_proj_bias: copying a param with shape torch.Size([1152]) from checkpoint, the shape in current model is torch.Size([1536]).\n\tsize mismatch for crosstransformer.layers_t.3.cross_attn.out_proj.weight: copying a param with shape torch.Size([384, 384]) from checkpoint, the shape in current model is torch.Size([512, 512]).\n\tsize mismatch for crosstransformer.layers_t.3.cross_attn.out_proj.bias: copying a param with shape torch.Size([384]) from checkpoint, the shape in current model is torch.Size([512]).\n\tsize mismatch for crosstransformer.layers_t.3.linear1.weight: copying a param with shape torch.Size([1536, 384]) from checkpoint, the shape in current model is torch.Size([2048, 512]).\n\tsize mismatch for crosstransformer.layers_t.3.linear1.bias: copying a param with shape torch.Size([1536]) from checkpoint, the shape in current model is torch.Size([2048]).\n\tsize mismatch for crosstransformer.layers_t.3.linear2.weight: copying a param with shape torch.Size([384, 1536]) from checkpoint, the shape in current model is torch.Size([512, 2048]).\n\tsize mismatch for crosstransformer.layers_t.3.linear2.bias: copying a param with shape torch.Size([384]) from checkpoint, the shape in current model is torch.Size([512]).\n\tsize mismatch for crosstransformer.layers_t.3.norm1.weight: copying a param with shape torch.Size([384]) from checkpoint, the shape in current model is torch.Size([512]).\n\tsize mismatch for crosstransformer.layers_t.3.norm1.bias: copying a param with shape torch.Size([384]) from checkpoint, the shape in current model is torch.Size([512]).\n\tsize mismatch for crosstransformer.layers_t.3.norm2.weight: copying a param with shape torch.Size([384]) from checkpoint, the shape in current model is torch.Size([512]).\n\tsize mismatch for crosstransformer.layers_t.3.norm2.bias: copying a param with shape torch.Size([384]) from checkpoint, the shape in current model is torch.Size([512]).\n\tsize mismatch for crosstransformer.layers_t.3.norm3.weight: copying a param with shape torch.Size([384]) from checkpoint, the shape in current model is torch.Size([512]).\n\tsize mismatch for crosstransformer.layers_t.3.norm3.bias: copying a param with shape torch.Size([384]) from checkpoint, the shape in current model is torch.Size([512]).\n\tsize mismatch for crosstransformer.layers_t.3.norm_out.weight: copying a param with shape torch.Size([384]) from checkpoint, the shape in current model is torch.Size([512]).\n\tsize mismatch for crosstransformer.layers_t.3.norm_out.bias: copying a param with shape torch.Size([384]) from checkpoint, the shape in current model is torch.Size([512]).\n\tsize mismatch for crosstransformer.layers_t.3.gamma_1.scale: copying a param with shape torch.Size([384]) from checkpoint, the shape in current model is torch.Size([512]).\n\tsize mismatch for crosstransformer.layers_t.3.gamma_2.scale: copying a param with shape torch.Size([384]) from checkpoint, the shape in current model is torch.Size([512]).\n\tsize mismatch for crosstransformer.layers_t.4.self_attn.in_proj_weight: copying a param with shape torch.Size([1152, 384]) from checkpoint, the shape in current model is torch.Size([1536, 512]).\n\tsize mismatch for crosstransformer.layers_t.4.self_attn.in_proj_bias: copying a param with shape torch.Size([1152]) from checkpoint, the shape in current model is torch.Size([1536]).\n\tsize mismatch for crosstransformer.layers_t.4.self_attn.out_proj.weight: copying a param with shape torch.Size([384, 384]) from checkpoint, the shape in current model is torch.Size([512, 512]).\n\tsize mismatch for crosstransformer.layers_t.4.self_attn.out_proj.bias: copying a param with shape torch.Size([384]) from checkpoint, the shape in current model is torch.Size([512]).\n\tsize mismatch for crosstransformer.layers_t.4.linear1.weight: copying a param with shape torch.Size([1536, 384]) from checkpoint, the shape in current model is torch.Size([2048, 512]).\n\tsize mismatch for crosstransformer.layers_t.4.linear1.bias: copying a param with shape torch.Size([1536]) from checkpoint, the shape in current model is torch.Size([2048]).\n\tsize mismatch for crosstransformer.layers_t.4.linear2.weight: copying a param with shape torch.Size([384, 1536]) from checkpoint, the shape in current model is torch.Size([512, 2048]).\n\tsize mismatch for crosstransformer.layers_t.4.linear2.bias: copying a param with shape torch.Size([384]) from checkpoint, the shape in current model is torch.Size([512]).\n\tsize mismatch for crosstransformer.layers_t.4.norm1.weight: copying a param with shape torch.Size([384]) from checkpoint, the shape in current model is torch.Size([512]).\n\tsize mismatch for crosstransformer.layers_t.4.norm1.bias: copying a param with shape torch.Size([384]) from checkpoint, the shape in current model is torch.Size([512]).\n\tsize mismatch for crosstransformer.layers_t.4.norm2.weight: copying a param with shape torch.Size([384]) from checkpoint, the shape in current model is torch.Size([512]).\n\tsize mismatch for crosstransformer.layers_t.4.norm2.bias: copying a param with shape torch.Size([384]) from checkpoint, the shape in current model is torch.Size([512]).\n\tsize mismatch for crosstransformer.layers_t.4.norm_out.weight: copying a param with shape torch.Size([384]) from checkpoint, the shape in current model is torch.Size([512]).\n\tsize mismatch for crosstransformer.layers_t.4.norm_out.bias: copying a param with shape torch.Size([384]) from checkpoint, the shape in current model is torch.Size([512]).\n\tsize mismatch for crosstransformer.layers_t.4.gamma_1.scale: copying a param with shape torch.Size([384]) from checkpoint, the shape in current model is torch.Size([512]).\n\tsize mismatch for crosstransformer.layers_t.4.gamma_2.scale: copying a param with shape torch.Size([384]) from checkpoint, the shape in current model is torch.Size([512]).",
     "output_type": "error",
     "traceback": [
      "\u001b[0;31m---------------------------------------------------------------------------\u001b[0m",
      "\u001b[0;31mRuntimeError\u001b[0m                              Traceback (most recent call last)",
      "Cell \u001b[0;32mIn[38], line 40\u001b[0m\n\u001b[1;32m     37\u001b[0m     \u001b[38;5;28mprint\u001b[39m(\u001b[38;5;124m\"\u001b[39m\u001b[38;5;124mLoaded state_dict into the model.\u001b[39m\u001b[38;5;124m\"\u001b[39m)\n\u001b[1;32m     38\u001b[0m \u001b[38;5;28;01melse\u001b[39;00m:\n\u001b[1;32m     39\u001b[0m     \u001b[38;5;66;03m# If the checkpoint is the full model\u001b[39;00m\n\u001b[0;32m---> 40\u001b[0m     \u001b[43mcheckpoint_model\u001b[49m\u001b[38;5;241;43m.\u001b[39;49m\u001b[43mload_state_dict\u001b[49m\u001b[43m(\u001b[49m\u001b[43mcheckpoint\u001b[49m\u001b[43m)\u001b[49m\n\u001b[1;32m     41\u001b[0m     \u001b[38;5;28mprint\u001b[39m(\u001b[38;5;124m\"\u001b[39m\u001b[38;5;124mLoaded full model directly.\u001b[39m\u001b[38;5;124m\"\u001b[39m)\n\u001b[1;32m     43\u001b[0m \u001b[38;5;66;03m# Set the model to evaluation mode (if needed)\u001b[39;00m\n",
      "File \u001b[0;32m~/.pyenv/shims/versions/dl4cv_final/lib/python3.12/site-packages/torch/nn/modules/module.py:2584\u001b[0m, in \u001b[0;36mModule.load_state_dict\u001b[0;34m(self, state_dict, strict, assign)\u001b[0m\n\u001b[1;32m   2576\u001b[0m         error_msgs\u001b[38;5;241m.\u001b[39minsert(\n\u001b[1;32m   2577\u001b[0m             \u001b[38;5;241m0\u001b[39m,\n\u001b[1;32m   2578\u001b[0m             \u001b[38;5;124m\"\u001b[39m\u001b[38;5;124mMissing key(s) in state_dict: \u001b[39m\u001b[38;5;132;01m{}\u001b[39;00m\u001b[38;5;124m. \u001b[39m\u001b[38;5;124m\"\u001b[39m\u001b[38;5;241m.\u001b[39mformat(\n\u001b[1;32m   2579\u001b[0m                 \u001b[38;5;124m\"\u001b[39m\u001b[38;5;124m, \u001b[39m\u001b[38;5;124m\"\u001b[39m\u001b[38;5;241m.\u001b[39mjoin(\u001b[38;5;124mf\u001b[39m\u001b[38;5;124m'\u001b[39m\u001b[38;5;124m\"\u001b[39m\u001b[38;5;132;01m{\u001b[39;00mk\u001b[38;5;132;01m}\u001b[39;00m\u001b[38;5;124m\"\u001b[39m\u001b[38;5;124m'\u001b[39m \u001b[38;5;28;01mfor\u001b[39;00m k \u001b[38;5;129;01min\u001b[39;00m missing_keys)\n\u001b[1;32m   2580\u001b[0m             ),\n\u001b[1;32m   2581\u001b[0m         )\n\u001b[1;32m   2583\u001b[0m \u001b[38;5;28;01mif\u001b[39;00m \u001b[38;5;28mlen\u001b[39m(error_msgs) \u001b[38;5;241m>\u001b[39m \u001b[38;5;241m0\u001b[39m:\n\u001b[0;32m-> 2584\u001b[0m     \u001b[38;5;28;01mraise\u001b[39;00m \u001b[38;5;167;01mRuntimeError\u001b[39;00m(\n\u001b[1;32m   2585\u001b[0m         \u001b[38;5;124m\"\u001b[39m\u001b[38;5;124mError(s) in loading state_dict for \u001b[39m\u001b[38;5;132;01m{}\u001b[39;00m\u001b[38;5;124m:\u001b[39m\u001b[38;5;130;01m\\n\u001b[39;00m\u001b[38;5;130;01m\\t\u001b[39;00m\u001b[38;5;132;01m{}\u001b[39;00m\u001b[38;5;124m\"\u001b[39m\u001b[38;5;241m.\u001b[39mformat(\n\u001b[1;32m   2586\u001b[0m             \u001b[38;5;28mself\u001b[39m\u001b[38;5;241m.\u001b[39m\u001b[38;5;18m__class__\u001b[39m\u001b[38;5;241m.\u001b[39m\u001b[38;5;18m__name__\u001b[39m, \u001b[38;5;124m\"\u001b[39m\u001b[38;5;130;01m\\n\u001b[39;00m\u001b[38;5;130;01m\\t\u001b[39;00m\u001b[38;5;124m\"\u001b[39m\u001b[38;5;241m.\u001b[39mjoin(error_msgs)\n\u001b[1;32m   2587\u001b[0m         )\n\u001b[1;32m   2588\u001b[0m     )\n\u001b[1;32m   2589\u001b[0m \u001b[38;5;28;01mreturn\u001b[39;00m _IncompatibleKeys(missing_keys, unexpected_keys)\n",
      "\u001b[0;31mRuntimeError\u001b[0m: Error(s) in loading state_dict for HTDemucs:\n\tMissing key(s) in state_dict: \"channel_upsampler.weight\", \"channel_upsampler.bias\", \"channel_downsampler.weight\", \"channel_downsampler.bias\", \"channel_upsampler_t.weight\", \"channel_upsampler_t.bias\", \"channel_downsampler_t.weight\", \"channel_downsampler_t.bias\". \n\tsize mismatch for crosstransformer.norm_in.weight: copying a param with shape torch.Size([384]) from checkpoint, the shape in current model is torch.Size([512]).\n\tsize mismatch for crosstransformer.norm_in.bias: copying a param with shape torch.Size([384]) from checkpoint, the shape in current model is torch.Size([512]).\n\tsize mismatch for crosstransformer.norm_in_t.weight: copying a param with shape torch.Size([384]) from checkpoint, the shape in current model is torch.Size([512]).\n\tsize mismatch for crosstransformer.norm_in_t.bias: copying a param with shape torch.Size([384]) from checkpoint, the shape in current model is torch.Size([512]).\n\tsize mismatch for crosstransformer.layers.0.self_attn.in_proj_weight: copying a param with shape torch.Size([1152, 384]) from checkpoint, the shape in current model is torch.Size([1536, 512]).\n\tsize mismatch for crosstransformer.layers.0.self_attn.in_proj_bias: copying a param with shape torch.Size([1152]) from checkpoint, the shape in current model is torch.Size([1536]).\n\tsize mismatch for crosstransformer.layers.0.self_attn.out_proj.weight: copying a param with shape torch.Size([384, 384]) from checkpoint, the shape in current model is torch.Size([512, 512]).\n\tsize mismatch for crosstransformer.layers.0.self_attn.out_proj.bias: copying a param with shape torch.Size([384]) from checkpoint, the shape in current model is torch.Size([512]).\n\tsize mismatch for crosstransformer.layers.0.linear1.weight: copying a param with shape torch.Size([1536, 384]) from checkpoint, the shape in current model is torch.Size([2048, 512]).\n\tsize mismatch for crosstransformer.layers.0.linear1.bias: copying a param with shape torch.Size([1536]) from checkpoint, the shape in current model is torch.Size([2048]).\n\tsize mismatch for crosstransformer.layers.0.linear2.weight: copying a param with shape torch.Size([384, 1536]) from checkpoint, the shape in current model is torch.Size([512, 2048]).\n\tsize mismatch for crosstransformer.layers.0.linear2.bias: copying a param with shape torch.Size([384]) from checkpoint, the shape in current model is torch.Size([512]).\n\tsize mismatch for crosstransformer.layers.0.norm1.weight: copying a param with shape torch.Size([384]) from checkpoint, the shape in current model is torch.Size([512]).\n\tsize mismatch for crosstransformer.layers.0.norm1.bias: copying a param with shape torch.Size([384]) from checkpoint, the shape in current model is torch.Size([512]).\n\tsize mismatch for crosstransformer.layers.0.norm2.weight: copying a param with shape torch.Size([384]) from checkpoint, the shape in current model is torch.Size([512]).\n\tsize mismatch for crosstransformer.layers.0.norm2.bias: copying a param with shape torch.Size([384]) from checkpoint, the shape in current model is torch.Size([512]).\n\tsize mismatch for crosstransformer.layers.0.norm_out.weight: copying a param with shape torch.Size([384]) from checkpoint, the shape in current model is torch.Size([512]).\n\tsize mismatch for crosstransformer.layers.0.norm_out.bias: copying a param with shape torch.Size([384]) from checkpoint, the shape in current model is torch.Size([512]).\n\tsize mismatch for crosstransformer.layers.0.gamma_1.scale: copying a param with shape torch.Size([384]) from checkpoint, the shape in current model is torch.Size([512]).\n\tsize mismatch for crosstransformer.layers.0.gamma_2.scale: copying a param with shape torch.Size([384]) from checkpoint, the shape in current model is torch.Size([512]).\n\tsize mismatch for crosstransformer.layers.1.cross_attn.in_proj_weight: copying a param with shape torch.Size([1152, 384]) from checkpoint, the shape in current model is torch.Size([1536, 512]).\n\tsize mismatch for crosstransformer.layers.1.cross_attn.in_proj_bias: copying a param with shape torch.Size([1152]) from checkpoint, the shape in current model is torch.Size([1536]).\n\tsize mismatch for crosstransformer.layers.1.cross_attn.out_proj.weight: copying a param with shape torch.Size([384, 384]) from checkpoint, the shape in current model is torch.Size([512, 512]).\n\tsize mismatch for crosstransformer.layers.1.cross_attn.out_proj.bias: copying a param with shape torch.Size([384]) from checkpoint, the shape in current model is torch.Size([512]).\n\tsize mismatch for crosstransformer.layers.1.linear1.weight: copying a param with shape torch.Size([1536, 384]) from checkpoint, the shape in current model is torch.Size([2048, 512]).\n\tsize mismatch for crosstransformer.layers.1.linear1.bias: copying a param with shape torch.Size([1536]) from checkpoint, the shape in current model is torch.Size([2048]).\n\tsize mismatch for crosstransformer.layers.1.linear2.weight: copying a param with shape torch.Size([384, 1536]) from checkpoint, the shape in current model is torch.Size([512, 2048]).\n\tsize mismatch for crosstransformer.layers.1.linear2.bias: copying a param with shape torch.Size([384]) from checkpoint, the shape in current model is torch.Size([512]).\n\tsize mismatch for crosstransformer.layers.1.norm1.weight: copying a param with shape torch.Size([384]) from checkpoint, the shape in current model is torch.Size([512]).\n\tsize mismatch for crosstransformer.layers.1.norm1.bias: copying a param with shape torch.Size([384]) from checkpoint, the shape in current model is torch.Size([512]).\n\tsize mismatch for crosstransformer.layers.1.norm2.weight: copying a param with shape torch.Size([384]) from checkpoint, the shape in current model is torch.Size([512]).\n\tsize mismatch for crosstransformer.layers.1.norm2.bias: copying a param with shape torch.Size([384]) from checkpoint, the shape in current model is torch.Size([512]).\n\tsize mismatch for crosstransformer.layers.1.norm3.weight: copying a param with shape torch.Size([384]) from checkpoint, the shape in current model is torch.Size([512]).\n\tsize mismatch for crosstransformer.layers.1.norm3.bias: copying a param with shape torch.Size([384]) from checkpoint, the shape in current model is torch.Size([512]).\n\tsize mismatch for crosstransformer.layers.1.norm_out.weight: copying a param with shape torch.Size([384]) from checkpoint, the shape in current model is torch.Size([512]).\n\tsize mismatch for crosstransformer.layers.1.norm_out.bias: copying a param with shape torch.Size([384]) from checkpoint, the shape in current model is torch.Size([512]).\n\tsize mismatch for crosstransformer.layers.1.gamma_1.scale: copying a param with shape torch.Size([384]) from checkpoint, the shape in current model is torch.Size([512]).\n\tsize mismatch for crosstransformer.layers.1.gamma_2.scale: copying a param with shape torch.Size([384]) from checkpoint, the shape in current model is torch.Size([512]).\n\tsize mismatch for crosstransformer.layers.2.self_attn.in_proj_weight: copying a param with shape torch.Size([1152, 384]) from checkpoint, the shape in current model is torch.Size([1536, 512]).\n\tsize mismatch for crosstransformer.layers.2.self_attn.in_proj_bias: copying a param with shape torch.Size([1152]) from checkpoint, the shape in current model is torch.Size([1536]).\n\tsize mismatch for crosstransformer.layers.2.self_attn.out_proj.weight: copying a param with shape torch.Size([384, 384]) from checkpoint, the shape in current model is torch.Size([512, 512]).\n\tsize mismatch for crosstransformer.layers.2.self_attn.out_proj.bias: copying a param with shape torch.Size([384]) from checkpoint, the shape in current model is torch.Size([512]).\n\tsize mismatch for crosstransformer.layers.2.linear1.weight: copying a param with shape torch.Size([1536, 384]) from checkpoint, the shape in current model is torch.Size([2048, 512]).\n\tsize mismatch for crosstransformer.layers.2.linear1.bias: copying a param with shape torch.Size([1536]) from checkpoint, the shape in current model is torch.Size([2048]).\n\tsize mismatch for crosstransformer.layers.2.linear2.weight: copying a param with shape torch.Size([384, 1536]) from checkpoint, the shape in current model is torch.Size([512, 2048]).\n\tsize mismatch for crosstransformer.layers.2.linear2.bias: copying a param with shape torch.Size([384]) from checkpoint, the shape in current model is torch.Size([512]).\n\tsize mismatch for crosstransformer.layers.2.norm1.weight: copying a param with shape torch.Size([384]) from checkpoint, the shape in current model is torch.Size([512]).\n\tsize mismatch for crosstransformer.layers.2.norm1.bias: copying a param with shape torch.Size([384]) from checkpoint, the shape in current model is torch.Size([512]).\n\tsize mismatch for crosstransformer.layers.2.norm2.weight: copying a param with shape torch.Size([384]) from checkpoint, the shape in current model is torch.Size([512]).\n\tsize mismatch for crosstransformer.layers.2.norm2.bias: copying a param with shape torch.Size([384]) from checkpoint, the shape in current model is torch.Size([512]).\n\tsize mismatch for crosstransformer.layers.2.norm_out.weight: copying a param with shape torch.Size([384]) from checkpoint, the shape in current model is torch.Size([512]).\n\tsize mismatch for crosstransformer.layers.2.norm_out.bias: copying a param with shape torch.Size([384]) from checkpoint, the shape in current model is torch.Size([512]).\n\tsize mismatch for crosstransformer.layers.2.gamma_1.scale: copying a param with shape torch.Size([384]) from checkpoint, the shape in current model is torch.Size([512]).\n\tsize mismatch for crosstransformer.layers.2.gamma_2.scale: copying a param with shape torch.Size([384]) from checkpoint, the shape in current model is torch.Size([512]).\n\tsize mismatch for crosstransformer.layers.3.cross_attn.in_proj_weight: copying a param with shape torch.Size([1152, 384]) from checkpoint, the shape in current model is torch.Size([1536, 512]).\n\tsize mismatch for crosstransformer.layers.3.cross_attn.in_proj_bias: copying a param with shape torch.Size([1152]) from checkpoint, the shape in current model is torch.Size([1536]).\n\tsize mismatch for crosstransformer.layers.3.cross_attn.out_proj.weight: copying a param with shape torch.Size([384, 384]) from checkpoint, the shape in current model is torch.Size([512, 512]).\n\tsize mismatch for crosstransformer.layers.3.cross_attn.out_proj.bias: copying a param with shape torch.Size([384]) from checkpoint, the shape in current model is torch.Size([512]).\n\tsize mismatch for crosstransformer.layers.3.linear1.weight: copying a param with shape torch.Size([1536, 384]) from checkpoint, the shape in current model is torch.Size([2048, 512]).\n\tsize mismatch for crosstransformer.layers.3.linear1.bias: copying a param with shape torch.Size([1536]) from checkpoint, the shape in current model is torch.Size([2048]).\n\tsize mismatch for crosstransformer.layers.3.linear2.weight: copying a param with shape torch.Size([384, 1536]) from checkpoint, the shape in current model is torch.Size([512, 2048]).\n\tsize mismatch for crosstransformer.layers.3.linear2.bias: copying a param with shape torch.Size([384]) from checkpoint, the shape in current model is torch.Size([512]).\n\tsize mismatch for crosstransformer.layers.3.norm1.weight: copying a param with shape torch.Size([384]) from checkpoint, the shape in current model is torch.Size([512]).\n\tsize mismatch for crosstransformer.layers.3.norm1.bias: copying a param with shape torch.Size([384]) from checkpoint, the shape in current model is torch.Size([512]).\n\tsize mismatch for crosstransformer.layers.3.norm2.weight: copying a param with shape torch.Size([384]) from checkpoint, the shape in current model is torch.Size([512]).\n\tsize mismatch for crosstransformer.layers.3.norm2.bias: copying a param with shape torch.Size([384]) from checkpoint, the shape in current model is torch.Size([512]).\n\tsize mismatch for crosstransformer.layers.3.norm3.weight: copying a param with shape torch.Size([384]) from checkpoint, the shape in current model is torch.Size([512]).\n\tsize mismatch for crosstransformer.layers.3.norm3.bias: copying a param with shape torch.Size([384]) from checkpoint, the shape in current model is torch.Size([512]).\n\tsize mismatch for crosstransformer.layers.3.norm_out.weight: copying a param with shape torch.Size([384]) from checkpoint, the shape in current model is torch.Size([512]).\n\tsize mismatch for crosstransformer.layers.3.norm_out.bias: copying a param with shape torch.Size([384]) from checkpoint, the shape in current model is torch.Size([512]).\n\tsize mismatch for crosstransformer.layers.3.gamma_1.scale: copying a param with shape torch.Size([384]) from checkpoint, the shape in current model is torch.Size([512]).\n\tsize mismatch for crosstransformer.layers.3.gamma_2.scale: copying a param with shape torch.Size([384]) from checkpoint, the shape in current model is torch.Size([512]).\n\tsize mismatch for crosstransformer.layers.4.self_attn.in_proj_weight: copying a param with shape torch.Size([1152, 384]) from checkpoint, the shape in current model is torch.Size([1536, 512]).\n\tsize mismatch for crosstransformer.layers.4.self_attn.in_proj_bias: copying a param with shape torch.Size([1152]) from checkpoint, the shape in current model is torch.Size([1536]).\n\tsize mismatch for crosstransformer.layers.4.self_attn.out_proj.weight: copying a param with shape torch.Size([384, 384]) from checkpoint, the shape in current model is torch.Size([512, 512]).\n\tsize mismatch for crosstransformer.layers.4.self_attn.out_proj.bias: copying a param with shape torch.Size([384]) from checkpoint, the shape in current model is torch.Size([512]).\n\tsize mismatch for crosstransformer.layers.4.linear1.weight: copying a param with shape torch.Size([1536, 384]) from checkpoint, the shape in current model is torch.Size([2048, 512]).\n\tsize mismatch for crosstransformer.layers.4.linear1.bias: copying a param with shape torch.Size([1536]) from checkpoint, the shape in current model is torch.Size([2048]).\n\tsize mismatch for crosstransformer.layers.4.linear2.weight: copying a param with shape torch.Size([384, 1536]) from checkpoint, the shape in current model is torch.Size([512, 2048]).\n\tsize mismatch for crosstransformer.layers.4.linear2.bias: copying a param with shape torch.Size([384]) from checkpoint, the shape in current model is torch.Size([512]).\n\tsize mismatch for crosstransformer.layers.4.norm1.weight: copying a param with shape torch.Size([384]) from checkpoint, the shape in current model is torch.Size([512]).\n\tsize mismatch for crosstransformer.layers.4.norm1.bias: copying a param with shape torch.Size([384]) from checkpoint, the shape in current model is torch.Size([512]).\n\tsize mismatch for crosstransformer.layers.4.norm2.weight: copying a param with shape torch.Size([384]) from checkpoint, the shape in current model is torch.Size([512]).\n\tsize mismatch for crosstransformer.layers.4.norm2.bias: copying a param with shape torch.Size([384]) from checkpoint, the shape in current model is torch.Size([512]).\n\tsize mismatch for crosstransformer.layers.4.norm_out.weight: copying a param with shape torch.Size([384]) from checkpoint, the shape in current model is torch.Size([512]).\n\tsize mismatch for crosstransformer.layers.4.norm_out.bias: copying a param with shape torch.Size([384]) from checkpoint, the shape in current model is torch.Size([512]).\n\tsize mismatch for crosstransformer.layers.4.gamma_1.scale: copying a param with shape torch.Size([384]) from checkpoint, the shape in current model is torch.Size([512]).\n\tsize mismatch for crosstransformer.layers.4.gamma_2.scale: copying a param with shape torch.Size([384]) from checkpoint, the shape in current model is torch.Size([512]).\n\tsize mismatch for crosstransformer.layers_t.0.self_attn.in_proj_weight: copying a param with shape torch.Size([1152, 384]) from checkpoint, the shape in current model is torch.Size([1536, 512]).\n\tsize mismatch for crosstransformer.layers_t.0.self_attn.in_proj_bias: copying a param with shape torch.Size([1152]) from checkpoint, the shape in current model is torch.Size([1536]).\n\tsize mismatch for crosstransformer.layers_t.0.self_attn.out_proj.weight: copying a param with shape torch.Size([384, 384]) from checkpoint, the shape in current model is torch.Size([512, 512]).\n\tsize mismatch for crosstransformer.layers_t.0.self_attn.out_proj.bias: copying a param with shape torch.Size([384]) from checkpoint, the shape in current model is torch.Size([512]).\n\tsize mismatch for crosstransformer.layers_t.0.linear1.weight: copying a param with shape torch.Size([1536, 384]) from checkpoint, the shape in current model is torch.Size([2048, 512]).\n\tsize mismatch for crosstransformer.layers_t.0.linear1.bias: copying a param with shape torch.Size([1536]) from checkpoint, the shape in current model is torch.Size([2048]).\n\tsize mismatch for crosstransformer.layers_t.0.linear2.weight: copying a param with shape torch.Size([384, 1536]) from checkpoint, the shape in current model is torch.Size([512, 2048]).\n\tsize mismatch for crosstransformer.layers_t.0.linear2.bias: copying a param with shape torch.Size([384]) from checkpoint, the shape in current model is torch.Size([512]).\n\tsize mismatch for crosstransformer.layers_t.0.norm1.weight: copying a param with shape torch.Size([384]) from checkpoint, the shape in current model is torch.Size([512]).\n\tsize mismatch for crosstransformer.layers_t.0.norm1.bias: copying a param with shape torch.Size([384]) from checkpoint, the shape in current model is torch.Size([512]).\n\tsize mismatch for crosstransformer.layers_t.0.norm2.weight: copying a param with shape torch.Size([384]) from checkpoint, the shape in current model is torch.Size([512]).\n\tsize mismatch for crosstransformer.layers_t.0.norm2.bias: copying a param with shape torch.Size([384]) from checkpoint, the shape in current model is torch.Size([512]).\n\tsize mismatch for crosstransformer.layers_t.0.norm_out.weight: copying a param with shape torch.Size([384]) from checkpoint, the shape in current model is torch.Size([512]).\n\tsize mismatch for crosstransformer.layers_t.0.norm_out.bias: copying a param with shape torch.Size([384]) from checkpoint, the shape in current model is torch.Size([512]).\n\tsize mismatch for crosstransformer.layers_t.0.gamma_1.scale: copying a param with shape torch.Size([384]) from checkpoint, the shape in current model is torch.Size([512]).\n\tsize mismatch for crosstransformer.layers_t.0.gamma_2.scale: copying a param with shape torch.Size([384]) from checkpoint, the shape in current model is torch.Size([512]).\n\tsize mismatch for crosstransformer.layers_t.1.cross_attn.in_proj_weight: copying a param with shape torch.Size([1152, 384]) from checkpoint, the shape in current model is torch.Size([1536, 512]).\n\tsize mismatch for crosstransformer.layers_t.1.cross_attn.in_proj_bias: copying a param with shape torch.Size([1152]) from checkpoint, the shape in current model is torch.Size([1536]).\n\tsize mismatch for crosstransformer.layers_t.1.cross_attn.out_proj.weight: copying a param with shape torch.Size([384, 384]) from checkpoint, the shape in current model is torch.Size([512, 512]).\n\tsize mismatch for crosstransformer.layers_t.1.cross_attn.out_proj.bias: copying a param with shape torch.Size([384]) from checkpoint, the shape in current model is torch.Size([512]).\n\tsize mismatch for crosstransformer.layers_t.1.linear1.weight: copying a param with shape torch.Size([1536, 384]) from checkpoint, the shape in current model is torch.Size([2048, 512]).\n\tsize mismatch for crosstransformer.layers_t.1.linear1.bias: copying a param with shape torch.Size([1536]) from checkpoint, the shape in current model is torch.Size([2048]).\n\tsize mismatch for crosstransformer.layers_t.1.linear2.weight: copying a param with shape torch.Size([384, 1536]) from checkpoint, the shape in current model is torch.Size([512, 2048]).\n\tsize mismatch for crosstransformer.layers_t.1.linear2.bias: copying a param with shape torch.Size([384]) from checkpoint, the shape in current model is torch.Size([512]).\n\tsize mismatch for crosstransformer.layers_t.1.norm1.weight: copying a param with shape torch.Size([384]) from checkpoint, the shape in current model is torch.Size([512]).\n\tsize mismatch for crosstransformer.layers_t.1.norm1.bias: copying a param with shape torch.Size([384]) from checkpoint, the shape in current model is torch.Size([512]).\n\tsize mismatch for crosstransformer.layers_t.1.norm2.weight: copying a param with shape torch.Size([384]) from checkpoint, the shape in current model is torch.Size([512]).\n\tsize mismatch for crosstransformer.layers_t.1.norm2.bias: copying a param with shape torch.Size([384]) from checkpoint, the shape in current model is torch.Size([512]).\n\tsize mismatch for crosstransformer.layers_t.1.norm3.weight: copying a param with shape torch.Size([384]) from checkpoint, the shape in current model is torch.Size([512]).\n\tsize mismatch for crosstransformer.layers_t.1.norm3.bias: copying a param with shape torch.Size([384]) from checkpoint, the shape in current model is torch.Size([512]).\n\tsize mismatch for crosstransformer.layers_t.1.norm_out.weight: copying a param with shape torch.Size([384]) from checkpoint, the shape in current model is torch.Size([512]).\n\tsize mismatch for crosstransformer.layers_t.1.norm_out.bias: copying a param with shape torch.Size([384]) from checkpoint, the shape in current model is torch.Size([512]).\n\tsize mismatch for crosstransformer.layers_t.1.gamma_1.scale: copying a param with shape torch.Size([384]) from checkpoint, the shape in current model is torch.Size([512]).\n\tsize mismatch for crosstransformer.layers_t.1.gamma_2.scale: copying a param with shape torch.Size([384]) from checkpoint, the shape in current model is torch.Size([512]).\n\tsize mismatch for crosstransformer.layers_t.2.self_attn.in_proj_weight: copying a param with shape torch.Size([1152, 384]) from checkpoint, the shape in current model is torch.Size([1536, 512]).\n\tsize mismatch for crosstransformer.layers_t.2.self_attn.in_proj_bias: copying a param with shape torch.Size([1152]) from checkpoint, the shape in current model is torch.Size([1536]).\n\tsize mismatch for crosstransformer.layers_t.2.self_attn.out_proj.weight: copying a param with shape torch.Size([384, 384]) from checkpoint, the shape in current model is torch.Size([512, 512]).\n\tsize mismatch for crosstransformer.layers_t.2.self_attn.out_proj.bias: copying a param with shape torch.Size([384]) from checkpoint, the shape in current model is torch.Size([512]).\n\tsize mismatch for crosstransformer.layers_t.2.linear1.weight: copying a param with shape torch.Size([1536, 384]) from checkpoint, the shape in current model is torch.Size([2048, 512]).\n\tsize mismatch for crosstransformer.layers_t.2.linear1.bias: copying a param with shape torch.Size([1536]) from checkpoint, the shape in current model is torch.Size([2048]).\n\tsize mismatch for crosstransformer.layers_t.2.linear2.weight: copying a param with shape torch.Size([384, 1536]) from checkpoint, the shape in current model is torch.Size([512, 2048]).\n\tsize mismatch for crosstransformer.layers_t.2.linear2.bias: copying a param with shape torch.Size([384]) from checkpoint, the shape in current model is torch.Size([512]).\n\tsize mismatch for crosstransformer.layers_t.2.norm1.weight: copying a param with shape torch.Size([384]) from checkpoint, the shape in current model is torch.Size([512]).\n\tsize mismatch for crosstransformer.layers_t.2.norm1.bias: copying a param with shape torch.Size([384]) from checkpoint, the shape in current model is torch.Size([512]).\n\tsize mismatch for crosstransformer.layers_t.2.norm2.weight: copying a param with shape torch.Size([384]) from checkpoint, the shape in current model is torch.Size([512]).\n\tsize mismatch for crosstransformer.layers_t.2.norm2.bias: copying a param with shape torch.Size([384]) from checkpoint, the shape in current model is torch.Size([512]).\n\tsize mismatch for crosstransformer.layers_t.2.norm_out.weight: copying a param with shape torch.Size([384]) from checkpoint, the shape in current model is torch.Size([512]).\n\tsize mismatch for crosstransformer.layers_t.2.norm_out.bias: copying a param with shape torch.Size([384]) from checkpoint, the shape in current model is torch.Size([512]).\n\tsize mismatch for crosstransformer.layers_t.2.gamma_1.scale: copying a param with shape torch.Size([384]) from checkpoint, the shape in current model is torch.Size([512]).\n\tsize mismatch for crosstransformer.layers_t.2.gamma_2.scale: copying a param with shape torch.Size([384]) from checkpoint, the shape in current model is torch.Size([512]).\n\tsize mismatch for crosstransformer.layers_t.3.cross_attn.in_proj_weight: copying a param with shape torch.Size([1152, 384]) from checkpoint, the shape in current model is torch.Size([1536, 512]).\n\tsize mismatch for crosstransformer.layers_t.3.cross_attn.in_proj_bias: copying a param with shape torch.Size([1152]) from checkpoint, the shape in current model is torch.Size([1536]).\n\tsize mismatch for crosstransformer.layers_t.3.cross_attn.out_proj.weight: copying a param with shape torch.Size([384, 384]) from checkpoint, the shape in current model is torch.Size([512, 512]).\n\tsize mismatch for crosstransformer.layers_t.3.cross_attn.out_proj.bias: copying a param with shape torch.Size([384]) from checkpoint, the shape in current model is torch.Size([512]).\n\tsize mismatch for crosstransformer.layers_t.3.linear1.weight: copying a param with shape torch.Size([1536, 384]) from checkpoint, the shape in current model is torch.Size([2048, 512]).\n\tsize mismatch for crosstransformer.layers_t.3.linear1.bias: copying a param with shape torch.Size([1536]) from checkpoint, the shape in current model is torch.Size([2048]).\n\tsize mismatch for crosstransformer.layers_t.3.linear2.weight: copying a param with shape torch.Size([384, 1536]) from checkpoint, the shape in current model is torch.Size([512, 2048]).\n\tsize mismatch for crosstransformer.layers_t.3.linear2.bias: copying a param with shape torch.Size([384]) from checkpoint, the shape in current model is torch.Size([512]).\n\tsize mismatch for crosstransformer.layers_t.3.norm1.weight: copying a param with shape torch.Size([384]) from checkpoint, the shape in current model is torch.Size([512]).\n\tsize mismatch for crosstransformer.layers_t.3.norm1.bias: copying a param with shape torch.Size([384]) from checkpoint, the shape in current model is torch.Size([512]).\n\tsize mismatch for crosstransformer.layers_t.3.norm2.weight: copying a param with shape torch.Size([384]) from checkpoint, the shape in current model is torch.Size([512]).\n\tsize mismatch for crosstransformer.layers_t.3.norm2.bias: copying a param with shape torch.Size([384]) from checkpoint, the shape in current model is torch.Size([512]).\n\tsize mismatch for crosstransformer.layers_t.3.norm3.weight: copying a param with shape torch.Size([384]) from checkpoint, the shape in current model is torch.Size([512]).\n\tsize mismatch for crosstransformer.layers_t.3.norm3.bias: copying a param with shape torch.Size([384]) from checkpoint, the shape in current model is torch.Size([512]).\n\tsize mismatch for crosstransformer.layers_t.3.norm_out.weight: copying a param with shape torch.Size([384]) from checkpoint, the shape in current model is torch.Size([512]).\n\tsize mismatch for crosstransformer.layers_t.3.norm_out.bias: copying a param with shape torch.Size([384]) from checkpoint, the shape in current model is torch.Size([512]).\n\tsize mismatch for crosstransformer.layers_t.3.gamma_1.scale: copying a param with shape torch.Size([384]) from checkpoint, the shape in current model is torch.Size([512]).\n\tsize mismatch for crosstransformer.layers_t.3.gamma_2.scale: copying a param with shape torch.Size([384]) from checkpoint, the shape in current model is torch.Size([512]).\n\tsize mismatch for crosstransformer.layers_t.4.self_attn.in_proj_weight: copying a param with shape torch.Size([1152, 384]) from checkpoint, the shape in current model is torch.Size([1536, 512]).\n\tsize mismatch for crosstransformer.layers_t.4.self_attn.in_proj_bias: copying a param with shape torch.Size([1152]) from checkpoint, the shape in current model is torch.Size([1536]).\n\tsize mismatch for crosstransformer.layers_t.4.self_attn.out_proj.weight: copying a param with shape torch.Size([384, 384]) from checkpoint, the shape in current model is torch.Size([512, 512]).\n\tsize mismatch for crosstransformer.layers_t.4.self_attn.out_proj.bias: copying a param with shape torch.Size([384]) from checkpoint, the shape in current model is torch.Size([512]).\n\tsize mismatch for crosstransformer.layers_t.4.linear1.weight: copying a param with shape torch.Size([1536, 384]) from checkpoint, the shape in current model is torch.Size([2048, 512]).\n\tsize mismatch for crosstransformer.layers_t.4.linear1.bias: copying a param with shape torch.Size([1536]) from checkpoint, the shape in current model is torch.Size([2048]).\n\tsize mismatch for crosstransformer.layers_t.4.linear2.weight: copying a param with shape torch.Size([384, 1536]) from checkpoint, the shape in current model is torch.Size([512, 2048]).\n\tsize mismatch for crosstransformer.layers_t.4.linear2.bias: copying a param with shape torch.Size([384]) from checkpoint, the shape in current model is torch.Size([512]).\n\tsize mismatch for crosstransformer.layers_t.4.norm1.weight: copying a param with shape torch.Size([384]) from checkpoint, the shape in current model is torch.Size([512]).\n\tsize mismatch for crosstransformer.layers_t.4.norm1.bias: copying a param with shape torch.Size([384]) from checkpoint, the shape in current model is torch.Size([512]).\n\tsize mismatch for crosstransformer.layers_t.4.norm2.weight: copying a param with shape torch.Size([384]) from checkpoint, the shape in current model is torch.Size([512]).\n\tsize mismatch for crosstransformer.layers_t.4.norm2.bias: copying a param with shape torch.Size([384]) from checkpoint, the shape in current model is torch.Size([512]).\n\tsize mismatch for crosstransformer.layers_t.4.norm_out.weight: copying a param with shape torch.Size([384]) from checkpoint, the shape in current model is torch.Size([512]).\n\tsize mismatch for crosstransformer.layers_t.4.norm_out.bias: copying a param with shape torch.Size([384]) from checkpoint, the shape in current model is torch.Size([512]).\n\tsize mismatch for crosstransformer.layers_t.4.gamma_1.scale: copying a param with shape torch.Size([384]) from checkpoint, the shape in current model is torch.Size([512]).\n\tsize mismatch for crosstransformer.layers_t.4.gamma_2.scale: copying a param with shape torch.Size([384]) from checkpoint, the shape in current model is torch.Size([512])."
     ]
    }
   ],
   "source": [
    "import torch\n",
    "from demucs import pretrained\n",
    "from demucs.htdemucs import HTDemucs\n",
    "\n",
    "\n",
    "# Define the model architecture\n",
    "htdemucs = pretrained.get_model('htdemucs') # load pretrained htdemucs\n",
    "\n",
    "# modify network to have 3 stems output\n",
    "checkpoint_model = htdemucs.models[0]\n",
    "checkpoint_model.sources = ['speech', 'music', 'sfx']\n",
    "checkpoint_model.decoder[-1].conv_tr = torch.nn.ConvTranspose2d(\n",
    "    in_channels=48,\n",
    "    out_channels=12,  # 3 stems * input channels (2 for stereo)\n",
    "    kernel_size=(8, 1),\n",
    "    stride=(4, 1)\n",
    ")\n",
    "checkpoint_model.tdecoder[-1].conv_tr = torch.nn.ConvTranspose1d(\n",
    "    in_channels=48,\n",
    "    out_channels=6,\n",
    "    kernel_size=8,\n",
    "    stride=4\n",
    ")\n",
    "\n",
    "# Path to the .ckpt file\n",
    "ckpt_path = \"/Users/yt/coding/DL4CV/Final/Music-Source-Separation-Training/htdemucs_finetuned_500.ckpt\"\n",
    "\n",
    "# Load the checkpoint\n",
    "checkpoint = torch.load(ckpt_path, map_location=torch.device('cpu'))  # Use 'cuda' if GPU is available\n",
    "\n",
    "# Check if the checkpoint contains just the state_dict or the full model\n",
    "if 'state_dict' in checkpoint:\n",
    "    # Load state_dict into the model\n",
    "    checkpoint_model.load_state_dict(checkpoint['state_dict'])\n",
    "    print(\"Loaded state_dict into the model.\")\n",
    "else:\n",
    "    # If the checkpoint is the full model\n",
    "    checkpoint_model.load_state_dict(checkpoint)\n",
    "    print(\"Loaded full model directly.\")\n",
    "\n",
    "# Set the model to evaluation mode (if needed)\n",
    "checkpoint_model.eval()\n",
    "\n",
    "# (Optional) If optimizer state is in the checkpoint and you need it\n",
    "if 'optimizer_state_dict' in checkpoint:\n",
    "    optimizer = torch.optim.Adam(model.parameters())  # Use the correct optimizer\n",
    "    optimizer.load_state_dict(checkpoint['optimizer_state_dict'])\n",
    "    print(\"Loaded optimizer state.\")\n",
    "\n",
    "# Print success\n",
    "print(\"Model successfully loaded!\")"
   ]
  },
  {
   "cell_type": "code",
   "execution_count": 34,
   "metadata": {},
   "outputs": [
    {
     "name": "stderr",
     "output_type": "stream",
     "text": [
      "/var/folders/ry/tyg2vvqs2t30yq4510jl_ns80000gn/T/ipykernel_34058/1640722872.py:3: FutureWarning: You are using `torch.load` with `weights_only=False` (the current default value), which uses the default pickle module implicitly. It is possible to construct malicious pickle data which will execute arbitrary code during unpickling (See https://github.com/pytorch/pytorch/blob/main/SECURITY.md#untrusted-models for more details). In a future release, the default value for `weights_only` will be flipped to `True`. This limits the functions that could be executed during unpickling. Arbitrary objects will no longer be allowed to be loaded via this mode unless they are explicitly allowlisted by the user via `torch.serialization.add_safe_globals`. We recommend you start setting `weights_only=True` for any use case where you don't have full control of the loaded file. Please open an issue on GitHub for any issues related to this experimental feature.\n",
      "  checkpoint = torch.load(f\"/Users/yt/coding/DL4CV/Final/Music-Source-Separation-Training/htdemucs_finetuned_500.ckpt\")\n"
     ]
    },
    {
     "ename": "RuntimeError",
     "evalue": "Attempting to deserialize object on a CUDA device but torch.cuda.is_available() is False. If you are running on a CPU-only machine, please use torch.load with map_location=torch.device('cpu') to map your storages to the CPU.",
     "output_type": "error",
     "traceback": [
      "\u001b[0;31m---------------------------------------------------------------------------\u001b[0m",
      "\u001b[0;31mRuntimeError\u001b[0m                              Traceback (most recent call last)",
      "Cell \u001b[0;32mIn[34], line 3\u001b[0m\n\u001b[1;32m      1\u001b[0m checkpoint_model \u001b[38;5;241m=\u001b[39m HTDemucs( sources \u001b[38;5;241m=\u001b[39m [\u001b[38;5;124m'\u001b[39m\u001b[38;5;124mspeech\u001b[39m\u001b[38;5;124m'\u001b[39m, \u001b[38;5;124m'\u001b[39m\u001b[38;5;124mmusic\u001b[39m\u001b[38;5;124m'\u001b[39m, \u001b[38;5;124m'\u001b[39m\u001b[38;5;124msfx\u001b[39m\u001b[38;5;124m'\u001b[39m] )\n\u001b[1;32m      2\u001b[0m checkpoint_model\u001b[38;5;241m.\u001b[39mto(\u001b[38;5;124m\"\u001b[39m\u001b[38;5;124mcpu\u001b[39m\u001b[38;5;124m\"\u001b[39m)\n\u001b[0;32m----> 3\u001b[0m checkpoint \u001b[38;5;241m=\u001b[39m \u001b[43mtorch\u001b[49m\u001b[38;5;241;43m.\u001b[39;49m\u001b[43mload\u001b[49m\u001b[43m(\u001b[49m\u001b[38;5;124;43mf\u001b[39;49m\u001b[38;5;124;43m\"\u001b[39;49m\u001b[38;5;124;43m/Users/yt/coding/DL4CV/Final/Music-Source-Separation-Training/htdemucs_finetuned_500.ckpt\u001b[39;49m\u001b[38;5;124;43m\"\u001b[39;49m\u001b[43m)\u001b[49m\n\u001b[1;32m      4\u001b[0m checkpoint_model\u001b[38;5;241m.\u001b[39mload_state_dict(checkpoint, map_location\u001b[38;5;241m=\u001b[39mtorch\u001b[38;5;241m.\u001b[39mdevice(\u001b[38;5;124m'\u001b[39m\u001b[38;5;124mcpu\u001b[39m\u001b[38;5;124m'\u001b[39m))\n",
      "File \u001b[0;32m~/.pyenv/shims/versions/dl4cv_final/lib/python3.12/site-packages/torch/serialization.py:1360\u001b[0m, in \u001b[0;36mload\u001b[0;34m(f, map_location, pickle_module, weights_only, mmap, **pickle_load_args)\u001b[0m\n\u001b[1;32m   1358\u001b[0m             \u001b[38;5;28;01mexcept\u001b[39;00m pickle\u001b[38;5;241m.\u001b[39mUnpicklingError \u001b[38;5;28;01mas\u001b[39;00m e:\n\u001b[1;32m   1359\u001b[0m                 \u001b[38;5;28;01mraise\u001b[39;00m pickle\u001b[38;5;241m.\u001b[39mUnpicklingError(_get_wo_message(\u001b[38;5;28mstr\u001b[39m(e))) \u001b[38;5;28;01mfrom\u001b[39;00m \u001b[38;5;28;01mNone\u001b[39;00m\n\u001b[0;32m-> 1360\u001b[0m         \u001b[38;5;28;01mreturn\u001b[39;00m \u001b[43m_load\u001b[49m\u001b[43m(\u001b[49m\n\u001b[1;32m   1361\u001b[0m \u001b[43m            \u001b[49m\u001b[43mopened_zipfile\u001b[49m\u001b[43m,\u001b[49m\n\u001b[1;32m   1362\u001b[0m \u001b[43m            \u001b[49m\u001b[43mmap_location\u001b[49m\u001b[43m,\u001b[49m\n\u001b[1;32m   1363\u001b[0m \u001b[43m            \u001b[49m\u001b[43mpickle_module\u001b[49m\u001b[43m,\u001b[49m\n\u001b[1;32m   1364\u001b[0m \u001b[43m            \u001b[49m\u001b[43moverall_storage\u001b[49m\u001b[38;5;241;43m=\u001b[39;49m\u001b[43moverall_storage\u001b[49m\u001b[43m,\u001b[49m\n\u001b[1;32m   1365\u001b[0m \u001b[43m            \u001b[49m\u001b[38;5;241;43m*\u001b[39;49m\u001b[38;5;241;43m*\u001b[39;49m\u001b[43mpickle_load_args\u001b[49m\u001b[43m,\u001b[49m\n\u001b[1;32m   1366\u001b[0m \u001b[43m        \u001b[49m\u001b[43m)\u001b[49m\n\u001b[1;32m   1367\u001b[0m \u001b[38;5;28;01mif\u001b[39;00m mmap:\n\u001b[1;32m   1368\u001b[0m     f_name \u001b[38;5;241m=\u001b[39m \u001b[38;5;124m\"\u001b[39m\u001b[38;5;124m\"\u001b[39m \u001b[38;5;28;01mif\u001b[39;00m \u001b[38;5;129;01mnot\u001b[39;00m \u001b[38;5;28misinstance\u001b[39m(f, \u001b[38;5;28mstr\u001b[39m) \u001b[38;5;28;01melse\u001b[39;00m \u001b[38;5;124mf\u001b[39m\u001b[38;5;124m\"\u001b[39m\u001b[38;5;132;01m{\u001b[39;00mf\u001b[38;5;132;01m}\u001b[39;00m\u001b[38;5;124m, \u001b[39m\u001b[38;5;124m\"\u001b[39m\n",
      "File \u001b[0;32m~/.pyenv/shims/versions/dl4cv_final/lib/python3.12/site-packages/torch/serialization.py:1848\u001b[0m, in \u001b[0;36m_load\u001b[0;34m(zip_file, map_location, pickle_module, pickle_file, overall_storage, **pickle_load_args)\u001b[0m\n\u001b[1;32m   1846\u001b[0m \u001b[38;5;28;01mglobal\u001b[39;00m _serialization_tls\n\u001b[1;32m   1847\u001b[0m _serialization_tls\u001b[38;5;241m.\u001b[39mmap_location \u001b[38;5;241m=\u001b[39m map_location\n\u001b[0;32m-> 1848\u001b[0m result \u001b[38;5;241m=\u001b[39m \u001b[43munpickler\u001b[49m\u001b[38;5;241;43m.\u001b[39;49m\u001b[43mload\u001b[49m\u001b[43m(\u001b[49m\u001b[43m)\u001b[49m\n\u001b[1;32m   1849\u001b[0m _serialization_tls\u001b[38;5;241m.\u001b[39mmap_location \u001b[38;5;241m=\u001b[39m \u001b[38;5;28;01mNone\u001b[39;00m\n\u001b[1;32m   1851\u001b[0m torch\u001b[38;5;241m.\u001b[39m_utils\u001b[38;5;241m.\u001b[39m_validate_loaded_sparse_tensors()\n",
      "File \u001b[0;32m~/.pyenv/shims/versions/dl4cv_final/lib/python3.12/site-packages/torch/serialization.py:1812\u001b[0m, in \u001b[0;36m_load.<locals>.persistent_load\u001b[0;34m(saved_id)\u001b[0m\n\u001b[1;32m   1810\u001b[0m \u001b[38;5;28;01melse\u001b[39;00m:\n\u001b[1;32m   1811\u001b[0m     nbytes \u001b[38;5;241m=\u001b[39m numel \u001b[38;5;241m*\u001b[39m torch\u001b[38;5;241m.\u001b[39m_utils\u001b[38;5;241m.\u001b[39m_element_size(dtype)\n\u001b[0;32m-> 1812\u001b[0m     typed_storage \u001b[38;5;241m=\u001b[39m \u001b[43mload_tensor\u001b[49m\u001b[43m(\u001b[49m\n\u001b[1;32m   1813\u001b[0m \u001b[43m        \u001b[49m\u001b[43mdtype\u001b[49m\u001b[43m,\u001b[49m\u001b[43m \u001b[49m\u001b[43mnbytes\u001b[49m\u001b[43m,\u001b[49m\u001b[43m \u001b[49m\u001b[43mkey\u001b[49m\u001b[43m,\u001b[49m\u001b[43m \u001b[49m\u001b[43m_maybe_decode_ascii\u001b[49m\u001b[43m(\u001b[49m\u001b[43mlocation\u001b[49m\u001b[43m)\u001b[49m\n\u001b[1;32m   1814\u001b[0m \u001b[43m    \u001b[49m\u001b[43m)\u001b[49m\n\u001b[1;32m   1816\u001b[0m \u001b[38;5;28;01mreturn\u001b[39;00m typed_storage\n",
      "File \u001b[0;32m~/.pyenv/shims/versions/dl4cv_final/lib/python3.12/site-packages/torch/serialization.py:1784\u001b[0m, in \u001b[0;36m_load.<locals>.load_tensor\u001b[0;34m(dtype, numel, key, location)\u001b[0m\n\u001b[1;32m   1779\u001b[0m         storage\u001b[38;5;241m.\u001b[39mbyteswap(dtype)\n\u001b[1;32m   1781\u001b[0m \u001b[38;5;66;03m# TODO: Once we decide to break serialization FC, we can\u001b[39;00m\n\u001b[1;32m   1782\u001b[0m \u001b[38;5;66;03m# stop wrapping with TypedStorage\u001b[39;00m\n\u001b[1;32m   1783\u001b[0m typed_storage \u001b[38;5;241m=\u001b[39m torch\u001b[38;5;241m.\u001b[39mstorage\u001b[38;5;241m.\u001b[39mTypedStorage(\n\u001b[0;32m-> 1784\u001b[0m     wrap_storage\u001b[38;5;241m=\u001b[39m\u001b[43mrestore_location\u001b[49m\u001b[43m(\u001b[49m\u001b[43mstorage\u001b[49m\u001b[43m,\u001b[49m\u001b[43m \u001b[49m\u001b[43mlocation\u001b[49m\u001b[43m)\u001b[49m,\n\u001b[1;32m   1785\u001b[0m     dtype\u001b[38;5;241m=\u001b[39mdtype,\n\u001b[1;32m   1786\u001b[0m     _internal\u001b[38;5;241m=\u001b[39m\u001b[38;5;28;01mTrue\u001b[39;00m,\n\u001b[1;32m   1787\u001b[0m )\n\u001b[1;32m   1789\u001b[0m \u001b[38;5;28;01mif\u001b[39;00m typed_storage\u001b[38;5;241m.\u001b[39m_data_ptr() \u001b[38;5;241m!=\u001b[39m \u001b[38;5;241m0\u001b[39m:\n\u001b[1;32m   1790\u001b[0m     loaded_storages[key] \u001b[38;5;241m=\u001b[39m typed_storage\n",
      "File \u001b[0;32m~/.pyenv/shims/versions/dl4cv_final/lib/python3.12/site-packages/torch/serialization.py:601\u001b[0m, in \u001b[0;36mdefault_restore_location\u001b[0;34m(storage, location)\u001b[0m\n\u001b[1;32m    581\u001b[0m \u001b[38;5;250m\u001b[39m\u001b[38;5;124;03m\"\"\"\u001b[39;00m\n\u001b[1;32m    582\u001b[0m \u001b[38;5;124;03mRestores `storage` using a deserializer function registered for the `location`.\u001b[39;00m\n\u001b[1;32m    583\u001b[0m \n\u001b[0;32m   (...)\u001b[0m\n\u001b[1;32m    598\u001b[0m \u001b[38;5;124;03m       all matching ones return `None`.\u001b[39;00m\n\u001b[1;32m    599\u001b[0m \u001b[38;5;124;03m\"\"\"\u001b[39;00m\n\u001b[1;32m    600\u001b[0m \u001b[38;5;28;01mfor\u001b[39;00m _, _, fn \u001b[38;5;129;01min\u001b[39;00m _package_registry:\n\u001b[0;32m--> 601\u001b[0m     result \u001b[38;5;241m=\u001b[39m \u001b[43mfn\u001b[49m\u001b[43m(\u001b[49m\u001b[43mstorage\u001b[49m\u001b[43m,\u001b[49m\u001b[43m \u001b[49m\u001b[43mlocation\u001b[49m\u001b[43m)\u001b[49m\n\u001b[1;32m    602\u001b[0m     \u001b[38;5;28;01mif\u001b[39;00m result \u001b[38;5;129;01mis\u001b[39;00m \u001b[38;5;129;01mnot\u001b[39;00m \u001b[38;5;28;01mNone\u001b[39;00m:\n\u001b[1;32m    603\u001b[0m         \u001b[38;5;28;01mreturn\u001b[39;00m result\n",
      "File \u001b[0;32m~/.pyenv/shims/versions/dl4cv_final/lib/python3.12/site-packages/torch/serialization.py:539\u001b[0m, in \u001b[0;36m_deserialize\u001b[0;34m(backend_name, obj, location)\u001b[0m\n\u001b[1;32m    537\u001b[0m     backend_name \u001b[38;5;241m=\u001b[39m torch\u001b[38;5;241m.\u001b[39m_C\u001b[38;5;241m.\u001b[39m_get_privateuse1_backend_name()\n\u001b[1;32m    538\u001b[0m \u001b[38;5;28;01mif\u001b[39;00m location\u001b[38;5;241m.\u001b[39mstartswith(backend_name):\n\u001b[0;32m--> 539\u001b[0m     device \u001b[38;5;241m=\u001b[39m \u001b[43m_validate_device\u001b[49m\u001b[43m(\u001b[49m\u001b[43mlocation\u001b[49m\u001b[43m,\u001b[49m\u001b[43m \u001b[49m\u001b[43mbackend_name\u001b[49m\u001b[43m)\u001b[49m\n\u001b[1;32m    540\u001b[0m     \u001b[38;5;28;01mreturn\u001b[39;00m obj\u001b[38;5;241m.\u001b[39mto(device\u001b[38;5;241m=\u001b[39mdevice)\n",
      "File \u001b[0;32m~/.pyenv/shims/versions/dl4cv_final/lib/python3.12/site-packages/torch/serialization.py:508\u001b[0m, in \u001b[0;36m_validate_device\u001b[0;34m(location, backend_name)\u001b[0m\n\u001b[1;32m    506\u001b[0m     device_index \u001b[38;5;241m=\u001b[39m device\u001b[38;5;241m.\u001b[39mindex \u001b[38;5;28;01mif\u001b[39;00m device\u001b[38;5;241m.\u001b[39mindex \u001b[38;5;28;01melse\u001b[39;00m \u001b[38;5;241m0\u001b[39m\n\u001b[1;32m    507\u001b[0m \u001b[38;5;28;01mif\u001b[39;00m \u001b[38;5;28mhasattr\u001b[39m(device_module, \u001b[38;5;124m\"\u001b[39m\u001b[38;5;124mis_available\u001b[39m\u001b[38;5;124m\"\u001b[39m) \u001b[38;5;129;01mand\u001b[39;00m \u001b[38;5;129;01mnot\u001b[39;00m device_module\u001b[38;5;241m.\u001b[39mis_available():\n\u001b[0;32m--> 508\u001b[0m     \u001b[38;5;28;01mraise\u001b[39;00m \u001b[38;5;167;01mRuntimeError\u001b[39;00m(\n\u001b[1;32m    509\u001b[0m         \u001b[38;5;124mf\u001b[39m\u001b[38;5;124m\"\u001b[39m\u001b[38;5;124mAttempting to deserialize object on a \u001b[39m\u001b[38;5;132;01m{\u001b[39;00mbackend_name\u001b[38;5;241m.\u001b[39mupper()\u001b[38;5;132;01m}\u001b[39;00m\u001b[38;5;124m \u001b[39m\u001b[38;5;124m\"\u001b[39m\n\u001b[1;32m    510\u001b[0m         \u001b[38;5;124mf\u001b[39m\u001b[38;5;124m\"\u001b[39m\u001b[38;5;124mdevice but torch.\u001b[39m\u001b[38;5;132;01m{\u001b[39;00mbackend_name\u001b[38;5;132;01m}\u001b[39;00m\u001b[38;5;124m.is_available() is False. \u001b[39m\u001b[38;5;124m\"\u001b[39m\n\u001b[1;32m    511\u001b[0m         \u001b[38;5;124m\"\u001b[39m\u001b[38;5;124mIf you are running on a CPU-only machine, \u001b[39m\u001b[38;5;124m\"\u001b[39m\n\u001b[1;32m    512\u001b[0m         \u001b[38;5;124m\"\u001b[39m\u001b[38;5;124mplease use torch.load with map_location=torch.device(\u001b[39m\u001b[38;5;124m'\u001b[39m\u001b[38;5;124mcpu\u001b[39m\u001b[38;5;124m'\u001b[39m\u001b[38;5;124m) \u001b[39m\u001b[38;5;124m\"\u001b[39m\n\u001b[1;32m    513\u001b[0m         \u001b[38;5;124m\"\u001b[39m\u001b[38;5;124mto map your storages to the CPU.\u001b[39m\u001b[38;5;124m\"\u001b[39m\n\u001b[1;32m    514\u001b[0m     )\n\u001b[1;32m    515\u001b[0m \u001b[38;5;28;01mif\u001b[39;00m \u001b[38;5;28mhasattr\u001b[39m(device_module, \u001b[38;5;124m\"\u001b[39m\u001b[38;5;124mdevice_count\u001b[39m\u001b[38;5;124m\"\u001b[39m):\n\u001b[1;32m    516\u001b[0m     device_count \u001b[38;5;241m=\u001b[39m device_module\u001b[38;5;241m.\u001b[39mdevice_count()\n",
      "\u001b[0;31mRuntimeError\u001b[0m: Attempting to deserialize object on a CUDA device but torch.cuda.is_available() is False. If you are running on a CPU-only machine, please use torch.load with map_location=torch.device('cpu') to map your storages to the CPU."
     ]
    }
   ],
   "source": [
    "checkpoint_model = HTDemucs( sources = ['speech', 'music', 'sfx'] )\n",
    "checkpoint_model.to(\"cpu\")\n",
    "checkpoint = torch.load(f\"/Users/yt/coding/DL4CV/Final/Music-Source-Separation-Training/htdemucs_finetuned_500.ckpt\")\n",
    "checkpoint_model.load_state_dict(checkpoint, map_location=torch.device('cpu'))"
   ]
  },
  {
   "cell_type": "code",
   "execution_count": 27,
   "metadata": {},
   "outputs": [
    {
     "ename": "NameError",
     "evalue": "name 'trained_model' is not defined",
     "output_type": "error",
     "traceback": [
      "\u001b[0;31m---------------------------------------------------------------------------\u001b[0m",
      "\u001b[0;31mNameError\u001b[0m                                 Traceback (most recent call last)",
      "Cell \u001b[0;32mIn[27], line 15\u001b[0m\n\u001b[1;32m     13\u001b[0m     \u001b[38;5;28;01mreturn\u001b[39;00m audio\n\u001b[1;32m     14\u001b[0m audio_tensor \u001b[38;5;241m=\u001b[39m load_audio(\u001b[38;5;124m\"\u001b[39m\u001b[38;5;124mDnR/dnr_small/tr/106/mix.wav\u001b[39m\u001b[38;5;124m\"\u001b[39m) \u001b[38;5;66;03m# change to correct path\u001b[39;00m\n\u001b[0;32m---> 15\u001b[0m out \u001b[38;5;241m=\u001b[39m apply_model(\u001b[43mtrained_model\u001b[49m, audio_tensor, shifts\u001b[38;5;241m=\u001b[39m\u001b[38;5;241m1\u001b[39m, overlap\u001b[38;5;241m=\u001b[39m\u001b[38;5;241m0.8\u001b[39m)[\u001b[38;5;241m0\u001b[39m]\u001b[38;5;241m.\u001b[39mcpu()\u001b[38;5;241m.\u001b[39mnumpy()\n\u001b[1;32m     16\u001b[0m \u001b[38;5;28mprint\u001b[39m(out\u001b[38;5;241m.\u001b[39mshape)\n\u001b[1;32m     18\u001b[0m \u001b[38;5;28;01mfor\u001b[39;00m i, source \u001b[38;5;129;01min\u001b[39;00m \u001b[38;5;28menumerate\u001b[39m(out[:,:,:]):\n",
      "\u001b[0;31mNameError\u001b[0m: name 'trained_model' is not defined"
     ]
    }
   ],
   "source": [
    "# validate model output\n",
    "def load_audio(audio_path, sample_rate=44100, device='cpu', channel=1):\n",
    "    # Load audio with librosa\n",
    "    audio, sr = librosa.load(audio_path, mono=False, sr=sample_rate)\n",
    "\n",
    "    # Handle mono audio by duplicating the channel\n",
    "    if len(audio.shape) != channel:  # Mono audio\n",
    "        audio = np.stack([audio, audio], axis=0)  # Convert to stereo\n",
    "\n",
    "    audio = np.expand_dims(audio, axis=0)  # Shape: [1, samples, channels]\n",
    "    audio = torch.from_numpy(audio).float().to(device)\n",
    "\n",
    "    return audio\n",
    "audio_tensor = load_audio(\"DnR/dnr_small/tr/106/mix.wav\") # change to correct path\n",
    "out = apply_model(trained_model, audio_tensor, shifts=1, overlap=0.8)[0].cpu().numpy()\n",
    "print(out.shape)\n",
    "\n",
    "for i, source in enumerate(out[:,:,:]):\n",
    "    source = np.array(source).mean(axis=0)  # Convert tensor to numpy array\n",
    "    sf.write(f'small_train_masked_loss{i}.wav', source.T, 44100)  # Transpose if needed for correct shape"
   ]
  },
  {
   "cell_type": "code",
   "execution_count": null,
   "metadata": {},
   "outputs": [
    {
     "ename": "NameError",
     "evalue": "name 'load_audio' is not defined",
     "output_type": "error",
     "traceback": [
      "\u001b[0;31m---------------------------------------------------------------------------\u001b[0m",
      "\u001b[0;31mNameError\u001b[0m                                 Traceback (most recent call last)",
      "Cell \u001b[0;32mIn[6], line 25\u001b[0m\n\u001b[1;32m     23\u001b[0m predicted \u001b[38;5;241m=\u001b[39m []\n\u001b[1;32m     24\u001b[0m \u001b[38;5;28;01mfor\u001b[39;00m i, source \u001b[38;5;129;01min\u001b[39;00m \u001b[38;5;28menumerate\u001b[39m(model\u001b[38;5;241m.\u001b[39msources):\n\u001b[0;32m---> 25\u001b[0m     references \u001b[38;5;241m+\u001b[39m\u001b[38;5;241m=\u001b[39m \u001b[43mload_audio\u001b[49m(\u001b[38;5;124mf\u001b[39m\u001b[38;5;124m\"\u001b[39m\u001b[38;5;132;01m{\u001b[39;00mreferences_path_prefix\u001b[38;5;132;01m}\u001b[39;00m\u001b[38;5;124m/\u001b[39m\u001b[38;5;132;01m{\u001b[39;00msource\u001b[38;5;132;01m}\u001b[39;00m\u001b[38;5;124m.wav\u001b[39m\u001b[38;5;124m\"\u001b[39m)\n\u001b[1;32m     26\u001b[0m     predicted \u001b[38;5;241m+\u001b[39m\u001b[38;5;241m=\u001b[39m load_audio(\u001b[38;5;124mf\u001b[39m\u001b[38;5;124m\"\u001b[39m\u001b[38;5;132;01m{\u001b[39;00mpredicted_file_prefix\u001b[38;5;132;01m}\u001b[39;00m\u001b[38;5;132;01m{\u001b[39;00mi\u001b[38;5;132;01m}\u001b[39;00m\u001b[38;5;124m.wav\u001b[39m\u001b[38;5;124m\"\u001b[39m)\n\u001b[1;32m     28\u001b[0m references \u001b[38;5;241m=\u001b[39m np\u001b[38;5;241m.\u001b[39mstack(references)  \u001b[38;5;66;03m# Shape: [num_sources, channels, samples]\u001b[39;00m\n",
      "\u001b[0;31mNameError\u001b[0m: name 'load_audio' is not defined"
     ]
    }
   ],
   "source": [
    "%skip\n",
    "# reference: https://github.com/ZFTurbo/Music-Source-Separation-Training/blob/730d162b2ef31a1bba5d4a7d40ae914459a011b8/utils.py#L221\n",
    "# TODO: move evaluation to separate module\n",
    "def sdr(references, estimates):\n",
    "    # compute SDR for one song\n",
    "    delta = 1e-7  # avoid numerical errors\n",
    "    num = np.sum(np.square(references), axis=(1, 2))\n",
    "    den = np.sum(np.square(references - estimates), axis=(1, 2))\n",
    "    num += delta\n",
    "    den += delta\n",
    "    return 10 * np.log10(num / den)\n",
    "\n",
    "def si_sdr(reference, estimate):\n",
    "    eps = 1e-07\n",
    "    scale = np.sum(estimate * reference + eps, axis=(0, 1)) / np.sum(reference**2 + eps, axis=(0, 1))\n",
    "    scale = np.expand_dims(scale, axis=(0, 1))  # shape - [50, 1]\n",
    "    reference = reference * scale\n",
    "    sisdr = np.mean(10 * np.log10(np.sum(reference**2, axis=(0, 1)) / (np.sum((reference - estimate)**2, axis=(0, 1)) + eps) + eps))\n",
    "    return sisdr\n",
    "\n",
    "references_path_prefix = \"DnR/dnr_small/tr/106\"\n",
    "predicted_file_prefix = \"small_train_masked_loss\"\n",
    "references = []\n",
    "predicted = []\n",
    "for i, source in enumerate(model.sources):\n",
    "    references += load_audio(f\"{references_path_prefix}/{source}.wav\")\n",
    "    predicted += load_audio(f\"{predicted_file_prefix}{i}.wav\")\n",
    "\n",
    "references = np.stack(references)  # Shape: [num_sources, channels, samples]\n",
    "predicted = np.stack(predicted)  # Shape: [num_sources, channels, samples]\n",
    "\n",
    "# Compute SDR\n",
    "sdr_score = sdr(references, predicted)\n",
    "mean_sdr = np.mean(sdr_score)\n",
    "print(f\"Mean SDR: {mean_sdr}\")\n",
    "\n",
    "si_mean_sdr = np.mean(si_sdr(references, predicted))\n",
    "print(f\"Mean si_SDR: {si_mean_sdr}\")"
   ]
  }
 ],
 "metadata": {
  "kernelspec": {
   "display_name": "dl4cv_final",
   "language": "python",
   "name": "python3"
  },
  "language_info": {
   "codemirror_mode": {
    "name": "ipython",
    "version": 3
   },
   "file_extension": ".py",
   "mimetype": "text/x-python",
   "name": "python",
   "nbconvert_exporter": "python",
   "pygments_lexer": "ipython3",
   "version": "3.12.4"
  }
 },
 "nbformat": 4,
 "nbformat_minor": 2
}
